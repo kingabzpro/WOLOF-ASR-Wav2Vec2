{
 "cells": [
  {
   "cell_type": "markdown",
   "source": "# Fine-tuning XLSR-Wav2Vec2 for WOLOF ASR with 🤗 Transformers",
   "metadata": {
    "id": "LBSYoWbi-45k",
    "papermill": {
     "duration": 0.069142,
     "end_time": "2021-05-18T15:45:46.321017",
     "exception": false,
     "start_time": "2021-05-18T15:45:46.251875",
     "status": "completed"
    },
    "tags": [],
    "cell_id": "00000-cec0d512-f4d0-4bdd-84f2-2808a41d2b33",
    "deepnote_cell_type": "markdown"
   }
  },
  {
   "cell_type": "markdown",
   "source": "** Most of the code was inspired by [fine-tune-xlsr-wav2vec2](https://huggingface.co/blog/fine-tune-xlsr-wav2vec2) **",
   "metadata": {
    "tags": [],
    "cell_id": "00001-a0a267b6-4445-4475-8a5f-29850d9df7a4",
    "deepnote_cell_type": "markdown"
   }
  },
  {
   "cell_type": "markdown",
   "source": "Wav2Vec2 is a pretrained model for Automatic Speech Recognition (ASR) and was released in [September 2020](https://ai.facebook.com/blog/wav2vec-20-learning-the-structure-of-speech-from-raw-audio/) by Alexei Baevski, Michael Auli, and Alex Conneau.  Soon after the superior performance of Wav2Vec2 was demonstrated on the English ASR dataset LibriSpeech, *Facebook AI* presented XLSR-Wav2Vec2 (click [here](https://arxiv.org/abs/2006.13979)). XLSR stands for *cross-lingual  speech representations* and refers to XLSR-Wav2Vec2`s ability to learn speech representations that are useful across multiple languages.\n\nSimilar to Wav2Vec2, XLSR-Wav2Vec2 learns powerful speech representations from hundreds of thousands of hours of speech in more than 50 languages of unlabeled speech. Similar, to [BERT's masked language modeling](http://jalammar.github.io/illustrated-bert/), the model learns contextualized speech representations by randomly masking feature vectors before passing them to a transformer network.\n\n\n\nThe authors show for the first time that massively pretraining an ASR model on cross-lingual unlabeled speech data, followed by language-specific fine-tuning on very little labeled data achieves state-of-the-art results. See Table 1-5 of the official [paper](https://arxiv.org/pdf/2006.13979.pdf).",
   "metadata": {
    "id": "V7YOT2mnUiea",
    "papermill": {
     "duration": 0.067011,
     "end_time": "2021-05-18T15:45:46.598446",
     "exception": false,
     "start_time": "2021-05-18T15:45:46.531435",
     "status": "completed"
    },
    "tags": [],
    "cell_id": "00002-e4761b38-166b-485d-8998-cb44dbe3684b",
    "deepnote_cell_type": "markdown"
   }
  },
  {
   "cell_type": "markdown",
   "source": "XLSR-Wav2Vec2 is fine-tuned using Connectionist Temporal Classification (CTC), which is an algorithm that is used to train neural networks for sequence-to-sequence problems and mainly in Automatic Speech Recognition and handwriting recognition. \n\nI highly recommend reading the blog post [Sequence Modeling with CTC (2017)](https://distill.pub/2017/ctc/) very well-written blog post by Awni Hannun.",
   "metadata": {
    "id": "Gx9OdDYrCtQ1",
    "papermill": {
     "duration": 0.066746,
     "end_time": "2021-05-18T15:45:46.867115",
     "exception": false,
     "start_time": "2021-05-18T15:45:46.800369",
     "status": "completed"
    },
    "tags": [],
    "cell_id": "00003-e52b3400-93c2-4594-8788-d04d3e76a921",
    "deepnote_cell_type": "markdown"
   }
  },
  {
   "cell_type": "markdown",
   "source": "# Initialization",
   "metadata": {
    "tags": [],
    "cell_id": "00004-2086da10-4c14-4255-a1ae-7589e01e1ddf",
    "deepnote_cell_type": "markdown"
   }
  },
  {
   "cell_type": "code",
   "metadata": {
    "tags": [],
    "cell_id": "00005-e7d71ec5-3cab-4495-b882-9763127b38cc",
    "deepnote_cell_type": "code"
   },
   "source": "from google.colab import drive\ndrive.mount('/content/drive')",
   "execution_count": null,
   "outputs": []
  },
  {
   "cell_type": "markdown",
   "source": "Before we start, let's install both `datasets` and `transformers` from master. Also, we need the `torchaudio`, `soundfile` and `librosa` package to load audio files and the `jiwer` to evaluate our fine-tuned model using the [word error rate (WER)](https://huggingface.co/metrics/wer) metric ${}^1$.",
   "metadata": {
    "id": "e335hPmdtASZ",
    "papermill": {
     "duration": 0.067654,
     "end_time": "2021-05-18T15:45:47.001692",
     "exception": false,
     "start_time": "2021-05-18T15:45:46.934038",
     "status": "completed"
    },
    "tags": [],
    "cell_id": "00006-500728e4-725c-4944-b977-e568f187b778",
    "deepnote_cell_type": "markdown"
   }
  },
  {
   "cell_type": "markdown",
   "source": "Importing All Libraries.",
   "metadata": {
    "tags": [],
    "cell_id": "00008-eb4bad26-73a8-4fcc-90cb-9bc40b12908c",
    "deepnote_cell_type": "markdown"
   }
  },
  {
   "cell_type": "code",
   "metadata": {
    "tags": [],
    "cell_id": "00009-f68516aa-817a-4037-b1f8-5ecd3e4e1e8b",
    "deepnote_to_be_reexecuted": false,
    "source_hash": "db96d992",
    "execution_start": 1622048974510,
    "execution_millis": 6150,
    "deepnote_cell_type": "code"
   },
   "source": "import os\nimport torch\nfrom sklearn.model_selection import train_test_split\nfrom datasets import load_dataset, load_metric,Dataset,concatenate_datasets,set_caching_enabled, ClassLabel\nimport pandas as pd\n\nimport random\nfrom IPython.display import display, HTML\n\nimport json\nfrom transformers import Wav2Vec2CTCTokenizer,Wav2Vec2ForCTC,Wav2Vec2Processor,Trainer,TrainingArguments,Wav2Vec2FeatureExtractor\n\nimport re\nset_caching_enabled(False)\n\n# import soundfile as sf\n# import torchaudio\n\n\nimport IPython.display as ipd\n\nimport numpy as np\nfrom dataclasses import dataclass, field\nfrom typing import Any, Dict, List, Optional, Union\n\nfrom tqdm import tqdm\nimport torch\n\n# Set environment variables\nos.environ['WANDB_DISABLED '] = 'True'",
   "execution_count": null,
   "outputs": []
  },
  {
   "cell_type": "markdown",
   "source": "\n\n\n---\n\n${}^1$ In the [paper](https://arxiv.org/pdf/2006.13979.pdf), the model was evaluated using the phoneme error rate (PER), but by far the most common metric in ASR is the word error rate (WER). To keep this notebook as general as possible we decided to evaluate the model using WER.",
   "metadata": {
    "id": "Mn9swf6EQ9Vd",
    "papermill": {
     "duration": 0.070529,
     "end_time": "2021-05-18T15:46:02.915362",
     "exception": false,
     "start_time": "2021-05-18T15:46:02.844833",
     "status": "completed"
    },
    "tags": [],
    "cell_id": "00010-f18bdc70-9fcc-4837-bdf4-20607f916163",
    "deepnote_cell_type": "markdown"
   }
  },
  {
   "cell_type": "markdown",
   "source": "## Prepare Data, Tokenizer, Feature Extractor",
   "metadata": {
    "id": "0mW-C1Nt-j7k",
    "papermill": {
     "duration": 0.067904,
     "end_time": "2021-05-18T15:46:03.053168",
     "exception": false,
     "start_time": "2021-05-18T15:46:02.985264",
     "status": "completed"
    },
    "tags": [],
    "cell_id": "00011-ba596bc4-a999-4b61-909e-ddc7d4e206ab",
    "deepnote_cell_type": "markdown"
   }
  },
  {
   "cell_type": "markdown",
   "source": "ASR models transcribe speech to text, which means that we both need a feature extractor that processes the speech signal to the model's input format, *e.g.* a feature vector, and a tokenizer that processes the model's output format to text. \n\nIn 🤗 Transformers, the XLSR-Wav2Vec2 model is thus accompanied by both a tokenizer, called [Wav2Vec2CTCTokenizer](https://huggingface.co/transformers/master/model_doc/wav2vec2.html#wav2vec2ctctokenizer), and a feature extractor, called [Wav2Vec2FeatureExtractor](https://huggingface.co/transformers/master/model_doc/wav2vec2.html#wav2vec2featureextractor).\n\nLet's start by creating the tokenizer responsible for decoding the model's predictions.",
   "metadata": {
    "id": "BeBosnY9BH3e",
    "papermill": {
     "duration": 0.06974,
     "end_time": "2021-05-18T15:46:03.192523",
     "exception": false,
     "start_time": "2021-05-18T15:46:03.122783",
     "status": "completed"
    },
    "tags": [],
    "cell_id": "00012-59ce4f08-0266-4a0d-b790-dc6d4ebb6d8d",
    "deepnote_cell_type": "markdown"
   }
  },
  {
   "cell_type": "markdown",
   "source": "### Create Wav2Vec2CTCTokenizer",
   "metadata": {
    "id": "sEXEWEJGQPqD",
    "papermill": {
     "duration": 0.069661,
     "end_time": "2021-05-18T15:46:03.331661",
     "exception": false,
     "start_time": "2021-05-18T15:46:03.262000",
     "status": "completed"
    },
    "tags": [],
    "cell_id": "00013-af21867e-a71e-4bfd-9788-e45b2991757f",
    "deepnote_cell_type": "markdown"
   }
  },
  {
   "cell_type": "markdown",
   "source": "The pretrained Wav2Vec2 checkpoint maps the speech signal to a sequence of context representations as illustrated in the figure above. A fine-tuned XLSR-Wav2Vec2 checkpoint needs to map this sequence of context representations to its corresponding transcription so that a linear layer has to be added on top of the transformer block (shown in yellow). This linear layer is used to classifies each context representation to a token class analogous how, *e.g.*, after pretraining a linear layer is added on top of BERT's embeddings for further classification - *cf.* with *\"BERT\"* section of this [blog post](https://huggingface.co/blog/warm-starting-encoder-decoder).\n\nThe output size of this layer corresponds to the number of tokens in the vocabulary, which does **not** depend on XLSR-Wav2Vec2's pretraining task, but only on the labeled dataset used for fine-tuning. So in the first step, we will take a look at Common Voice and define a vocabulary based on the dataset's transcriptions.",
   "metadata": {
    "id": "tWmMikuNEKl_",
    "papermill": {
     "duration": 0.069358,
     "end_time": "2021-05-18T15:46:03.470838",
     "exception": false,
     "start_time": "2021-05-18T15:46:03.401480",
     "status": "completed"
    },
    "tags": [],
    "cell_id": "00014-284f1b1e-6cc2-4fdf-a966-848abec02b22",
    "deepnote_cell_type": "markdown"
   }
  },
  {
   "cell_type": "markdown",
   "source": "# Loading Preprocessed Data\n**🚨🚨Before running this code please run🚨🚨**:\n- 1) asr-mp3-to-wav-dataset.ipynb, which have joblib code to convert all the audio files from mp3 to wav using 8 parallel processs. \n- 2) wolof-audio-noise-removing.ipynb, which has used joblib and noise cancelation to remove silence and noise from the audio file and save it in wav format.",
   "metadata": {
    "tags": [],
    "cell_id": "00015-aa96fc07-14b2-4834-988f-5c8519b69a63",
    "deepnote_cell_type": "markdown"
   }
  },
  {
   "cell_type": "markdown",
   "source": "we are now ready to load the original train file and add path to Noise removed wav folder.",
   "metadata": {
    "tags": [],
    "cell_id": "00016-988489cc-3b1f-4d60-aca9-353973c49cc9",
    "deepnote_cell_type": "markdown"
   }
  },
  {
   "cell_type": "code",
   "metadata": {
    "tags": [],
    "cell_id": "00016-668e6bdc-dba0-4a40-83f7-98e013f126e3",
    "deepnote_to_be_reexecuted": false,
    "source_hash": "f649face",
    "execution_start": 1622048980667,
    "execution_millis": 0,
    "deepnote_cell_type": "code"
   },
   "source": "import logging\nimport transformers\ntransformers.logging.get_verbosity = lambda: logging.NOTSET",
   "execution_count": null,
   "outputs": []
  },
  {
   "cell_type": "code",
   "metadata": {
    "tags": [],
    "cell_id": "00017-da44e33a-a1bb-46cc-a52a-7831eaf8d791",
    "deepnote_to_be_reexecuted": false,
    "source_hash": "6a542f70",
    "execution_start": 1622048980673,
    "execution_millis": 20,
    "deepnote_cell_type": "code"
   },
   "source": "transformers.logging.get_verbosity()\n",
   "execution_count": null,
   "outputs": [
    {
     "output_type": "execute_result",
     "execution_count": 3,
     "data": {
      "text/plain": "0"
     },
     "metadata": {}
    }
   ]
  },
  {
   "cell_type": "code",
   "metadata": {
    "tags": [],
    "cell_id": "00018-228b0278-3ad5-4f2e-9841-96a2323ec5e7",
    "deepnote_to_be_reexecuted": false,
    "source_hash": "bb743a4a",
    "execution_start": 1622048982187,
    "execution_millis": 5,
    "deepnote_cell_type": "code"
   },
   "source": "import datasets\ndatasets.logging.get_verbosity = lambda: logging.NOTSET",
   "execution_count": null,
   "outputs": []
  },
  {
   "cell_type": "markdown",
   "source": "[<ProgressiveImage src=\"https://github.com/norvig/pytudes/blob/master/ipynb/Advent-2020.ipynb\">](/static/buttons/view-in-deepnote-white.svg)",
   "metadata": {
    "tags": [],
    "cell_id": "00019-b6ad8d99-e7f5-4ddd-a8a3-f2766bc55634",
    "deepnote_cell_type": "markdown"
   }
  },
  {
   "cell_type": "code",
   "metadata": {
    "tags": [],
    "cell_id": "00017-275cc21d-cc03-4f32-808e-f9e96cd7755d",
    "deepnote_to_be_reexecuted": false,
    "source_hash": "c4c5c553",
    "execution_start": 1622048984668,
    "execution_millis": 426,
    "deepnote_cell_type": "code"
   },
   "source": "common_voice_train = load_dataset(\"common_voice\", \"czech\", split=\"train+validation\")\ncommon_voice_test = load_dataset(\"common_voice\", \"czech\", split=\"test\")",
   "execution_count": null,
   "outputs": [
    {
     "output_type": "error",
     "ename": "ImportError",
     "evalue": "IProgress not found. Please update jupyter and ipywidgets. See https://ipywidgets.readthedocs.io/en/stable/user_install.html",
     "traceback": [
      "\u001b[0;31m---------------------------------------------------------------------------\u001b[0m",
      "\u001b[0;31mImportError\u001b[0m                               Traceback (most recent call last)",
      "\u001b[0;32m<ipython-input-5-c99815735cd1>\u001b[0m in \u001b[0;36m<module>\u001b[0;34m\u001b[0m\n\u001b[0;32m----> 1\u001b[0;31m \u001b[0mcommon_voice_train\u001b[0m \u001b[0;34m=\u001b[0m \u001b[0mload_dataset\u001b[0m\u001b[0;34m(\u001b[0m\u001b[0;34m\"common_voice\"\u001b[0m\u001b[0;34m,\u001b[0m \u001b[0;34m\"czech\"\u001b[0m\u001b[0;34m,\u001b[0m \u001b[0msplit\u001b[0m\u001b[0;34m=\u001b[0m\u001b[0;34m\"train+validation\"\u001b[0m\u001b[0;34m)\u001b[0m\u001b[0;34m\u001b[0m\u001b[0;34m\u001b[0m\u001b[0m\n\u001b[0m\u001b[1;32m      2\u001b[0m \u001b[0mcommon_voice_test\u001b[0m \u001b[0;34m=\u001b[0m \u001b[0mload_dataset\u001b[0m\u001b[0;34m(\u001b[0m\u001b[0;34m\"common_voice\"\u001b[0m\u001b[0;34m,\u001b[0m \u001b[0;34m\"czech\"\u001b[0m\u001b[0;34m,\u001b[0m \u001b[0msplit\u001b[0m\u001b[0;34m=\u001b[0m\u001b[0;34m\"test\"\u001b[0m\u001b[0;34m)\u001b[0m\u001b[0;34m\u001b[0m\u001b[0;34m\u001b[0m\u001b[0m\n",
      "\u001b[0;32m~/venv/lib/python3.7/site-packages/datasets/load.py\u001b[0m in \u001b[0;36mload_dataset\u001b[0;34m(path, name, data_dir, data_files, split, cache_dir, features, download_config, download_mode, ignore_verifications, keep_in_memory, save_infos, script_version, use_auth_token, **config_kwargs)\u001b[0m\n\u001b[1;32m    716\u001b[0m         \u001b[0mdataset\u001b[0m\u001b[0;34m=\u001b[0m\u001b[0;32mTrue\u001b[0m\u001b[0;34m,\u001b[0m\u001b[0;34m\u001b[0m\u001b[0;34m\u001b[0m\u001b[0m\n\u001b[1;32m    717\u001b[0m         \u001b[0mreturn_resolved_file_path\u001b[0m\u001b[0;34m=\u001b[0m\u001b[0;32mTrue\u001b[0m\u001b[0;34m,\u001b[0m\u001b[0;34m\u001b[0m\u001b[0;34m\u001b[0m\u001b[0m\n\u001b[0;32m--> 718\u001b[0;31m         \u001b[0muse_auth_token\u001b[0m\u001b[0;34m=\u001b[0m\u001b[0muse_auth_token\u001b[0m\u001b[0;34m,\u001b[0m\u001b[0;34m\u001b[0m\u001b[0;34m\u001b[0m\u001b[0m\n\u001b[0m\u001b[1;32m    719\u001b[0m     )\n\u001b[1;32m    720\u001b[0m     \u001b[0;31m# Set the base path for downloads as the parent of the script location\u001b[0m\u001b[0;34m\u001b[0m\u001b[0;34m\u001b[0m\u001b[0;34m\u001b[0m\u001b[0m\n",
      "\u001b[0;32m~/venv/lib/python3.7/site-packages/datasets/load.py\u001b[0m in \u001b[0;36mprepare_module\u001b[0;34m(path, script_version, download_config, download_mode, dataset, force_local_path, dynamic_modules_path, return_resolved_file_path, **download_kwargs)\u001b[0m\n\u001b[1;32m    321\u001b[0m                 \u001b[0mfile_path\u001b[0m \u001b[0;34m=\u001b[0m \u001b[0mhf_github_url\u001b[0m\u001b[0;34m(\u001b[0m\u001b[0mpath\u001b[0m\u001b[0;34m=\u001b[0m\u001b[0mpath\u001b[0m\u001b[0;34m,\u001b[0m \u001b[0mname\u001b[0m\u001b[0;34m=\u001b[0m\u001b[0mname\u001b[0m\u001b[0;34m,\u001b[0m \u001b[0mdataset\u001b[0m\u001b[0;34m=\u001b[0m\u001b[0mdataset\u001b[0m\u001b[0;34m,\u001b[0m \u001b[0mversion\u001b[0m\u001b[0;34m=\u001b[0m\u001b[0mscript_version\u001b[0m\u001b[0;34m)\u001b[0m\u001b[0;34m\u001b[0m\u001b[0;34m\u001b[0m\u001b[0m\n\u001b[1;32m    322\u001b[0m                 \u001b[0;32mtry\u001b[0m\u001b[0;34m:\u001b[0m\u001b[0;34m\u001b[0m\u001b[0;34m\u001b[0m\u001b[0m\n\u001b[0;32m--> 323\u001b[0;31m                     \u001b[0mlocal_path\u001b[0m \u001b[0;34m=\u001b[0m \u001b[0mcached_path\u001b[0m\u001b[0;34m(\u001b[0m\u001b[0mfile_path\u001b[0m\u001b[0;34m,\u001b[0m \u001b[0mdownload_config\u001b[0m\u001b[0;34m=\u001b[0m\u001b[0mdownload_config\u001b[0m\u001b[0;34m)\u001b[0m\u001b[0;34m\u001b[0m\u001b[0;34m\u001b[0m\u001b[0m\n\u001b[0m\u001b[1;32m    324\u001b[0m                 \u001b[0;32mexcept\u001b[0m \u001b[0mFileNotFoundError\u001b[0m\u001b[0;34m:\u001b[0m\u001b[0;34m\u001b[0m\u001b[0;34m\u001b[0m\u001b[0m\n\u001b[1;32m    325\u001b[0m                     \u001b[0;32mif\u001b[0m \u001b[0mscript_version\u001b[0m \u001b[0;32mis\u001b[0m \u001b[0;32mnot\u001b[0m \u001b[0;32mNone\u001b[0m\u001b[0;34m:\u001b[0m\u001b[0;34m\u001b[0m\u001b[0;34m\u001b[0m\u001b[0m\n",
      "\u001b[0;32m~/venv/lib/python3.7/site-packages/datasets/utils/file_utils.py\u001b[0m in \u001b[0;36mcached_path\u001b[0;34m(url_or_filename, download_config, **download_kwargs)\u001b[0m\n\u001b[1;32m    289\u001b[0m             \u001b[0muse_etag\u001b[0m\u001b[0;34m=\u001b[0m\u001b[0mdownload_config\u001b[0m\u001b[0;34m.\u001b[0m\u001b[0muse_etag\u001b[0m\u001b[0;34m,\u001b[0m\u001b[0;34m\u001b[0m\u001b[0;34m\u001b[0m\u001b[0m\n\u001b[1;32m    290\u001b[0m             \u001b[0mmax_retries\u001b[0m\u001b[0;34m=\u001b[0m\u001b[0mdownload_config\u001b[0m\u001b[0;34m.\u001b[0m\u001b[0mmax_retries\u001b[0m\u001b[0;34m,\u001b[0m\u001b[0;34m\u001b[0m\u001b[0;34m\u001b[0m\u001b[0m\n\u001b[0;32m--> 291\u001b[0;31m             \u001b[0muse_auth_token\u001b[0m\u001b[0;34m=\u001b[0m\u001b[0mdownload_config\u001b[0m\u001b[0;34m.\u001b[0m\u001b[0muse_auth_token\u001b[0m\u001b[0;34m,\u001b[0m\u001b[0;34m\u001b[0m\u001b[0;34m\u001b[0m\u001b[0m\n\u001b[0m\u001b[1;32m    292\u001b[0m         )\n\u001b[1;32m    293\u001b[0m     \u001b[0;32melif\u001b[0m \u001b[0mos\u001b[0m\u001b[0;34m.\u001b[0m\u001b[0mpath\u001b[0m\u001b[0;34m.\u001b[0m\u001b[0mexists\u001b[0m\u001b[0;34m(\u001b[0m\u001b[0murl_or_filename\u001b[0m\u001b[0;34m)\u001b[0m\u001b[0;34m:\u001b[0m\u001b[0;34m\u001b[0m\u001b[0;34m\u001b[0m\u001b[0m\n",
      "\u001b[0;32m~/venv/lib/python3.7/site-packages/datasets/utils/file_utils.py\u001b[0m in \u001b[0;36mget_from_cache\u001b[0;34m(url, cache_dir, force_download, proxies, etag_timeout, resume_download, user_agent, local_files_only, use_etag, max_retries, use_auth_token)\u001b[0m\n\u001b[1;32m    668\u001b[0m                     \u001b[0mheaders\u001b[0m\u001b[0;34m=\u001b[0m\u001b[0mheaders\u001b[0m\u001b[0;34m,\u001b[0m\u001b[0;34m\u001b[0m\u001b[0;34m\u001b[0m\u001b[0m\n\u001b[1;32m    669\u001b[0m                     \u001b[0mcookies\u001b[0m\u001b[0;34m=\u001b[0m\u001b[0mcookies\u001b[0m\u001b[0;34m,\u001b[0m\u001b[0;34m\u001b[0m\u001b[0;34m\u001b[0m\u001b[0m\n\u001b[0;32m--> 670\u001b[0;31m                     \u001b[0mmax_retries\u001b[0m\u001b[0;34m=\u001b[0m\u001b[0mmax_retries\u001b[0m\u001b[0;34m,\u001b[0m\u001b[0;34m\u001b[0m\u001b[0;34m\u001b[0m\u001b[0m\n\u001b[0m\u001b[1;32m    671\u001b[0m                 )\n\u001b[1;32m    672\u001b[0m \u001b[0;34m\u001b[0m\u001b[0m\n",
      "\u001b[0;32m~/venv/lib/python3.7/site-packages/datasets/utils/file_utils.py\u001b[0m in \u001b[0;36mhttp_get\u001b[0;34m(url, temp_file, proxies, resume_size, headers, cookies, timeout, max_retries)\u001b[0m\n\u001b[1;32m    493\u001b[0m         \u001b[0minitial\u001b[0m\u001b[0;34m=\u001b[0m\u001b[0mresume_size\u001b[0m\u001b[0;34m,\u001b[0m\u001b[0;34m\u001b[0m\u001b[0;34m\u001b[0m\u001b[0m\n\u001b[1;32m    494\u001b[0m         \u001b[0mdesc\u001b[0m\u001b[0;34m=\u001b[0m\u001b[0;34m\"Downloading\"\u001b[0m\u001b[0;34m,\u001b[0m\u001b[0;34m\u001b[0m\u001b[0;34m\u001b[0m\u001b[0m\n\u001b[0;32m--> 495\u001b[0;31m         \u001b[0mdisable\u001b[0m\u001b[0;34m=\u001b[0m\u001b[0mnot_verbose\u001b[0m\u001b[0;34m,\u001b[0m\u001b[0;34m\u001b[0m\u001b[0;34m\u001b[0m\u001b[0m\n\u001b[0m\u001b[1;32m    496\u001b[0m     )\n\u001b[1;32m    497\u001b[0m     \u001b[0;32mfor\u001b[0m \u001b[0mchunk\u001b[0m \u001b[0;32min\u001b[0m \u001b[0mresponse\u001b[0m\u001b[0;34m.\u001b[0m\u001b[0miter_content\u001b[0m\u001b[0;34m(\u001b[0m\u001b[0mchunk_size\u001b[0m\u001b[0;34m=\u001b[0m\u001b[0;36m1024\u001b[0m\u001b[0;34m)\u001b[0m\u001b[0;34m:\u001b[0m\u001b[0;34m\u001b[0m\u001b[0;34m\u001b[0m\u001b[0m\n",
      "\u001b[0;32m~/venv/lib/python3.7/site-packages/tqdm/notebook.py\u001b[0m in \u001b[0;36m__init__\u001b[0;34m(self, *args, **kwargs)\u001b[0m\n\u001b[1;32m    217\u001b[0m         \u001b[0mtotal\u001b[0m \u001b[0;34m=\u001b[0m \u001b[0mself\u001b[0m\u001b[0;34m.\u001b[0m\u001b[0mtotal\u001b[0m \u001b[0;34m*\u001b[0m \u001b[0munit_scale\u001b[0m \u001b[0;32mif\u001b[0m \u001b[0mself\u001b[0m\u001b[0;34m.\u001b[0m\u001b[0mtotal\u001b[0m \u001b[0;32melse\u001b[0m \u001b[0mself\u001b[0m\u001b[0;34m.\u001b[0m\u001b[0mtotal\u001b[0m\u001b[0;34m\u001b[0m\u001b[0;34m\u001b[0m\u001b[0m\n\u001b[1;32m    218\u001b[0m         self.container = self.status_printer(\n\u001b[0;32m--> 219\u001b[0;31m             self.fp, total, self.desc, self.ncols)\n\u001b[0m\u001b[1;32m    220\u001b[0m         \u001b[0mself\u001b[0m\u001b[0;34m.\u001b[0m\u001b[0msp\u001b[0m \u001b[0;34m=\u001b[0m \u001b[0mself\u001b[0m\u001b[0;34m.\u001b[0m\u001b[0mdisplay\u001b[0m\u001b[0;34m\u001b[0m\u001b[0;34m\u001b[0m\u001b[0m\n\u001b[1;32m    221\u001b[0m \u001b[0;34m\u001b[0m\u001b[0m\n",
      "\u001b[0;32m~/venv/lib/python3.7/site-packages/tqdm/notebook.py\u001b[0m in \u001b[0;36mstatus_printer\u001b[0;34m(_, total, desc, ncols)\u001b[0m\n\u001b[1;32m     95\u001b[0m         \u001b[0;32mif\u001b[0m \u001b[0mIProgress\u001b[0m \u001b[0;32mis\u001b[0m \u001b[0;32mNone\u001b[0m\u001b[0;34m:\u001b[0m  \u001b[0;31m# #187 #451 #558 #872\u001b[0m\u001b[0;34m\u001b[0m\u001b[0;34m\u001b[0m\u001b[0m\n\u001b[1;32m     96\u001b[0m             raise ImportError(\n\u001b[0;32m---> 97\u001b[0;31m                 \u001b[0;34m\"IProgress not found. Please update jupyter and ipywidgets.\"\u001b[0m\u001b[0;34m\u001b[0m\u001b[0;34m\u001b[0m\u001b[0m\n\u001b[0m\u001b[1;32m     98\u001b[0m                 \u001b[0;34m\" See https://ipywidgets.readthedocs.io/en/stable\"\u001b[0m\u001b[0;34m\u001b[0m\u001b[0;34m\u001b[0m\u001b[0m\n\u001b[1;32m     99\u001b[0m                 \"/user_install.html\")\n",
      "\u001b[0;31mImportError\u001b[0m: IProgress not found. Please update jupyter and ipywidgets. See https://ipywidgets.readthedocs.io/en/stable/user_install.html"
     ]
    }
   ]
  },
  {
   "cell_type": "code",
   "metadata": {
    "execution": {
     "iopub.execute_input": "2021-05-18T15:46:04.963717Z",
     "iopub.status.busy": "2021-05-18T15:46:04.962876Z",
     "iopub.status.idle": "2021-05-18T15:46:05.465736Z",
     "shell.execute_reply": "2021-05-18T15:46:05.464876Z"
    },
    "id": "2MMXcWFFgCXU",
    "papermill": {
     "duration": 0.580178,
     "end_time": "2021-05-18T15:46:05.465873",
     "exception": false,
     "start_time": "2021-05-18T15:46:04.885695",
     "status": "completed"
    },
    "tags": [],
    "cell_id": "00017-8b867d6b-5506-4174-8bd7-e1abe4e8c6e0",
    "deepnote_cell_type": "code"
   },
   "source": "df =pd.read_csv(\"../input/wolof-asr/Train.csv\")\ndf[\"votes\"] = df[\"up_votes\"]-df[\"down_votes\"]\n\n#Add audio path and renaming columns\ndf[\"path\"] = \"../input/wolof-asr/Noise Removed/tmp/WOLOF_ASR_dataset/noise_remove/\"+df[\"ID\"]+\".wav\"\ndf.rename(columns = {'transcription':'sentence'}, inplace = True)\n\ntrain,test = train_test_split(df, test_size=0.008, random_state=42)\ncommon_voice_train_1 = Dataset.from_pandas(train[3500:])\ncommon_voice_train_2 = Dataset.from_pandas(train[0:3500])\n\ncommon_voice_test = Dataset.from_pandas(test)\n",
   "execution_count": null,
   "outputs": []
  },
  {
   "cell_type": "code",
   "metadata": {
    "execution": {
     "iopub.execute_input": "2021-05-18T15:46:05.619705Z",
     "iopub.status.busy": "2021-05-18T15:46:05.618623Z",
     "iopub.status.idle": "2021-05-18T15:46:05.622317Z",
     "shell.execute_reply": "2021-05-18T15:46:05.622772Z"
    },
    "id": "09AjkBiV-XsF",
    "outputId": "98453591-8597-4efd-fdef-7d6a635e6a3f",
    "papermill": {
     "duration": 0.085722,
     "end_time": "2021-05-18T15:46:05.622907",
     "exception": false,
     "start_time": "2021-05-18T15:46:05.537185",
     "status": "completed"
    },
    "tags": [],
    "cell_id": "00018-1ef889ce-f9df-4c0c-95a8-103488533400",
    "deepnote_cell_type": "code"
   },
   "source": "sum(df.sentence.value_counts()>1)",
   "execution_count": null,
   "outputs": [
    {
     "data": {
      "text/plain": "661"
     },
     "execution_count": 7,
     "metadata": {},
     "output_type": "execute_result"
    }
   ]
  },
  {
   "cell_type": "code",
   "metadata": {
    "execution": {
     "iopub.execute_input": "2021-05-18T15:46:05.769799Z",
     "iopub.status.busy": "2021-05-18T15:46:05.769296Z",
     "iopub.status.idle": "2021-05-18T15:46:05.774947Z",
     "shell.execute_reply": "2021-05-18T15:46:05.775383Z"
    },
    "id": "tEwMWloSO3Xm",
    "outputId": "b799bd5c-37e4-4ecb-e3f6-62f7884a21a4",
    "papermill": {
     "duration": 0.080969,
     "end_time": "2021-05-18T15:46:05.775504",
     "exception": false,
     "start_time": "2021-05-18T15:46:05.694535",
     "status": "completed"
    },
    "tags": [],
    "cell_id": "00019-46af6cd0-64aa-49dd-88b1-b038789b2d5f",
    "deepnote_cell_type": "code"
   },
   "source": "train.shape,test.shape",
   "execution_count": null,
   "outputs": [
    {
     "data": {
      "text/plain": "((6649, 8), (34, 8))"
     },
     "execution_count": 8,
     "metadata": {},
     "output_type": "execute_result"
    }
   ]
  },
  {
   "cell_type": "markdown",
   "source": "Removing all the unecessary columns. ",
   "metadata": {
    "tags": [],
    "cell_id": "00020-4b0ecc7f-48c5-4dbb-9cb9-cdffc20e3983",
    "deepnote_cell_type": "markdown"
   }
  },
  {
   "cell_type": "code",
   "metadata": {
    "execution": {
     "iopub.execute_input": "2021-05-18T15:46:06.063650Z",
     "iopub.status.busy": "2021-05-18T15:46:06.060113Z",
     "iopub.status.idle": "2021-05-18T15:46:06.066227Z",
     "shell.execute_reply": "2021-05-18T15:46:06.066616Z"
    },
    "id": "kbyq6lDgQc2a",
    "papermill": {
     "duration": 0.081191,
     "end_time": "2021-05-18T15:46:06.066741",
     "exception": false,
     "start_time": "2021-05-18T15:46:05.985550",
     "status": "completed"
    },
    "tags": [],
    "cell_id": "00021-92febc72-6c24-42f3-85b7-f98347922c9b",
    "deepnote_cell_type": "code"
   },
   "source": "common_voice_train_1 = common_voice_train_1.remove_columns([ \"ID\",\"age\",  \"down_votes\", \"gender\",  \"up_votes\"])\ncommon_voice_train_2 = common_voice_train_2.remove_columns([ \"ID\",\"age\",  \"down_votes\", \"gender\",  \"up_votes\"])\n\ncommon_voice_test = common_voice_test.remove_columns([ \"ID\",\"age\",  \"down_votes\", \"gender\",  \"up_votes\"])",
   "execution_count": null,
   "outputs": []
  },
  {
   "cell_type": "code",
   "metadata": {
    "execution": {
     "iopub.execute_input": "2021-05-18T15:46:06.211963Z",
     "iopub.status.busy": "2021-05-18T15:46:06.211208Z",
     "iopub.status.idle": "2021-05-18T15:46:06.214601Z",
     "shell.execute_reply": "2021-05-18T15:46:06.214987Z"
    },
    "id": "2irR6FPGO3Xo",
    "outputId": "8910cc67-c426-4f7e-cbdb-69012281844a",
    "papermill": {
     "duration": 0.078014,
     "end_time": "2021-05-18T15:46:06.215103",
     "exception": false,
     "start_time": "2021-05-18T15:46:06.137089",
     "status": "completed"
    },
    "tags": [],
    "cell_id": "00022-4ab8815c-3caa-433e-bead-45ac0dfcfc3e",
    "deepnote_cell_type": "code"
   },
   "source": "common_voice_train_1.shape",
   "execution_count": null,
   "outputs": [
    {
     "data": {
      "text/plain": "(3649, 4)"
     },
     "execution_count": 10,
     "metadata": {},
     "output_type": "execute_result"
    }
   ]
  },
  {
   "cell_type": "markdown",
   "source": "Let's write a short function to display some random samples of the dataset and run it a couple of times to get a feeling for the transcriptions.",
   "metadata": {
    "id": "Go9Hq4e4NDT9",
    "papermill": {
     "duration": 0.069499,
     "end_time": "2021-05-18T15:46:06.353891",
     "exception": false,
     "start_time": "2021-05-18T15:46:06.284392",
     "status": "completed"
    },
    "tags": [],
    "cell_id": "00023-bd6479f7-102c-4047-a471-97ec2ed1a00c",
    "deepnote_cell_type": "markdown"
   }
  },
  {
   "cell_type": "code",
   "metadata": {
    "execution": {
     "iopub.execute_input": "2021-05-18T15:46:06.500689Z",
     "iopub.status.busy": "2021-05-18T15:46:06.499007Z",
     "iopub.status.idle": "2021-05-18T15:46:06.501270Z",
     "shell.execute_reply": "2021-05-18T15:46:06.501654Z"
    },
    "id": "72737oog2F6U",
    "papermill": {
     "duration": 0.078557,
     "end_time": "2021-05-18T15:46:06.501770",
     "exception": false,
     "start_time": "2021-05-18T15:46:06.423213",
     "status": "completed"
    },
    "tags": [],
    "cell_id": "00024-b2ae2452-1f23-4117-8fe9-ab20955ab466",
    "deepnote_cell_type": "code"
   },
   "source": "def show_random_elements(dataset, num_examples=10):\n    assert num_examples <= len(dataset), \"Can't pick more elements than there are in the dataset.\"\n    picks = []\n    for _ in range(num_examples):\n        pick = random.randint(0, len(dataset)-1)\n        while pick in picks:\n            pick = random.randint(0, len(dataset)-1)\n        picks.append(pick)\n    \n    df = pd.DataFrame(dataset[picks])\n    display(HTML(df.to_html()))",
   "execution_count": null,
   "outputs": []
  },
  {
   "cell_type": "code",
   "metadata": {
    "execution": {
     "iopub.execute_input": "2021-05-18T15:46:06.646115Z",
     "iopub.status.busy": "2021-05-18T15:46:06.645389Z",
     "iopub.status.idle": "2021-05-18T15:46:06.656915Z",
     "shell.execute_reply": "2021-05-18T15:46:06.657339Z"
    },
    "id": "K_JUmf3G3b9S",
    "outputId": "1ae057cb-7f56-4001-bc09-107b8fd41e12",
    "papermill": {
     "duration": 0.086082,
     "end_time": "2021-05-18T15:46:06.657458",
     "exception": false,
     "start_time": "2021-05-18T15:46:06.571376",
     "status": "completed"
    },
    "tags": [],
    "cell_id": "00025-769c4d63-f28c-4f1f-aa5f-17459db48755",
    "deepnote_cell_type": "code"
   },
   "source": "show_random_elements(common_voice_train_1.remove_columns([\"path\"]), num_examples=20)",
   "execution_count": null,
   "outputs": [
    {
     "data": {
      "text/html": "<table border=\"1\" class=\"dataframe\">\n  <thead>\n    <tr style=\"text-align: right;\">\n      <th></th>\n      <th>sentence</th>\n      <th>votes</th>\n      <th>__index_level_0__</th>\n    </tr>\n  </thead>\n  <tbody>\n    <tr>\n      <th>0</th>\n      <td>Pharmacie Ouakam</td>\n      <td>2</td>\n      <td>2320</td>\n    </tr>\n    <tr>\n      <th>1</th>\n      <td>Police Pikine</td>\n      <td>2</td>\n      <td>2175</td>\n    </tr>\n    <tr>\n      <th>2</th>\n      <td>Nu may def pour dem</td>\n      <td>2</td>\n      <td>399</td>\n    </tr>\n    <tr>\n      <th>3</th>\n      <td>Cimetiére Saint Lazzare</td>\n      <td>2</td>\n      <td>163</td>\n    </tr>\n    <tr>\n      <th>4</th>\n      <td>CEM Joseph Felix Corréa</td>\n      <td>2</td>\n      <td>2546</td>\n    </tr>\n    <tr>\n      <th>5</th>\n      <td>Orabank</td>\n      <td>2</td>\n      <td>3022</td>\n    </tr>\n    <tr>\n      <th>6</th>\n      <td>nan laay def ngir dem</td>\n      <td>2</td>\n      <td>3778</td>\n    </tr>\n    <tr>\n      <th>7</th>\n      <td>Pikine Texaco</td>\n      <td>2</td>\n      <td>2606</td>\n    </tr>\n    <tr>\n      <th>8</th>\n      <td>Mosquée Terminus</td>\n      <td>2</td>\n      <td>5952</td>\n    </tr>\n    <tr>\n      <th>9</th>\n      <td>Terminus Parcelles Assainies</td>\n      <td>2</td>\n      <td>4299</td>\n    </tr>\n    <tr>\n      <th>10</th>\n      <td>Rufsac</td>\n      <td>2</td>\n      <td>4406</td>\n    </tr>\n    <tr>\n      <th>11</th>\n      <td>Tigo Almadies</td>\n      <td>2</td>\n      <td>5301</td>\n    </tr>\n    <tr>\n      <th>12</th>\n      <td>Garage Grand Yoff</td>\n      <td>2</td>\n      <td>4027</td>\n    </tr>\n    <tr>\n      <th>13</th>\n      <td>EDK Oil Mariste</td>\n      <td>1</td>\n      <td>707</td>\n    </tr>\n    <tr>\n      <th>14</th>\n      <td>SDE Parcelle</td>\n      <td>2</td>\n      <td>6624</td>\n    </tr>\n    <tr>\n      <th>15</th>\n      <td>Diall M'baye</td>\n      <td>1</td>\n      <td>2891</td>\n    </tr>\n    <tr>\n      <th>16</th>\n      <td>Hôpital CTO</td>\n      <td>2</td>\n      <td>1247</td>\n    </tr>\n    <tr>\n      <th>17</th>\n      <td>nan laay def ba dem Mermoz</td>\n      <td>2</td>\n      <td>3059</td>\n    </tr>\n    <tr>\n      <th>18</th>\n      <td>Allées Papa Guèye Fall</td>\n      <td>2</td>\n      <td>4268</td>\n    </tr>\n    <tr>\n      <th>19</th>\n      <td>Ecole Les Pédagogues</td>\n      <td>2</td>\n      <td>2085</td>\n    </tr>\n  </tbody>\n</table>",
      "text/plain": "<IPython.core.display.HTML object>"
     },
     "metadata": {},
     "output_type": "display_data"
    }
   ]
  },
  {
   "cell_type": "markdown",
   "source": "Alright! The transcriptions look fairly clean. ",
   "metadata": {
    "id": "fowcOllGNNju",
    "papermill": {
     "duration": 0.070667,
     "end_time": "2021-05-18T15:46:06.798267",
     "exception": false,
     "start_time": "2021-05-18T15:46:06.727600",
     "status": "completed"
    },
    "tags": [],
    "cell_id": "00026-6f0cd2f7-29cf-4f39-9559-5ee131a47482",
    "deepnote_cell_type": "markdown"
   }
  },
  {
   "cell_type": "markdown",
   "source": "We can see that the transcriptions contain some special characters, such as `,.?!;:`. Without a language model, it is much harder to classify speech chunks to such special characters because they don't really correspond to a characteristic sound unit. *E.g.*, the letter `\"s\"` has a more or less clear sound, whereas the special character `\".\"` does not.\nAlso in order to understand the meaning of a speech signal, it is usually not necessary to include special characters in the transcription.\n\nIn addition, we normalize the text to only have lower case letters and append a word separator token at the end.",
   "metadata": {
    "id": "vq7OR50LN49m",
    "papermill": {
     "duration": 0.07066,
     "end_time": "2021-05-18T15:46:06.939225",
     "exception": false,
     "start_time": "2021-05-18T15:46:06.868565",
     "status": "completed"
    },
    "tags": [],
    "cell_id": "00027-a142452e-65ae-4c96-8ebc-6dd1003c13e1",
    "deepnote_cell_type": "markdown"
   }
  },
  {
   "cell_type": "code",
   "metadata": {
    "execution": {
     "iopub.execute_input": "2021-05-18T15:46:07.086610Z",
     "iopub.status.busy": "2021-05-18T15:46:07.085918Z",
     "iopub.status.idle": "2021-05-18T15:46:07.088460Z",
     "shell.execute_reply": "2021-05-18T15:46:07.088854Z"
    },
    "id": "svKzVJ_hQGK6",
    "papermill": {
     "duration": 0.079032,
     "end_time": "2021-05-18T15:46:07.088979",
     "exception": false,
     "start_time": "2021-05-18T15:46:07.009947",
     "status": "completed"
    },
    "tags": [],
    "cell_id": "00028-57d3ee82-cc9b-4e81-9d0b-4b477711414a",
    "deepnote_cell_type": "code"
   },
   "source": "import re\nchars_to_ignore_regex = '[\\,\\?\\.\\!\\-\\;\\:\\\"\\“\\%\\‘\\”\\�]'\n\ndef remove_special_characters(batch):\n    batch[\"sentence\"] = re.sub(chars_to_ignore_regex, '', batch[\"sentence\"]).lower() + \" \"\n    return batch",
   "execution_count": null,
   "outputs": []
  },
  {
   "cell_type": "code",
   "metadata": {
    "execution": {
     "iopub.execute_input": "2021-05-18T15:46:07.254265Z",
     "iopub.status.busy": "2021-05-18T15:46:07.253381Z",
     "iopub.status.idle": "2021-05-18T15:46:14.048058Z",
     "shell.execute_reply": "2021-05-18T15:46:14.047438Z"
    },
    "id": "XIHocAuTQbBR",
    "outputId": "befb8a14-19ce-4747-e7e2-f9c727eb7d25",
    "papermill": {
     "duration": 6.887479,
     "end_time": "2021-05-18T15:46:14.048218",
     "exception": false,
     "start_time": "2021-05-18T15:46:07.160739",
     "status": "completed"
    },
    "tags": [],
    "cell_id": "00029-38ddc372-a080-43b8-9af3-e00bfa78b2c2",
    "deepnote_cell_type": "code"
   },
   "source": "common_voice_train_1 = common_voice_train_1.map(remove_special_characters)\ncommon_voice_train_2 = common_voice_train_2.map(remove_special_characters)\n\ncommon_voice_test = common_voice_test.map(remove_special_characters)",
   "execution_count": null,
   "outputs": [
    {
     "data": {
      "application/vnd.jupyter.widget-view+json": {
       "model_id": "0a10f9b105ea4e77a0c392aba2f69eab",
       "version_major": 2,
       "version_minor": 0
      },
      "text/plain": "HBox(children=(FloatProgress(value=0.0, max=3649.0), HTML(value='')))"
     },
     "metadata": {},
     "output_type": "display_data"
    },
    {
     "name": "stdout",
     "output_type": "stream",
     "text": "\n"
    },
    {
     "data": {
      "application/vnd.jupyter.widget-view+json": {
       "model_id": "3c716d9336e24b43a8c4a6848697cc58",
       "version_major": 2,
       "version_minor": 0
      },
      "text/plain": "HBox(children=(FloatProgress(value=0.0, max=3000.0), HTML(value='')))"
     },
     "metadata": {},
     "output_type": "display_data"
    },
    {
     "name": "stdout",
     "output_type": "stream",
     "text": "\n"
    },
    {
     "data": {
      "application/vnd.jupyter.widget-view+json": {
       "model_id": "52dfb5b2f5b64269b232569cc323ce8b",
       "version_major": 2,
       "version_minor": 0
      },
      "text/plain": "HBox(children=(FloatProgress(value=0.0, max=34.0), HTML(value='')))"
     },
     "metadata": {},
     "output_type": "display_data"
    },
    {
     "name": "stdout",
     "output_type": "stream",
     "text": "\n"
    }
   ]
  },
  {
   "cell_type": "code",
   "metadata": {
    "execution": {
     "iopub.execute_input": "2021-05-18T15:46:14.200074Z",
     "iopub.status.busy": "2021-05-18T15:46:14.199342Z",
     "iopub.status.idle": "2021-05-18T15:46:14.207911Z",
     "shell.execute_reply": "2021-05-18T15:46:14.207427Z"
    },
    "id": "RBDRAAYxRE6n",
    "outputId": "7a497169-8d4b-4886-8110-7daf249567d5",
    "papermill": {
     "duration": 0.085189,
     "end_time": "2021-05-18T15:46:14.208024",
     "exception": false,
     "start_time": "2021-05-18T15:46:14.122835",
     "status": "completed"
    },
    "tags": [],
    "cell_id": "00030-941cf5a6-d36b-43f6-86ee-024c27aded71",
    "deepnote_cell_type": "code"
   },
   "source": "show_random_elements(common_voice_train_1.remove_columns([\"path\"]))",
   "execution_count": null,
   "outputs": [
    {
     "data": {
      "text/html": "<table border=\"1\" class=\"dataframe\">\n  <thead>\n    <tr style=\"text-align: right;\">\n      <th></th>\n      <th>__index_level_0__</th>\n      <th>sentence</th>\n      <th>votes</th>\n    </tr>\n  </thead>\n  <tbody>\n    <tr>\n      <th>0</th>\n      <td>2591</td>\n      <td>terminus parcelles assainies</td>\n      <td>2</td>\n    </tr>\n    <tr>\n      <th>1</th>\n      <td>1875</td>\n      <td>tableau ferrailes</td>\n      <td>2</td>\n    </tr>\n    <tr>\n      <th>2</th>\n      <td>3562</td>\n      <td>petit mbao extension</td>\n      <td>2</td>\n    </tr>\n    <tr>\n      <th>3</th>\n      <td>4949</td>\n      <td>feu rouge brioche dorée diamalaye</td>\n      <td>2</td>\n    </tr>\n    <tr>\n      <th>4</th>\n      <td>3537</td>\n      <td>rond point sacré coeur</td>\n      <td>2</td>\n    </tr>\n    <tr>\n      <th>5</th>\n      <td>64</td>\n      <td>mbédou fass</td>\n      <td>2</td>\n    </tr>\n    <tr>\n      <th>6</th>\n      <td>4694</td>\n      <td>place marechal</td>\n      <td>1</td>\n    </tr>\n    <tr>\n      <th>7</th>\n      <td>3234</td>\n      <td>marché niague</td>\n      <td>2</td>\n    </tr>\n    <tr>\n      <th>8</th>\n      <td>3483</td>\n      <td>station shell grand yoff</td>\n      <td>2</td>\n    </tr>\n    <tr>\n      <th>9</th>\n      <td>2826</td>\n      <td>taly mame diarra</td>\n      <td>2</td>\n    </tr>\n  </tbody>\n</table>",
      "text/plain": "<IPython.core.display.HTML object>"
     },
     "metadata": {},
     "output_type": "display_data"
    }
   ]
  },
  {
   "cell_type": "markdown",
   "source": "Good! This looks better. We have removed most special characters from transcriptions and normalized them to lower-case only.\n\nIn CTC, it is common to classify speech chunks into letters, so we will do the same here. \nLet's extract all distinct letters of the training and test data and build our vocabulary from this set of letters.\n\nWe write a mapping function that concatenates all transcriptions into one long transcription and then transforms the string into a set of chars. \nIt is important to pass the argument `batched=True` to the `map(...)` function so that the mapping function has access to all transcriptions at once.",
   "metadata": {
    "id": "jwfaptH5RJwA",
    "papermill": {
     "duration": 0.072205,
     "end_time": "2021-05-18T15:46:14.352604",
     "exception": false,
     "start_time": "2021-05-18T15:46:14.280399",
     "status": "completed"
    },
    "tags": [],
    "cell_id": "00031-6d4d1eeb-ffdf-4560-875f-acdd6e92c0e7",
    "deepnote_cell_type": "markdown"
   }
  },
  {
   "cell_type": "code",
   "metadata": {
    "execution": {
     "iopub.execute_input": "2021-05-18T15:46:14.502478Z",
     "iopub.status.busy": "2021-05-18T15:46:14.501939Z",
     "iopub.status.idle": "2021-05-18T15:46:14.505370Z",
     "shell.execute_reply": "2021-05-18T15:46:14.504921Z"
    },
    "id": "LwCshNbbeRZR",
    "papermill": {
     "duration": 0.080112,
     "end_time": "2021-05-18T15:46:14.505546",
     "exception": false,
     "start_time": "2021-05-18T15:46:14.425434",
     "status": "completed"
    },
    "tags": [],
    "cell_id": "00032-2957f381-07be-479f-9537-6097453e8133",
    "deepnote_cell_type": "code"
   },
   "source": "def extract_all_chars(batch):\n  all_text = \" \".join(batch[\"sentence\"])\n  vocab = list(set(all_text))\n  return {\"vocab\": [vocab], \"all_text\": [all_text]}",
   "execution_count": null,
   "outputs": []
  },
  {
   "cell_type": "code",
   "metadata": {
    "execution": {
     "iopub.execute_input": "2021-05-18T15:46:14.675325Z",
     "iopub.status.busy": "2021-05-18T15:46:14.674537Z",
     "iopub.status.idle": "2021-05-18T15:46:14.771672Z",
     "shell.execute_reply": "2021-05-18T15:46:14.769863Z"
    },
    "id": "_m6uUjjcfbjH",
    "outputId": "fcf0f75c-083b-4944-ebb5-9c3271ee7368",
    "papermill": {
     "duration": 0.193625,
     "end_time": "2021-05-18T15:46:14.771821",
     "exception": false,
     "start_time": "2021-05-18T15:46:14.578196",
     "status": "completed"
    },
    "tags": [],
    "cell_id": "00033-70cfc9d2-9c3c-47d1-bf16-82709b37cf65",
    "deepnote_cell_type": "code"
   },
   "source": "vocab_train_2 = common_voice_train_2.map(extract_all_chars, batched=True, batch_size=-1, keep_in_memory=True, remove_columns=common_voice_train_2.column_names)\n\nvocab_train_1 = common_voice_train_1.map(extract_all_chars, batched=True, batch_size=-1, keep_in_memory=True, remove_columns=common_voice_train_1.column_names)\nvocab_test = common_voice_test.map(extract_all_chars, batched=True, batch_size=-1, keep_in_memory=True, remove_columns=common_voice_test.column_names)",
   "execution_count": null,
   "outputs": [
    {
     "data": {
      "application/vnd.jupyter.widget-view+json": {
       "model_id": "277add1543104884a06faee601f39d3f",
       "version_major": 2,
       "version_minor": 0
      },
      "text/plain": "HBox(children=(FloatProgress(value=0.0, max=1.0), HTML(value='')))"
     },
     "metadata": {},
     "output_type": "display_data"
    },
    {
     "name": "stdout",
     "output_type": "stream",
     "text": "\n"
    },
    {
     "data": {
      "application/vnd.jupyter.widget-view+json": {
       "model_id": "1712268fe0064c1daef4aa0a5014808b",
       "version_major": 2,
       "version_minor": 0
      },
      "text/plain": "HBox(children=(FloatProgress(value=0.0, max=1.0), HTML(value='')))"
     },
     "metadata": {},
     "output_type": "display_data"
    },
    {
     "name": "stdout",
     "output_type": "stream",
     "text": "\n"
    },
    {
     "data": {
      "application/vnd.jupyter.widget-view+json": {
       "model_id": "dfa66d89fc494440bf23e22780de4a4b",
       "version_major": 2,
       "version_minor": 0
      },
      "text/plain": "HBox(children=(FloatProgress(value=0.0, max=1.0), HTML(value='')))"
     },
     "metadata": {},
     "output_type": "display_data"
    },
    {
     "name": "stdout",
     "output_type": "stream",
     "text": "\n"
    }
   ]
  },
  {
   "cell_type": "markdown",
   "source": "Now, we create the union of all distinct letters in the training dataset and test dataset and convert the resulting list into an enumerated dictionary.",
   "metadata": {
    "id": "7oVgE8RZSJNP",
    "papermill": {
     "duration": 0.075397,
     "end_time": "2021-05-18T15:46:14.923808",
     "exception": false,
     "start_time": "2021-05-18T15:46:14.848411",
     "status": "completed"
    },
    "tags": [],
    "cell_id": "00034-710bbf82-b748-4813-a020-c4765664b072",
    "deepnote_cell_type": "markdown"
   }
  },
  {
   "cell_type": "code",
   "metadata": {
    "execution": {
     "iopub.execute_input": "2021-05-18T15:46:15.078656Z",
     "iopub.status.busy": "2021-05-18T15:46:15.077986Z",
     "iopub.status.idle": "2021-05-18T15:46:15.080503Z",
     "shell.execute_reply": "2021-05-18T15:46:15.080862Z"
    },
    "id": "aQfneNsmlJI0",
    "papermill": {
     "duration": 0.081917,
     "end_time": "2021-05-18T15:46:15.080997",
     "exception": false,
     "start_time": "2021-05-18T15:46:14.999080",
     "status": "completed"
    },
    "tags": [],
    "cell_id": "00035-73f75983-fcf5-4dd2-a496-2335836a83b5",
    "deepnote_cell_type": "code"
   },
   "source": "vocab_list = list(set(vocab_train_2[\"vocab\"][0]) |set(vocab_train_1[\"vocab\"][0]) | set(vocab_test[\"vocab\"][0]))",
   "execution_count": null,
   "outputs": []
  },
  {
   "cell_type": "code",
   "metadata": {
    "execution": {
     "iopub.execute_input": "2021-05-18T15:46:15.236586Z",
     "iopub.status.busy": "2021-05-18T15:46:15.235782Z",
     "iopub.status.idle": "2021-05-18T15:46:15.239209Z",
     "shell.execute_reply": "2021-05-18T15:46:15.239603Z"
    },
    "id": "_0kRndSvqaKk",
    "outputId": "d1f660e9-5c50-41d0-a2d0-8447ed437c5e",
    "papermill": {
     "duration": 0.083858,
     "end_time": "2021-05-18T15:46:15.239726",
     "exception": false,
     "start_time": "2021-05-18T15:46:15.155868",
     "status": "completed"
    },
    "tags": [],
    "cell_id": "00036-5a086224-d8e7-49b4-b994-a2ab8186d367",
    "deepnote_cell_type": "code"
   },
   "source": "vocab_dict = {v: k for k, v in enumerate(vocab_list)}\nvocab_dict",
   "execution_count": null,
   "outputs": [
    {
     "data": {
      "text/plain": "{'’': 0,\n 'o': 1,\n 'f': 2,\n 'n': 3,\n 'b': 4,\n 'ç': 5,\n 'm': 6,\n 'é': 7,\n '(': 8,\n 'c': 9,\n 's': 10,\n 'w': 11,\n 'z': 12,\n 'h': 13,\n 'â': 14,\n 'œ': 15,\n 'q': 16,\n 'l': 17,\n 'u': 18,\n 'r': 19,\n 'i': 20,\n 'v': 21,\n 'î': 22,\n 't': 23,\n 'ë': 24,\n 'x': 25,\n 'a': 26,\n \"'\": 27,\n ')': 28,\n 'e': 29,\n 'ô': 30,\n 'è': 31,\n ' ': 32,\n 'g': 33,\n 'j': 34,\n 'y': 35,\n 'd': 36,\n 'p': 37,\n 'k': 38}"
     },
     "execution_count": 19,
     "metadata": {},
     "output_type": "execute_result"
    }
   ]
  },
  {
   "cell_type": "markdown",
   "source": "Cool, we see that all letters of the alphabet occur in the dataset (which is not really surprising) and we also extracted the special characters `\" \"` and `'`. Note that we did not exclude those special characters because: \n\n- The model has to learn to predict when a word is finished or else the model prediction would always be a sequence of chars which would make it impossible to separate words from each other.\n- From the transcriptions above it seems that words that include an apostrophe, so I decided to keep the apostrophe in the dataset. This might be a wrong assumption though.\n\nOne should always keep in mind that the data-preprocessing is a very important step before training your model. E.g., we don't want our model to differentiate between `a` and `A` just because we forgot to normalize the data. The difference between `a` and `A` does not depend on the \"sound\" of the letter at all, but more on grammatical rules - *e.g.* use a capitalized letter at the beginning of the sentence. So it is sensible to remove the difference between capitalized and non-capitalized letters so that the model has an easier time learning to transcribe speech. \n\nIt is always advantageous to get help from a native speaker of the language you would like to transcribe to verify whether the assumptions you made are sensible. ",
   "metadata": {
    "id": "JOSzbvs9SXT1",
    "papermill": {
     "duration": 0.075089,
     "end_time": "2021-05-18T15:46:15.389979",
     "exception": false,
     "start_time": "2021-05-18T15:46:15.314890",
     "status": "completed"
    },
    "tags": [],
    "cell_id": "00037-7d5e285e-c93f-4e9b-9587-c8cdaf470a2a",
    "deepnote_cell_type": "markdown"
   }
  },
  {
   "cell_type": "markdown",
   "source": "To make it clearer that `\" \"` has its own token class, we give it a more visible character `|`. In addition, we also add an \"unknown\" token so that the model can later deal with characters not encountered in Common Voice's training set. \n\nFinally, we also add a padding token that corresponds to CTC's \"*blank token*\". The \"blank token\" is a core component of the CTC algorithm. For more information, please take a look at the \"Alignment\" section [here](https://distill.pub/2017/ctc/).",
   "metadata": {
    "id": "b1fBRCn-TRaO",
    "papermill": {
     "duration": 0.075362,
     "end_time": "2021-05-18T15:46:15.541023",
     "exception": false,
     "start_time": "2021-05-18T15:46:15.465661",
     "status": "completed"
    },
    "tags": [],
    "cell_id": "00038-adcb6f7c-fa19-4f6b-9a5f-2d4729393fe3",
    "deepnote_cell_type": "markdown"
   }
  },
  {
   "cell_type": "code",
   "metadata": {
    "execution": {
     "iopub.execute_input": "2021-05-18T15:46:15.695263Z",
     "iopub.status.busy": "2021-05-18T15:46:15.694740Z",
     "iopub.status.idle": "2021-05-18T15:46:15.698587Z",
     "shell.execute_reply": "2021-05-18T15:46:15.698025Z"
    },
    "id": "npbIbBoLgaFX",
    "papermill": {
     "duration": 0.082401,
     "end_time": "2021-05-18T15:46:15.698707",
     "exception": false,
     "start_time": "2021-05-18T15:46:15.616306",
     "status": "completed"
    },
    "tags": [],
    "cell_id": "00039-58926862-c971-46bd-9394-51f05974d310",
    "deepnote_cell_type": "code"
   },
   "source": "vocab_dict[\"|\"] = vocab_dict[\" \"]\ndel vocab_dict[\" \"]",
   "execution_count": null,
   "outputs": []
  },
  {
   "cell_type": "code",
   "metadata": {
    "execution": {
     "iopub.execute_input": "2021-05-18T15:46:15.854784Z",
     "iopub.status.busy": "2021-05-18T15:46:15.854023Z",
     "iopub.status.idle": "2021-05-18T15:46:15.857661Z",
     "shell.execute_reply": "2021-05-18T15:46:15.857250Z"
    },
    "id": "znF0bNunsjbl",
    "outputId": "f50ae299-4e45-49f9-cce7-897e9a54dd8d",
    "papermill": {
     "duration": 0.083374,
     "end_time": "2021-05-18T15:46:15.857767",
     "exception": false,
     "start_time": "2021-05-18T15:46:15.774393",
     "status": "completed"
    },
    "tags": [],
    "cell_id": "00040-7753d1b6-6196-44bf-84ba-b3eb3b9f3331",
    "deepnote_cell_type": "code"
   },
   "source": "vocab_dict[\"[UNK]\"] = len(vocab_dict)\nvocab_dict[\"[PAD]\"] = len(vocab_dict)\nlen(vocab_dict)",
   "execution_count": null,
   "outputs": [
    {
     "data": {
      "text/plain": "41"
     },
     "execution_count": 21,
     "metadata": {},
     "output_type": "execute_result"
    }
   ]
  },
  {
   "cell_type": "markdown",
   "source": "Cool, now our vocabulary is complete and consists of 39 tokens, which means that the linear layer that we will add on top of the pretrained XLSR-Wav2Vec2 checkpoint will have an output dimension of 39.",
   "metadata": {
    "id": "SFPGfet8U5sL",
    "papermill": {
     "duration": 0.0765,
     "end_time": "2021-05-18T15:46:16.010351",
     "exception": false,
     "start_time": "2021-05-18T15:46:15.933851",
     "status": "completed"
    },
    "tags": [],
    "cell_id": "00041-8c125e98-4ba9-4b2e-9f4c-217bf74e97bf",
    "deepnote_cell_type": "markdown"
   }
  },
  {
   "cell_type": "markdown",
   "source": "Let's now save the vocabulary as a json file.",
   "metadata": {
    "id": "1CujRgBNVRaD",
    "papermill": {
     "duration": 0.076678,
     "end_time": "2021-05-18T15:46:16.162462",
     "exception": false,
     "start_time": "2021-05-18T15:46:16.085784",
     "status": "completed"
    },
    "tags": [],
    "cell_id": "00042-3af90f7a-0641-4796-a624-3e426dc45da4",
    "deepnote_cell_type": "markdown"
   }
  },
  {
   "cell_type": "code",
   "metadata": {
    "execution": {
     "iopub.execute_input": "2021-05-18T15:46:16.317767Z",
     "iopub.status.busy": "2021-05-18T15:46:16.317188Z",
     "iopub.status.idle": "2021-05-18T15:46:16.320248Z",
     "shell.execute_reply": "2021-05-18T15:46:16.319800Z"
    },
    "id": "ehyUoh9vk191",
    "papermill": {
     "duration": 0.082313,
     "end_time": "2021-05-18T15:46:16.320362",
     "exception": false,
     "start_time": "2021-05-18T15:46:16.238049",
     "status": "completed"
    },
    "tags": [],
    "cell_id": "00043-c385aa35-3289-4255-882b-39cd4aa7a180",
    "deepnote_cell_type": "code"
   },
   "source": "with open('vocab.json', 'w') as vocab_file:\n    json.dump(vocab_dict, vocab_file)",
   "execution_count": null,
   "outputs": []
  },
  {
   "cell_type": "markdown",
   "source": "In a final step, we use the json file to instantiate an object of the `Wav2Vec2CTCTokenizer` class.",
   "metadata": {
    "id": "SHJDaKlIVVim",
    "papermill": {
     "duration": 0.075455,
     "end_time": "2021-05-18T15:46:16.471514",
     "exception": false,
     "start_time": "2021-05-18T15:46:16.396059",
     "status": "completed"
    },
    "tags": [],
    "cell_id": "00044-3cfa6e0b-5b8f-4e01-8190-0617ab8e23c9",
    "deepnote_cell_type": "markdown"
   }
  },
  {
   "cell_type": "code",
   "metadata": {
    "execution": {
     "iopub.execute_input": "2021-05-18T15:46:16.626454Z",
     "iopub.status.busy": "2021-05-18T15:46:16.625835Z",
     "iopub.status.idle": "2021-05-18T15:46:16.752150Z",
     "shell.execute_reply": "2021-05-18T15:46:16.751717Z"
    },
    "id": "xriFGEWQkO4M",
    "papermill": {
     "duration": 0.204966,
     "end_time": "2021-05-18T15:46:16.752284",
     "exception": false,
     "start_time": "2021-05-18T15:46:16.547318",
     "status": "completed"
    },
    "tags": [],
    "cell_id": "00045-076cd53a-e8ef-44e2-9ebd-2ab180c1269d",
    "deepnote_cell_type": "code"
   },
   "source": "tokenizer = Wav2Vec2CTCTokenizer(\"./vocab.json\", unk_token=\"[UNK]\", pad_token=\"[PAD]\", word_delimiter_token=\"|\")",
   "execution_count": null,
   "outputs": []
  },
  {
   "cell_type": "markdown",
   "source": "Next, we will create the feature extractor.",
   "metadata": {
    "id": "KvL12DrNV4cx",
    "papermill": {
     "duration": 0.075916,
     "end_time": "2021-05-18T15:46:16.905354",
     "exception": false,
     "start_time": "2021-05-18T15:46:16.829438",
     "status": "completed"
    },
    "tags": [],
    "cell_id": "00046-c4dcf77c-f52a-4505-b53f-375c099195b5",
    "deepnote_cell_type": "markdown"
   }
  },
  {
   "cell_type": "markdown",
   "source": "### Create XLSR-Wav2Vec2 Feature Extractor",
   "metadata": {
    "id": "mYcIiR2FQ96i",
    "papermill": {
     "duration": 0.077013,
     "end_time": "2021-05-18T15:46:17.058187",
     "exception": false,
     "start_time": "2021-05-18T15:46:16.981174",
     "status": "completed"
    },
    "tags": [],
    "cell_id": "00047-e15c0e36-ee18-4d72-8a0f-9378180f9c7d",
    "deepnote_cell_type": "markdown"
   }
  },
  {
   "cell_type": "markdown",
   "source": "Speech is a continuous signal and to be treated by computers, it first has to be discretized, which is usually called **sampling**. The sampling rate hereby plays an important role in that it defines how many data points of the speech signal are measured per second. Therefore, sampling with a higher sampling rate results in a better approximation of the *real* speech signal but also necessitates more values per second.\n\nA pretrained checkpoint expects its input data to have been sampled more or less from the same distribution as the data it was trained on. The same speech signals sampled at two different rates have a very different distribution, *e.g.*, doubling the sampling rate results in data points being twice as long. Thus, \nbefore fine-tuning a pretrained checkpoint of an ASR model, it is crucial to verify that the sampling rate of the data that was used to pretrain the model matches the sampling rate of the dataset used to fine-tune the model.\n\nXLSR-Wav2Vec2 was pretrained on the audio data of [Babel](https://huggingface.co/datasets/librispeech_asr), \n[Multilingual LibriSpeech (MLS)](https://ai.facebook.com/blog/a-new-open-data-set-for-multilingual-speech-research/), and [Common Voice](https://huggingface.co/datasets/common_voice). Most of those datasets were sampled at 16kHz, so that WOLOF audio is sampled at 48kHz, has to be downsampled to 16kHz for training. Therefore, we will have to downsample our fine-tuning data to 16kHz in the following. I have already downsampled and converted my audio files in mp3-wav notebook.\n\n",
   "metadata": {
    "id": "Y6mDEyW719rx",
    "papermill": {
     "duration": 0.075811,
     "end_time": "2021-05-18T15:46:17.209940",
     "exception": false,
     "start_time": "2021-05-18T15:46:17.134129",
     "status": "completed"
    },
    "tags": [],
    "cell_id": "00048-9a88301b-a4c9-4957-912e-5850d999f717",
    "deepnote_cell_type": "markdown"
   }
  },
  {
   "cell_type": "markdown",
   "source": "A XLSR-Wav2Vec2 feature extractor object requires the following parameters to be instantiated:\n\n- `feature_size`: Speech models take a sequence of feature vectors as an input. While the length of this sequence obviously varies, the feature size should not. In the case of Wav2Vec2, the feature size is 1 because the model was trained on the raw speech signal ${}^2$.\n- `sampling_rate`: The sampling rate at which the model is trained on.\n- `padding_value`: For batched inference, shorter inputs need to be padded with a specific value\n- `do_normalize`: Whether the input should be *zero-mean-unit-variance* normalized or not. Usually, speech models perform better when normalizing the input\n- `return_attention_mask`: Whether the model should make use of an `attention_mask` for batched inference. In general, XLSR-Wav2Vec2 models should **always** make use of the `attention_mask`.",
   "metadata": {
    "id": "KuUbPW7oV-B5",
    "papermill": {
     "duration": 0.075577,
     "end_time": "2021-05-18T15:46:17.361424",
     "exception": false,
     "start_time": "2021-05-18T15:46:17.285847",
     "status": "completed"
    },
    "tags": [],
    "cell_id": "00049-84f1b576-6f5c-4301-a4ae-aaecc8fd1a58",
    "deepnote_cell_type": "markdown"
   }
  },
  {
   "cell_type": "code",
   "metadata": {
    "execution": {
     "iopub.execute_input": "2021-05-18T15:46:17.517278Z",
     "iopub.status.busy": "2021-05-18T15:46:17.516619Z",
     "iopub.status.idle": "2021-05-18T15:46:17.523250Z",
     "shell.execute_reply": "2021-05-18T15:46:17.522838Z"
    },
    "id": "kAR0-2KLkopp",
    "papermill": {
     "duration": 0.086056,
     "end_time": "2021-05-18T15:46:17.523365",
     "exception": false,
     "start_time": "2021-05-18T15:46:17.437309",
     "status": "completed"
    },
    "tags": [],
    "cell_id": "00050-181aa286-1d8c-4296-8612-3e1f430eb2ea",
    "deepnote_cell_type": "code"
   },
   "source": "feature_extractor = Wav2Vec2FeatureExtractor(feature_size=1, sampling_rate=16000, padding_value=0.0, do_normalize=True, return_attention_mask=True)",
   "execution_count": null,
   "outputs": []
  },
  {
   "cell_type": "markdown",
   "source": "Great, XLSR-Wav2Vec2's feature extraction pipeline is thereby fully defined!\n\nTo make the usage of XLSR-Wav2Vec2 as user-friendly as possible, the feature extractor and tokenizer are *wrapped* into a single `Wav2Vec2Processor` class so that one only needs a `model` and `processor` object.",
   "metadata": {
    "id": "qUETetgqYC3W",
    "papermill": {
     "duration": 0.075753,
     "end_time": "2021-05-18T15:46:17.675308",
     "exception": false,
     "start_time": "2021-05-18T15:46:17.599555",
     "status": "completed"
    },
    "tags": [],
    "cell_id": "00051-a96de3c9-bd88-4cdb-a9c8-4c260203575f",
    "deepnote_cell_type": "markdown"
   }
  },
  {
   "cell_type": "code",
   "metadata": {
    "execution": {
     "iopub.execute_input": "2021-05-18T15:46:17.833211Z",
     "iopub.status.busy": "2021-05-18T15:46:17.832434Z",
     "iopub.status.idle": "2021-05-18T15:46:17.836524Z",
     "shell.execute_reply": "2021-05-18T15:46:17.835998Z"
    },
    "id": "KYZtoW-tlZgl",
    "papermill": {
     "duration": 0.084463,
     "end_time": "2021-05-18T15:46:17.836630",
     "exception": false,
     "start_time": "2021-05-18T15:46:17.752167",
     "status": "completed"
    },
    "tags": [],
    "cell_id": "00052-49908378-fe46-488c-bf6c-e3ea84edc438",
    "deepnote_cell_type": "code"
   },
   "source": "processor = Wav2Vec2Processor(feature_extractor=feature_extractor, tokenizer=tokenizer)",
   "execution_count": null,
   "outputs": []
  },
  {
   "cell_type": "code",
   "metadata": {
    "execution": {
     "iopub.execute_input": "2021-05-18T15:46:18.340024Z",
     "iopub.status.busy": "2021-05-18T15:46:18.339277Z",
     "iopub.status.idle": "2021-05-18T15:46:18.343364Z",
     "shell.execute_reply": "2021-05-18T15:46:18.342922Z"
    },
    "id": "Par9rpypPsml",
    "papermill": {
     "duration": 0.0831,
     "end_time": "2021-05-18T15:46:18.343471",
     "exception": false,
     "start_time": "2021-05-18T15:46:18.260371",
     "status": "completed"
    },
    "tags": [],
    "cell_id": "00053-cceb7237-fdb7-46aa-a84a-8958f8c9f1fe",
    "deepnote_cell_type": "code"
   },
   "source": "processor.save_pretrained(\"./ASR WOLOF Data/wav2vec2-large-xlsr-WOLOF\")",
   "execution_count": null,
   "outputs": []
  },
  {
   "cell_type": "markdown",
   "source": "Next, we can prepare the dataset.",
   "metadata": {
    "id": "DrKnYuvDIoOO",
    "papermill": {
     "duration": 0.075778,
     "end_time": "2021-05-18T15:46:18.495639",
     "exception": false,
     "start_time": "2021-05-18T15:46:18.419861",
     "status": "completed"
    },
    "tags": [],
    "cell_id": "00054-08e30226-b701-4775-94b7-1a02a75f9d20",
    "deepnote_cell_type": "markdown"
   }
  },
  {
   "cell_type": "markdown",
   "source": "### Preprocess Data\n\nSo far, we have not looked at the actual values of the speech signal but just kept the path to its file in the dataset. `XLSR-Wav2Vec2` expects the audio file in the format of a 1-dimensional array, so in the first step, let's load all audio files into the dataset object.\n\nLet's first check the serialization format of the downloaded audio files by looking at the first training sample.",
   "metadata": {
    "id": "YFmShnl7RE35",
    "papermill": {
     "duration": 0.075909,
     "end_time": "2021-05-18T15:46:18.647927",
     "exception": false,
     "start_time": "2021-05-18T15:46:18.572018",
     "status": "completed"
    },
    "tags": [],
    "cell_id": "00055-7b24e69e-2d99-4686-8756-e4a353e0d7ff",
    "deepnote_cell_type": "markdown"
   }
  },
  {
   "cell_type": "code",
   "metadata": {
    "execution": {
     "iopub.execute_input": "2021-05-18T15:46:18.814981Z",
     "iopub.status.busy": "2021-05-18T15:46:18.814174Z",
     "iopub.status.idle": "2021-05-18T15:46:18.818279Z",
     "shell.execute_reply": "2021-05-18T15:46:18.817836Z"
    },
    "id": "TTCS7W6XJ9BG",
    "outputId": "dfde887b-504f-4949-8edf-481f7e29f0d2",
    "papermill": {
     "duration": 0.086299,
     "end_time": "2021-05-18T15:46:18.818386",
     "exception": false,
     "start_time": "2021-05-18T15:46:18.732087",
     "status": "completed"
    },
    "tags": [],
    "cell_id": "00056-9691fe27-094c-40f4-826c-9b247beb10d2",
    "deepnote_cell_type": "code"
   },
   "source": "common_voice_train_1[0]",
   "execution_count": null,
   "outputs": [
    {
     "data": {
      "text/plain": "{'__index_level_0__': 1228,\n 'path': '../input/wolof-asr/Noise Removed/tmp/WOLOF_ASR_dataset/noise_remove/2f00b43232666642a57e969e0180a0c50d111cd409552272ae871606838d6a222ed5ecafccd7ee0436651eece29b1365043280681f2391e4f44ae2e36921d4a7.wav',\n 'sentence': 'nan laay def ngir dem tally bou bess ',\n 'votes': 2}"
     },
     "execution_count": 28,
     "metadata": {},
     "output_type": "execute_result"
    }
   ]
  },
  {
   "cell_type": "code",
   "metadata": {
    "execution": {
     "iopub.execute_input": "2021-05-18T15:46:19.132890Z",
     "iopub.status.busy": "2021-05-18T15:46:19.132381Z",
     "iopub.status.idle": "2021-05-18T15:46:19.239816Z",
     "shell.execute_reply": "2021-05-18T15:46:19.240366Z"
    },
    "id": "al9Luo4LPpwJ",
    "papermill": {
     "duration": 0.19098,
     "end_time": "2021-05-18T15:46:19.240550",
     "exception": false,
     "start_time": "2021-05-18T15:46:19.049570",
     "status": "completed"
    },
    "tags": [],
    "cell_id": "00057-0c123f9b-e97e-460a-901d-2eaa7645510a",
    "deepnote_cell_type": "code"
   },
   "source": "def speech_file_to_array_fn(batch):\n    speech_array, sampling_rate = sf.read(batch[\"path\"])\n    batch[\"speech\"] = speech_array\n    batch[\"sampling_rate\"] = sampling_rate\n    batch[\"target_text\"] = batch[\"sentence\"]\n    return batch\n    \ndef speech_file_to_array_fn_test(batch):\n    speech_array, sampling_rate = sf.read(batch[\"path\"])\n    batch[\"speech\"] = speech_array\n    batch[\"sampling_rate\"] = sampling_rate\n    return batch",
   "execution_count": null,
   "outputs": [
    {
     "name": "stderr",
     "output_type": "stream",
     "text": "/opt/conda/lib/python3.7/site-packages/torchaudio/backend/utils.py:54: UserWarning: \"sox\" backend is being deprecated. The default backend will be changed to \"sox_io\" backend in 0.8.0 and \"sox\" backend will be removed in 0.9.0. Please migrate to \"sox_io\" backend. Please refer to https://github.com/pytorch/audio/issues/903 for the detail.\n  '\"sox\" backend is being deprecated. '\n"
    }
   ]
  },
  {
   "cell_type": "code",
   "metadata": {
    "execution": {
     "iopub.execute_input": "2021-05-18T15:46:19.404357Z",
     "iopub.status.busy": "2021-05-18T15:46:19.403533Z",
     "iopub.status.idle": "2021-05-18T15:46:19.406827Z",
     "shell.execute_reply": "2021-05-18T15:46:19.407277Z"
    },
    "id": "CFXNlP6HO3Xz",
    "outputId": "097ee210-83c6-4148-a696-217c4987a3c7",
    "papermill": {
     "duration": 0.088585,
     "end_time": "2021-05-18T15:46:19.407396",
     "exception": false,
     "start_time": "2021-05-18T15:46:19.318811",
     "status": "completed"
    },
    "tags": [],
    "cell_id": "00058-0b854ffe-1dc5-4d7c-9427-0711b64e2a66",
    "deepnote_cell_type": "code"
   },
   "source": "common_voice_test.column_names",
   "execution_count": null,
   "outputs": [
    {
     "data": {
      "text/plain": "['__index_level_0__', 'path', 'sentence', 'votes']"
     },
     "execution_count": 30,
     "metadata": {},
     "output_type": "execute_result"
    }
   ]
  },
  {
   "cell_type": "code",
   "metadata": {
    "execution": {
     "iopub.execute_input": "2021-05-18T15:46:19.566935Z",
     "iopub.status.busy": "2021-05-18T15:46:19.566445Z",
     "iopub.status.idle": "2021-05-18T15:46:53.721680Z",
     "shell.execute_reply": "2021-05-18T15:46:53.720196Z"
    },
    "id": "afeicUeWlrRL",
    "outputId": "56019fbe-17da-4a0b-d90d-3ac5a07fa14b",
    "papermill": {
     "duration": 34.23692,
     "end_time": "2021-05-18T15:46:53.721817",
     "exception": false,
     "start_time": "2021-05-18T15:46:19.484897",
     "status": "completed"
    },
    "tags": [],
    "cell_id": "00059-94ed22f1-7ddd-40df-ab7f-7a0e309cbb4f",
    "deepnote_cell_type": "code"
   },
   "source": "common_voice_train_1 = common_voice_train_1.map(speech_file_to_array_fn, remove_columns=common_voice_train_1.column_names,num_proc=4)\ncommon_voice_train_2 = common_voice_train_2.map(speech_file_to_array_fn, remove_columns=common_voice_train_2.column_names,num_proc=4)\n\ncommon_voice_test = common_voice_test.map(speech_file_to_array_fn, remove_columns=common_voice_test.column_names,num_proc=4)",
   "execution_count": null,
   "outputs": [
    {
     "name": "stdout",
     "output_type": "stream",
     "text": "\n\n\n\n\n\n\n\n\n\n\n\n"
    }
   ]
  },
  {
   "cell_type": "markdown",
   "source": "This seemed to have worked! Let's listen to a couple of audio files to better understand the dataset and verify that the audio was correctly loaded. \n\n**Note**: *You can click the following cell a couple of times to listen to different speech samples.*",
   "metadata": {
    "id": "SOckzFd4Mbzq",
    "papermill": {
     "duration": 0.083127,
     "end_time": "2021-05-18T15:46:54.615807",
     "exception": false,
     "start_time": "2021-05-18T15:46:54.532680",
     "status": "completed"
    },
    "tags": [],
    "cell_id": "00060-61ed07ce-40d7-41ef-a828-acbdb3838438",
    "deepnote_cell_type": "markdown"
   }
  },
  {
   "cell_type": "code",
   "metadata": {
    "execution": {
     "iopub.execute_input": "2021-05-18T15:46:54.820858Z",
     "iopub.status.busy": "2021-05-18T15:46:54.820147Z",
     "iopub.status.idle": "2021-05-18T15:46:54.837526Z",
     "shell.execute_reply": "2021-05-18T15:46:54.837088Z"
    },
    "id": "dueM6U7Ev0OA",
    "outputId": "251f2ef4-aa09-4250-dc64-6ce7b698b092",
    "papermill": {
     "duration": 0.140223,
     "end_time": "2021-05-18T15:46:54.837639",
     "exception": false,
     "start_time": "2021-05-18T15:46:54.697416",
     "status": "completed"
    },
    "tags": [],
    "cell_id": "00061-6db03a92-51e3-4356-a371-b8e06950b528",
    "deepnote_cell_type": "code"
   },
   "source": "import IPython.display as ipd\nimport numpy as np\nimport random\n\nrand_int = random.randint(0, len(common_voice_train_1)-1)\n\nipd.Audio(data=np.asarray(common_voice_train_1[rand_int][\"speech\"]), autoplay=True, rate=16000)",
   "execution_count": null,
   "outputs": [
    {
     "data": {
      "text/html": "\n                <audio  controls=\"controls\" autoplay=\"autoplay\">\n                    <source src=\"data:audio/wav;base64,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\" type=\"audio/wav\" />\n                    Your browser does not support the audio element.\n                </audio>\n              ",
      "text/plain": "<IPython.lib.display.Audio object>"
     },
     "execution_count": 35,
     "metadata": {},
     "output_type": "execute_result"
    }
   ]
  },
  {
   "cell_type": "markdown",
   "source": "It can be heard, that the speakers change along with their speaking rate, accent, and background environment, etc. Overall, the recordings sound acceptably clear though, which is to be expected from a crowd-sourced read speech corpus.\n\nLet's do a final check that the data is correctly prepared, by printing the shape of the speech input, its transcription, and the corresponding sampling rate.\n\n**Note**: *You can click the following cell a couple of times to verify multiple samples.*",
   "metadata": {
    "id": "1MaL9J2dNVtG",
    "papermill": {
     "duration": 0.084044,
     "end_time": "2021-05-18T15:46:55.007072",
     "exception": false,
     "start_time": "2021-05-18T15:46:54.923028",
     "status": "completed"
    },
    "tags": [],
    "cell_id": "00062-3818df1a-c003-464d-b0c9-fa7c1beded39",
    "deepnote_cell_type": "markdown"
   }
  },
  {
   "cell_type": "code",
   "metadata": {
    "execution": {
     "iopub.execute_input": "2021-05-18T15:46:55.236978Z",
     "iopub.status.busy": "2021-05-18T15:46:55.236172Z",
     "iopub.status.idle": "2021-05-18T15:46:55.240607Z",
     "shell.execute_reply": "2021-05-18T15:46:55.241140Z"
    },
    "id": "1Po2g7YPuRTx",
    "outputId": "fa32f443-ceb4-4330-bf2b-6be5f0a8217b",
    "papermill": {
     "duration": 0.149591,
     "end_time": "2021-05-18T15:46:55.241325",
     "exception": false,
     "start_time": "2021-05-18T15:46:55.091734",
     "status": "completed"
    },
    "tags": [],
    "cell_id": "00063-75e39575-c4fc-4790-8cf5-a4db7ff1707f",
    "deepnote_cell_type": "code"
   },
   "source": "rand_int = random.randint(0, len(common_voice_train_1)-1)\n\nprint(\"Target text:\", common_voice_train_1[rand_int][\"target_text\"])\nprint(\"Input array shape:\", np.asarray(common_voice_train_1[rand_int][\"speech\"]).shape)\nprint(\"Sampling rate:\", common_voice_train_1[rand_int][\"sampling_rate\"])",
   "execution_count": null,
   "outputs": [
    {
     "name": "stdout",
     "output_type": "stream",
     "text": "Target text: lymodac \nInput array shape: (35254,)\nSampling rate: 16000\n"
    }
   ]
  },
  {
   "cell_type": "markdown",
   "source": "Good! Everything looks fine - the data is a 1-dimensional array, the sampling rate always corresponds to 16kHz, and the target text is normalized.",
   "metadata": {
    "id": "M9teZcSwOBJ4",
    "papermill": {
     "duration": 0.084013,
     "end_time": "2021-05-18T15:46:55.410340",
     "exception": false,
     "start_time": "2021-05-18T15:46:55.326327",
     "status": "completed"
    },
    "tags": [],
    "cell_id": "00064-51998d25-ed0f-4cad-9a09-efb9fe818c47",
    "deepnote_cell_type": "markdown"
   }
  },
  {
   "cell_type": "markdown",
   "source": "Finally, we can process the dataset to the format expected by the model for training. We will again make use of the `map(...)` function.\n\nFirst, we check that the data samples have the same sampling rate of 16kHz.\nSecond, we extract the `input_values` from the loaded audio file. In our case, this includes only normalization, but for other speech models, this step could correspond to extracting, *e.g.* [Log-Mel features](https://en.wikipedia.org/wiki/Mel-frequency_cepstrum). \nThird, we encode the transcriptions to label ids.\n\n**Note**: This mapping function is a good example of how the `Wav2Vec2Processor` class should be used. In \"normal\" context, calling `processor(...)` is redirected to `Wav2Vec2FeatureExtractor`'s call method. When wrapping the processor into the `as_target_processor` context, however, the same method is redirected to `Wav2Vec2CTCTokenizer`'s call method.\nFor more information please check the [docs](https://huggingface.co/transformers/master/model_doc/wav2vec2.html#transformers.Wav2Vec2Processor.__call__).",
   "metadata": {
    "id": "k3Pbn5WvOYZF",
    "papermill": {
     "duration": 0.084042,
     "end_time": "2021-05-18T15:46:55.579487",
     "exception": false,
     "start_time": "2021-05-18T15:46:55.495445",
     "status": "completed"
    },
    "tags": [],
    "cell_id": "00065-55527058-3e3b-4e1a-b708-45c9b173401e",
    "deepnote_cell_type": "markdown"
   }
  },
  {
   "cell_type": "code",
   "metadata": {
    "execution": {
     "iopub.execute_input": "2021-05-18T15:46:55.931376Z",
     "iopub.status.busy": "2021-05-18T15:46:55.930670Z",
     "iopub.status.idle": "2021-05-18T15:46:55.933428Z",
     "shell.execute_reply": "2021-05-18T15:46:55.933021Z"
    },
    "id": "eJY7I0XAwe9p",
    "papermill": {
     "duration": 0.09226,
     "end_time": "2021-05-18T15:46:55.933541",
     "exception": false,
     "start_time": "2021-05-18T15:46:55.841281",
     "status": "completed"
    },
    "tags": [],
    "cell_id": "00066-fac15fcb-ce2d-4034-b36b-0990ce32be78",
    "deepnote_cell_type": "code"
   },
   "source": "def prepare_dataset(batch):\n    # check that all files have the correct sampling rate\n    assert (\n        len(set(batch[\"sampling_rate\"])) == 1\n    ), f\"Make sure all inputs have the same sampling rate of {processor.feature_extractor.sampling_rate}.\"\n\n    batch[\"input_values\"] = processor(batch[\"speech\"], sampling_rate=batch[\"sampling_rate\"][0]).input_values\n    \n    with processor.as_target_processor():\n        batch[\"labels\"] = processor(batch[\"target_text\"]).input_ids\n    return batch",
   "execution_count": null,
   "outputs": []
  },
  {
   "cell_type": "markdown",
   "source": "for test fucntion we have removed `processor()` part as we dont have transcription.",
   "metadata": {
    "tags": [],
    "cell_id": "00067-a73fb3e1-77c2-4f1f-8b8d-9a08cf3d5cf5",
    "deepnote_cell_type": "markdown"
   }
  },
  {
   "cell_type": "code",
   "metadata": {
    "execution": {
     "iopub.execute_input": "2021-05-18T15:46:56.107028Z",
     "iopub.status.busy": "2021-05-18T15:46:56.106386Z",
     "iopub.status.idle": "2021-05-18T15:46:56.109303Z",
     "shell.execute_reply": "2021-05-18T15:46:56.108900Z"
    },
    "id": "2Os9LF24O3X3",
    "papermill": {
     "duration": 0.09167,
     "end_time": "2021-05-18T15:46:56.109408",
     "exception": false,
     "start_time": "2021-05-18T15:46:56.017738",
     "status": "completed"
    },
    "tags": [],
    "cell_id": "00068-f2a04591-ad2f-4bd7-b928-7bcd4c7fd400",
    "deepnote_cell_type": "code"
   },
   "source": "def prepare_dataset_test(batch):\n    # check that all files have the correct sampling rate\n    assert (\n        len(set(batch[\"sampling_rate\"])) == 1\n    ), f\"Make sure all inputs have the same sampling rate of {processor.feature_extractor.sampling_rate}.\"\n\n    batch[\"input_values\"] = processor(batch[\"speech\"], padding=True,sampling_rate=batch[\"sampling_rate\"][0]).input_values\n    \n    return batch",
   "execution_count": null,
   "outputs": []
  },
  {
   "cell_type": "code",
   "metadata": {
    "execution": {
     "iopub.execute_input": "2021-05-18T15:46:56.282779Z",
     "iopub.status.busy": "2021-05-18T15:46:56.282096Z",
     "iopub.status.idle": "2021-05-18T15:46:56.285603Z",
     "shell.execute_reply": "2021-05-18T15:46:56.285191Z"
    },
    "id": "uwmcra5LO3X3",
    "outputId": "250d73b0-25d4-48fa-f373-8fae8eea3f54",
    "papermill": {
     "duration": 0.091743,
     "end_time": "2021-05-18T15:46:56.285706",
     "exception": false,
     "start_time": "2021-05-18T15:46:56.193963",
     "status": "completed"
    },
    "tags": [],
    "cell_id": "00069-d9929f45-b8ab-4f32-8e66-3a2888d628d8",
    "deepnote_cell_type": "code"
   },
   "source": "common_voice_train_1.shape,common_voice_test.shape",
   "execution_count": null,
   "outputs": [
    {
     "data": {
      "text/plain": "((3649, 3), (34, 3))"
     },
     "execution_count": 40,
     "metadata": {},
     "output_type": "execute_result"
    }
   ]
  },
  {
   "cell_type": "code",
   "metadata": {
    "execution": {
     "iopub.execute_input": "2021-05-18T15:46:56.460718Z",
     "iopub.status.busy": "2021-05-18T15:46:56.460041Z",
     "iopub.status.idle": "2021-05-18T15:49:38.910884Z",
     "shell.execute_reply": "2021-05-18T15:49:38.909781Z"
    },
    "id": "dsajvfJ3O3X3",
    "outputId": "9c23cd89-7b8a-4f9a-f4ee-2abd12b60dc2",
    "papermill": {
     "duration": 162.540303,
     "end_time": "2021-05-18T15:49:38.911052",
     "exception": false,
     "start_time": "2021-05-18T15:46:56.370749",
     "status": "completed"
    },
    "tags": [],
    "cell_id": "00070-f23371bd-3016-42cc-8634-21704f06931e",
    "deepnote_cell_type": "code"
   },
   "source": "common_voice_train_1 = common_voice_train_1.map(prepare_dataset, remove_columns=common_voice_train_1.column_names, batch_size=8, num_proc=4, batched=True)\ncommon_voice_train_2 = common_voice_train_2.map(prepare_dataset, remove_columns=common_voice_train_2.column_names, batch_size=8, num_proc=4, batched=True)",
   "execution_count": null,
   "outputs": [
    {
     "name": "stderr",
     "output_type": "stream",
     "text": "/opt/conda/lib/python3.7/site-packages/numpy/core/_asarray.py:83: VisibleDeprecationWarning: Creating an ndarray from ragged nested sequences (which is a list-or-tuple of lists-or-tuples-or ndarrays with different lengths or shapes) is deprecated. If you meant to do this, you must specify 'dtype=object' when creating the ndarray\n  return array(a, dtype, copy=False, order=order)\n/opt/conda/lib/python3.7/site-packages/numpy/core/_asarray.py:83: VisibleDeprecationWarning: Creating an ndarray from ragged nested sequences (which is a list-or-tuple of lists-or-tuples-or ndarrays with different lengths or shapes) is deprecated. If you meant to do this, you must specify 'dtype=object' when creating the ndarray\n  return array(a, dtype, copy=False, order=order)\n/opt/conda/lib/python3.7/site-packages/numpy/core/_asarray.py:83: VisibleDeprecationWarning: Creating an ndarray from ragged nested sequences (which is a list-or-tuple of lists-or-tuples-or ndarrays with different lengths or shapes) is deprecated. If you meant to do this, you must specify 'dtype=object' when creating the ndarray\n  return array(a, dtype, copy=False, order=order)\n/opt/conda/lib/python3.7/site-packages/numpy/core/_asarray.py:83: VisibleDeprecationWarning: Creating an ndarray from ragged nested sequences (which is a list-or-tuple of lists-or-tuples-or ndarrays with different lengths or shapes) is deprecated. If you meant to do this, you must specify 'dtype=object' when creating the ndarray\n  return array(a, dtype, copy=False, order=order)\n"
    },
    {
     "name": "stdout",
     "output_type": "stream",
     "text": "\n\n\n\n"
    },
    {
     "name": "stderr",
     "output_type": "stream",
     "text": "/opt/conda/lib/python3.7/site-packages/numpy/core/_asarray.py:83: VisibleDeprecationWarning: Creating an ndarray from ragged nested sequences (which is a list-or-tuple of lists-or-tuples-or ndarrays with different lengths or shapes) is deprecated. If you meant to do this, you must specify 'dtype=object' when creating the ndarray\n  return array(a, dtype, copy=False, order=order)\n/opt/conda/lib/python3.7/site-packages/numpy/core/_asarray.py:83: VisibleDeprecationWarning: Creating an ndarray from ragged nested sequences (which is a list-or-tuple of lists-or-tuples-or ndarrays with different lengths or shapes) is deprecated. If you meant to do this, you must specify 'dtype=object' when creating the ndarray\n  return array(a, dtype, copy=False, order=order)\n/opt/conda/lib/python3.7/site-packages/numpy/core/_asarray.py:83: VisibleDeprecationWarning: Creating an ndarray from ragged nested sequences (which is a list-or-tuple of lists-or-tuples-or ndarrays with different lengths or shapes) is deprecated. If you meant to do this, you must specify 'dtype=object' when creating the ndarray\n  return array(a, dtype, copy=False, order=order)\n/opt/conda/lib/python3.7/site-packages/numpy/core/_asarray.py:83: VisibleDeprecationWarning: Creating an ndarray from ragged nested sequences (which is a list-or-tuple of lists-or-tuples-or ndarrays with different lengths or shapes) is deprecated. If you meant to do this, you must specify 'dtype=object' when creating the ndarray\n  return array(a, dtype, copy=False, order=order)\n"
    },
    {
     "name": "stdout",
     "output_type": "stream",
     "text": "\n\n\n\n"
    }
   ]
  },
  {
   "cell_type": "code",
   "metadata": {
    "execution": {
     "iopub.execute_input": "2021-05-18T15:49:39.520072Z",
     "iopub.status.busy": "2021-05-18T15:49:39.519286Z",
     "iopub.status.idle": "2021-05-18T15:49:39.532895Z",
     "shell.execute_reply": "2021-05-18T15:49:39.533294Z"
    },
    "id": "cZj5A_ImO3X4",
    "papermill": {
     "duration": 0.111603,
     "end_time": "2021-05-18T15:49:39.533425",
     "exception": false,
     "start_time": "2021-05-18T15:49:39.421822",
     "status": "completed"
    },
    "tags": [],
    "cell_id": "00071-49213897-7f08-4456-890b-fe91f2d90058",
    "deepnote_cell_type": "code"
   },
   "source": "common_voice_train = concatenate_datasets([common_voice_train_1, common_voice_train_2])",
   "execution_count": null,
   "outputs": []
  },
  {
   "cell_type": "markdown",
   "source": "## Training\n\nThe data is processed so that we are ready to start setting up the training pipeline. We will make use of 🤗's [Trainer](https://huggingface.co/transformers/master/main_classes/trainer.html?highlight=trainer) for which we essentially need to do the following:\n\n- Define a data collator. In contrast to most NLP models, XLSR-Wav2Vec2 has a much larger input length than output length. *E.g.*, a sample of input length 50000 has an output length of no more than 100. Given the large input sizes, it is much more efficient to pad the training batches dynamically meaning that all training samples should only be padded to the longest sample in their batch and not the overall longest sample. Therefore, fine-tuning XLSR-Wav2Vec2 requires a special padding data collator, which we will define below\n\n- Evaluation metric. During training, the model should be evaluated on the word error rate. We should define a `compute_metrics` function accordingly\n\n- Load a pretrained checkpoint. We need to load a pretrained checkpoint and configure it correctly for training.\n\n- Define the training configuration.\n\nAfter having fine-tuned the model, we will correctly evaluate it on the test data and verify that it has indeed learned to correctly transcribe speech.",
   "metadata": {
    "id": "gYlQkKVoRUos",
    "papermill": {
     "duration": 0.14236,
     "end_time": "2021-05-18T15:49:42.255628",
     "exception": false,
     "start_time": "2021-05-18T15:49:42.113268",
     "status": "completed"
    },
    "tags": [],
    "cell_id": "00072-1c683ab2-959c-497a-8436-23ddec2835f8",
    "deepnote_cell_type": "markdown"
   }
  },
  {
   "cell_type": "markdown",
   "source": "### Set-up Trainer\n\nLet's start by defining the data collator. The code for the data collator was copied from [this example](https://github.com/huggingface/transformers/blob/9a06b6b11bdfc42eea08fa91d0c737d1863c99e3/examples/research_projects/wav2vec2/run_asr.py#L81).\n\nWithout going into too many details, in contrast to the common data collators, this data collator treats the `input_values` and `labels` differently and thus applies to separate padding functions on them (again making use of XLSR-Wav2Vec2's context manager). This is necessary because in speech input and output are of different modalities meaning that they should not be treated by the same padding function.\nAnalogous to the common data collators, the padding tokens in the labels with `-100` so that those tokens are **not** taken into account when computing the loss.",
   "metadata": {
    "id": "Slk403unUS91",
    "papermill": {
     "duration": 0.092277,
     "end_time": "2021-05-18T15:49:42.440121",
     "exception": false,
     "start_time": "2021-05-18T15:49:42.347844",
     "status": "completed"
    },
    "tags": [],
    "cell_id": "00073-0c0ebc99-7b42-466f-8821-42d424a584c9",
    "deepnote_cell_type": "markdown"
   }
  },
  {
   "cell_type": "code",
   "metadata": {
    "execution": {
     "iopub.execute_input": "2021-05-18T15:49:42.640597Z",
     "iopub.status.busy": "2021-05-18T15:49:42.638821Z",
     "iopub.status.idle": "2021-05-18T15:49:42.641170Z",
     "shell.execute_reply": "2021-05-18T15:49:42.641574Z"
    },
    "id": "tborvC9hx88e",
    "papermill": {
     "duration": 0.109635,
     "end_time": "2021-05-18T15:49:42.641699",
     "exception": false,
     "start_time": "2021-05-18T15:49:42.532064",
     "status": "completed"
    },
    "tags": [],
    "cell_id": "00074-b33190a3-2a45-4d51-8cad-ae9c8840babb",
    "deepnote_cell_type": "code"
   },
   "source": "@dataclass\nclass DataCollatorCTCWithPadding:\n    \"\"\"\n    Data collator that will dynamically pad the inputs received.\n    Args:\n        processor (:class:`~transformers.Wav2Vec2Processor`)\n            The processor used for proccessing the data.\n        padding (:obj:`bool`, :obj:`str` or :class:`~transformers.tokenization_utils_base.PaddingStrategy`, `optional`, defaults to :obj:`True`):\n            Select a strategy to pad the returned sequences (according to the model's padding side and padding index)\n            among:\n            * :obj:`True` or :obj:`'longest'`: Pad to the longest sequence in the batch (or no padding if only a single\n              sequence if provided).\n            * :obj:`'max_length'`: Pad to a maximum length specified with the argument :obj:`max_length` or to the\n              maximum acceptable input length for the model if that argument is not provided.\n            * :obj:`False` or :obj:`'do_not_pad'` (default): No padding (i.e., can output a batch with sequences of\n              different lengths).\n        max_length (:obj:`int`, `optional`):\n            Maximum length of the ``input_values`` of the returned list and optionally padding length (see above).\n        max_length_labels (:obj:`int`, `optional`):\n            Maximum length of the ``labels`` returned list and optionally padding length (see above).\n        pad_to_multiple_of (:obj:`int`, `optional`):\n            If set will pad the sequence to a multiple of the provided value.\n            This is especially useful to enable the use of Tensor Cores on NVIDIA hardware with compute capability >=\n            7.5 (Volta).\n    \"\"\"\n\n    processor: Wav2Vec2Processor\n    padding: Union[bool, str] = True\n    max_length: Optional[int] = None\n    max_length_labels: Optional[int] = None\n    pad_to_multiple_of: Optional[int] = None\n    pad_to_multiple_of_labels: Optional[int] = None\n\n    def __call__(self, features: List[Dict[str, Union[List[int], torch.Tensor]]]) -> Dict[str, torch.Tensor]:\n        # split inputs and labels since they have to be of different lenghts and need\n        # different padding methods\n        input_features = [{\"input_values\": feature[\"input_values\"]} for feature in features]\n        label_features = [{\"input_ids\": feature[\"labels\"]} for feature in features]\n\n        batch = self.processor.pad(\n            input_features,\n            padding=self.padding,\n            max_length=self.max_length,\n            pad_to_multiple_of=self.pad_to_multiple_of,\n            return_tensors=\"pt\",\n        )\n        with self.processor.as_target_processor():\n            labels_batch = self.processor.pad(\n                label_features,\n                padding=self.padding,\n                max_length=self.max_length_labels,\n                pad_to_multiple_of=self.pad_to_multiple_of_labels,\n                return_tensors=\"pt\",\n            )\n\n        # replace padding with -100 to ignore loss correctly\n        labels = labels_batch[\"input_ids\"].masked_fill(labels_batch.attention_mask.ne(1), -100)\n\n        batch[\"labels\"] = labels\n\n        return batch",
   "execution_count": null,
   "outputs": []
  },
  {
   "cell_type": "code",
   "metadata": {
    "execution": {
     "iopub.execute_input": "2021-05-18T15:49:42.830865Z",
     "iopub.status.busy": "2021-05-18T15:49:42.830162Z",
     "iopub.status.idle": "2021-05-18T15:49:42.832637Z",
     "shell.execute_reply": "2021-05-18T15:49:42.833116Z"
    },
    "id": "lbQf5GuZyQ4_",
    "papermill": {
     "duration": 0.099387,
     "end_time": "2021-05-18T15:49:42.833251",
     "exception": false,
     "start_time": "2021-05-18T15:49:42.733864",
     "status": "completed"
    },
    "tags": [],
    "cell_id": "00075-72f315ad-81fd-4773-8c86-6dacce74a205",
    "deepnote_cell_type": "code"
   },
   "source": "data_collator = DataCollatorCTCWithPadding(processor=processor, padding=True)",
   "execution_count": null,
   "outputs": []
  },
  {
   "cell_type": "markdown",
   "source": "Next, the evaluation metric is defined. As mentioned earlier, the \npredominant metric in ASR is the word error rate (WER), hence we will use it in this notebook as well.",
   "metadata": {
    "id": "xO-Zdj-5cxXp",
    "papermill": {
     "duration": 0.092064,
     "end_time": "2021-05-18T15:49:43.017377",
     "exception": false,
     "start_time": "2021-05-18T15:49:42.925313",
     "status": "completed"
    },
    "tags": [],
    "cell_id": "00076-87ffda9d-3533-49a1-8342-5a0a0969934c",
    "deepnote_cell_type": "markdown"
   }
  },
  {
   "cell_type": "code",
   "metadata": {
    "execution": {
     "iopub.execute_input": "2021-05-18T15:49:49.334621Z",
     "iopub.status.busy": "2021-05-18T15:49:49.331772Z",
     "iopub.status.idle": "2021-05-18T15:49:50.341940Z",
     "shell.execute_reply": "2021-05-18T15:49:50.341074Z"
    },
    "id": "9Xsux2gmyXso",
    "outputId": "32e633d9-f304-43a5-ddf8-6b601a5b5eaf",
    "papermill": {
     "duration": 1.107799,
     "end_time": "2021-05-18T15:49:50.342062",
     "exception": false,
     "start_time": "2021-05-18T15:49:49.234263",
     "status": "completed"
    },
    "tags": [],
    "cell_id": "00077-ab963c59-11ed-49a5-8599-fd2a8a273be5",
    "deepnote_cell_type": "code"
   },
   "source": "wer_metric = load_metric(\"wer\")",
   "execution_count": null,
   "outputs": [
    {
     "data": {
      "application/vnd.jupyter.widget-view+json": {
       "model_id": "6c835a6995714f949735ce958348d2dd",
       "version_major": 2,
       "version_minor": 0
      },
      "text/plain": "HBox(children=(FloatProgress(value=0.0, description='Downloading', max=1947.0, style=ProgressStyle(description…"
     },
     "metadata": {},
     "output_type": "display_data"
    },
    {
     "name": "stdout",
     "output_type": "stream",
     "text": "\n"
    }
   ]
  },
  {
   "cell_type": "markdown",
   "source": "The model will return a sequence of logit vectors:\n$\\mathbf{y}_1, \\ldots, \\mathbf{y}_m$ with $\\mathbf{y}_1 = f_{\\theta}(x_1, \\ldots, x_n)[0]$ and $n >> m$.\n\nA logit vector $\\mathbf{y}_1$ contains the log-odds for each word in the vocabulary we defined earlier, thus $\\text{len}(\\mathbf{y}_i) =$ `config.vocab_size`. We are interested in the most likely prediction of the model and thus take the `argmax(...)` of the logits. Also, we transform the encoded labels back to the original string by replacing `-100` with the `pad_token_id` and decoding the ids while making sure that consecutive tokens are **not** grouped to the same token in CTC style ${}^1$.",
   "metadata": {
    "id": "E1qZU5p-deqB",
    "papermill": {
     "duration": 0.094903,
     "end_time": "2021-05-18T15:49:50.532252",
     "exception": false,
     "start_time": "2021-05-18T15:49:50.437349",
     "status": "completed"
    },
    "tags": [],
    "cell_id": "00078-d2575b8f-228f-4f76-b7fb-661a26d71899",
    "deepnote_cell_type": "markdown"
   }
  },
  {
   "cell_type": "code",
   "metadata": {
    "execution": {
     "iopub.execute_input": "2021-05-18T15:49:50.726561Z",
     "iopub.status.busy": "2021-05-18T15:49:50.725804Z",
     "iopub.status.idle": "2021-05-18T15:49:50.728792Z",
     "shell.execute_reply": "2021-05-18T15:49:50.728402Z"
    },
    "id": "1XZ-kjweyTy_",
    "papermill": {
     "duration": 0.102446,
     "end_time": "2021-05-18T15:49:50.728898",
     "exception": false,
     "start_time": "2021-05-18T15:49:50.626452",
     "status": "completed"
    },
    "tags": [],
    "cell_id": "00079-ad93428e-8b23-44aa-8b31-70287d096b8d",
    "deepnote_cell_type": "code"
   },
   "source": "def compute_metrics(pred):\n    pred_logits = pred.predictions\n    pred_ids = np.argmax(pred_logits, axis=-1)\n\n    pred.label_ids[pred.label_ids == -100] = processor.tokenizer.pad_token_id\n\n    pred_str = processor.batch_decode(pred_ids)\n    # we do not want to group tokens when computing the metrics\n    label_str = processor.batch_decode(pred.label_ids, group_tokens=False)\n\n    wer = wer_metric.compute(predictions=pred_str, references=label_str)\n\n    return {\"wer\": wer}",
   "execution_count": null,
   "outputs": []
  },
  {
   "cell_type": "markdown",
   "source": "Now, we can load the pretrained `XLSR-Wav2Vec2` checkpoint. The tokenizer's `pad_token_id` must be to define the model's `pad_token_id` or in the case of `Wav2Vec2ForCTC` also CTC's *blank token* ${}^2$. To save GPU memory, we enable PyTorch's [gradient checkpointing](https://pytorch.org/docs/stable/checkpoint.html) and also set the loss reduction to \"*mean*\".\n\nBecause the dataset is quite small and because WOLO audio files are quite noisy, fine-tuning Facebook's [wav2vec2-large-xlsr-53 checkpoint](https://huggingface.co/facebook/wav2vec2-large-xlsr-53) seems to require some hyper-parameter tuning. Therefore, I had to play around a bit with different values for dropout, [SpecAugment](https://arxiv.org/abs/1904.08779)'s masking dropout rate, layer dropout, and the learning rate until training seemed to be stable enough. \n",
   "metadata": {
    "id": "Xmgrx4bRwLIH",
    "papermill": {
     "duration": 0.094636,
     "end_time": "2021-05-18T15:49:50.918936",
     "exception": false,
     "start_time": "2021-05-18T15:49:50.824300",
     "status": "completed"
    },
    "tags": [],
    "cell_id": "00080-eaa1e512-d81a-4eb2-b76d-0ec30454889b",
    "deepnote_cell_type": "markdown"
   }
  },
  {
   "cell_type": "code",
   "metadata": {
    "execution": {
     "iopub.execute_input": "2021-05-18T15:49:51.112590Z",
     "iopub.status.busy": "2021-05-18T15:49:51.111769Z",
     "iopub.status.idle": "2021-05-18T15:49:51.115836Z",
     "shell.execute_reply": "2021-05-18T15:49:51.115421Z"
    },
    "id": "3aYMSSXAO3X8",
    "outputId": "602c7a22-3dc8-4814-d239-df965ddcd72f",
    "papermill": {
     "duration": 0.102255,
     "end_time": "2021-05-18T15:49:51.115943",
     "exception": false,
     "start_time": "2021-05-18T15:49:51.013688",
     "status": "completed"
    },
    "tags": [],
    "cell_id": "00081-21dd8b36-4117-4eea-b3a3-28cde1b726db",
    "deepnote_cell_type": "code"
   },
   "source": "len(processor.tokenizer)",
   "execution_count": null,
   "outputs": [
    {
     "data": {
      "text/plain": "41"
     },
     "execution_count": 56,
     "metadata": {},
     "output_type": "execute_result"
    }
   ]
  },
  {
   "cell_type": "code",
   "metadata": {
    "execution": {
     "iopub.execute_input": "2021-05-18T15:49:51.538704Z",
     "iopub.status.busy": "2021-05-18T15:49:51.537907Z",
     "iopub.status.idle": "2021-05-18T15:50:32.816488Z",
     "shell.execute_reply": "2021-05-18T15:50:32.816027Z"
    },
    "id": "e7cqAWIayn6w",
    "outputId": "634148aa-c4f0-4cb9-90b5-474170890c92",
    "papermill": {
     "duration": 41.377867,
     "end_time": "2021-05-18T15:50:32.816623",
     "exception": false,
     "start_time": "2021-05-18T15:49:51.438756",
     "status": "completed"
    },
    "tags": [],
    "cell_id": "00082-455bc8db-423f-4fa1-9b6b-9495a735dd8b",
    "deepnote_cell_type": "code"
   },
   "source": "model = Wav2Vec2ForCTC.from_pretrained(\n    \"facebook/wav2vec2-large-xlsr-53\", \n    attention_dropout=0.1,\n    hidden_dropout=0.1,\n    feat_proj_dropout=0.0,\n    mask_time_prob=0.05,\n    layerdrop=0.1,\n    gradient_checkpointing=True,\n    ctc_loss_reduction=\"mean\",\n    pad_token_id=processor.tokenizer.pad_token_id,\n    vocab_size=len(processor.tokenizer)\n)",
   "execution_count": null,
   "outputs": [
    {
     "data": {
      "application/vnd.jupyter.widget-view+json": {
       "model_id": "b906f7bc580f4cd78300811b57267a8c",
       "version_major": 2,
       "version_minor": 0
      },
      "text/plain": "HBox(children=(FloatProgress(value=0.0, description='Downloading', max=1451.0, style=ProgressStyle(description…"
     },
     "metadata": {},
     "output_type": "display_data"
    },
    {
     "name": "stdout",
     "output_type": "stream",
     "text": "\n"
    },
    {
     "data": {
      "application/vnd.jupyter.widget-view+json": {
       "model_id": "16c58b4a0c434b53a119cb4f4c75ce1b",
       "version_major": 2,
       "version_minor": 0
      },
      "text/plain": "HBox(children=(FloatProgress(value=0.0, description='Downloading', max=1261920069.0, style=ProgressStyle(descr…"
     },
     "metadata": {},
     "output_type": "display_data"
    },
    {
     "name": "stdout",
     "output_type": "stream",
     "text": "\n"
    },
    {
     "name": "stderr",
     "output_type": "stream",
     "text": "Some weights of Wav2Vec2ForCTC were not initialized from the model checkpoint at facebook/wav2vec2-large-xlsr-53 and are newly initialized: ['lm_head.weight', 'lm_head.bias']\nYou should probably TRAIN this model on a down-stream task to be able to use it for predictions and inference.\n"
    }
   ]
  },
  {
   "cell_type": "markdown",
   "source": "The first component of XLSR-Wav2Vec2 consists of a stack of CNN layers that are used to extract acoustically meaningful - but contextually independent - features from the raw speech signal. This part of the model has already been sufficiently trained during pretraining and as stated in the [paper](https://arxiv.org/pdf/2006.13979.pdf) does not need to be fine-tuned anymore. \nThus, we can set the `requires_grad` to `False` for all parameters of the *feature extraction* part.",
   "metadata": {
    "id": "1DwR3XLSzGDD",
    "papermill": {
     "duration": 0.096597,
     "end_time": "2021-05-18T15:50:33.012043",
     "exception": false,
     "start_time": "2021-05-18T15:50:32.915446",
     "status": "completed"
    },
    "tags": [],
    "cell_id": "00083-83d39228-176e-4dec-ba13-3992fcd3172d",
    "deepnote_cell_type": "markdown"
   }
  },
  {
   "cell_type": "code",
   "metadata": {
    "execution": {
     "iopub.execute_input": "2021-05-18T15:50:33.209355Z",
     "iopub.status.busy": "2021-05-18T15:50:33.208814Z",
     "iopub.status.idle": "2021-05-18T15:50:33.212688Z",
     "shell.execute_reply": "2021-05-18T15:50:33.212175Z"
    },
    "id": "oGI8zObtZ3V0",
    "papermill": {
     "duration": 0.104377,
     "end_time": "2021-05-18T15:50:33.212801",
     "exception": false,
     "start_time": "2021-05-18T15:50:33.108424",
     "status": "completed"
    },
    "tags": [],
    "cell_id": "00084-363971c9-079a-4219-988f-6472cbe43085",
    "deepnote_cell_type": "code"
   },
   "source": "model.freeze_feature_extractor()",
   "execution_count": null,
   "outputs": []
  },
  {
   "cell_type": "markdown",
   "source": "In a final step, we define all parameters related to training. \nTo give more explanation on some of the parameters:\n- `group_by_length` makes training more efficient by grouping training samples of similar input length into one batch. This can significantly speed up training time by heavily reducing the overall number of useless padding tokens that are passed through the model\n- `learning_rate` were heuristically tuned until fine-tuning has become stable. Note that those parameters strongly depend on the Common Voice dataset and might be suboptimal for other speech datasets.\n\nFor more explanations on other parameters, one can take a look at the [docs](https://huggingface.co/transformers/master/main_classes/trainer.html?highlight=trainer#trainingarguments).\n\n**Note**: If one wants to save the trained models in his/her google drive the commented-out `output_dir` can be used instead.",
   "metadata": {
    "id": "lD4aGhQM0K-D",
    "papermill": {
     "duration": 0.098361,
     "end_time": "2021-05-18T15:50:33.412195",
     "exception": false,
     "start_time": "2021-05-18T15:50:33.313834",
     "status": "completed"
    },
    "tags": [],
    "cell_id": "00085-e23572e7-339c-4d91-803d-675507dea570",
    "deepnote_cell_type": "markdown"
   }
  },
  {
   "cell_type": "code",
   "metadata": {
    "execution": {
     "iopub.execute_input": "2021-05-18T15:50:33.610413Z",
     "iopub.status.busy": "2021-05-18T15:50:33.609798Z",
     "iopub.status.idle": "2021-05-18T15:50:33.708960Z",
     "shell.execute_reply": "2021-05-18T15:50:33.708438Z"
    },
    "id": "KbeKSV7uzGPP",
    "papermill": {
     "duration": 0.200299,
     "end_time": "2021-05-18T15:50:33.709083",
     "exception": false,
     "start_time": "2021-05-18T15:50:33.508784",
     "status": "completed"
    },
    "tags": [],
    "deepnote_to_be_reexecuted": false,
    "source_hash": "893fee96",
    "execution_start": 1621764997006,
    "execution_millis": 542,
    "output_cleared": true,
    "cell_id": "00086-44cd08c3-21fc-4e7b-ad23-4a39d3b86e22",
    "deepnote_cell_type": "code"
   },
   "source": "training_args = TrainingArguments(\n  output_dir=\"./wav2vec2-large-xlsr-WOLOF\",\n  group_by_length=True,\n  per_device_train_batch_size=16,\n  gradient_accumulation_steps=2,\n  evaluation_strategy=\"steps\",\n  num_train_epochs=40,\n  fp16=True,\n  save_steps=500,\n  eval_steps=500,\n  logging_steps=500,\n  learning_rate=3e-4,\n  warmup_steps=1000,\n  save_total_limit=2,\n)",
   "execution_count": null,
   "outputs": []
  },
  {
   "cell_type": "markdown",
   "source": "Now, all instances can be passed to Trainer and we are ready to start training!",
   "metadata": {
    "id": "OsW-WZcL1ZtN",
    "papermill": {
     "duration": 0.097917,
     "end_time": "2021-05-18T15:50:33.904609",
     "exception": false,
     "start_time": "2021-05-18T15:50:33.806692",
     "status": "completed"
    },
    "tags": [],
    "cell_id": "00087-4277648a-2bf3-486d-a1e6-41f71e3f0836",
    "deepnote_cell_type": "markdown"
   }
  },
  {
   "cell_type": "code",
   "metadata": {
    "execution": {
     "iopub.execute_input": "2021-05-18T15:50:34.103534Z",
     "iopub.status.busy": "2021-05-18T15:50:34.102972Z",
     "iopub.status.idle": "2021-05-18T15:50:40.989186Z",
     "shell.execute_reply": "2021-05-18T15:50:40.988715Z"
    },
    "id": "rY7vBmFCPFgC",
    "papermill": {
     "duration": 6.987776,
     "end_time": "2021-05-18T15:50:40.989349",
     "exception": false,
     "start_time": "2021-05-18T15:50:34.001573",
     "status": "completed"
    },
    "tags": [],
    "cell_id": "00088-817af58b-9bdc-4ab1-ad7b-ce38efa64718",
    "deepnote_cell_type": "code"
   },
   "source": "trainer = Trainer(\n    model=model,\n    data_collator=data_collator,\n    args=training_args,\n    compute_metrics=compute_metrics,\n    train_dataset=common_voice_train,\n    eval_dataset=common_voice_test,\n    tokenizer=processor.feature_extractor,\n)",
   "execution_count": null,
   "outputs": [
    {
     "name": "stderr",
     "output_type": "stream",
     "text": "W&B installed but not logged in. Run `wandb login` or set the WANDB_API_KEY env variable.\n"
    }
   ]
  },
  {
   "cell_type": "markdown",
   "source": "\n\n---\n\n${}^1$ To allow models to become independent of the speaker rate, in CTC, consecutive tokens that are identical are simply grouped as a single token. However, the encoded labels should not be grouped when decoding since they don't correspond to the predicted tokens of the model, which is why the `group_tokens=False` parameter has to be passed. If we wouldn't pass this parameter a word like `\"hello\"` would incorrectly be encoded, and decoded as `\"helo\"`.\n\n${}^2$ The blank token allows the model to predict a word, such as `\"hello\"` by forcing it to insert the blank token between the two l's. A CTC-conform prediction of `\"hello\"` of our model would be `[PAD] [PAD] \"h\" \"e\" \"e\" \"l\" \"l\" [PAD] \"l\" \"o\" \"o\" [PAD]`.",
   "metadata": {
    "id": "UoXBx1JAA0DX",
    "papermill": {
     "duration": 0.098305,
     "end_time": "2021-05-18T15:50:41.186523",
     "exception": false,
     "start_time": "2021-05-18T15:50:41.088218",
     "status": "completed"
    },
    "tags": [],
    "cell_id": "00089-671eaf6a-1299-4a0e-b808-f2cec7c3eb77",
    "deepnote_cell_type": "markdown"
   }
  },
  {
   "cell_type": "markdown",
   "source": "### Training",
   "metadata": {
    "id": "rpvZHM1xReIW",
    "papermill": {
     "duration": 0.0974,
     "end_time": "2021-05-18T15:50:41.382014",
     "exception": false,
     "start_time": "2021-05-18T15:50:41.284614",
     "status": "completed"
    },
    "tags": [],
    "cell_id": "00090-5b03408b-76ac-47f4-a25c-d593f4edb2b6",
    "deepnote_cell_type": "markdown"
   }
  },
  {
   "cell_type": "markdown",
   "source": "Training will take between 180 and 240 minutes depending on the GPU allocated to this notebook. While the trained model yields somewhat satisfying results on *Common Voice*'s test data of Turkish, it is by no means an optimally fine-tuned model. The purpose of this notebook is to demonstrate how XLSR-Wav2Vec2's [checkpoint](https://huggingface.co/facebook/wav2vec2-large-xlsr-53) can be fine-tuned on a low-resource ASR dataset.\n\nIn case you want to use this google colab to fine-tune your model, you should make sure that your training doesn't stop due to inactivity. A simple hack to prevent this is to paste the following code into the console of this tab (*right mouse click -> inspect -> Console tab and insert code*).",
   "metadata": {
    "id": "j-3oKSzZ1hGq",
    "papermill": {
     "duration": 0.097132,
     "end_time": "2021-05-18T15:50:41.576675",
     "exception": false,
     "start_time": "2021-05-18T15:50:41.479543",
     "status": "completed"
    },
    "tags": [],
    "cell_id": "00091-5844eb79-6df6-408b-b33e-f1d91fa71491",
    "deepnote_cell_type": "markdown"
   }
  },
  {
   "cell_type": "code",
   "metadata": {
    "execution": {
     "iopub.execute_input": "2021-05-18T15:50:41.970834Z",
     "iopub.status.busy": "2021-05-18T15:50:41.970273Z",
     "iopub.status.idle": "2021-05-18T15:50:41.974132Z",
     "shell.execute_reply": "2021-05-18T15:50:41.973705Z"
    },
    "id": "zrOHCGo9O3X_",
    "papermill": {
     "duration": 0.10586,
     "end_time": "2021-05-18T15:50:41.974260",
     "exception": false,
     "start_time": "2021-05-18T15:50:41.868400",
     "status": "completed"
    },
    "tags": [],
    "cell_id": "00092-0fef34bf-a67d-4c18-9e11-71d51ac913a6",
    "deepnote_cell_type": "code"
   },
   "source": "os.environ['WANDB_MODE'] = 'dryrun'\nos.environ['WANDB_DISABLED '] = 'True'",
   "execution_count": null,
   "outputs": []
  },
  {
   "cell_type": "code",
   "metadata": {
    "execution": {
     "iopub.execute_input": "2021-05-18T15:50:42.174587Z",
     "iopub.status.busy": "2021-05-18T15:50:42.173803Z",
     "iopub.status.idle": "2021-05-18T15:50:42.177643Z",
     "shell.execute_reply": "2021-05-18T15:50:42.177247Z"
    },
    "id": "KY07aVNuJP0w",
    "outputId": "b3fec44a-8be0-44da-bc7e-be89bf56a40d",
    "papermill": {
     "duration": 0.105341,
     "end_time": "2021-05-18T15:50:42.177746",
     "exception": false,
     "start_time": "2021-05-18T15:50:42.072405",
     "status": "completed"
    },
    "tags": [],
    "cell_id": "00093-0fbc31bb-1eee-4a38-8f50-f54facd51abb",
    "deepnote_cell_type": "code"
   },
   "source": "common_voice_train.shape",
   "execution_count": null,
   "outputs": [
    {
     "data": {
      "text/plain": "(6649, 2)"
     },
     "execution_count": 63,
     "metadata": {},
     "output_type": "execute_result"
    }
   ]
  },
  {
   "cell_type": "code",
   "metadata": {
    "execution": {
     "iopub.execute_input": "2021-05-18T15:50:42.531116Z",
     "iopub.status.busy": "2021-05-18T15:50:42.530308Z",
     "iopub.status.idle": "2021-05-18T23:01:31.059337Z",
     "shell.execute_reply": "2021-05-18T23:01:31.058525Z"
    },
    "id": "_UEjJqGsQw24",
    "outputId": "2fd9f741-400b-4ec3-8f11-1ca14c69e397",
    "papermill": {
     "duration": 25848.783354,
     "end_time": "2021-05-18T23:01:31.059488",
     "exception": false,
     "start_time": "2021-05-18T15:50:42.276134",
     "status": "completed"
    },
    "scrolled": true,
    "tags": [],
    "cell_id": "00094-876283b5-da36-4f3d-8161-ec5fe513ab08",
    "deepnote_cell_type": "code"
   },
   "source": "trainer.train()",
   "execution_count": null,
   "outputs": [
    {
     "name": "stderr",
     "output_type": "stream",
     "text": "/opt/conda/lib/python3.7/site-packages/torch/optim/lr_scheduler.py:136: UserWarning: Detected call of `lr_scheduler.step()` before `optimizer.step()`. In PyTorch 1.1.0 and later, you should call them in the opposite order: `optimizer.step()` before `lr_scheduler.step()`.  Failure to do this will result in PyTorch skipping the first value of the learning rate schedule. See more details at https://pytorch.org/docs/stable/optim.html#how-to-adjust-learning-rate\n  \"https://pytorch.org/docs/stable/optim.html#how-to-adjust-learning-rate\", UserWarning)\n"
    },
    {
     "data": {
      "text/html": "\n    <div>\n        <style>\n            /* Turns off some styling */\n            progress {\n                /* gets rid of default border in Firefox and Opera. */\n                border: none;\n                /* Needs to be in here for Safari polyfill so background images work as expected. */\n                background-size: auto;\n            }\n        </style>\n      \n      <progress value='8320' max='8320' style='width:300px; height:20px; vertical-align: middle;'></progress>\n      [8320/8320 7:06:44, Epoch 40/40]\n    </div>\n    <table border=\"1\" class=\"dataframe\">\n  <thead>\n    <tr style=\"text-align: left;\">\n      <th>Step</th>\n      <th>Training Loss</th>\n      <th>Validation Loss</th>\n      <th>Wer</th>\n      <th>Runtime</th>\n      <th>Samples Per Second</th>\n    </tr>\n  </thead>\n  <tbody>\n    <tr>\n      <td>500</td>\n      <td>5.837900</td>\n      <td>2.766095</td>\n      <td>0.991453</td>\n      <td>2.539800</td>\n      <td>13.387000</td>\n    </tr>\n    <tr>\n      <td>1000</td>\n      <td>1.027000</td>\n      <td>0.280598</td>\n      <td>0.538462</td>\n      <td>2.498800</td>\n      <td>13.607000</td>\n    </tr>\n    <tr>\n      <td>1500</td>\n      <td>0.297400</td>\n      <td>0.092063</td>\n      <td>0.333333</td>\n      <td>2.299900</td>\n      <td>14.783000</td>\n    </tr>\n    <tr>\n      <td>2000</td>\n      <td>0.159500</td>\n      <td>0.051386</td>\n      <td>0.290598</td>\n      <td>2.306000</td>\n      <td>14.744000</td>\n    </tr>\n    <tr>\n      <td>2500</td>\n      <td>0.109200</td>\n      <td>0.029738</td>\n      <td>0.299145</td>\n      <td>2.324300</td>\n      <td>14.628000</td>\n    </tr>\n    <tr>\n      <td>3000</td>\n      <td>0.076200</td>\n      <td>0.011859</td>\n      <td>0.256410</td>\n      <td>2.327500</td>\n      <td>14.608000</td>\n    </tr>\n    <tr>\n      <td>3500</td>\n      <td>0.058000</td>\n      <td>0.079208</td>\n      <td>0.256410</td>\n      <td>2.332600</td>\n      <td>14.576000</td>\n    </tr>\n    <tr>\n      <td>4000</td>\n      <td>0.055800</td>\n      <td>0.011326</td>\n      <td>0.239316</td>\n      <td>2.327600</td>\n      <td>14.608000</td>\n    </tr>\n    <tr>\n      <td>4500</td>\n      <td>0.039800</td>\n      <td>0.021303</td>\n      <td>0.273504</td>\n      <td>2.327500</td>\n      <td>14.608000</td>\n    </tr>\n    <tr>\n      <td>5000</td>\n      <td>0.035800</td>\n      <td>0.031625</td>\n      <td>0.230769</td>\n      <td>2.375300</td>\n      <td>14.314000</td>\n    </tr>\n    <tr>\n      <td>5500</td>\n      <td>0.033100</td>\n      <td>0.000890</td>\n      <td>0.222222</td>\n      <td>2.320400</td>\n      <td>14.653000</td>\n    </tr>\n    <tr>\n      <td>6000</td>\n      <td>0.024700</td>\n      <td>0.021946</td>\n      <td>0.247863</td>\n      <td>2.408100</td>\n      <td>14.119000</td>\n    </tr>\n    <tr>\n      <td>6500</td>\n      <td>0.021000</td>\n      <td>0.010812</td>\n      <td>0.239316</td>\n      <td>2.390800</td>\n      <td>14.221000</td>\n    </tr>\n    <tr>\n      <td>7000</td>\n      <td>0.017600</td>\n      <td>0.009049</td>\n      <td>0.247863</td>\n      <td>2.700200</td>\n      <td>12.592000</td>\n    </tr>\n    <tr>\n      <td>7500</td>\n      <td>0.016200</td>\n      <td>0.010020</td>\n      <td>0.247863</td>\n      <td>2.313600</td>\n      <td>14.696000</td>\n    </tr>\n    <tr>\n      <td>8000</td>\n      <td>0.013300</td>\n      <td>0.007488</td>\n      <td>0.247863</td>\n      <td>2.322100</td>\n      <td>14.642000</td>\n    </tr>\n  </tbody>\n</table><p>",
      "text/plain": "<IPython.core.display.HTML object>"
     },
     "metadata": {},
     "output_type": "display_data"
    },
    {
     "data": {
      "text/plain": "TrainOutput(global_step=8320, training_loss=0.47058794303582263, metrics={'train_runtime': 25611.6802, 'train_samples_per_second': 0.325, 'total_flos': 1.6199767159963656e+19, 'epoch': 40.0, 'init_mem_cpu_alloc_delta': 9975306, 'init_mem_gpu_alloc_delta': 1261923328, 'init_mem_cpu_peaked_delta': 18306, 'init_mem_gpu_peaked_delta': 0, 'train_mem_cpu_alloc_delta': 1698202, 'train_mem_gpu_alloc_delta': 3780360704, 'train_mem_cpu_peaked_delta': 69437767, 'train_mem_gpu_peaked_delta': 2258777600})"
     },
     "execution_count": 64,
     "metadata": {},
     "output_type": "execute_result"
    }
   ]
  },
  {
   "cell_type": "code",
   "metadata": {
    "execution": {
     "iopub.execute_input": "2021-05-18T23:01:31.689112Z",
     "iopub.status.busy": "2021-05-18T23:01:31.687802Z",
     "iopub.status.idle": "2021-05-18T23:01:36.247074Z",
     "shell.execute_reply": "2021-05-18T23:01:36.246511Z"
    },
    "id": "4e6UX4ViO3YA",
    "papermill": {
     "duration": 4.665482,
     "end_time": "2021-05-18T23:01:36.247224",
     "exception": false,
     "start_time": "2021-05-18T23:01:31.581742",
     "status": "completed"
    },
    "tags": [],
    "cell_id": "00095-747b4ef3-2fa1-4e79-9ad7-a4378aeb65d9",
    "deepnote_cell_type": "code"
   },
   "source": "model.save_pretrained(\"wav2vec2-large-xlsr-WOLOF\")\nprocessor.save_pretrained(\"wav2vec2-large-xlsr-WOLOF\")",
   "execution_count": null,
   "outputs": []
  },
  {
   "cell_type": "markdown",
   "source": "# Submission and Inference",
   "metadata": {
    "tags": [],
    "cell_id": "00096-86d0eef2-9f82-4aa3-978d-d2ca91fa0750",
    "deepnote_cell_type": "markdown"
   }
  },
  {
   "cell_type": "markdown",
   "source": "loading saved model",
   "metadata": {
    "tags": [],
    "cell_id": "00097-2127c9c7-6018-43ab-a22e-3a9b73b2cab2",
    "deepnote_cell_type": "markdown"
   }
  },
  {
   "cell_type": "code",
   "metadata": {
    "execution": {
     "iopub.execute_input": "2021-05-18T23:01:38.835071Z",
     "iopub.status.busy": "2021-05-18T23:01:38.834197Z",
     "iopub.status.idle": "2021-05-18T23:01:49.111420Z",
     "shell.execute_reply": "2021-05-18T23:01:49.112355Z"
    },
    "id": "J8E8pxJ9hgZS",
    "papermill": {
     "duration": 10.489971,
     "end_time": "2021-05-18T23:01:49.112698",
     "exception": false,
     "start_time": "2021-05-18T23:01:38.622727",
     "status": "completed"
    },
    "tags": [],
    "cell_id": "00098-0e404c00-24fc-4f51-9395-fbb7843b0246",
    "deepnote_cell_type": "code"
   },
   "source": "model = Wav2Vec2ForCTC.from_pretrained(\"wav2vec2-large-xlsr-WOLOF\").to(\"cuda\")\nprocessor = Wav2Vec2Processor.from_pretrained(\"wav2vec2-large-xlsr-WOLOF\")",
   "execution_count": null,
   "outputs": [
    {
     "name": "stderr",
     "output_type": "stream",
     "text": "Special tokens have been added in the vocabulary, make sure the associated word embedding are fine-tuned or trained.\n"
    }
   ]
  },
  {
   "cell_type": "markdown",
   "source": "loading our dataset, please put orginal `Test.csv` and cleaned audio file path in `val[\"path\"]`",
   "metadata": {
    "id": "ApS3MmN4v5P7",
    "papermill": {
     "duration": 0.102147,
     "end_time": "2021-05-18T23:01:51.455105",
     "exception": false,
     "start_time": "2021-05-18T23:01:51.352958",
     "status": "completed"
    },
    "tags": [],
    "cell_id": "00099-cd466fc2-59d5-40c1-9014-3e26a3fb411a",
    "deepnote_cell_type": "markdown"
   }
  },
  {
   "cell_type": "code",
   "metadata": {
    "execution": {
     "iopub.execute_input": "2021-05-18T23:01:51.883087Z",
     "iopub.status.busy": "2021-05-18T23:01:51.882581Z",
     "iopub.status.idle": "2021-05-18T23:01:51.910152Z",
     "shell.execute_reply": "2021-05-18T23:01:51.909733Z"
    },
    "id": "raXncu5qO3YC",
    "papermill": {
     "duration": 0.143262,
     "end_time": "2021-05-18T23:01:51.910290",
     "exception": false,
     "start_time": "2021-05-18T23:01:51.767028",
     "status": "completed"
    },
    "tags": [],
    "cell_id": "00100-d6f3a781-acee-4f99-aa24-2497cbc72763",
    "deepnote_cell_type": "code"
   },
   "source": "val =pd.read_csv(\"../input/wolof-asr/Test.csv\")\nval[\"path\"] = \"../input/wolof-asr/Noise Removed/tmp/WOLOF_ASR_dataset/noise_remove/\"+val[\"ID\"]+\".wav\"\nval.rename(columns = {'transcription':'sentence'}, inplace = True)\ncommon_voice_val = Dataset.from_pandas(val)",
   "execution_count": null,
   "outputs": []
  },
  {
   "cell_type": "markdown",
   "source": "removing unnecessary columns ",
   "metadata": {
    "tags": [],
    "cell_id": "00101-727df21f-701f-4da1-8e5e-be111eab7c44",
    "deepnote_cell_type": "markdown"
   }
  },
  {
   "cell_type": "code",
   "metadata": {
    "execution": {
     "iopub.execute_input": "2021-05-18T23:01:52.119946Z",
     "iopub.status.busy": "2021-05-18T23:01:52.119362Z",
     "iopub.status.idle": "2021-05-18T23:01:52.122205Z",
     "shell.execute_reply": "2021-05-18T23:01:52.122649Z"
    },
    "id": "KvNV9xmrO3YC",
    "papermill": {
     "duration": 0.110593,
     "end_time": "2021-05-18T23:01:52.122773",
     "exception": false,
     "start_time": "2021-05-18T23:01:52.012180",
     "status": "completed"
    },
    "tags": [],
    "cell_id": "00102-f89da58e-e01a-4730-b4f5-a8bb7f0b5763",
    "deepnote_cell_type": "code"
   },
   "source": "common_voice_val = common_voice_val.remove_columns([ \"ID\",\"age\",  \"down_votes\", \"gender\",  \"up_votes\"])",
   "execution_count": null,
   "outputs": []
  },
  {
   "cell_type": "code",
   "metadata": {
    "execution": {
     "iopub.execute_input": "2021-05-18T23:01:52.342963Z",
     "iopub.status.busy": "2021-05-18T23:01:52.342479Z",
     "iopub.status.idle": "2021-05-18T23:01:52.347327Z",
     "shell.execute_reply": "2021-05-18T23:01:52.347697Z"
    },
    "id": "x8Id6K7LO3YC",
    "papermill": {
     "duration": 0.123611,
     "end_time": "2021-05-18T23:01:52.347822",
     "exception": false,
     "start_time": "2021-05-18T23:01:52.224211",
     "status": "completed"
    },
    "tags": [],
    "cell_id": "00103-9b889e97-96ea-4623-89d6-54fd37a6577e",
    "deepnote_cell_type": "code"
   },
   "source": "val",
   "execution_count": null,
   "outputs": [
    {
     "data": {
      "text/html": "<div>\n<style scoped>\n    .dataframe tbody tr th:only-of-type {\n        vertical-align: middle;\n    }\n\n    .dataframe tbody tr th {\n        vertical-align: top;\n    }\n\n    .dataframe thead th {\n        text-align: right;\n    }\n</style>\n<table border=\"1\" class=\"dataframe\">\n  <thead>\n    <tr style=\"text-align: right;\">\n      <th></th>\n      <th>ID</th>\n      <th>up_votes</th>\n      <th>down_votes</th>\n      <th>age</th>\n      <th>gender</th>\n      <th>path</th>\n    </tr>\n  </thead>\n  <tbody>\n    <tr>\n      <th>0</th>\n      <td>00416cff4f818d3dfd99c9178ff0e268e7575500c8baa5...</td>\n      <td>2</td>\n      <td>0</td>\n      <td>twenties</td>\n      <td>male</td>\n      <td>../input/wolof-asr/Noise Removed/tmp/WOLOF_ASR...</td>\n    </tr>\n    <tr>\n      <th>1</th>\n      <td>00891ba561e80e135f9d12b9fa1347f0a2560998f7ea16...</td>\n      <td>2</td>\n      <td>0</td>\n      <td>twenties</td>\n      <td>male</td>\n      <td>../input/wolof-asr/Noise Removed/tmp/WOLOF_ASR...</td>\n    </tr>\n    <tr>\n      <th>2</th>\n      <td>00a508027ed4edf0bd3db79f45f4ed6e1b89fba6482c10...</td>\n      <td>2</td>\n      <td>0</td>\n      <td>twenties</td>\n      <td>male</td>\n      <td>../input/wolof-asr/Noise Removed/tmp/WOLOF_ASR...</td>\n    </tr>\n    <tr>\n      <th>3</th>\n      <td>00ac13cd0d93e35c1ff672cc106ad94d1ea9b93fcf049a...</td>\n      <td>2</td>\n      <td>0</td>\n      <td>twenties</td>\n      <td>female</td>\n      <td>../input/wolof-asr/Noise Removed/tmp/WOLOF_ASR...</td>\n    </tr>\n    <tr>\n      <th>4</th>\n      <td>00c2d5baf4719bf01b990a8924e99bda043cd462147193...</td>\n      <td>2</td>\n      <td>0</td>\n      <td>twenties</td>\n      <td>male</td>\n      <td>../input/wolof-asr/Noise Removed/tmp/WOLOF_ASR...</td>\n    </tr>\n    <tr>\n      <th>...</th>\n      <td>...</td>\n      <td>...</td>\n      <td>...</td>\n      <td>...</td>\n      <td>...</td>\n      <td>...</td>\n    </tr>\n    <tr>\n      <th>1559</th>\n      <td>ff0da457e7a3986035995912803e42261c5f5f448c126b...</td>\n      <td>2</td>\n      <td>0</td>\n      <td>NaN</td>\n      <td>NaN</td>\n      <td>../input/wolof-asr/Noise Removed/tmp/WOLOF_ASR...</td>\n    </tr>\n    <tr>\n      <th>1560</th>\n      <td>ff1808218a15fa576c405314e4de4bda56c44f849ff1b5...</td>\n      <td>2</td>\n      <td>0</td>\n      <td>twenties</td>\n      <td>male</td>\n      <td>../input/wolof-asr/Noise Removed/tmp/WOLOF_ASR...</td>\n    </tr>\n    <tr>\n      <th>1561</th>\n      <td>ff5b9a45d60600e875e0a031b1d7076c9cbdeb1c48c09c...</td>\n      <td>2</td>\n      <td>0</td>\n      <td>NaN</td>\n      <td>NaN</td>\n      <td>../input/wolof-asr/Noise Removed/tmp/WOLOF_ASR...</td>\n    </tr>\n    <tr>\n      <th>1562</th>\n      <td>ff98e108ec61d3bd485734b83f21be77820549dab1cac1...</td>\n      <td>2</td>\n      <td>0</td>\n      <td>NaN</td>\n      <td>NaN</td>\n      <td>../input/wolof-asr/Noise Removed/tmp/WOLOF_ASR...</td>\n    </tr>\n    <tr>\n      <th>1563</th>\n      <td>ffb6873f183e8995e50d1079f60f8e9d1018092e421578...</td>\n      <td>2</td>\n      <td>0</td>\n      <td>NaN</td>\n      <td>NaN</td>\n      <td>../input/wolof-asr/Noise Removed/tmp/WOLOF_ASR...</td>\n    </tr>\n  </tbody>\n</table>\n<p>1564 rows × 6 columns</p>\n</div>",
      "text/plain": "                                                     ID  up_votes  down_votes  \\\n0     00416cff4f818d3dfd99c9178ff0e268e7575500c8baa5...         2           0   \n1     00891ba561e80e135f9d12b9fa1347f0a2560998f7ea16...         2           0   \n2     00a508027ed4edf0bd3db79f45f4ed6e1b89fba6482c10...         2           0   \n3     00ac13cd0d93e35c1ff672cc106ad94d1ea9b93fcf049a...         2           0   \n4     00c2d5baf4719bf01b990a8924e99bda043cd462147193...         2           0   \n...                                                 ...       ...         ...   \n1559  ff0da457e7a3986035995912803e42261c5f5f448c126b...         2           0   \n1560  ff1808218a15fa576c405314e4de4bda56c44f849ff1b5...         2           0   \n1561  ff5b9a45d60600e875e0a031b1d7076c9cbdeb1c48c09c...         2           0   \n1562  ff98e108ec61d3bd485734b83f21be77820549dab1cac1...         2           0   \n1563  ffb6873f183e8995e50d1079f60f8e9d1018092e421578...         2           0   \n\n           age  gender                                               path  \n0     twenties    male  ../input/wolof-asr/Noise Removed/tmp/WOLOF_ASR...  \n1     twenties    male  ../input/wolof-asr/Noise Removed/tmp/WOLOF_ASR...  \n2     twenties    male  ../input/wolof-asr/Noise Removed/tmp/WOLOF_ASR...  \n3     twenties  female  ../input/wolof-asr/Noise Removed/tmp/WOLOF_ASR...  \n4     twenties    male  ../input/wolof-asr/Noise Removed/tmp/WOLOF_ASR...  \n...        ...     ...                                                ...  \n1559       NaN     NaN  ../input/wolof-asr/Noise Removed/tmp/WOLOF_ASR...  \n1560  twenties    male  ../input/wolof-asr/Noise Removed/tmp/WOLOF_ASR...  \n1561       NaN     NaN  ../input/wolof-asr/Noise Removed/tmp/WOLOF_ASR...  \n1562       NaN     NaN  ../input/wolof-asr/Noise Removed/tmp/WOLOF_ASR...  \n1563       NaN     NaN  ../input/wolof-asr/Noise Removed/tmp/WOLOF_ASR...  \n\n[1564 rows x 6 columns]"
     },
     "execution_count": 73,
     "metadata": {},
     "output_type": "execute_result"
    }
   ]
  },
  {
   "cell_type": "code",
   "metadata": {
    "execution": {
     "iopub.execute_input": "2021-05-18T23:01:52.556552Z",
     "iopub.status.busy": "2021-05-18T23:01:52.555667Z",
     "iopub.status.idle": "2021-05-18T23:01:52.559150Z",
     "shell.execute_reply": "2021-05-18T23:01:52.559649Z"
    },
    "id": "wCJRzKtMO3YD",
    "papermill": {
     "duration": 0.1099,
     "end_time": "2021-05-18T23:01:52.559771",
     "exception": false,
     "start_time": "2021-05-18T23:01:52.449871",
     "status": "completed"
    },
    "tags": [],
    "cell_id": "00104-d6dc06bf-f429-48d7-941f-eb29859ad41f",
    "deepnote_cell_type": "code"
   },
   "source": "common_voice_val.column_names",
   "execution_count": null,
   "outputs": [
    {
     "data": {
      "text/plain": "['path']"
     },
     "execution_count": 74,
     "metadata": {},
     "output_type": "execute_result"
    }
   ]
  },
  {
   "cell_type": "markdown",
   "source": "Applying speech to array fucntion especially for test data set",
   "metadata": {
    "tags": [],
    "cell_id": "00105-2ec4add7-0742-43e2-b069-c1701b39f477",
    "deepnote_cell_type": "markdown"
   }
  },
  {
   "cell_type": "code",
   "metadata": {
    "execution": {
     "iopub.execute_input": "2021-05-18T23:01:52.787001Z",
     "iopub.status.busy": "2021-05-18T23:01:52.786173Z",
     "iopub.status.idle": "2021-05-18T23:02:15.333428Z",
     "shell.execute_reply": "2021-05-18T23:02:15.332481Z"
    },
    "id": "z6-b0X-SO3YD",
    "papermill": {
     "duration": 22.670998,
     "end_time": "2021-05-18T23:02:15.333569",
     "exception": false,
     "start_time": "2021-05-18T23:01:52.662571",
     "status": "completed"
    },
    "tags": [],
    "cell_id": "00106-9e4421ef-79b7-481a-8802-6f5a4d8485c9",
    "deepnote_cell_type": "code"
   },
   "source": "common_voice_val = common_voice_val.map(speech_file_to_array_fn_test, remove_columns=common_voice_val.column_names)",
   "execution_count": null,
   "outputs": [
    {
     "data": {
      "application/vnd.jupyter.widget-view+json": {
       "model_id": "5150a6aff6904cfb9ca96043a9b727ba",
       "version_major": 2,
       "version_minor": 0
      },
      "text/plain": "HBox(children=(FloatProgress(value=0.0, max=1564.0), HTML(value='')))"
     },
     "metadata": {},
     "output_type": "display_data"
    },
    {
     "name": "stdout",
     "output_type": "stream",
     "text": "\n"
    }
   ]
  },
  {
   "cell_type": "markdown",
   "source": "applying prepare data set for test which is difernt from train as I have removed transcript part.",
   "metadata": {
    "tags": [],
    "cell_id": "00107-f086fe2c-546e-4fae-946b-348e2ae021d2",
    "deepnote_cell_type": "markdown"
   }
  },
  {
   "cell_type": "code",
   "metadata": {
    "execution": {
     "iopub.execute_input": "2021-05-18T23:02:15.549556Z",
     "iopub.status.busy": "2021-05-18T23:02:15.548835Z",
     "iopub.status.idle": "2021-05-18T23:03:09.891687Z",
     "shell.execute_reply": "2021-05-18T23:03:09.892821Z"
    },
    "id": "r5GtI2ovO3YD",
    "papermill": {
     "duration": 54.456245,
     "end_time": "2021-05-18T23:03:09.893025",
     "exception": false,
     "start_time": "2021-05-18T23:02:15.436780",
     "status": "completed"
    },
    "tags": [],
    "cell_id": "00108-e31f8a2d-abbe-4e2a-b72e-ee89491b7529",
    "deepnote_cell_type": "code"
   },
   "source": "common_voice_val = common_voice_val.map(prepare_dataset_test, remove_columns=common_voice_val.column_names, batch_size=8, num_proc=4, batched=True)",
   "execution_count": null,
   "outputs": [
    {
     "name": "stdout",
     "output_type": "stream",
     "text": "\n\n\n\n"
    }
   ]
  },
  {
   "cell_type": "code",
   "metadata": {
    "execution": {
     "iopub.execute_input": "2021-05-18T23:03:10.277675Z",
     "iopub.status.busy": "2021-05-18T23:03:10.276937Z",
     "iopub.status.idle": "2021-05-18T23:03:10.281433Z",
     "shell.execute_reply": "2021-05-18T23:03:10.281987Z"
    },
    "id": "aGBPUaY5O3YE",
    "papermill": {
     "duration": 0.183264,
     "end_time": "2021-05-18T23:03:10.282161",
     "exception": false,
     "start_time": "2021-05-18T23:03:10.098897",
     "status": "completed"
    },
    "tags": [],
    "cell_id": "00109-993f086f-8093-45c7-b704-a4fa20981dc8",
    "deepnote_cell_type": "code"
   },
   "source": "common_voice_val.shape[0]",
   "execution_count": null,
   "outputs": [
    {
     "data": {
      "text/plain": "1564"
     },
     "execution_count": 77,
     "metadata": {},
     "output_type": "execute_result"
    }
   ]
  },
  {
   "cell_type": "markdown",
   "source": " we can save our processed dataset and use it for faster inference.",
   "metadata": {
    "tags": [],
    "cell_id": "00110-85792298-7905-430f-95d9-e1c03facfb21",
    "deepnote_cell_type": "markdown"
   }
  },
  {
   "cell_type": "code",
   "metadata": {
    "execution": {
     "iopub.execute_input": "2021-05-18T23:03:10.626305Z",
     "iopub.status.busy": "2021-05-18T23:03:10.625487Z",
     "iopub.status.idle": "2021-05-18T23:03:10.627610Z",
     "shell.execute_reply": "2021-05-18T23:03:10.626996Z"
    },
    "id": "mjAoBm-_1hOA",
    "papermill": {
     "duration": 0.177006,
     "end_time": "2021-05-18T23:03:10.627749",
     "exception": false,
     "start_time": "2021-05-18T23:03:10.450743",
     "status": "completed"
    },
    "tags": [],
    "cell_id": "00111-997e280c-ca85-4ed4-900e-fae90a1dd939",
    "deepnote_cell_type": "code"
   },
   "source": "# common_voice_val.save_to_disk(\"/content/drive/MyDrive/ASR WOLOF Data/Pre_Data/Submission\")",
   "execution_count": null,
   "outputs": []
  },
  {
   "cell_type": "code",
   "metadata": {
    "execution": {
     "iopub.execute_input": "2021-05-18T23:03:10.884544Z",
     "iopub.status.busy": "2021-05-18T23:03:10.882903Z",
     "iopub.status.idle": "2021-05-18T23:03:10.885177Z",
     "shell.execute_reply": "2021-05-18T23:03:10.885632Z"
    },
    "id": "uCw6tHVR9xCo",
    "papermill": {
     "duration": 0.111001,
     "end_time": "2021-05-18T23:03:10.885755",
     "exception": false,
     "start_time": "2021-05-18T23:03:10.774754",
     "status": "completed"
    },
    "tags": [],
    "cell_id": "00112-787951a0-75ce-4278-8391-40c28f268367",
    "deepnote_cell_type": "code"
   },
   "source": "# common_voice_val = Dataset.load_from_disk(\"/content/drive/MyDrive/ASR WOLOF Data/Pre_Data/Submission\")",
   "execution_count": null,
   "outputs": []
  },
  {
   "cell_type": "markdown",
   "source": "This pard is prediction part which process inputvalues and then use model to prideict logits which can later be decode.",
   "metadata": {
    "tags": [],
    "cell_id": "00113-d003f51d-014c-4aab-acad-16bb67d813a2",
    "deepnote_cell_type": "markdown"
   }
  },
  {
   "cell_type": "code",
   "metadata": {
    "execution": {
     "iopub.execute_input": "2021-05-18T23:03:11.585439Z",
     "iopub.status.busy": "2021-05-18T23:03:11.584670Z",
     "iopub.status.idle": "2021-05-18T23:05:20.171157Z",
     "shell.execute_reply": "2021-05-18T23:05:20.171565Z"
    },
    "id": "z5hxLkWEO3YE",
    "papermill": {
     "duration": 128.725509,
     "end_time": "2021-05-18T23:05:20.171725",
     "exception": false,
     "start_time": "2021-05-18T23:03:11.446216",
     "status": "completed"
    },
    "tags": [],
    "cell_id": "00114-3224579a-de9d-40fb-9066-ee2e23e58e62",
    "deepnote_cell_type": "code"
   },
   "source": "final_pred = []\nfor i in tqdm(range(common_voice_val.shape[0])):    \n    input_dict = processor(common_voice_val[i][\"input_values\"], return_tensors=\"pt\", padding=True)\n\n    logits = model(input_dict.input_values.to(\"cuda\")).logits\n\n    pred_ids = torch.argmax(logits, dim=-1)[0]\n    prediction = processor.decode(pred_ids)\n    final_pred.append(prediction)",
   "execution_count": null,
   "outputs": [
    {
     "name": "stderr",
     "output_type": "stream",
     "text": "  0%|          | 0/1564 [00:00<?, ?it/s]It is strongly recommended to pass the ``sampling_rate`` argument to this function.Failing to do so can result in silent errors that might be hard to debug.\n  0%|          | 1/1564 [00:00<03:15,  8.00it/s]It is strongly recommended to pass the ``sampling_rate`` argument to this function.Failing to do so can result in silent errors that might be hard to debug.\nIt is strongly recommended to pass the ``sampling_rate`` argument to this function.Failing to do so can result in silent errors that might be hard to debug.\n  0%|          | 3/1564 [00:00<02:55,  8.91it/s]It is strongly recommended to pass the ``sampling_rate`` argument to this function.Failing to do so can result in silent errors that might be hard to debug.\n  0%|          | 4/1564 [00:00<02:59,  8.69it/s]It is strongly recommended to pass the ``sampling_rate`` argument to this function.Failing to do so can result in silent errors that might be hard to debug.\n  0%|          | 5/1564 [00:00<03:01,  8.60it/s]It is strongly recommended to pass the ``sampling_rate`` argument to this function.Failing to do so can result in silent errors that might be hard to debug.\n  0%|          | 6/1564 [00:00<02:53,  8.96it/s]It is strongly recommended to pass the ``sampling_rate`` argument to this function.Failing to do so can result in silent errors that might be hard to debug.\nIt is strongly recommended to pass the ``sampling_rate`` argument to this function.Failing to do so can result in silent errors that might be hard to debug.\n  1%|          | 8/1564 [00:00<02:35, 10.03it/s]It is strongly recommended to pass the ``sampling_rate`` argument to this function.Failing to do so can result in silent errors that might be hard to debug.\nIt is strongly recommended to pass the ``sampling_rate`` argument to this function.Failing to do so can result in silent errors that might be hard to debug.\n  1%|          | 10/1564 [00:00<02:10, 11.94it/s]It is strongly recommended to pass the ``sampling_rate`` argument to this function.Failing to do so can result in silent errors that might be hard to debug.\nIt is strongly recommended to pass the ``sampling_rate`` argument to this function.Failing to do so can result in silent errors that might be hard to debug.\n  1%|          | 12/1564 [00:01<01:55, 13.39it/s]It is strongly recommended to pass the ``sampling_rate`` argument to this function.Failing to do so can result in silent errors that might be hard to debug.\nIt is strongly recommended to pass the ``sampling_rate`` argument to this function.Failing to do so can result in silent errors that might be hard to debug.\n  1%|          | 14/1564 [00:01<01:47, 14.45it/s]It is strongly recommended to pass the ``sampling_rate`` argument to this function.Failing to do so can result in silent errors that might be hard to debug.\nIt is strongly recommended to pass the ``sampling_rate`` argument to this function.Failing to do so can result in silent errors that might be hard to debug.\n  1%|          | 16/1564 [00:01<01:42, 15.17it/s]It is strongly recommended to pass the ``sampling_rate`` argument to this function.Failing to do so can result in silent errors that might be hard to debug.\nIt is strongly recommended to pass the ``sampling_rate`` argument to this function.Failing to do so can result in silent errors that might be hard to debug.\n  1%|          | 18/1564 [00:01<01:36, 16.08it/s]It is strongly recommended to pass the ``sampling_rate`` argument to this function.Failing to do so can result in silent errors that might be hard to debug.\nIt is strongly recommended to pass the ``sampling_rate`` argument to this function.Failing to do so can result in silent errors that might be hard to debug.\n  1%|▏         | 20/1564 [00:01<01:32, 16.72it/s]It is strongly recommended to pass the ``sampling_rate`` argument to this function.Failing to do so can result in silent errors that might be hard to debug.\nIt is strongly recommended to pass the ``sampling_rate`` argument to this function.Failing to do so can result in silent errors that might be hard to debug.\n  1%|▏         | 22/1564 [00:01<01:30, 16.95it/s]It is strongly recommended to pass the ``sampling_rate`` argument to this function.Failing to do so can result in silent errors that might be hard to debug.\nIt is strongly recommended to pass the ``sampling_rate`` argument to this function.Failing to do so can result in silent errors that might be hard to debug.\n  2%|▏         | 24/1564 [00:01<01:29, 17.26it/s]It is strongly recommended to pass the ``sampling_rate`` argument to this function.Failing to do so can result in silent errors that might be hard to debug.\nIt is strongly recommended to pass the ``sampling_rate`` argument to this function.Failing to do so can result in silent errors that might be hard to debug.\n  2%|▏         | 26/1564 [00:01<01:34, 16.21it/s]It is strongly recommended to pass the ``sampling_rate`` argument to this function.Failing to do so can result in silent errors that might be hard to debug.\nIt is strongly recommended to pass the ``sampling_rate`` argument to this function.Failing to do so can result in silent errors that might be hard to debug.\n  2%|▏         | 28/1564 [00:02<01:38, 15.61it/s]It is strongly recommended to pass the ``sampling_rate`` argument to this function.Failing to do so can result in silent errors that might be hard to debug.\nIt is strongly recommended to pass the ``sampling_rate`` argument to this function.Failing to do so can result in silent errors that might be hard to debug.\n  2%|▏         | 30/1564 [00:02<01:40, 15.19it/s]It is strongly recommended to pass the ``sampling_rate`` argument to this function.Failing to do so can result in silent errors that might be hard to debug.\nIt is strongly recommended to pass the ``sampling_rate`` argument to this function.Failing to do so can result in silent errors that might be hard to debug.\n  2%|▏         | 32/1564 [00:02<01:42, 14.92it/s]It is strongly recommended to pass the ``sampling_rate`` argument to this function.Failing to do so can result in silent errors that might be hard to debug.\nIt is strongly recommended to pass the ``sampling_rate`` argument to this function.Failing to do so can result in silent errors that might be hard to debug.\n  2%|▏         | 34/1564 [00:02<01:56, 13.18it/s]It is strongly recommended to pass the ``sampling_rate`` argument to this function.Failing to do so can result in silent errors that might be hard to debug.\nIt is strongly recommended to pass the ``sampling_rate`` argument to this function.Failing to do so can result in silent errors that might be hard to debug.\n  2%|▏         | 36/1564 [00:02<02:05, 12.20it/s]It is strongly recommended to pass the ``sampling_rate`` argument to this function.Failing to do so can result in silent errors that might be hard to debug.\nIt is strongly recommended to pass the ``sampling_rate`` argument to this function.Failing to do so can result in silent errors that might be hard to debug.\n  2%|▏         | 38/1564 [00:02<02:11, 11.61it/s]It is strongly recommended to pass the ``sampling_rate`` argument to this function.Failing to do so can result in silent errors that might be hard to debug.\nIt is strongly recommended to pass the ``sampling_rate`` argument to this function.Failing to do so can result in silent errors that might be hard to debug.\n  3%|▎         | 40/1564 [00:03<02:15, 11.21it/s]It is strongly recommended to pass the ``sampling_rate`` argument to this function.Failing to do so can result in silent errors that might be hard to debug.\nIt is strongly recommended to pass the ``sampling_rate`` argument to this function.Failing to do so can result in silent errors that might be hard to debug.\n  3%|▎         | 42/1564 [00:03<02:12, 11.49it/s]It is strongly recommended to pass the ``sampling_rate`` argument to this function.Failing to do so can result in silent errors that might be hard to debug.\nIt is strongly recommended to pass the ``sampling_rate`` argument to this function.Failing to do so can result in silent errors that might be hard to debug.\n  3%|▎         | 44/1564 [00:03<02:10, 11.67it/s]It is strongly recommended to pass the ``sampling_rate`` argument to this function.Failing to do so can result in silent errors that might be hard to debug.\nIt is strongly recommended to pass the ``sampling_rate`` argument to this function.Failing to do so can result in silent errors that might be hard to debug.\n  3%|▎         | 46/1564 [00:03<02:08, 11.79it/s]It is strongly recommended to pass the ``sampling_rate`` argument to this function.Failing to do so can result in silent errors that might be hard to debug.\nIt is strongly recommended to pass the ``sampling_rate`` argument to this function.Failing to do so can result in silent errors that might be hard to debug.\n  3%|▎         | 48/1564 [00:03<02:07, 11.90it/s]It is strongly recommended to pass the ``sampling_rate`` argument to this function.Failing to do so can result in silent errors that might be hard to debug.\nIt is strongly recommended to pass the ``sampling_rate`` argument to this function.Failing to do so can result in silent errors that might be hard to debug.\n  3%|▎         | 50/1564 [00:03<02:03, 12.29it/s]It is strongly recommended to pass the ``sampling_rate`` argument to this function.Failing to do so can result in silent errors that might be hard to debug.\nIt is strongly recommended to pass the ``sampling_rate`` argument to this function.Failing to do so can result in silent errors that might be hard to debug.\n  3%|▎         | 52/1564 [00:04<02:00, 12.59it/s]It is strongly recommended to pass the ``sampling_rate`` argument to this function.Failing to do so can result in silent errors that might be hard to debug.\nIt is strongly recommended to pass the ``sampling_rate`` argument to this function.Failing to do so can result in silent errors that might be hard to debug.\n  3%|▎         | 54/1564 [00:04<01:57, 12.81it/s]It is strongly recommended to pass the ``sampling_rate`` argument to this function.Failing to do so can result in silent errors that might be hard to debug.\nIt is strongly recommended to pass the ``sampling_rate`` argument to this function.Failing to do so can result in silent errors that might be hard to debug.\n  4%|▎         | 56/1564 [00:04<01:56, 12.98it/s]It is strongly recommended to pass the ``sampling_rate`` argument to this function.Failing to do so can result in silent errors that might be hard to debug.\nIt is strongly recommended to pass the ``sampling_rate`` argument to this function.Failing to do so can result in silent errors that might be hard to debug.\n  4%|▎         | 58/1564 [00:04<01:53, 13.31it/s]It is strongly recommended to pass the ``sampling_rate`` argument to this function.Failing to do so can result in silent errors that might be hard to debug.\nIt is strongly recommended to pass the ``sampling_rate`` argument to this function.Failing to do so can result in silent errors that might be hard to debug.\n  4%|▍         | 60/1564 [00:04<01:51, 13.52it/s]It is strongly recommended to pass the ``sampling_rate`` argument to this function.Failing to do so can result in silent errors that might be hard to debug.\nIt is strongly recommended to pass the ``sampling_rate`` argument to this function.Failing to do so can result in silent errors that might be hard to debug.\n  4%|▍         | 62/1564 [00:04<01:49, 13.69it/s]It is strongly recommended to pass the ``sampling_rate`` argument to this function.Failing to do so can result in silent errors that might be hard to debug.\nIt is strongly recommended to pass the ``sampling_rate`` argument to this function.Failing to do so can result in silent errors that might be hard to debug.\n  4%|▍         | 64/1564 [00:04<01:48, 13.83it/s]It is strongly recommended to pass the ``sampling_rate`` argument to this function.Failing to do so can result in silent errors that might be hard to debug.\nIt is strongly recommended to pass the ``sampling_rate`` argument to this function.Failing to do so can result in silent errors that might be hard to debug.\n  4%|▍         | 66/1564 [00:05<01:42, 14.61it/s]It is strongly recommended to pass the ``sampling_rate`` argument to this function.Failing to do so can result in silent errors that might be hard to debug.\nIt is strongly recommended to pass the ``sampling_rate`` argument to this function.Failing to do so can result in silent errors that might be hard to debug.\n  4%|▍         | 68/1564 [00:05<01:37, 15.27it/s]It is strongly recommended to pass the ``sampling_rate`` argument to this function.Failing to do so can result in silent errors that might be hard to debug.\nIt is strongly recommended to pass the ``sampling_rate`` argument to this function.Failing to do so can result in silent errors that might be hard to debug.\n  4%|▍         | 70/1564 [00:05<01:34, 15.79it/s]It is strongly recommended to pass the ``sampling_rate`` argument to this function.Failing to do so can result in silent errors that might be hard to debug.\nIt is strongly recommended to pass the ``sampling_rate`` argument to this function.Failing to do so can result in silent errors that might be hard to debug.\n  5%|▍         | 72/1564 [00:05<01:32, 16.18it/s]It is strongly recommended to pass the ``sampling_rate`` argument to this function.Failing to do so can result in silent errors that might be hard to debug.\nIt is strongly recommended to pass the ``sampling_rate`` argument to this function.Failing to do so can result in silent errors that might be hard to debug.\n  5%|▍         | 74/1564 [00:05<01:30, 16.52it/s]It is strongly recommended to pass the ``sampling_rate`` argument to this function.Failing to do so can result in silent errors that might be hard to debug.\nIt is strongly recommended to pass the ``sampling_rate`` argument to this function.Failing to do so can result in silent errors that might be hard to debug.\n  5%|▍         | 76/1564 [00:05<01:29, 16.71it/s]It is strongly recommended to pass the ``sampling_rate`` argument to this function.Failing to do so can result in silent errors that might be hard to debug.\nIt is strongly recommended to pass the ``sampling_rate`` argument to this function.Failing to do so can result in silent errors that might be hard to debug.\n  5%|▍         | 78/1564 [00:05<01:28, 16.84it/s]It is strongly recommended to pass the ``sampling_rate`` argument to this function.Failing to do so can result in silent errors that might be hard to debug.\nIt is strongly recommended to pass the ``sampling_rate`` argument to this function.Failing to do so can result in silent errors that might be hard to debug.\n  5%|▌         | 80/1564 [00:05<01:27, 16.94it/s]It is strongly recommended to pass the ``sampling_rate`` argument to this function.Failing to do so can result in silent errors that might be hard to debug.\nIt is strongly recommended to pass the ``sampling_rate`` argument to this function.Failing to do so can result in silent errors that might be hard to debug.\n  5%|▌         | 82/1564 [00:06<01:44, 14.17it/s]It is strongly recommended to pass the ``sampling_rate`` argument to this function.Failing to do so can result in silent errors that might be hard to debug.\nIt is strongly recommended to pass the ``sampling_rate`` argument to this function.Failing to do so can result in silent errors that might be hard to debug.\n  5%|▌         | 84/1564 [00:06<01:56, 12.74it/s]It is strongly recommended to pass the ``sampling_rate`` argument to this function.Failing to do so can result in silent errors that might be hard to debug.\nIt is strongly recommended to pass the ``sampling_rate`` argument to this function.Failing to do so can result in silent errors that might be hard to debug.\n  5%|▌         | 86/1564 [00:06<02:04, 11.90it/s]It is strongly recommended to pass the ``sampling_rate`` argument to this function.Failing to do so can result in silent errors that might be hard to debug.\nIt is strongly recommended to pass the ``sampling_rate`` argument to this function.Failing to do so can result in silent errors that might be hard to debug.\n  6%|▌         | 88/1564 [00:06<02:10, 11.35it/s]It is strongly recommended to pass the ``sampling_rate`` argument to this function.Failing to do so can result in silent errors that might be hard to debug.\nIt is strongly recommended to pass the ``sampling_rate`` argument to this function.Failing to do so can result in silent errors that might be hard to debug.\n  6%|▌         | 90/1564 [00:06<02:10, 11.31it/s]It is strongly recommended to pass the ``sampling_rate`` argument to this function.Failing to do so can result in silent errors that might be hard to debug.\nIt is strongly recommended to pass the ``sampling_rate`` argument to this function.Failing to do so can result in silent errors that might be hard to debug.\n  6%|▌         | 92/1564 [00:06<02:10, 11.30it/s]It is strongly recommended to pass the ``sampling_rate`` argument to this function.Failing to do so can result in silent errors that might be hard to debug.\nIt is strongly recommended to pass the ``sampling_rate`` argument to this function.Failing to do so can result in silent errors that might be hard to debug.\n  6%|▌         | 94/1564 [00:07<02:10, 11.30it/s]It is strongly recommended to pass the ``sampling_rate`` argument to this function.Failing to do so can result in silent errors that might be hard to debug.\nIt is strongly recommended to pass the ``sampling_rate`` argument to this function.Failing to do so can result in silent errors that might be hard to debug.\n  6%|▌         | 96/1564 [00:07<02:09, 11.32it/s]It is strongly recommended to pass the ``sampling_rate`` argument to this function.Failing to do so can result in silent errors that might be hard to debug.\nIt is strongly recommended to pass the ``sampling_rate`` argument to this function.Failing to do so can result in silent errors that might be hard to debug.\n  6%|▋         | 98/1564 [00:07<02:11, 11.15it/s]It is strongly recommended to pass the ``sampling_rate`` argument to this function.Failing to do so can result in silent errors that might be hard to debug.\nIt is strongly recommended to pass the ``sampling_rate`` argument to this function.Failing to do so can result in silent errors that might be hard to debug.\n  6%|▋         | 100/1564 [00:07<02:12, 11.04it/s]It is strongly recommended to pass the ``sampling_rate`` argument to this function.Failing to do so can result in silent errors that might be hard to debug.\nIt is strongly recommended to pass the ``sampling_rate`` argument to this function.Failing to do so can result in silent errors that might be hard to debug.\n  7%|▋         | 102/1564 [00:07<02:13, 10.95it/s]It is strongly recommended to pass the ``sampling_rate`` argument to this function.Failing to do so can result in silent errors that might be hard to debug.\nIt is strongly recommended to pass the ``sampling_rate`` argument to this function.Failing to do so can result in silent errors that might be hard to debug.\n  7%|▋         | 104/1564 [00:08<02:14, 10.88it/s]It is strongly recommended to pass the ``sampling_rate`` argument to this function.Failing to do so can result in silent errors that might be hard to debug.\nIt is strongly recommended to pass the ``sampling_rate`` argument to this function.Failing to do so can result in silent errors that might be hard to debug.\n  7%|▋         | 106/1564 [00:08<02:45,  8.81it/s]It is strongly recommended to pass the ``sampling_rate`` argument to this function.Failing to do so can result in silent errors that might be hard to debug.\n  7%|▋         | 107/1564 [00:08<02:55,  8.32it/s]It is strongly recommended to pass the ``sampling_rate`` argument to this function.Failing to do so can result in silent errors that might be hard to debug.\n  7%|▋         | 108/1564 [00:08<03:04,  7.90it/s]It is strongly recommended to pass the ``sampling_rate`` argument to this function.Failing to do so can result in silent errors that might be hard to debug.\n  7%|▋         | 109/1564 [00:08<03:11,  7.58it/s]It is strongly recommended to pass the ``sampling_rate`` argument to this function.Failing to do so can result in silent errors that might be hard to debug.\n  7%|▋         | 110/1564 [00:09<03:18,  7.32it/s]It is strongly recommended to pass the ``sampling_rate`` argument to this function.Failing to do so can result in silent errors that might be hard to debug.\n  7%|▋         | 111/1564 [00:09<03:23,  7.12it/s]It is strongly recommended to pass the ``sampling_rate`` argument to this function.Failing to do so can result in silent errors that might be hard to debug.\n  7%|▋         | 112/1564 [00:09<03:27,  7.00it/s]It is strongly recommended to pass the ``sampling_rate`` argument to this function.Failing to do so can result in silent errors that might be hard to debug.\n  7%|▋         | 113/1564 [00:09<03:13,  7.49it/s]It is strongly recommended to pass the ``sampling_rate`` argument to this function.Failing to do so can result in silent errors that might be hard to debug.\n  7%|▋         | 114/1564 [00:09<03:03,  7.91it/s]It is strongly recommended to pass the ``sampling_rate`` argument to this function.Failing to do so can result in silent errors that might be hard to debug.\n  7%|▋         | 115/1564 [00:09<02:55,  8.25it/s]It is strongly recommended to pass the ``sampling_rate`` argument to this function.Failing to do so can result in silent errors that might be hard to debug.\n  7%|▋         | 116/1564 [00:09<02:50,  8.52it/s]It is strongly recommended to pass the ``sampling_rate`` argument to this function.Failing to do so can result in silent errors that might be hard to debug.\n  7%|▋         | 117/1564 [00:09<02:46,  8.71it/s]It is strongly recommended to pass the ``sampling_rate`` argument to this function.Failing to do so can result in silent errors that might be hard to debug.\n  8%|▊         | 118/1564 [00:09<02:45,  8.76it/s]It is strongly recommended to pass the ``sampling_rate`` argument to this function.Failing to do so can result in silent errors that might be hard to debug.\n  8%|▊         | 119/1564 [00:10<02:42,  8.90it/s]It is strongly recommended to pass the ``sampling_rate`` argument to this function.Failing to do so can result in silent errors that might be hard to debug.\n  8%|▊         | 120/1564 [00:10<02:40,  9.00it/s]It is strongly recommended to pass the ``sampling_rate`` argument to this function.Failing to do so can result in silent errors that might be hard to debug.\n  8%|▊         | 121/1564 [00:10<02:58,  8.07it/s]It is strongly recommended to pass the ``sampling_rate`` argument to this function.Failing to do so can result in silent errors that might be hard to debug.\n  8%|▊         | 122/1564 [00:10<03:17,  7.29it/s]It is strongly recommended to pass the ``sampling_rate`` argument to this function.Failing to do so can result in silent errors that might be hard to debug.\n  8%|▊         | 123/1564 [00:10<03:34,  6.71it/s]It is strongly recommended to pass the ``sampling_rate`` argument to this function.Failing to do so can result in silent errors that might be hard to debug.\n  8%|▊         | 124/1564 [00:10<03:43,  6.43it/s]It is strongly recommended to pass the ``sampling_rate`` argument to this function.Failing to do so can result in silent errors that might be hard to debug.\n  8%|▊         | 125/1564 [00:11<03:57,  6.05it/s]It is strongly recommended to pass the ``sampling_rate`` argument to this function.Failing to do so can result in silent errors that might be hard to debug.\n  8%|▊         | 126/1564 [00:11<03:58,  6.03it/s]It is strongly recommended to pass the ``sampling_rate`` argument to this function.Failing to do so can result in silent errors that might be hard to debug.\n  8%|▊         | 127/1564 [00:11<04:13,  5.67it/s]It is strongly recommended to pass the ``sampling_rate`` argument to this function.Failing to do so can result in silent errors that might be hard to debug.\n  8%|▊         | 128/1564 [00:11<04:28,  5.35it/s]It is strongly recommended to pass the ``sampling_rate`` argument to this function.Failing to do so can result in silent errors that might be hard to debug.\nIt is strongly recommended to pass the ``sampling_rate`` argument to this function.Failing to do so can result in silent errors that might be hard to debug.\n  8%|▊         | 130/1564 [00:11<03:14,  7.38it/s]It is strongly recommended to pass the ``sampling_rate`` argument to this function.Failing to do so can result in silent errors that might be hard to debug.\nIt is strongly recommended to pass the ``sampling_rate`` argument to this function.Failing to do so can result in silent errors that might be hard to debug.\n  8%|▊         | 132/1564 [00:11<02:33,  9.35it/s]It is strongly recommended to pass the ``sampling_rate`` argument to this function.Failing to do so can result in silent errors that might be hard to debug.\nIt is strongly recommended to pass the ``sampling_rate`` argument to this function.Failing to do so can result in silent errors that might be hard to debug.\n  9%|▊         | 134/1564 [00:12<02:10, 10.94it/s]It is strongly recommended to pass the ``sampling_rate`` argument to this function.Failing to do so can result in silent errors that might be hard to debug.\nIt is strongly recommended to pass the ``sampling_rate`` argument to this function.Failing to do so can result in silent errors that might be hard to debug.\n  9%|▊         | 136/1564 [00:12<01:57, 12.15it/s]It is strongly recommended to pass the ``sampling_rate`` argument to this function.Failing to do so can result in silent errors that might be hard to debug.\nIt is strongly recommended to pass the ``sampling_rate`` argument to this function.Failing to do so can result in silent errors that might be hard to debug.\n  9%|▉         | 138/1564 [00:12<01:52, 12.65it/s]It is strongly recommended to pass the ``sampling_rate`` argument to this function.Failing to do so can result in silent errors that might be hard to debug.\nIt is strongly recommended to pass the ``sampling_rate`` argument to this function.Failing to do so can result in silent errors that might be hard to debug.\n  9%|▉         | 140/1564 [00:12<01:48, 13.09it/s]It is strongly recommended to pass the ``sampling_rate`` argument to this function.Failing to do so can result in silent errors that might be hard to debug.\nIt is strongly recommended to pass the ``sampling_rate`` argument to this function.Failing to do so can result in silent errors that might be hard to debug.\n  9%|▉         | 142/1564 [00:12<01:45, 13.44it/s]It is strongly recommended to pass the ``sampling_rate`` argument to this function.Failing to do so can result in silent errors that might be hard to debug.\nIt is strongly recommended to pass the ``sampling_rate`` argument to this function.Failing to do so can result in silent errors that might be hard to debug.\n  9%|▉         | 144/1564 [00:12<01:44, 13.64it/s]It is strongly recommended to pass the ``sampling_rate`` argument to this function.Failing to do so can result in silent errors that might be hard to debug.\nIt is strongly recommended to pass the ``sampling_rate`` argument to this function.Failing to do so can result in silent errors that might be hard to debug.\n  9%|▉         | 146/1564 [00:12<01:48, 13.09it/s]It is strongly recommended to pass the ``sampling_rate`` argument to this function.Failing to do so can result in silent errors that might be hard to debug.\nIt is strongly recommended to pass the ``sampling_rate`` argument to this function.Failing to do so can result in silent errors that might be hard to debug.\n  9%|▉         | 148/1564 [00:13<01:51, 12.75it/s]It is strongly recommended to pass the ``sampling_rate`` argument to this function.Failing to do so can result in silent errors that might be hard to debug.\nIt is strongly recommended to pass the ``sampling_rate`` argument to this function.Failing to do so can result in silent errors that might be hard to debug.\n 10%|▉         | 150/1564 [00:13<01:52, 12.55it/s]It is strongly recommended to pass the ``sampling_rate`` argument to this function.Failing to do so can result in silent errors that might be hard to debug.\nIt is strongly recommended to pass the ``sampling_rate`` argument to this function.Failing to do so can result in silent errors that might be hard to debug.\n 10%|▉         | 152/1564 [00:13<01:53, 12.39it/s]It is strongly recommended to pass the ``sampling_rate`` argument to this function.Failing to do so can result in silent errors that might be hard to debug.\nIt is strongly recommended to pass the ``sampling_rate`` argument to this function.Failing to do so can result in silent errors that might be hard to debug.\n 10%|▉         | 154/1564 [00:13<01:47, 13.13it/s]It is strongly recommended to pass the ``sampling_rate`` argument to this function.Failing to do so can result in silent errors that might be hard to debug.\nIt is strongly recommended to pass the ``sampling_rate`` argument to this function.Failing to do so can result in silent errors that might be hard to debug.\n 10%|▉         | 156/1564 [00:13<01:42, 13.70it/s]It is strongly recommended to pass the ``sampling_rate`` argument to this function.Failing to do so can result in silent errors that might be hard to debug.\nIt is strongly recommended to pass the ``sampling_rate`` argument to this function.Failing to do so can result in silent errors that might be hard to debug.\n 10%|█         | 158/1564 [00:13<01:39, 14.14it/s]It is strongly recommended to pass the ``sampling_rate`` argument to this function.Failing to do so can result in silent errors that might be hard to debug.\nIt is strongly recommended to pass the ``sampling_rate`` argument to this function.Failing to do so can result in silent errors that might be hard to debug.\n 10%|█         | 160/1564 [00:13<01:37, 14.45it/s]It is strongly recommended to pass the ``sampling_rate`` argument to this function.Failing to do so can result in silent errors that might be hard to debug.\nIt is strongly recommended to pass the ``sampling_rate`` argument to this function.Failing to do so can result in silent errors that might be hard to debug.\n 10%|█         | 162/1564 [00:14<01:36, 14.60it/s]It is strongly recommended to pass the ``sampling_rate`` argument to this function.Failing to do so can result in silent errors that might be hard to debug.\nIt is strongly recommended to pass the ``sampling_rate`` argument to this function.Failing to do so can result in silent errors that might be hard to debug.\n 10%|█         | 164/1564 [00:14<01:35, 14.72it/s]It is strongly recommended to pass the ``sampling_rate`` argument to this function.Failing to do so can result in silent errors that might be hard to debug.\nIt is strongly recommended to pass the ``sampling_rate`` argument to this function.Failing to do so can result in silent errors that might be hard to debug.\n 11%|█         | 166/1564 [00:14<01:34, 14.82it/s]It is strongly recommended to pass the ``sampling_rate`` argument to this function.Failing to do so can result in silent errors that might be hard to debug.\nIt is strongly recommended to pass the ``sampling_rate`` argument to this function.Failing to do so can result in silent errors that might be hard to debug.\n 11%|█         | 168/1564 [00:14<01:33, 14.87it/s]It is strongly recommended to pass the ``sampling_rate`` argument to this function.Failing to do so can result in silent errors that might be hard to debug.\nIt is strongly recommended to pass the ``sampling_rate`` argument to this function.Failing to do so can result in silent errors that might be hard to debug.\n 11%|█         | 170/1564 [00:14<01:30, 15.38it/s]It is strongly recommended to pass the ``sampling_rate`` argument to this function.Failing to do so can result in silent errors that might be hard to debug.\nIt is strongly recommended to pass the ``sampling_rate`` argument to this function.Failing to do so can result in silent errors that might be hard to debug.\n 11%|█         | 172/1564 [00:14<01:28, 15.77it/s]It is strongly recommended to pass the ``sampling_rate`` argument to this function.Failing to do so can result in silent errors that might be hard to debug.\nIt is strongly recommended to pass the ``sampling_rate`` argument to this function.Failing to do so can result in silent errors that might be hard to debug.\n 11%|█         | 174/1564 [00:14<01:26, 16.07it/s]It is strongly recommended to pass the ``sampling_rate`` argument to this function.Failing to do so can result in silent errors that might be hard to debug.\nIt is strongly recommended to pass the ``sampling_rate`` argument to this function.Failing to do so can result in silent errors that might be hard to debug.\n 11%|█▏        | 176/1564 [00:14<01:25, 16.27it/s]It is strongly recommended to pass the ``sampling_rate`` argument to this function.Failing to do so can result in silent errors that might be hard to debug.\nIt is strongly recommended to pass the ``sampling_rate`` argument to this function.Failing to do so can result in silent errors that might be hard to debug.\n 11%|█▏        | 178/1564 [00:15<01:24, 16.33it/s]It is strongly recommended to pass the ``sampling_rate`` argument to this function.Failing to do so can result in silent errors that might be hard to debug.\nIt is strongly recommended to pass the ``sampling_rate`` argument to this function.Failing to do so can result in silent errors that might be hard to debug.\n 12%|█▏        | 180/1564 [00:15<01:24, 16.39it/s]It is strongly recommended to pass the ``sampling_rate`` argument to this function.Failing to do so can result in silent errors that might be hard to debug.\nIt is strongly recommended to pass the ``sampling_rate`` argument to this function.Failing to do so can result in silent errors that might be hard to debug.\n 12%|█▏        | 182/1564 [00:15<01:23, 16.46it/s]It is strongly recommended to pass the ``sampling_rate`` argument to this function.Failing to do so can result in silent errors that might be hard to debug.\nIt is strongly recommended to pass the ``sampling_rate`` argument to this function.Failing to do so can result in silent errors that might be hard to debug.\n 12%|█▏        | 184/1564 [00:15<01:23, 16.49it/s]It is strongly recommended to pass the ``sampling_rate`` argument to this function.Failing to do so can result in silent errors that might be hard to debug.\nIt is strongly recommended to pass the ``sampling_rate`` argument to this function.Failing to do so can result in silent errors that might be hard to debug.\n 12%|█▏        | 186/1564 [00:15<01:33, 14.78it/s]It is strongly recommended to pass the ``sampling_rate`` argument to this function.Failing to do so can result in silent errors that might be hard to debug.\nIt is strongly recommended to pass the ``sampling_rate`` argument to this function.Failing to do so can result in silent errors that might be hard to debug.\n 12%|█▏        | 188/1564 [00:15<01:39, 13.80it/s]It is strongly recommended to pass the ``sampling_rate`` argument to this function.Failing to do so can result in silent errors that might be hard to debug.\nIt is strongly recommended to pass the ``sampling_rate`` argument to this function.Failing to do so can result in silent errors that might be hard to debug.\n 12%|█▏        | 190/1564 [00:15<01:44, 13.16it/s]It is strongly recommended to pass the ``sampling_rate`` argument to this function.Failing to do so can result in silent errors that might be hard to debug.\nIt is strongly recommended to pass the ``sampling_rate`` argument to this function.Failing to do so can result in silent errors that might be hard to debug.\n 12%|█▏        | 192/1564 [00:16<01:47, 12.71it/s]It is strongly recommended to pass the ``sampling_rate`` argument to this function.Failing to do so can result in silent errors that might be hard to debug.\nIt is strongly recommended to pass the ``sampling_rate`` argument to this function.Failing to do so can result in silent errors that might be hard to debug.\n 12%|█▏        | 194/1564 [00:16<01:39, 13.73it/s]It is strongly recommended to pass the ``sampling_rate`` argument to this function.Failing to do so can result in silent errors that might be hard to debug.\nIt is strongly recommended to pass the ``sampling_rate`` argument to this function.Failing to do so can result in silent errors that might be hard to debug.\n 13%|█▎        | 196/1564 [00:16<01:33, 14.57it/s]It is strongly recommended to pass the ``sampling_rate`` argument to this function.Failing to do so can result in silent errors that might be hard to debug.\nIt is strongly recommended to pass the ``sampling_rate`` argument to this function.Failing to do so can result in silent errors that might be hard to debug.\n 13%|█▎        | 198/1564 [00:16<01:29, 15.18it/s]It is strongly recommended to pass the ``sampling_rate`` argument to this function.Failing to do so can result in silent errors that might be hard to debug.\nIt is strongly recommended to pass the ``sampling_rate`` argument to this function.Failing to do so can result in silent errors that might be hard to debug.\n 13%|█▎        | 200/1564 [00:16<01:27, 15.52it/s]It is strongly recommended to pass the ``sampling_rate`` argument to this function.Failing to do so can result in silent errors that might be hard to debug.\nIt is strongly recommended to pass the ``sampling_rate`` argument to this function.Failing to do so can result in silent errors that might be hard to debug.\n 13%|█▎        | 202/1564 [00:16<01:29, 15.15it/s]It is strongly recommended to pass the ``sampling_rate`` argument to this function.Failing to do so can result in silent errors that might be hard to debug.\nIt is strongly recommended to pass the ``sampling_rate`` argument to this function.Failing to do so can result in silent errors that might be hard to debug.\n 13%|█▎        | 204/1564 [00:16<01:31, 14.89it/s]It is strongly recommended to pass the ``sampling_rate`` argument to this function.Failing to do so can result in silent errors that might be hard to debug.\nIt is strongly recommended to pass the ``sampling_rate`` argument to this function.Failing to do so can result in silent errors that might be hard to debug.\n 13%|█▎        | 206/1564 [00:16<01:32, 14.72it/s]It is strongly recommended to pass the ``sampling_rate`` argument to this function.Failing to do so can result in silent errors that might be hard to debug.\nIt is strongly recommended to pass the ``sampling_rate`` argument to this function.Failing to do so can result in silent errors that might be hard to debug.\n 13%|█▎        | 208/1564 [00:17<01:32, 14.63it/s]It is strongly recommended to pass the ``sampling_rate`` argument to this function.Failing to do so can result in silent errors that might be hard to debug.\nIt is strongly recommended to pass the ``sampling_rate`` argument to this function.Failing to do so can result in silent errors that might be hard to debug.\n 13%|█▎        | 210/1564 [00:17<01:33, 14.41it/s]It is strongly recommended to pass the ``sampling_rate`` argument to this function.Failing to do so can result in silent errors that might be hard to debug.\nIt is strongly recommended to pass the ``sampling_rate`` argument to this function.Failing to do so can result in silent errors that might be hard to debug.\n 14%|█▎        | 212/1564 [00:17<01:34, 14.27it/s]It is strongly recommended to pass the ``sampling_rate`` argument to this function.Failing to do so can result in silent errors that might be hard to debug.\nIt is strongly recommended to pass the ``sampling_rate`` argument to this function.Failing to do so can result in silent errors that might be hard to debug.\n 14%|█▎        | 214/1564 [00:17<01:35, 14.19it/s]It is strongly recommended to pass the ``sampling_rate`` argument to this function.Failing to do so can result in silent errors that might be hard to debug.\nIt is strongly recommended to pass the ``sampling_rate`` argument to this function.Failing to do so can result in silent errors that might be hard to debug.\n 14%|█▍        | 216/1564 [00:17<01:35, 14.12it/s]It is strongly recommended to pass the ``sampling_rate`` argument to this function.Failing to do so can result in silent errors that might be hard to debug.\nIt is strongly recommended to pass the ``sampling_rate`` argument to this function.Failing to do so can result in silent errors that might be hard to debug.\n 14%|█▍        | 218/1564 [00:17<01:42, 13.11it/s]It is strongly recommended to pass the ``sampling_rate`` argument to this function.Failing to do so can result in silent errors that might be hard to debug.\nIt is strongly recommended to pass the ``sampling_rate`` argument to this function.Failing to do so can result in silent errors that might be hard to debug.\n 14%|█▍        | 220/1564 [00:18<01:47, 12.51it/s]It is strongly recommended to pass the ``sampling_rate`` argument to this function.Failing to do so can result in silent errors that might be hard to debug.\nIt is strongly recommended to pass the ``sampling_rate`` argument to this function.Failing to do so can result in silent errors that might be hard to debug.\n 14%|█▍        | 222/1564 [00:18<01:50, 12.09it/s]It is strongly recommended to pass the ``sampling_rate`` argument to this function.Failing to do so can result in silent errors that might be hard to debug.\nIt is strongly recommended to pass the ``sampling_rate`` argument to this function.Failing to do so can result in silent errors that might be hard to debug.\n 14%|█▍        | 224/1564 [00:18<01:52, 11.87it/s]It is strongly recommended to pass the ``sampling_rate`` argument to this function.Failing to do so can result in silent errors that might be hard to debug.\nIt is strongly recommended to pass the ``sampling_rate`` argument to this function.Failing to do so can result in silent errors that might be hard to debug.\n 14%|█▍        | 226/1564 [00:18<01:50, 12.07it/s]It is strongly recommended to pass the ``sampling_rate`` argument to this function.Failing to do so can result in silent errors that might be hard to debug.\nIt is strongly recommended to pass the ``sampling_rate`` argument to this function.Failing to do so can result in silent errors that might be hard to debug.\n 15%|█▍        | 228/1564 [00:18<01:49, 12.21it/s]It is strongly recommended to pass the ``sampling_rate`` argument to this function.Failing to do so can result in silent errors that might be hard to debug.\nIt is strongly recommended to pass the ``sampling_rate`` argument to this function.Failing to do so can result in silent errors that might be hard to debug.\n 15%|█▍        | 230/1564 [00:18<01:48, 12.30it/s]It is strongly recommended to pass the ``sampling_rate`` argument to this function.Failing to do so can result in silent errors that might be hard to debug.\nIt is strongly recommended to pass the ``sampling_rate`` argument to this function.Failing to do so can result in silent errors that might be hard to debug.\n 15%|█▍        | 232/1564 [00:19<01:47, 12.36it/s]It is strongly recommended to pass the ``sampling_rate`` argument to this function.Failing to do so can result in silent errors that might be hard to debug.\nIt is strongly recommended to pass the ``sampling_rate`` argument to this function.Failing to do so can result in silent errors that might be hard to debug.\n 15%|█▍        | 234/1564 [00:19<01:41, 13.06it/s]It is strongly recommended to pass the ``sampling_rate`` argument to this function.Failing to do so can result in silent errors that might be hard to debug.\nIt is strongly recommended to pass the ``sampling_rate`` argument to this function.Failing to do so can result in silent errors that might be hard to debug.\n 15%|█▌        | 236/1564 [00:19<01:37, 13.59it/s]It is strongly recommended to pass the ``sampling_rate`` argument to this function.Failing to do so can result in silent errors that might be hard to debug.\nIt is strongly recommended to pass the ``sampling_rate`` argument to this function.Failing to do so can result in silent errors that might be hard to debug.\n 15%|█▌        | 238/1564 [00:19<01:34, 14.01it/s]It is strongly recommended to pass the ``sampling_rate`` argument to this function.Failing to do so can result in silent errors that might be hard to debug.\nIt is strongly recommended to pass the ``sampling_rate`` argument to this function.Failing to do so can result in silent errors that might be hard to debug.\n 15%|█▌        | 240/1564 [00:19<01:32, 14.34it/s]It is strongly recommended to pass the ``sampling_rate`` argument to this function.Failing to do so can result in silent errors that might be hard to debug.\nIt is strongly recommended to pass the ``sampling_rate`` argument to this function.Failing to do so can result in silent errors that might be hard to debug.\n 15%|█▌        | 242/1564 [00:19<01:39, 13.34it/s]It is strongly recommended to pass the ``sampling_rate`` argument to this function.Failing to do so can result in silent errors that might be hard to debug.\nIt is strongly recommended to pass the ``sampling_rate`` argument to this function.Failing to do so can result in silent errors that might be hard to debug.\n 16%|█▌        | 244/1564 [00:19<01:44, 12.68it/s]It is strongly recommended to pass the ``sampling_rate`` argument to this function.Failing to do so can result in silent errors that might be hard to debug.\nIt is strongly recommended to pass the ``sampling_rate`` argument to this function.Failing to do so can result in silent errors that might be hard to debug.\n 16%|█▌        | 246/1564 [00:20<01:47, 12.29it/s]It is strongly recommended to pass the ``sampling_rate`` argument to this function.Failing to do so can result in silent errors that might be hard to debug.\nIt is strongly recommended to pass the ``sampling_rate`` argument to this function.Failing to do so can result in silent errors that might be hard to debug.\n 16%|█▌        | 248/1564 [00:20<01:49, 12.04it/s]It is strongly recommended to pass the ``sampling_rate`` argument to this function.Failing to do so can result in silent errors that might be hard to debug.\nIt is strongly recommended to pass the ``sampling_rate`` argument to this function.Failing to do so can result in silent errors that might be hard to debug.\n 16%|█▌        | 250/1564 [00:20<01:53, 11.60it/s]It is strongly recommended to pass the ``sampling_rate`` argument to this function.Failing to do so can result in silent errors that might be hard to debug.\nIt is strongly recommended to pass the ``sampling_rate`` argument to this function.Failing to do so can result in silent errors that might be hard to debug.\n 16%|█▌        | 252/1564 [00:20<01:55, 11.38it/s]It is strongly recommended to pass the ``sampling_rate`` argument to this function.Failing to do so can result in silent errors that might be hard to debug.\nIt is strongly recommended to pass the ``sampling_rate`` argument to this function.Failing to do so can result in silent errors that might be hard to debug.\n 16%|█▌        | 254/1564 [00:20<01:56, 11.25it/s]It is strongly recommended to pass the ``sampling_rate`` argument to this function.Failing to do so can result in silent errors that might be hard to debug.\nIt is strongly recommended to pass the ``sampling_rate`` argument to this function.Failing to do so can result in silent errors that might be hard to debug.\n 16%|█▋        | 256/1564 [00:21<01:57, 11.11it/s]It is strongly recommended to pass the ``sampling_rate`` argument to this function.Failing to do so can result in silent errors that might be hard to debug.\nIt is strongly recommended to pass the ``sampling_rate`` argument to this function.Failing to do so can result in silent errors that might be hard to debug.\n 16%|█▋        | 258/1564 [00:21<01:50, 11.81it/s]It is strongly recommended to pass the ``sampling_rate`` argument to this function.Failing to do so can result in silent errors that might be hard to debug.\nIt is strongly recommended to pass the ``sampling_rate`` argument to this function.Failing to do so can result in silent errors that might be hard to debug.\n 17%|█▋        | 260/1564 [00:21<01:45, 12.34it/s]It is strongly recommended to pass the ``sampling_rate`` argument to this function.Failing to do so can result in silent errors that might be hard to debug.\nIt is strongly recommended to pass the ``sampling_rate`` argument to this function.Failing to do so can result in silent errors that might be hard to debug.\n 17%|█▋        | 262/1564 [00:21<01:42, 12.71it/s]It is strongly recommended to pass the ``sampling_rate`` argument to this function.Failing to do so can result in silent errors that might be hard to debug.\nIt is strongly recommended to pass the ``sampling_rate`` argument to this function.Failing to do so can result in silent errors that might be hard to debug.\n 17%|█▋        | 264/1564 [00:21<01:40, 12.97it/s]It is strongly recommended to pass the ``sampling_rate`` argument to this function.Failing to do so can result in silent errors that might be hard to debug.\nIt is strongly recommended to pass the ``sampling_rate`` argument to this function.Failing to do so can result in silent errors that might be hard to debug.\n 17%|█▋        | 266/1564 [00:21<01:39, 13.03it/s]It is strongly recommended to pass the ``sampling_rate`` argument to this function.Failing to do so can result in silent errors that might be hard to debug.\nIt is strongly recommended to pass the ``sampling_rate`` argument to this function.Failing to do so can result in silent errors that might be hard to debug.\n 17%|█▋        | 268/1564 [00:21<01:35, 13.57it/s]It is strongly recommended to pass the ``sampling_rate`` argument to this function.Failing to do so can result in silent errors that might be hard to debug.\nIt is strongly recommended to pass the ``sampling_rate`` argument to this function.Failing to do so can result in silent errors that might be hard to debug.\n 17%|█▋        | 270/1564 [00:22<01:35, 13.49it/s]It is strongly recommended to pass the ``sampling_rate`` argument to this function.Failing to do so can result in silent errors that might be hard to debug.\nIt is strongly recommended to pass the ``sampling_rate`` argument to this function.Failing to do so can result in silent errors that might be hard to debug.\n 17%|█▋        | 272/1564 [00:22<01:32, 13.89it/s]It is strongly recommended to pass the ``sampling_rate`` argument to this function.Failing to do so can result in silent errors that might be hard to debug.\nIt is strongly recommended to pass the ``sampling_rate`` argument to this function.Failing to do so can result in silent errors that might be hard to debug.\n 18%|█▊        | 274/1564 [00:22<01:44, 12.37it/s]It is strongly recommended to pass the ``sampling_rate`` argument to this function.Failing to do so can result in silent errors that might be hard to debug.\nIt is strongly recommended to pass the ``sampling_rate`` argument to this function.Failing to do so can result in silent errors that might be hard to debug.\n 18%|█▊        | 276/1564 [00:22<01:55, 11.19it/s]It is strongly recommended to pass the ``sampling_rate`` argument to this function.Failing to do so can result in silent errors that might be hard to debug.\nIt is strongly recommended to pass the ``sampling_rate`` argument to this function.Failing to do so can result in silent errors that might be hard to debug.\n 18%|█▊        | 278/1564 [00:22<01:55, 11.18it/s]It is strongly recommended to pass the ``sampling_rate`` argument to this function.Failing to do so can result in silent errors that might be hard to debug.\nIt is strongly recommended to pass the ``sampling_rate`` argument to this function.Failing to do so can result in silent errors that might be hard to debug.\n 18%|█▊        | 280/1564 [00:22<01:52, 11.44it/s]It is strongly recommended to pass the ``sampling_rate`` argument to this function.Failing to do so can result in silent errors that might be hard to debug.\nIt is strongly recommended to pass the ``sampling_rate`` argument to this function.Failing to do so can result in silent errors that might be hard to debug.\n 18%|█▊        | 282/1564 [00:23<01:42, 12.55it/s]It is strongly recommended to pass the ``sampling_rate`` argument to this function.Failing to do so can result in silent errors that might be hard to debug.\nIt is strongly recommended to pass the ``sampling_rate`` argument to this function.Failing to do so can result in silent errors that might be hard to debug.\n 18%|█▊        | 284/1564 [00:23<01:34, 13.51it/s]It is strongly recommended to pass the ``sampling_rate`` argument to this function.Failing to do so can result in silent errors that might be hard to debug.\nIt is strongly recommended to pass the ``sampling_rate`` argument to this function.Failing to do so can result in silent errors that might be hard to debug.\n 18%|█▊        | 286/1564 [00:23<01:29, 14.28it/s]It is strongly recommended to pass the ``sampling_rate`` argument to this function.Failing to do so can result in silent errors that might be hard to debug.\nIt is strongly recommended to pass the ``sampling_rate`` argument to this function.Failing to do so can result in silent errors that might be hard to debug.\n 18%|█▊        | 288/1564 [00:23<01:25, 14.87it/s]It is strongly recommended to pass the ``sampling_rate`` argument to this function.Failing to do so can result in silent errors that might be hard to debug.\nIt is strongly recommended to pass the ``sampling_rate`` argument to this function.Failing to do so can result in silent errors that might be hard to debug.\n 19%|█▊        | 290/1564 [00:23<01:27, 14.64it/s]It is strongly recommended to pass the ``sampling_rate`` argument to this function.Failing to do so can result in silent errors that might be hard to debug.\nIt is strongly recommended to pass the ``sampling_rate`` argument to this function.Failing to do so can result in silent errors that might be hard to debug.\n 19%|█▊        | 292/1564 [00:23<01:28, 14.39it/s]It is strongly recommended to pass the ``sampling_rate`` argument to this function.Failing to do so can result in silent errors that might be hard to debug.\nIt is strongly recommended to pass the ``sampling_rate`` argument to this function.Failing to do so can result in silent errors that might be hard to debug.\n 19%|█▉        | 294/1564 [00:23<01:28, 14.29it/s]It is strongly recommended to pass the ``sampling_rate`` argument to this function.Failing to do so can result in silent errors that might be hard to debug.\nIt is strongly recommended to pass the ``sampling_rate`` argument to this function.Failing to do so can result in silent errors that might be hard to debug.\n 19%|█▉        | 296/1564 [00:23<01:29, 14.20it/s]It is strongly recommended to pass the ``sampling_rate`` argument to this function.Failing to do so can result in silent errors that might be hard to debug.\nIt is strongly recommended to pass the ``sampling_rate`` argument to this function.Failing to do so can result in silent errors that might be hard to debug.\n 19%|█▉        | 298/1564 [00:24<01:23, 15.14it/s]It is strongly recommended to pass the ``sampling_rate`` argument to this function.Failing to do so can result in silent errors that might be hard to debug.\nIt is strongly recommended to pass the ``sampling_rate`` argument to this function.Failing to do so can result in silent errors that might be hard to debug.\n 19%|█▉        | 300/1564 [00:24<01:19, 15.89it/s]It is strongly recommended to pass the ``sampling_rate`` argument to this function.Failing to do so can result in silent errors that might be hard to debug.\nIt is strongly recommended to pass the ``sampling_rate`` argument to this function.Failing to do so can result in silent errors that might be hard to debug.\n 19%|█▉        | 302/1564 [00:24<01:16, 16.47it/s]It is strongly recommended to pass the ``sampling_rate`` argument to this function.Failing to do so can result in silent errors that might be hard to debug.\nIt is strongly recommended to pass the ``sampling_rate`` argument to this function.Failing to do so can result in silent errors that might be hard to debug.\n 19%|█▉        | 304/1564 [00:24<01:14, 16.93it/s]It is strongly recommended to pass the ``sampling_rate`` argument to this function.Failing to do so can result in silent errors that might be hard to debug.\nIt is strongly recommended to pass the ``sampling_rate`` argument to this function.Failing to do so can result in silent errors that might be hard to debug.\n 20%|█▉        | 306/1564 [00:24<01:23, 15.11it/s]It is strongly recommended to pass the ``sampling_rate`` argument to this function.Failing to do so can result in silent errors that might be hard to debug.\nIt is strongly recommended to pass the ``sampling_rate`` argument to this function.Failing to do so can result in silent errors that might be hard to debug.\n 20%|█▉        | 308/1564 [00:24<01:28, 14.14it/s]It is strongly recommended to pass the ``sampling_rate`` argument to this function.Failing to do so can result in silent errors that might be hard to debug.\nIt is strongly recommended to pass the ``sampling_rate`` argument to this function.Failing to do so can result in silent errors that might be hard to debug.\n 20%|█▉        | 310/1564 [00:24<01:32, 13.50it/s]It is strongly recommended to pass the ``sampling_rate`` argument to this function.Failing to do so can result in silent errors that might be hard to debug.\nIt is strongly recommended to pass the ``sampling_rate`` argument to this function.Failing to do so can result in silent errors that might be hard to debug.\n 20%|█▉        | 312/1564 [00:25<01:35, 13.11it/s]It is strongly recommended to pass the ``sampling_rate`` argument to this function.Failing to do so can result in silent errors that might be hard to debug.\nIt is strongly recommended to pass the ``sampling_rate`` argument to this function.Failing to do so can result in silent errors that might be hard to debug.\n 20%|██        | 314/1564 [00:25<01:41, 12.34it/s]It is strongly recommended to pass the ``sampling_rate`` argument to this function.Failing to do so can result in silent errors that might be hard to debug.\nIt is strongly recommended to pass the ``sampling_rate`` argument to this function.Failing to do so can result in silent errors that might be hard to debug.\n 20%|██        | 316/1564 [00:25<01:48, 11.51it/s]It is strongly recommended to pass the ``sampling_rate`` argument to this function.Failing to do so can result in silent errors that might be hard to debug.\nIt is strongly recommended to pass the ``sampling_rate`` argument to this function.Failing to do so can result in silent errors that might be hard to debug.\n 20%|██        | 318/1564 [00:25<01:52, 11.03it/s]It is strongly recommended to pass the ``sampling_rate`` argument to this function.Failing to do so can result in silent errors that might be hard to debug.\nIt is strongly recommended to pass the ``sampling_rate`` argument to this function.Failing to do so can result in silent errors that might be hard to debug.\n 20%|██        | 320/1564 [00:25<01:55, 10.72it/s]It is strongly recommended to pass the ``sampling_rate`` argument to this function.Failing to do so can result in silent errors that might be hard to debug.\nIt is strongly recommended to pass the ``sampling_rate`` argument to this function.Failing to do so can result in silent errors that might be hard to debug.\n 21%|██        | 322/1564 [00:26<01:45, 11.77it/s]It is strongly recommended to pass the ``sampling_rate`` argument to this function.Failing to do so can result in silent errors that might be hard to debug.\nIt is strongly recommended to pass the ``sampling_rate`` argument to this function.Failing to do so can result in silent errors that might be hard to debug.\n 21%|██        | 324/1564 [00:26<01:38, 12.61it/s]It is strongly recommended to pass the ``sampling_rate`` argument to this function.Failing to do so can result in silent errors that might be hard to debug.\nIt is strongly recommended to pass the ``sampling_rate`` argument to this function.Failing to do so can result in silent errors that might be hard to debug.\n 21%|██        | 326/1564 [00:26<01:32, 13.44it/s]It is strongly recommended to pass the ``sampling_rate`` argument to this function.Failing to do so can result in silent errors that might be hard to debug.\nIt is strongly recommended to pass the ``sampling_rate`` argument to this function.Failing to do so can result in silent errors that might be hard to debug.\n 21%|██        | 328/1564 [00:26<01:27, 14.05it/s]It is strongly recommended to pass the ``sampling_rate`` argument to this function.Failing to do so can result in silent errors that might be hard to debug.\nIt is strongly recommended to pass the ``sampling_rate`` argument to this function.Failing to do so can result in silent errors that might be hard to debug.\n 21%|██        | 330/1564 [00:26<01:36, 12.80it/s]It is strongly recommended to pass the ``sampling_rate`` argument to this function.Failing to do so can result in silent errors that might be hard to debug.\nIt is strongly recommended to pass the ``sampling_rate`` argument to this function.Failing to do so can result in silent errors that might be hard to debug.\n 21%|██        | 332/1564 [00:26<01:41, 12.08it/s]It is strongly recommended to pass the ``sampling_rate`` argument to this function.Failing to do so can result in silent errors that might be hard to debug.\nIt is strongly recommended to pass the ``sampling_rate`` argument to this function.Failing to do so can result in silent errors that might be hard to debug.\n 21%|██▏       | 334/1564 [00:26<01:45, 11.62it/s]It is strongly recommended to pass the ``sampling_rate`` argument to this function.Failing to do so can result in silent errors that might be hard to debug.\nIt is strongly recommended to pass the ``sampling_rate`` argument to this function.Failing to do so can result in silent errors that might be hard to debug.\n 21%|██▏       | 336/1564 [00:27<01:48, 11.36it/s]It is strongly recommended to pass the ``sampling_rate`` argument to this function.Failing to do so can result in silent errors that might be hard to debug.\nIt is strongly recommended to pass the ``sampling_rate`` argument to this function.Failing to do so can result in silent errors that might be hard to debug.\n 22%|██▏       | 338/1564 [00:27<01:47, 11.39it/s]It is strongly recommended to pass the ``sampling_rate`` argument to this function.Failing to do so can result in silent errors that might be hard to debug.\nIt is strongly recommended to pass the ``sampling_rate`` argument to this function.Failing to do so can result in silent errors that might be hard to debug.\n 22%|██▏       | 340/1564 [00:27<01:47, 11.41it/s]It is strongly recommended to pass the ``sampling_rate`` argument to this function.Failing to do so can result in silent errors that might be hard to debug.\nIt is strongly recommended to pass the ``sampling_rate`` argument to this function.Failing to do so can result in silent errors that might be hard to debug.\n 22%|██▏       | 342/1564 [00:27<01:47, 11.41it/s]It is strongly recommended to pass the ``sampling_rate`` argument to this function.Failing to do so can result in silent errors that might be hard to debug.\nIt is strongly recommended to pass the ``sampling_rate`` argument to this function.Failing to do so can result in silent errors that might be hard to debug.\n 22%|██▏       | 344/1564 [00:27<01:46, 11.43it/s]It is strongly recommended to pass the ``sampling_rate`` argument to this function.Failing to do so can result in silent errors that might be hard to debug.\nIt is strongly recommended to pass the ``sampling_rate`` argument to this function.Failing to do so can result in silent errors that might be hard to debug.\n 22%|██▏       | 346/1564 [00:27<01:36, 12.68it/s]It is strongly recommended to pass the ``sampling_rate`` argument to this function.Failing to do so can result in silent errors that might be hard to debug.\nIt is strongly recommended to pass the ``sampling_rate`` argument to this function.Failing to do so can result in silent errors that might be hard to debug.\n 22%|██▏       | 348/1564 [00:28<01:28, 13.69it/s]It is strongly recommended to pass the ``sampling_rate`` argument to this function.Failing to do so can result in silent errors that might be hard to debug.\nIt is strongly recommended to pass the ``sampling_rate`` argument to this function.Failing to do so can result in silent errors that might be hard to debug.\n 22%|██▏       | 350/1564 [00:28<01:24, 14.32it/s]It is strongly recommended to pass the ``sampling_rate`` argument to this function.Failing to do so can result in silent errors that might be hard to debug.\nIt is strongly recommended to pass the ``sampling_rate`` argument to this function.Failing to do so can result in silent errors that might be hard to debug.\n 23%|██▎       | 352/1564 [00:28<01:20, 15.08it/s]It is strongly recommended to pass the ``sampling_rate`` argument to this function.Failing to do so can result in silent errors that might be hard to debug.\nIt is strongly recommended to pass the ``sampling_rate`` argument to this function.Failing to do so can result in silent errors that might be hard to debug.\n 23%|██▎       | 354/1564 [00:28<01:21, 14.79it/s]It is strongly recommended to pass the ``sampling_rate`` argument to this function.Failing to do so can result in silent errors that might be hard to debug.\nIt is strongly recommended to pass the ``sampling_rate`` argument to this function.Failing to do so can result in silent errors that might be hard to debug.\n 23%|██▎       | 356/1564 [00:28<01:22, 14.57it/s]It is strongly recommended to pass the ``sampling_rate`` argument to this function.Failing to do so can result in silent errors that might be hard to debug.\nIt is strongly recommended to pass the ``sampling_rate`` argument to this function.Failing to do so can result in silent errors that might be hard to debug.\n 23%|██▎       | 358/1564 [00:28<01:23, 14.46it/s]It is strongly recommended to pass the ``sampling_rate`` argument to this function.Failing to do so can result in silent errors that might be hard to debug.\nIt is strongly recommended to pass the ``sampling_rate`` argument to this function.Failing to do so can result in silent errors that might be hard to debug.\n 23%|██▎       | 360/1564 [00:28<01:23, 14.36it/s]It is strongly recommended to pass the ``sampling_rate`` argument to this function.Failing to do so can result in silent errors that might be hard to debug.\nIt is strongly recommended to pass the ``sampling_rate`` argument to this function.Failing to do so can result in silent errors that might be hard to debug.\n 23%|██▎       | 362/1564 [00:29<01:23, 14.35it/s]It is strongly recommended to pass the ``sampling_rate`` argument to this function.Failing to do so can result in silent errors that might be hard to debug.\nIt is strongly recommended to pass the ``sampling_rate`` argument to this function.Failing to do so can result in silent errors that might be hard to debug.\n 23%|██▎       | 364/1564 [00:29<01:23, 14.34it/s]It is strongly recommended to pass the ``sampling_rate`` argument to this function.Failing to do so can result in silent errors that might be hard to debug.\nIt is strongly recommended to pass the ``sampling_rate`` argument to this function.Failing to do so can result in silent errors that might be hard to debug.\n 23%|██▎       | 366/1564 [00:29<01:23, 14.35it/s]It is strongly recommended to pass the ``sampling_rate`` argument to this function.Failing to do so can result in silent errors that might be hard to debug.\nIt is strongly recommended to pass the ``sampling_rate`` argument to this function.Failing to do so can result in silent errors that might be hard to debug.\n 24%|██▎       | 368/1564 [00:29<01:23, 14.33it/s]It is strongly recommended to pass the ``sampling_rate`` argument to this function.Failing to do so can result in silent errors that might be hard to debug.\nIt is strongly recommended to pass the ``sampling_rate`` argument to this function.Failing to do so can result in silent errors that might be hard to debug.\n 24%|██▎       | 370/1564 [00:29<01:22, 14.56it/s]It is strongly recommended to pass the ``sampling_rate`` argument to this function.Failing to do so can result in silent errors that might be hard to debug.\nIt is strongly recommended to pass the ``sampling_rate`` argument to this function.Failing to do so can result in silent errors that might be hard to debug.\n 24%|██▍       | 372/1564 [00:29<01:20, 14.72it/s]It is strongly recommended to pass the ``sampling_rate`` argument to this function.Failing to do so can result in silent errors that might be hard to debug.\nIt is strongly recommended to pass the ``sampling_rate`` argument to this function.Failing to do so can result in silent errors that might be hard to debug.\n 24%|██▍       | 374/1564 [00:29<01:20, 14.83it/s]It is strongly recommended to pass the ``sampling_rate`` argument to this function.Failing to do so can result in silent errors that might be hard to debug.\nIt is strongly recommended to pass the ``sampling_rate`` argument to this function.Failing to do so can result in silent errors that might be hard to debug.\n 24%|██▍       | 376/1564 [00:29<01:19, 14.92it/s]It is strongly recommended to pass the ``sampling_rate`` argument to this function.Failing to do so can result in silent errors that might be hard to debug.\nIt is strongly recommended to pass the ``sampling_rate`` argument to this function.Failing to do so can result in silent errors that might be hard to debug.\n 24%|██▍       | 378/1564 [00:30<01:33, 12.72it/s]It is strongly recommended to pass the ``sampling_rate`` argument to this function.Failing to do so can result in silent errors that might be hard to debug.\nIt is strongly recommended to pass the ``sampling_rate`` argument to this function.Failing to do so can result in silent errors that might be hard to debug.\n 24%|██▍       | 380/1564 [00:30<01:42, 11.54it/s]It is strongly recommended to pass the ``sampling_rate`` argument to this function.Failing to do so can result in silent errors that might be hard to debug.\nIt is strongly recommended to pass the ``sampling_rate`` argument to this function.Failing to do so can result in silent errors that might be hard to debug.\n 24%|██▍       | 382/1564 [00:30<01:49, 10.84it/s]It is strongly recommended to pass the ``sampling_rate`` argument to this function.Failing to do so can result in silent errors that might be hard to debug.\nIt is strongly recommended to pass the ``sampling_rate`` argument to this function.Failing to do so can result in silent errors that might be hard to debug.\n 25%|██▍       | 384/1564 [00:30<01:53, 10.39it/s]It is strongly recommended to pass the ``sampling_rate`` argument to this function.Failing to do so can result in silent errors that might be hard to debug.\nIt is strongly recommended to pass the ``sampling_rate`` argument to this function.Failing to do so can result in silent errors that might be hard to debug.\n 25%|██▍       | 386/1564 [00:30<01:47, 10.93it/s]It is strongly recommended to pass the ``sampling_rate`` argument to this function.Failing to do so can result in silent errors that might be hard to debug.\nIt is strongly recommended to pass the ``sampling_rate`` argument to this function.Failing to do so can result in silent errors that might be hard to debug.\n 25%|██▍       | 388/1564 [00:31<01:53, 10.33it/s]It is strongly recommended to pass the ``sampling_rate`` argument to this function.Failing to do so can result in silent errors that might be hard to debug.\nIt is strongly recommended to pass the ``sampling_rate`` argument to this function.Failing to do so can result in silent errors that might be hard to debug.\n 25%|██▍       | 390/1564 [00:31<01:56, 10.10it/s]It is strongly recommended to pass the ``sampling_rate`` argument to this function.Failing to do so can result in silent errors that might be hard to debug.\nIt is strongly recommended to pass the ``sampling_rate`` argument to this function.Failing to do so can result in silent errors that might be hard to debug.\n 25%|██▌       | 392/1564 [00:31<02:02,  9.59it/s]It is strongly recommended to pass the ``sampling_rate`` argument to this function.Failing to do so can result in silent errors that might be hard to debug.\n 25%|██▌       | 393/1564 [00:31<02:07,  9.18it/s]It is strongly recommended to pass the ``sampling_rate`` argument to this function.Failing to do so can result in silent errors that might be hard to debug.\n 25%|██▌       | 394/1564 [00:31<02:12,  8.84it/s]It is strongly recommended to pass the ``sampling_rate`` argument to this function.Failing to do so can result in silent errors that might be hard to debug.\n 25%|██▌       | 395/1564 [00:32<02:16,  8.56it/s]It is strongly recommended to pass the ``sampling_rate`` argument to this function.Failing to do so can result in silent errors that might be hard to debug.\n 25%|██▌       | 396/1564 [00:32<02:12,  8.80it/s]It is strongly recommended to pass the ``sampling_rate`` argument to this function.Failing to do so can result in silent errors that might be hard to debug.\nIt is strongly recommended to pass the ``sampling_rate`` argument to this function.Failing to do so can result in silent errors that might be hard to debug.\n 25%|██▌       | 398/1564 [00:32<02:03,  9.43it/s]It is strongly recommended to pass the ``sampling_rate`` argument to this function.Failing to do so can result in silent errors that might be hard to debug.\nIt is strongly recommended to pass the ``sampling_rate`` argument to this function.Failing to do so can result in silent errors that might be hard to debug.\n 26%|██▌       | 400/1564 [00:32<01:53, 10.28it/s]It is strongly recommended to pass the ``sampling_rate`` argument to this function.Failing to do so can result in silent errors that might be hard to debug.\nIt is strongly recommended to pass the ``sampling_rate`` argument to this function.Failing to do so can result in silent errors that might be hard to debug.\n 26%|██▌       | 402/1564 [00:32<01:42, 11.32it/s]It is strongly recommended to pass the ``sampling_rate`` argument to this function.Failing to do so can result in silent errors that might be hard to debug.\nIt is strongly recommended to pass the ``sampling_rate`` argument to this function.Failing to do so can result in silent errors that might be hard to debug.\n 26%|██▌       | 404/1564 [00:32<01:37, 11.94it/s]It is strongly recommended to pass the ``sampling_rate`` argument to this function.Failing to do so can result in silent errors that might be hard to debug.\nIt is strongly recommended to pass the ``sampling_rate`` argument to this function.Failing to do so can result in silent errors that might be hard to debug.\n 26%|██▌       | 406/1564 [00:32<01:31, 12.70it/s]It is strongly recommended to pass the ``sampling_rate`` argument to this function.Failing to do so can result in silent errors that might be hard to debug.\nIt is strongly recommended to pass the ``sampling_rate`` argument to this function.Failing to do so can result in silent errors that might be hard to debug.\n 26%|██▌       | 408/1564 [00:33<01:38, 11.79it/s]It is strongly recommended to pass the ``sampling_rate`` argument to this function.Failing to do so can result in silent errors that might be hard to debug.\nIt is strongly recommended to pass the ``sampling_rate`` argument to this function.Failing to do so can result in silent errors that might be hard to debug.\n 26%|██▌       | 410/1564 [00:33<01:53, 10.19it/s]It is strongly recommended to pass the ``sampling_rate`` argument to this function.Failing to do so can result in silent errors that might be hard to debug.\nIt is strongly recommended to pass the ``sampling_rate`` argument to this function.Failing to do so can result in silent errors that might be hard to debug.\n 26%|██▋       | 412/1564 [00:33<02:08,  8.98it/s]It is strongly recommended to pass the ``sampling_rate`` argument to this function.Failing to do so can result in silent errors that might be hard to debug.\n 26%|██▋       | 413/1564 [00:33<02:07,  9.01it/s]It is strongly recommended to pass the ``sampling_rate`` argument to this function.Failing to do so can result in silent errors that might be hard to debug.\n 26%|██▋       | 414/1564 [00:33<02:06,  9.07it/s]It is strongly recommended to pass the ``sampling_rate`` argument to this function.Failing to do so can result in silent errors that might be hard to debug.\n 27%|██▋       | 415/1564 [00:33<02:06,  9.10it/s]It is strongly recommended to pass the ``sampling_rate`` argument to this function.Failing to do so can result in silent errors that might be hard to debug.\nIt is strongly recommended to pass the ``sampling_rate`` argument to this function.Failing to do so can result in silent errors that might be hard to debug.\n 27%|██▋       | 417/1564 [00:34<01:55,  9.97it/s]It is strongly recommended to pass the ``sampling_rate`` argument to this function.Failing to do so can result in silent errors that might be hard to debug.\nIt is strongly recommended to pass the ``sampling_rate`` argument to this function.Failing to do so can result in silent errors that might be hard to debug.\n 27%|██▋       | 419/1564 [00:34<01:48, 10.55it/s]It is strongly recommended to pass the ``sampling_rate`` argument to this function.Failing to do so can result in silent errors that might be hard to debug.\nIt is strongly recommended to pass the ``sampling_rate`` argument to this function.Failing to do so can result in silent errors that might be hard to debug.\n 27%|██▋       | 421/1564 [00:34<01:44, 10.92it/s]It is strongly recommended to pass the ``sampling_rate`` argument to this function.Failing to do so can result in silent errors that might be hard to debug.\nIt is strongly recommended to pass the ``sampling_rate`` argument to this function.Failing to do so can result in silent errors that might be hard to debug.\n 27%|██▋       | 423/1564 [00:34<01:42, 11.15it/s]It is strongly recommended to pass the ``sampling_rate`` argument to this function.Failing to do so can result in silent errors that might be hard to debug.\nIt is strongly recommended to pass the ``sampling_rate`` argument to this function.Failing to do so can result in silent errors that might be hard to debug.\n 27%|██▋       | 425/1564 [00:34<01:40, 11.37it/s]It is strongly recommended to pass the ``sampling_rate`` argument to this function.Failing to do so can result in silent errors that might be hard to debug.\nIt is strongly recommended to pass the ``sampling_rate`` argument to this function.Failing to do so can result in silent errors that might be hard to debug.\n 27%|██▋       | 427/1564 [00:34<01:38, 11.56it/s]It is strongly recommended to pass the ``sampling_rate`` argument to this function.Failing to do so can result in silent errors that might be hard to debug.\nIt is strongly recommended to pass the ``sampling_rate`` argument to this function.Failing to do so can result in silent errors that might be hard to debug.\n 27%|██▋       | 429/1564 [00:35<01:37, 11.67it/s]It is strongly recommended to pass the ``sampling_rate`` argument to this function.Failing to do so can result in silent errors that might be hard to debug.\nIt is strongly recommended to pass the ``sampling_rate`` argument to this function.Failing to do so can result in silent errors that might be hard to debug.\n 28%|██▊       | 431/1564 [00:35<01:36, 11.78it/s]It is strongly recommended to pass the ``sampling_rate`` argument to this function.Failing to do so can result in silent errors that might be hard to debug.\nIt is strongly recommended to pass the ``sampling_rate`` argument to this function.Failing to do so can result in silent errors that might be hard to debug.\n 28%|██▊       | 433/1564 [00:35<01:37, 11.60it/s]It is strongly recommended to pass the ``sampling_rate`` argument to this function.Failing to do so can result in silent errors that might be hard to debug.\nIt is strongly recommended to pass the ``sampling_rate`` argument to this function.Failing to do so can result in silent errors that might be hard to debug.\n 28%|██▊       | 435/1564 [00:35<01:38, 11.51it/s]It is strongly recommended to pass the ``sampling_rate`` argument to this function.Failing to do so can result in silent errors that might be hard to debug.\nIt is strongly recommended to pass the ``sampling_rate`` argument to this function.Failing to do so can result in silent errors that might be hard to debug.\n 28%|██▊       | 437/1564 [00:35<01:38, 11.45it/s]It is strongly recommended to pass the ``sampling_rate`` argument to this function.Failing to do so can result in silent errors that might be hard to debug.\nIt is strongly recommended to pass the ``sampling_rate`` argument to this function.Failing to do so can result in silent errors that might be hard to debug.\n 28%|██▊       | 439/1564 [00:36<01:38, 11.41it/s]It is strongly recommended to pass the ``sampling_rate`` argument to this function.Failing to do so can result in silent errors that might be hard to debug.\nIt is strongly recommended to pass the ``sampling_rate`` argument to this function.Failing to do so can result in silent errors that might be hard to debug.\n 28%|██▊       | 441/1564 [00:36<01:33, 11.98it/s]It is strongly recommended to pass the ``sampling_rate`` argument to this function.Failing to do so can result in silent errors that might be hard to debug.\nIt is strongly recommended to pass the ``sampling_rate`` argument to this function.Failing to do so can result in silent errors that might be hard to debug.\n 28%|██▊       | 443/1564 [00:36<01:30, 12.46it/s]It is strongly recommended to pass the ``sampling_rate`` argument to this function.Failing to do so can result in silent errors that might be hard to debug.\nIt is strongly recommended to pass the ``sampling_rate`` argument to this function.Failing to do so can result in silent errors that might be hard to debug.\n 28%|██▊       | 445/1564 [00:36<01:27, 12.80it/s]It is strongly recommended to pass the ``sampling_rate`` argument to this function.Failing to do so can result in silent errors that might be hard to debug.\nIt is strongly recommended to pass the ``sampling_rate`` argument to this function.Failing to do so can result in silent errors that might be hard to debug.\n 29%|██▊       | 447/1564 [00:36<01:25, 13.01it/s]It is strongly recommended to pass the ``sampling_rate`` argument to this function.Failing to do so can result in silent errors that might be hard to debug.\nIt is strongly recommended to pass the ``sampling_rate`` argument to this function.Failing to do so can result in silent errors that might be hard to debug.\n 29%|██▊       | 449/1564 [00:36<01:29, 12.41it/s]It is strongly recommended to pass the ``sampling_rate`` argument to this function.Failing to do so can result in silent errors that might be hard to debug.\nIt is strongly recommended to pass the ``sampling_rate`` argument to this function.Failing to do so can result in silent errors that might be hard to debug.\n 29%|██▉       | 451/1564 [00:36<01:32, 12.04it/s]It is strongly recommended to pass the ``sampling_rate`` argument to this function.Failing to do so can result in silent errors that might be hard to debug.\nIt is strongly recommended to pass the ``sampling_rate`` argument to this function.Failing to do so can result in silent errors that might be hard to debug.\n 29%|██▉       | 453/1564 [00:37<01:34, 11.75it/s]It is strongly recommended to pass the ``sampling_rate`` argument to this function.Failing to do so can result in silent errors that might be hard to debug.\nIt is strongly recommended to pass the ``sampling_rate`` argument to this function.Failing to do so can result in silent errors that might be hard to debug.\n 29%|██▉       | 455/1564 [00:37<01:35, 11.56it/s]It is strongly recommended to pass the ``sampling_rate`` argument to this function.Failing to do so can result in silent errors that might be hard to debug.\nIt is strongly recommended to pass the ``sampling_rate`` argument to this function.Failing to do so can result in silent errors that might be hard to debug.\n 29%|██▉       | 457/1564 [00:37<01:29, 12.30it/s]It is strongly recommended to pass the ``sampling_rate`` argument to this function.Failing to do so can result in silent errors that might be hard to debug.\nIt is strongly recommended to pass the ``sampling_rate`` argument to this function.Failing to do so can result in silent errors that might be hard to debug.\n 29%|██▉       | 459/1564 [00:37<01:25, 12.88it/s]It is strongly recommended to pass the ``sampling_rate`` argument to this function.Failing to do so can result in silent errors that might be hard to debug.\nIt is strongly recommended to pass the ``sampling_rate`` argument to this function.Failing to do so can result in silent errors that might be hard to debug.\n 29%|██▉       | 461/1564 [00:37<01:22, 13.33it/s]It is strongly recommended to pass the ``sampling_rate`` argument to this function.Failing to do so can result in silent errors that might be hard to debug.\nIt is strongly recommended to pass the ``sampling_rate`` argument to this function.Failing to do so can result in silent errors that might be hard to debug.\n 30%|██▉       | 463/1564 [00:37<01:20, 13.66it/s]It is strongly recommended to pass the ``sampling_rate`` argument to this function.Failing to do so can result in silent errors that might be hard to debug.\nIt is strongly recommended to pass the ``sampling_rate`` argument to this function.Failing to do so can result in silent errors that might be hard to debug.\n 30%|██▉       | 465/1564 [00:38<01:18, 14.02it/s]It is strongly recommended to pass the ``sampling_rate`` argument to this function.Failing to do so can result in silent errors that might be hard to debug.\nIt is strongly recommended to pass the ``sampling_rate`` argument to this function.Failing to do so can result in silent errors that might be hard to debug.\n 30%|██▉       | 467/1564 [00:38<01:17, 14.11it/s]It is strongly recommended to pass the ``sampling_rate`` argument to this function.Failing to do so can result in silent errors that might be hard to debug.\nIt is strongly recommended to pass the ``sampling_rate`` argument to this function.Failing to do so can result in silent errors that might be hard to debug.\n 30%|██▉       | 469/1564 [00:38<01:16, 14.39it/s]It is strongly recommended to pass the ``sampling_rate`` argument to this function.Failing to do so can result in silent errors that might be hard to debug.\nIt is strongly recommended to pass the ``sampling_rate`` argument to this function.Failing to do so can result in silent errors that might be hard to debug.\n 30%|███       | 471/1564 [00:38<01:14, 14.58it/s]It is strongly recommended to pass the ``sampling_rate`` argument to this function.Failing to do so can result in silent errors that might be hard to debug.\nIt is strongly recommended to pass the ``sampling_rate`` argument to this function.Failing to do so can result in silent errors that might be hard to debug.\n 30%|███       | 473/1564 [00:38<01:11, 15.35it/s]It is strongly recommended to pass the ``sampling_rate`` argument to this function.Failing to do so can result in silent errors that might be hard to debug.\nIt is strongly recommended to pass the ``sampling_rate`` argument to this function.Failing to do so can result in silent errors that might be hard to debug.\n 30%|███       | 475/1564 [00:38<01:08, 15.97it/s]It is strongly recommended to pass the ``sampling_rate`` argument to this function.Failing to do so can result in silent errors that might be hard to debug.\nIt is strongly recommended to pass the ``sampling_rate`` argument to this function.Failing to do so can result in silent errors that might be hard to debug.\n 30%|███       | 477/1564 [00:38<01:05, 16.48it/s]It is strongly recommended to pass the ``sampling_rate`` argument to this function.Failing to do so can result in silent errors that might be hard to debug.\nIt is strongly recommended to pass the ``sampling_rate`` argument to this function.Failing to do so can result in silent errors that might be hard to debug.\n 31%|███       | 479/1564 [00:38<01:04, 16.86it/s]It is strongly recommended to pass the ``sampling_rate`` argument to this function.Failing to do so can result in silent errors that might be hard to debug.\nIt is strongly recommended to pass the ``sampling_rate`` argument to this function.Failing to do so can result in silent errors that might be hard to debug.\n 31%|███       | 481/1564 [00:39<01:11, 15.10it/s]It is strongly recommended to pass the ``sampling_rate`` argument to this function.Failing to do so can result in silent errors that might be hard to debug.\nIt is strongly recommended to pass the ``sampling_rate`` argument to this function.Failing to do so can result in silent errors that might be hard to debug.\n 31%|███       | 483/1564 [00:39<01:16, 14.06it/s]It is strongly recommended to pass the ``sampling_rate`` argument to this function.Failing to do so can result in silent errors that might be hard to debug.\nIt is strongly recommended to pass the ``sampling_rate`` argument to this function.Failing to do so can result in silent errors that might be hard to debug.\n 31%|███       | 485/1564 [00:39<01:20, 13.44it/s]It is strongly recommended to pass the ``sampling_rate`` argument to this function.Failing to do so can result in silent errors that might be hard to debug.\nIt is strongly recommended to pass the ``sampling_rate`` argument to this function.Failing to do so can result in silent errors that might be hard to debug.\n 31%|███       | 487/1564 [00:39<01:22, 13.00it/s]It is strongly recommended to pass the ``sampling_rate`` argument to this function.Failing to do so can result in silent errors that might be hard to debug.\nIt is strongly recommended to pass the ``sampling_rate`` argument to this function.Failing to do so can result in silent errors that might be hard to debug.\n 31%|███▏      | 489/1564 [00:39<01:20, 13.33it/s]It is strongly recommended to pass the ``sampling_rate`` argument to this function.Failing to do so can result in silent errors that might be hard to debug.\nIt is strongly recommended to pass the ``sampling_rate`` argument to this function.Failing to do so can result in silent errors that might be hard to debug.\n 31%|███▏      | 491/1564 [00:39<01:19, 13.57it/s]It is strongly recommended to pass the ``sampling_rate`` argument to this function.Failing to do so can result in silent errors that might be hard to debug.\nIt is strongly recommended to pass the ``sampling_rate`` argument to this function.Failing to do so can result in silent errors that might be hard to debug.\n 32%|███▏      | 493/1564 [00:39<01:17, 13.75it/s]It is strongly recommended to pass the ``sampling_rate`` argument to this function.Failing to do so can result in silent errors that might be hard to debug.\nIt is strongly recommended to pass the ``sampling_rate`` argument to this function.Failing to do so can result in silent errors that might be hard to debug.\n 32%|███▏      | 495/1564 [00:40<01:17, 13.86it/s]It is strongly recommended to pass the ``sampling_rate`` argument to this function.Failing to do so can result in silent errors that might be hard to debug.\nIt is strongly recommended to pass the ``sampling_rate`` argument to this function.Failing to do so can result in silent errors that might be hard to debug.\n 32%|███▏      | 497/1564 [00:40<01:24, 12.64it/s]It is strongly recommended to pass the ``sampling_rate`` argument to this function.Failing to do so can result in silent errors that might be hard to debug.\nIt is strongly recommended to pass the ``sampling_rate`` argument to this function.Failing to do so can result in silent errors that might be hard to debug.\n 32%|███▏      | 499/1564 [00:40<01:29, 11.91it/s]It is strongly recommended to pass the ``sampling_rate`` argument to this function.Failing to do so can result in silent errors that might be hard to debug.\nIt is strongly recommended to pass the ``sampling_rate`` argument to this function.Failing to do so can result in silent errors that might be hard to debug.\n 32%|███▏      | 501/1564 [00:40<01:32, 11.44it/s]It is strongly recommended to pass the ``sampling_rate`` argument to this function.Failing to do so can result in silent errors that might be hard to debug.\nIt is strongly recommended to pass the ``sampling_rate`` argument to this function.Failing to do so can result in silent errors that might be hard to debug.\n 32%|███▏      | 503/1564 [00:40<01:35, 11.14it/s]It is strongly recommended to pass the ``sampling_rate`` argument to this function.Failing to do so can result in silent errors that might be hard to debug.\nIt is strongly recommended to pass the ``sampling_rate`` argument to this function.Failing to do so can result in silent errors that might be hard to debug.\n 32%|███▏      | 505/1564 [00:41<01:37, 10.82it/s]It is strongly recommended to pass the ``sampling_rate`` argument to this function.Failing to do so can result in silent errors that might be hard to debug.\nIt is strongly recommended to pass the ``sampling_rate`` argument to this function.Failing to do so can result in silent errors that might be hard to debug.\n 32%|███▏      | 507/1564 [00:41<01:40, 10.56it/s]It is strongly recommended to pass the ``sampling_rate`` argument to this function.Failing to do so can result in silent errors that might be hard to debug.\nIt is strongly recommended to pass the ``sampling_rate`` argument to this function.Failing to do so can result in silent errors that might be hard to debug.\n 33%|███▎      | 509/1564 [00:41<01:41, 10.41it/s]It is strongly recommended to pass the ``sampling_rate`` argument to this function.Failing to do so can result in silent errors that might be hard to debug.\nIt is strongly recommended to pass the ``sampling_rate`` argument to this function.Failing to do so can result in silent errors that might be hard to debug.\n 33%|███▎      | 511/1564 [00:41<01:42, 10.32it/s]It is strongly recommended to pass the ``sampling_rate`` argument to this function.Failing to do so can result in silent errors that might be hard to debug.\nIt is strongly recommended to pass the ``sampling_rate`` argument to this function.Failing to do so can result in silent errors that might be hard to debug.\n 33%|███▎      | 513/1564 [00:41<01:36, 10.89it/s]It is strongly recommended to pass the ``sampling_rate`` argument to this function.Failing to do so can result in silent errors that might be hard to debug.\nIt is strongly recommended to pass the ``sampling_rate`` argument to this function.Failing to do so can result in silent errors that might be hard to debug.\n 33%|███▎      | 515/1564 [00:41<01:32, 11.35it/s]It is strongly recommended to pass the ``sampling_rate`` argument to this function.Failing to do so can result in silent errors that might be hard to debug.\nIt is strongly recommended to pass the ``sampling_rate`` argument to this function.Failing to do so can result in silent errors that might be hard to debug.\n 33%|███▎      | 517/1564 [00:42<01:29, 11.68it/s]It is strongly recommended to pass the ``sampling_rate`` argument to this function.Failing to do so can result in silent errors that might be hard to debug.\nIt is strongly recommended to pass the ``sampling_rate`` argument to this function.Failing to do so can result in silent errors that might be hard to debug.\n 33%|███▎      | 519/1564 [00:42<01:27, 11.91it/s]It is strongly recommended to pass the ``sampling_rate`` argument to this function.Failing to do so can result in silent errors that might be hard to debug.\nIt is strongly recommended to pass the ``sampling_rate`` argument to this function.Failing to do so can result in silent errors that might be hard to debug.\n 33%|███▎      | 521/1564 [00:42<01:29, 11.72it/s]It is strongly recommended to pass the ``sampling_rate`` argument to this function.Failing to do so can result in silent errors that might be hard to debug.\nIt is strongly recommended to pass the ``sampling_rate`` argument to this function.Failing to do so can result in silent errors that might be hard to debug.\n 33%|███▎      | 523/1564 [00:42<01:29, 11.64it/s]It is strongly recommended to pass the ``sampling_rate`` argument to this function.Failing to do so can result in silent errors that might be hard to debug.\nIt is strongly recommended to pass the ``sampling_rate`` argument to this function.Failing to do so can result in silent errors that might be hard to debug.\n 34%|███▎      | 525/1564 [00:42<01:30, 11.44it/s]It is strongly recommended to pass the ``sampling_rate`` argument to this function.Failing to do so can result in silent errors that might be hard to debug.\nIt is strongly recommended to pass the ``sampling_rate`` argument to this function.Failing to do so can result in silent errors that might be hard to debug.\n 34%|███▎      | 527/1564 [00:43<01:30, 11.44it/s]It is strongly recommended to pass the ``sampling_rate`` argument to this function.Failing to do so can result in silent errors that might be hard to debug.\nIt is strongly recommended to pass the ``sampling_rate`` argument to this function.Failing to do so can result in silent errors that might be hard to debug.\n 34%|███▍      | 529/1564 [00:43<01:28, 11.64it/s]It is strongly recommended to pass the ``sampling_rate`` argument to this function.Failing to do so can result in silent errors that might be hard to debug.\nIt is strongly recommended to pass the ``sampling_rate`` argument to this function.Failing to do so can result in silent errors that might be hard to debug.\n 34%|███▍      | 531/1564 [00:43<01:27, 11.78it/s]It is strongly recommended to pass the ``sampling_rate`` argument to this function.Failing to do so can result in silent errors that might be hard to debug.\nIt is strongly recommended to pass the ``sampling_rate`` argument to this function.Failing to do so can result in silent errors that might be hard to debug.\n 34%|███▍      | 533/1564 [00:43<01:26, 11.89it/s]It is strongly recommended to pass the ``sampling_rate`` argument to this function.Failing to do so can result in silent errors that might be hard to debug.\nIt is strongly recommended to pass the ``sampling_rate`` argument to this function.Failing to do so can result in silent errors that might be hard to debug.\n 34%|███▍      | 535/1564 [00:43<01:27, 11.70it/s]It is strongly recommended to pass the ``sampling_rate`` argument to this function.Failing to do so can result in silent errors that might be hard to debug.\nIt is strongly recommended to pass the ``sampling_rate`` argument to this function.Failing to do so can result in silent errors that might be hard to debug.\n 34%|███▍      | 537/1564 [00:43<01:22, 12.38it/s]It is strongly recommended to pass the ``sampling_rate`` argument to this function.Failing to do so can result in silent errors that might be hard to debug.\nIt is strongly recommended to pass the ``sampling_rate`` argument to this function.Failing to do so can result in silent errors that might be hard to debug.\n 34%|███▍      | 539/1564 [00:43<01:21, 12.51it/s]It is strongly recommended to pass the ``sampling_rate`` argument to this function.Failing to do so can result in silent errors that might be hard to debug.\nIt is strongly recommended to pass the ``sampling_rate`` argument to this function.Failing to do so can result in silent errors that might be hard to debug.\n 35%|███▍      | 541/1564 [00:44<01:18, 13.01it/s]It is strongly recommended to pass the ``sampling_rate`` argument to this function.Failing to do so can result in silent errors that might be hard to debug.\nIt is strongly recommended to pass the ``sampling_rate`` argument to this function.Failing to do so can result in silent errors that might be hard to debug.\n 35%|███▍      | 543/1564 [00:44<01:18, 13.03it/s]It is strongly recommended to pass the ``sampling_rate`` argument to this function.Failing to do so can result in silent errors that might be hard to debug.\nIt is strongly recommended to pass the ``sampling_rate`` argument to this function.Failing to do so can result in silent errors that might be hard to debug.\n 35%|███▍      | 545/1564 [00:44<01:28, 11.48it/s]It is strongly recommended to pass the ``sampling_rate`` argument to this function.Failing to do so can result in silent errors that might be hard to debug.\nIt is strongly recommended to pass the ``sampling_rate`` argument to this function.Failing to do so can result in silent errors that might be hard to debug.\n 35%|███▍      | 547/1564 [00:44<01:33, 10.82it/s]It is strongly recommended to pass the ``sampling_rate`` argument to this function.Failing to do so can result in silent errors that might be hard to debug.\nIt is strongly recommended to pass the ``sampling_rate`` argument to this function.Failing to do so can result in silent errors that might be hard to debug.\n 35%|███▌      | 549/1564 [00:44<01:32, 10.99it/s]It is strongly recommended to pass the ``sampling_rate`` argument to this function.Failing to do so can result in silent errors that might be hard to debug.\nIt is strongly recommended to pass the ``sampling_rate`` argument to this function.Failing to do so can result in silent errors that might be hard to debug.\n 35%|███▌      | 551/1564 [00:45<01:30, 11.14it/s]It is strongly recommended to pass the ``sampling_rate`` argument to this function.Failing to do so can result in silent errors that might be hard to debug.\nIt is strongly recommended to pass the ``sampling_rate`` argument to this function.Failing to do so can result in silent errors that might be hard to debug.\n 35%|███▌      | 553/1564 [00:45<01:25, 11.77it/s]It is strongly recommended to pass the ``sampling_rate`` argument to this function.Failing to do so can result in silent errors that might be hard to debug.\nIt is strongly recommended to pass the ``sampling_rate`` argument to this function.Failing to do so can result in silent errors that might be hard to debug.\n 35%|███▌      | 555/1564 [00:45<01:22, 12.26it/s]It is strongly recommended to pass the ``sampling_rate`` argument to this function.Failing to do so can result in silent errors that might be hard to debug.\nIt is strongly recommended to pass the ``sampling_rate`` argument to this function.Failing to do so can result in silent errors that might be hard to debug.\n 36%|███▌      | 557/1564 [00:45<01:19, 12.63it/s]It is strongly recommended to pass the ``sampling_rate`` argument to this function.Failing to do so can result in silent errors that might be hard to debug.\nIt is strongly recommended to pass the ``sampling_rate`` argument to this function.Failing to do so can result in silent errors that might be hard to debug.\n 36%|███▌      | 559/1564 [00:45<01:18, 12.88it/s]It is strongly recommended to pass the ``sampling_rate`` argument to this function.Failing to do so can result in silent errors that might be hard to debug.\nIt is strongly recommended to pass the ``sampling_rate`` argument to this function.Failing to do so can result in silent errors that might be hard to debug.\n 36%|███▌      | 561/1564 [00:45<01:14, 13.38it/s]It is strongly recommended to pass the ``sampling_rate`` argument to this function.Failing to do so can result in silent errors that might be hard to debug.\nIt is strongly recommended to pass the ``sampling_rate`` argument to this function.Failing to do so can result in silent errors that might be hard to debug.\n 36%|███▌      | 563/1564 [00:45<01:12, 13.81it/s]It is strongly recommended to pass the ``sampling_rate`` argument to this function.Failing to do so can result in silent errors that might be hard to debug.\nIt is strongly recommended to pass the ``sampling_rate`` argument to this function.Failing to do so can result in silent errors that might be hard to debug.\n 36%|███▌      | 565/1564 [00:46<01:10, 14.13it/s]It is strongly recommended to pass the ``sampling_rate`` argument to this function.Failing to do so can result in silent errors that might be hard to debug.\nIt is strongly recommended to pass the ``sampling_rate`` argument to this function.Failing to do so can result in silent errors that might be hard to debug.\n 36%|███▋      | 567/1564 [00:46<01:09, 14.34it/s]It is strongly recommended to pass the ``sampling_rate`` argument to this function.Failing to do so can result in silent errors that might be hard to debug.\nIt is strongly recommended to pass the ``sampling_rate`` argument to this function.Failing to do so can result in silent errors that might be hard to debug.\n 36%|███▋      | 569/1564 [00:46<01:09, 14.27it/s]It is strongly recommended to pass the ``sampling_rate`` argument to this function.Failing to do so can result in silent errors that might be hard to debug.\nIt is strongly recommended to pass the ``sampling_rate`` argument to this function.Failing to do so can result in silent errors that might be hard to debug.\n 37%|███▋      | 571/1564 [00:46<01:09, 14.23it/s]It is strongly recommended to pass the ``sampling_rate`` argument to this function.Failing to do so can result in silent errors that might be hard to debug.\nIt is strongly recommended to pass the ``sampling_rate`` argument to this function.Failing to do so can result in silent errors that might be hard to debug.\n 37%|███▋      | 573/1564 [00:46<01:09, 14.19it/s]It is strongly recommended to pass the ``sampling_rate`` argument to this function.Failing to do so can result in silent errors that might be hard to debug.\nIt is strongly recommended to pass the ``sampling_rate`` argument to this function.Failing to do so can result in silent errors that might be hard to debug.\n 37%|███▋      | 575/1564 [00:46<01:09, 14.19it/s]It is strongly recommended to pass the ``sampling_rate`` argument to this function.Failing to do so can result in silent errors that might be hard to debug.\nIt is strongly recommended to pass the ``sampling_rate`` argument to this function.Failing to do so can result in silent errors that might be hard to debug.\n 37%|███▋      | 577/1564 [00:46<01:09, 14.18it/s]It is strongly recommended to pass the ``sampling_rate`` argument to this function.Failing to do so can result in silent errors that might be hard to debug.\nIt is strongly recommended to pass the ``sampling_rate`` argument to this function.Failing to do so can result in silent errors that might be hard to debug.\n 37%|███▋      | 579/1564 [00:47<01:09, 14.17it/s]It is strongly recommended to pass the ``sampling_rate`` argument to this function.Failing to do so can result in silent errors that might be hard to debug.\nIt is strongly recommended to pass the ``sampling_rate`` argument to this function.Failing to do so can result in silent errors that might be hard to debug.\n 37%|███▋      | 581/1564 [00:47<01:09, 14.14it/s]It is strongly recommended to pass the ``sampling_rate`` argument to this function.Failing to do so can result in silent errors that might be hard to debug.\nIt is strongly recommended to pass the ``sampling_rate`` argument to this function.Failing to do so can result in silent errors that might be hard to debug.\n 37%|███▋      | 583/1564 [00:47<01:09, 14.13it/s]It is strongly recommended to pass the ``sampling_rate`` argument to this function.Failing to do so can result in silent errors that might be hard to debug.\nIt is strongly recommended to pass the ``sampling_rate`` argument to this function.Failing to do so can result in silent errors that might be hard to debug.\n 37%|███▋      | 585/1564 [00:47<01:12, 13.57it/s]It is strongly recommended to pass the ``sampling_rate`` argument to this function.Failing to do so can result in silent errors that might be hard to debug.\nIt is strongly recommended to pass the ``sampling_rate`` argument to this function.Failing to do so can result in silent errors that might be hard to debug.\n 38%|███▊      | 587/1564 [00:47<01:13, 13.21it/s]It is strongly recommended to pass the ``sampling_rate`` argument to this function.Failing to do so can result in silent errors that might be hard to debug.\nIt is strongly recommended to pass the ``sampling_rate`` argument to this function.Failing to do so can result in silent errors that might be hard to debug.\n 38%|███▊      | 589/1564 [00:47<01:15, 12.96it/s]It is strongly recommended to pass the ``sampling_rate`` argument to this function.Failing to do so can result in silent errors that might be hard to debug.\nIt is strongly recommended to pass the ``sampling_rate`` argument to this function.Failing to do so can result in silent errors that might be hard to debug.\n 38%|███▊      | 591/1564 [00:47<01:17, 12.56it/s]It is strongly recommended to pass the ``sampling_rate`` argument to this function.Failing to do so can result in silent errors that might be hard to debug.\nIt is strongly recommended to pass the ``sampling_rate`` argument to this function.Failing to do so can result in silent errors that might be hard to debug.\n 38%|███▊      | 593/1564 [00:48<01:19, 12.17it/s]It is strongly recommended to pass the ``sampling_rate`` argument to this function.Failing to do so can result in silent errors that might be hard to debug.\nIt is strongly recommended to pass the ``sampling_rate`` argument to this function.Failing to do so can result in silent errors that might be hard to debug.\n 38%|███▊      | 595/1564 [00:48<01:21, 11.83it/s]It is strongly recommended to pass the ``sampling_rate`` argument to this function.Failing to do so can result in silent errors that might be hard to debug.\nIt is strongly recommended to pass the ``sampling_rate`` argument to this function.Failing to do so can result in silent errors that might be hard to debug.\n 38%|███▊      | 597/1564 [00:48<01:22, 11.72it/s]It is strongly recommended to pass the ``sampling_rate`` argument to this function.Failing to do so can result in silent errors that might be hard to debug.\nIt is strongly recommended to pass the ``sampling_rate`` argument to this function.Failing to do so can result in silent errors that might be hard to debug.\n 38%|███▊      | 599/1564 [00:48<01:23, 11.62it/s]It is strongly recommended to pass the ``sampling_rate`` argument to this function.Failing to do so can result in silent errors that might be hard to debug.\nIt is strongly recommended to pass the ``sampling_rate`` argument to this function.Failing to do so can result in silent errors that might be hard to debug.\n 38%|███▊      | 601/1564 [00:48<01:19, 12.16it/s]It is strongly recommended to pass the ``sampling_rate`` argument to this function.Failing to do so can result in silent errors that might be hard to debug.\nIt is strongly recommended to pass the ``sampling_rate`` argument to this function.Failing to do so can result in silent errors that might be hard to debug.\n 39%|███▊      | 603/1564 [00:48<01:16, 12.57it/s]It is strongly recommended to pass the ``sampling_rate`` argument to this function.Failing to do so can result in silent errors that might be hard to debug.\nIt is strongly recommended to pass the ``sampling_rate`` argument to this function.Failing to do so can result in silent errors that might be hard to debug.\n 39%|███▊      | 605/1564 [00:49<01:14, 12.89it/s]It is strongly recommended to pass the ``sampling_rate`` argument to this function.Failing to do so can result in silent errors that might be hard to debug.\nIt is strongly recommended to pass the ``sampling_rate`` argument to this function.Failing to do so can result in silent errors that might be hard to debug.\n 39%|███▉      | 607/1564 [00:49<01:13, 13.10it/s]It is strongly recommended to pass the ``sampling_rate`` argument to this function.Failing to do so can result in silent errors that might be hard to debug.\nIt is strongly recommended to pass the ``sampling_rate`` argument to this function.Failing to do so can result in silent errors that might be hard to debug.\n 39%|███▉      | 609/1564 [00:49<01:14, 12.76it/s]It is strongly recommended to pass the ``sampling_rate`` argument to this function.Failing to do so can result in silent errors that might be hard to debug.\nIt is strongly recommended to pass the ``sampling_rate`` argument to this function.Failing to do so can result in silent errors that might be hard to debug.\n 39%|███▉      | 611/1564 [00:49<01:15, 12.56it/s]It is strongly recommended to pass the ``sampling_rate`` argument to this function.Failing to do so can result in silent errors that might be hard to debug.\nIt is strongly recommended to pass the ``sampling_rate`` argument to this function.Failing to do so can result in silent errors that might be hard to debug.\n 39%|███▉      | 613/1564 [00:49<01:16, 12.44it/s]It is strongly recommended to pass the ``sampling_rate`` argument to this function.Failing to do so can result in silent errors that might be hard to debug.\nIt is strongly recommended to pass the ``sampling_rate`` argument to this function.Failing to do so can result in silent errors that might be hard to debug.\n 39%|███▉      | 615/1564 [00:49<01:16, 12.36it/s]It is strongly recommended to pass the ``sampling_rate`` argument to this function.Failing to do so can result in silent errors that might be hard to debug.\nIt is strongly recommended to pass the ``sampling_rate`` argument to this function.Failing to do so can result in silent errors that might be hard to debug.\n 39%|███▉      | 617/1564 [00:50<01:09, 13.60it/s]It is strongly recommended to pass the ``sampling_rate`` argument to this function.Failing to do so can result in silent errors that might be hard to debug.\nIt is strongly recommended to pass the ``sampling_rate`` argument to this function.Failing to do so can result in silent errors that might be hard to debug.\n 40%|███▉      | 619/1564 [00:50<01:04, 14.61it/s]It is strongly recommended to pass the ``sampling_rate`` argument to this function.Failing to do so can result in silent errors that might be hard to debug.\nIt is strongly recommended to pass the ``sampling_rate`` argument to this function.Failing to do so can result in silent errors that might be hard to debug.\n 40%|███▉      | 621/1564 [00:50<01:01, 15.42it/s]It is strongly recommended to pass the ``sampling_rate`` argument to this function.Failing to do so can result in silent errors that might be hard to debug.\nIt is strongly recommended to pass the ``sampling_rate`` argument to this function.Failing to do so can result in silent errors that might be hard to debug.\n 40%|███▉      | 623/1564 [00:50<00:58, 15.97it/s]It is strongly recommended to pass the ``sampling_rate`` argument to this function.Failing to do so can result in silent errors that might be hard to debug.\nIt is strongly recommended to pass the ``sampling_rate`` argument to this function.Failing to do so can result in silent errors that might be hard to debug.\n 40%|███▉      | 625/1564 [00:50<01:08, 13.71it/s]It is strongly recommended to pass the ``sampling_rate`` argument to this function.Failing to do so can result in silent errors that might be hard to debug.\nIt is strongly recommended to pass the ``sampling_rate`` argument to this function.Failing to do so can result in silent errors that might be hard to debug.\n 40%|████      | 627/1564 [00:50<01:14, 12.51it/s]It is strongly recommended to pass the ``sampling_rate`` argument to this function.Failing to do so can result in silent errors that might be hard to debug.\nIt is strongly recommended to pass the ``sampling_rate`` argument to this function.Failing to do so can result in silent errors that might be hard to debug.\n 40%|████      | 629/1564 [00:50<01:19, 11.79it/s]It is strongly recommended to pass the ``sampling_rate`` argument to this function.Failing to do so can result in silent errors that might be hard to debug.\nIt is strongly recommended to pass the ``sampling_rate`` argument to this function.Failing to do so can result in silent errors that might be hard to debug.\n 40%|████      | 631/1564 [00:51<01:22, 11.36it/s]It is strongly recommended to pass the ``sampling_rate`` argument to this function.Failing to do so can result in silent errors that might be hard to debug.\nIt is strongly recommended to pass the ``sampling_rate`` argument to this function.Failing to do so can result in silent errors that might be hard to debug.\n 40%|████      | 633/1564 [00:51<01:20, 11.50it/s]It is strongly recommended to pass the ``sampling_rate`` argument to this function.Failing to do so can result in silent errors that might be hard to debug.\nIt is strongly recommended to pass the ``sampling_rate`` argument to this function.Failing to do so can result in silent errors that might be hard to debug.\n 41%|████      | 635/1564 [00:51<01:20, 11.57it/s]It is strongly recommended to pass the ``sampling_rate`` argument to this function.Failing to do so can result in silent errors that might be hard to debug.\nIt is strongly recommended to pass the ``sampling_rate`` argument to this function.Failing to do so can result in silent errors that might be hard to debug.\n 41%|████      | 637/1564 [00:51<01:19, 11.63it/s]It is strongly recommended to pass the ``sampling_rate`` argument to this function.Failing to do so can result in silent errors that might be hard to debug.\nIt is strongly recommended to pass the ``sampling_rate`` argument to this function.Failing to do so can result in silent errors that might be hard to debug.\n 41%|████      | 639/1564 [00:51<01:19, 11.69it/s]It is strongly recommended to pass the ``sampling_rate`` argument to this function.Failing to do so can result in silent errors that might be hard to debug.\nIt is strongly recommended to pass the ``sampling_rate`` argument to this function.Failing to do so can result in silent errors that might be hard to debug.\n 41%|████      | 641/1564 [00:51<01:11, 12.99it/s]It is strongly recommended to pass the ``sampling_rate`` argument to this function.Failing to do so can result in silent errors that might be hard to debug.\nIt is strongly recommended to pass the ``sampling_rate`` argument to this function.Failing to do so can result in silent errors that might be hard to debug.\n 41%|████      | 643/1564 [00:52<01:05, 14.09it/s]It is strongly recommended to pass the ``sampling_rate`` argument to this function.Failing to do so can result in silent errors that might be hard to debug.\nIt is strongly recommended to pass the ``sampling_rate`` argument to this function.Failing to do so can result in silent errors that might be hard to debug.\n 41%|████      | 645/1564 [00:52<01:01, 14.99it/s]It is strongly recommended to pass the ``sampling_rate`` argument to this function.Failing to do so can result in silent errors that might be hard to debug.\nIt is strongly recommended to pass the ``sampling_rate`` argument to this function.Failing to do so can result in silent errors that might be hard to debug.\n 41%|████▏     | 647/1564 [00:52<00:58, 15.67it/s]It is strongly recommended to pass the ``sampling_rate`` argument to this function.Failing to do so can result in silent errors that might be hard to debug.\nIt is strongly recommended to pass the ``sampling_rate`` argument to this function.Failing to do so can result in silent errors that might be hard to debug.\n 41%|████▏     | 649/1564 [00:52<00:59, 15.51it/s]It is strongly recommended to pass the ``sampling_rate`` argument to this function.Failing to do so can result in silent errors that might be hard to debug.\nIt is strongly recommended to pass the ``sampling_rate`` argument to this function.Failing to do so can result in silent errors that might be hard to debug.\n 42%|████▏     | 651/1564 [00:52<00:59, 15.40it/s]It is strongly recommended to pass the ``sampling_rate`` argument to this function.Failing to do so can result in silent errors that might be hard to debug.\nIt is strongly recommended to pass the ``sampling_rate`` argument to this function.Failing to do so can result in silent errors that might be hard to debug.\n 42%|████▏     | 653/1564 [00:52<00:59, 15.33it/s]It is strongly recommended to pass the ``sampling_rate`` argument to this function.Failing to do so can result in silent errors that might be hard to debug.\nIt is strongly recommended to pass the ``sampling_rate`` argument to this function.Failing to do so can result in silent errors that might be hard to debug.\n 42%|████▏     | 655/1564 [00:52<00:59, 15.29it/s]It is strongly recommended to pass the ``sampling_rate`` argument to this function.Failing to do so can result in silent errors that might be hard to debug.\nIt is strongly recommended to pass the ``sampling_rate`` argument to this function.Failing to do so can result in silent errors that might be hard to debug.\n 42%|████▏     | 657/1564 [00:52<01:07, 13.47it/s]It is strongly recommended to pass the ``sampling_rate`` argument to this function.Failing to do so can result in silent errors that might be hard to debug.\nIt is strongly recommended to pass the ``sampling_rate`` argument to this function.Failing to do so can result in silent errors that might be hard to debug.\n 42%|████▏     | 659/1564 [00:53<01:12, 12.43it/s]It is strongly recommended to pass the ``sampling_rate`` argument to this function.Failing to do so can result in silent errors that might be hard to debug.\nIt is strongly recommended to pass the ``sampling_rate`` argument to this function.Failing to do so can result in silent errors that might be hard to debug.\n 42%|████▏     | 661/1564 [00:53<01:16, 11.75it/s]It is strongly recommended to pass the ``sampling_rate`` argument to this function.Failing to do so can result in silent errors that might be hard to debug.\nIt is strongly recommended to pass the ``sampling_rate`` argument to this function.Failing to do so can result in silent errors that might be hard to debug.\n 42%|████▏     | 663/1564 [00:53<01:20, 11.16it/s]It is strongly recommended to pass the ``sampling_rate`` argument to this function.Failing to do so can result in silent errors that might be hard to debug.\nIt is strongly recommended to pass the ``sampling_rate`` argument to this function.Failing to do so can result in silent errors that might be hard to debug.\n 43%|████▎     | 665/1564 [00:53<01:12, 12.44it/s]It is strongly recommended to pass the ``sampling_rate`` argument to this function.Failing to do so can result in silent errors that might be hard to debug.\nIt is strongly recommended to pass the ``sampling_rate`` argument to this function.Failing to do so can result in silent errors that might be hard to debug.\n 43%|████▎     | 667/1564 [00:53<01:06, 13.58it/s]It is strongly recommended to pass the ``sampling_rate`` argument to this function.Failing to do so can result in silent errors that might be hard to debug.\nIt is strongly recommended to pass the ``sampling_rate`` argument to this function.Failing to do so can result in silent errors that might be hard to debug.\n 43%|████▎     | 669/1564 [00:53<01:01, 14.49it/s]It is strongly recommended to pass the ``sampling_rate`` argument to this function.Failing to do so can result in silent errors that might be hard to debug.\nIt is strongly recommended to pass the ``sampling_rate`` argument to this function.Failing to do so can result in silent errors that might be hard to debug.\n 43%|████▎     | 671/1564 [00:54<00:58, 15.20it/s]It is strongly recommended to pass the ``sampling_rate`` argument to this function.Failing to do so can result in silent errors that might be hard to debug.\nIt is strongly recommended to pass the ``sampling_rate`` argument to this function.Failing to do so can result in silent errors that might be hard to debug.\n 43%|████▎     | 673/1564 [00:54<01:10, 12.71it/s]It is strongly recommended to pass the ``sampling_rate`` argument to this function.Failing to do so can result in silent errors that might be hard to debug.\nIt is strongly recommended to pass the ``sampling_rate`` argument to this function.Failing to do so can result in silent errors that might be hard to debug.\n 43%|████▎     | 675/1564 [00:54<01:18, 11.32it/s]It is strongly recommended to pass the ``sampling_rate`` argument to this function.Failing to do so can result in silent errors that might be hard to debug.\nIt is strongly recommended to pass the ``sampling_rate`` argument to this function.Failing to do so can result in silent errors that might be hard to debug.\n 43%|████▎     | 677/1564 [00:54<01:25, 10.38it/s]It is strongly recommended to pass the ``sampling_rate`` argument to this function.Failing to do so can result in silent errors that might be hard to debug.\nIt is strongly recommended to pass the ``sampling_rate`` argument to this function.Failing to do so can result in silent errors that might be hard to debug.\n 43%|████▎     | 679/1564 [00:54<01:28,  9.98it/s]It is strongly recommended to pass the ``sampling_rate`` argument to this function.Failing to do so can result in silent errors that might be hard to debug.\nIt is strongly recommended to pass the ``sampling_rate`` argument to this function.Failing to do so can result in silent errors that might be hard to debug.\n 44%|████▎     | 681/1564 [00:55<01:26, 10.23it/s]It is strongly recommended to pass the ``sampling_rate`` argument to this function.Failing to do so can result in silent errors that might be hard to debug.\nIt is strongly recommended to pass the ``sampling_rate`` argument to this function.Failing to do so can result in silent errors that might be hard to debug.\n 44%|████▎     | 683/1564 [00:55<01:23, 10.54it/s]It is strongly recommended to pass the ``sampling_rate`` argument to this function.Failing to do so can result in silent errors that might be hard to debug.\nIt is strongly recommended to pass the ``sampling_rate`` argument to this function.Failing to do so can result in silent errors that might be hard to debug.\n 44%|████▍     | 685/1564 [00:55<01:26, 10.11it/s]It is strongly recommended to pass the ``sampling_rate`` argument to this function.Failing to do so can result in silent errors that might be hard to debug.\nIt is strongly recommended to pass the ``sampling_rate`` argument to this function.Failing to do so can result in silent errors that might be hard to debug.\n 44%|████▍     | 687/1564 [00:55<01:27,  9.99it/s]It is strongly recommended to pass the ``sampling_rate`` argument to this function.Failing to do so can result in silent errors that might be hard to debug.\nIt is strongly recommended to pass the ``sampling_rate`` argument to this function.Failing to do so can result in silent errors that might be hard to debug.\n 44%|████▍     | 689/1564 [00:55<01:25, 10.25it/s]It is strongly recommended to pass the ``sampling_rate`` argument to this function.Failing to do so can result in silent errors that might be hard to debug.\nIt is strongly recommended to pass the ``sampling_rate`` argument to this function.Failing to do so can result in silent errors that might be hard to debug.\n 44%|████▍     | 691/1564 [00:56<01:23, 10.47it/s]It is strongly recommended to pass the ``sampling_rate`` argument to this function.Failing to do so can result in silent errors that might be hard to debug.\nIt is strongly recommended to pass the ``sampling_rate`` argument to this function.Failing to do so can result in silent errors that might be hard to debug.\n 44%|████▍     | 693/1564 [00:56<01:22, 10.61it/s]It is strongly recommended to pass the ``sampling_rate`` argument to this function.Failing to do so can result in silent errors that might be hard to debug.\nIt is strongly recommended to pass the ``sampling_rate`` argument to this function.Failing to do so can result in silent errors that might be hard to debug.\n 44%|████▍     | 695/1564 [00:56<01:21, 10.72it/s]It is strongly recommended to pass the ``sampling_rate`` argument to this function.Failing to do so can result in silent errors that might be hard to debug.\nIt is strongly recommended to pass the ``sampling_rate`` argument to this function.Failing to do so can result in silent errors that might be hard to debug.\n 45%|████▍     | 697/1564 [00:56<01:12, 12.01it/s]It is strongly recommended to pass the ``sampling_rate`` argument to this function.Failing to do so can result in silent errors that might be hard to debug.\nIt is strongly recommended to pass the ``sampling_rate`` argument to this function.Failing to do so can result in silent errors that might be hard to debug.\n 45%|████▍     | 699/1564 [00:56<01:06, 13.00it/s]It is strongly recommended to pass the ``sampling_rate`` argument to this function.Failing to do so can result in silent errors that might be hard to debug.\nIt is strongly recommended to pass the ``sampling_rate`` argument to this function.Failing to do so can result in silent errors that might be hard to debug.\n 45%|████▍     | 701/1564 [00:56<01:02, 13.91it/s]It is strongly recommended to pass the ``sampling_rate`` argument to this function.Failing to do so can result in silent errors that might be hard to debug.\nIt is strongly recommended to pass the ``sampling_rate`` argument to this function.Failing to do so can result in silent errors that might be hard to debug.\n 45%|████▍     | 703/1564 [00:56<00:58, 14.65it/s]It is strongly recommended to pass the ``sampling_rate`` argument to this function.Failing to do so can result in silent errors that might be hard to debug.\nIt is strongly recommended to pass the ``sampling_rate`` argument to this function.Failing to do so can result in silent errors that might be hard to debug.\n 45%|████▌     | 705/1564 [00:57<01:02, 13.72it/s]It is strongly recommended to pass the ``sampling_rate`` argument to this function.Failing to do so can result in silent errors that might be hard to debug.\nIt is strongly recommended to pass the ``sampling_rate`` argument to this function.Failing to do so can result in silent errors that might be hard to debug.\n 45%|████▌     | 707/1564 [00:57<01:05, 13.12it/s]It is strongly recommended to pass the ``sampling_rate`` argument to this function.Failing to do so can result in silent errors that might be hard to debug.\nIt is strongly recommended to pass the ``sampling_rate`` argument to this function.Failing to do so can result in silent errors that might be hard to debug.\n 45%|████▌     | 709/1564 [00:57<01:07, 12.72it/s]It is strongly recommended to pass the ``sampling_rate`` argument to this function.Failing to do so can result in silent errors that might be hard to debug.\nIt is strongly recommended to pass the ``sampling_rate`` argument to this function.Failing to do so can result in silent errors that might be hard to debug.\n 45%|████▌     | 711/1564 [00:57<01:08, 12.47it/s]It is strongly recommended to pass the ``sampling_rate`` argument to this function.Failing to do so can result in silent errors that might be hard to debug.\nIt is strongly recommended to pass the ``sampling_rate`` argument to this function.Failing to do so can result in silent errors that might be hard to debug.\n 46%|████▌     | 713/1564 [00:57<01:06, 12.80it/s]It is strongly recommended to pass the ``sampling_rate`` argument to this function.Failing to do so can result in silent errors that might be hard to debug.\nIt is strongly recommended to pass the ``sampling_rate`` argument to this function.Failing to do so can result in silent errors that might be hard to debug.\n 46%|████▌     | 715/1564 [00:57<01:05, 13.03it/s]It is strongly recommended to pass the ``sampling_rate`` argument to this function.Failing to do so can result in silent errors that might be hard to debug.\nIt is strongly recommended to pass the ``sampling_rate`` argument to this function.Failing to do so can result in silent errors that might be hard to debug.\n 46%|████▌     | 717/1564 [00:58<01:04, 13.18it/s]It is strongly recommended to pass the ``sampling_rate`` argument to this function.Failing to do so can result in silent errors that might be hard to debug.\nIt is strongly recommended to pass the ``sampling_rate`` argument to this function.Failing to do so can result in silent errors that might be hard to debug.\n 46%|████▌     | 719/1564 [00:58<01:04, 13.04it/s]It is strongly recommended to pass the ``sampling_rate`` argument to this function.Failing to do so can result in silent errors that might be hard to debug.\nIt is strongly recommended to pass the ``sampling_rate`` argument to this function.Failing to do so can result in silent errors that might be hard to debug.\n 46%|████▌     | 721/1564 [00:58<01:07, 12.57it/s]It is strongly recommended to pass the ``sampling_rate`` argument to this function.Failing to do so can result in silent errors that might be hard to debug.\nIt is strongly recommended to pass the ``sampling_rate`` argument to this function.Failing to do so can result in silent errors that might be hard to debug.\n 46%|████▌     | 723/1564 [00:58<01:08, 12.26it/s]It is strongly recommended to pass the ``sampling_rate`` argument to this function.Failing to do so can result in silent errors that might be hard to debug.\nIt is strongly recommended to pass the ``sampling_rate`` argument to this function.Failing to do so can result in silent errors that might be hard to debug.\n 46%|████▋     | 725/1564 [00:58<01:09, 12.05it/s]It is strongly recommended to pass the ``sampling_rate`` argument to this function.Failing to do so can result in silent errors that might be hard to debug.\nIt is strongly recommended to pass the ``sampling_rate`` argument to this function.Failing to do so can result in silent errors that might be hard to debug.\n 46%|████▋     | 727/1564 [00:58<01:10, 11.94it/s]It is strongly recommended to pass the ``sampling_rate`` argument to this function.Failing to do so can result in silent errors that might be hard to debug.\nIt is strongly recommended to pass the ``sampling_rate`` argument to this function.Failing to do so can result in silent errors that might be hard to debug.\n 47%|████▋     | 729/1564 [00:59<01:12, 11.54it/s]It is strongly recommended to pass the ``sampling_rate`` argument to this function.Failing to do so can result in silent errors that might be hard to debug.\nIt is strongly recommended to pass the ``sampling_rate`` argument to this function.Failing to do so can result in silent errors that might be hard to debug.\n 47%|████▋     | 731/1564 [00:59<01:13, 11.26it/s]It is strongly recommended to pass the ``sampling_rate`` argument to this function.Failing to do so can result in silent errors that might be hard to debug.\nIt is strongly recommended to pass the ``sampling_rate`` argument to this function.Failing to do so can result in silent errors that might be hard to debug.\n 47%|████▋     | 733/1564 [00:59<01:15, 11.05it/s]It is strongly recommended to pass the ``sampling_rate`` argument to this function.Failing to do so can result in silent errors that might be hard to debug.\nIt is strongly recommended to pass the ``sampling_rate`` argument to this function.Failing to do so can result in silent errors that might be hard to debug.\n 47%|████▋     | 735/1564 [00:59<01:15, 10.92it/s]It is strongly recommended to pass the ``sampling_rate`` argument to this function.Failing to do so can result in silent errors that might be hard to debug.\nIt is strongly recommended to pass the ``sampling_rate`` argument to this function.Failing to do so can result in silent errors that might be hard to debug.\n 47%|████▋     | 737/1564 [00:59<01:10, 11.66it/s]It is strongly recommended to pass the ``sampling_rate`` argument to this function.Failing to do so can result in silent errors that might be hard to debug.\nIt is strongly recommended to pass the ``sampling_rate`` argument to this function.Failing to do so can result in silent errors that might be hard to debug.\n 47%|████▋     | 739/1564 [00:59<01:07, 12.24it/s]It is strongly recommended to pass the ``sampling_rate`` argument to this function.Failing to do so can result in silent errors that might be hard to debug.\nIt is strongly recommended to pass the ``sampling_rate`` argument to this function.Failing to do so can result in silent errors that might be hard to debug.\n 47%|████▋     | 741/1564 [01:00<01:07, 12.28it/s]It is strongly recommended to pass the ``sampling_rate`` argument to this function.Failing to do so can result in silent errors that might be hard to debug.\nIt is strongly recommended to pass the ``sampling_rate`` argument to this function.Failing to do so can result in silent errors that might be hard to debug.\n 48%|████▊     | 743/1564 [01:00<01:12, 11.34it/s]It is strongly recommended to pass the ``sampling_rate`` argument to this function.Failing to do so can result in silent errors that might be hard to debug.\nIt is strongly recommended to pass the ``sampling_rate`` argument to this function.Failing to do so can result in silent errors that might be hard to debug.\n 48%|████▊     | 745/1564 [01:00<01:15, 10.91it/s]It is strongly recommended to pass the ``sampling_rate`` argument to this function.Failing to do so can result in silent errors that might be hard to debug.\nIt is strongly recommended to pass the ``sampling_rate`` argument to this function.Failing to do so can result in silent errors that might be hard to debug.\n 48%|████▊     | 747/1564 [01:00<01:14, 10.93it/s]It is strongly recommended to pass the ``sampling_rate`` argument to this function.Failing to do so can result in silent errors that might be hard to debug.\nIt is strongly recommended to pass the ``sampling_rate`` argument to this function.Failing to do so can result in silent errors that might be hard to debug.\n 48%|████▊     | 749/1564 [01:00<01:08, 11.85it/s]It is strongly recommended to pass the ``sampling_rate`` argument to this function.Failing to do so can result in silent errors that might be hard to debug.\nIt is strongly recommended to pass the ``sampling_rate`` argument to this function.Failing to do so can result in silent errors that might be hard to debug.\n 48%|████▊     | 751/1564 [01:00<01:04, 12.57it/s]It is strongly recommended to pass the ``sampling_rate`` argument to this function.Failing to do so can result in silent errors that might be hard to debug.\nIt is strongly recommended to pass the ``sampling_rate`` argument to this function.Failing to do so can result in silent errors that might be hard to debug.\n 48%|████▊     | 753/1564 [01:01<01:02, 12.96it/s]It is strongly recommended to pass the ``sampling_rate`` argument to this function.Failing to do so can result in silent errors that might be hard to debug.\nIt is strongly recommended to pass the ``sampling_rate`` argument to this function.Failing to do so can result in silent errors that might be hard to debug.\n 48%|████▊     | 755/1564 [01:01<01:00, 13.31it/s]It is strongly recommended to pass the ``sampling_rate`` argument to this function.Failing to do so can result in silent errors that might be hard to debug.\nIt is strongly recommended to pass the ``sampling_rate`` argument to this function.Failing to do so can result in silent errors that might be hard to debug.\n 48%|████▊     | 757/1564 [01:01<00:59, 13.56it/s]It is strongly recommended to pass the ``sampling_rate`` argument to this function.Failing to do so can result in silent errors that might be hard to debug.\nIt is strongly recommended to pass the ``sampling_rate`` argument to this function.Failing to do so can result in silent errors that might be hard to debug.\n 49%|████▊     | 759/1564 [01:01<00:58, 13.74it/s]It is strongly recommended to pass the ``sampling_rate`` argument to this function.Failing to do so can result in silent errors that might be hard to debug.\nIt is strongly recommended to pass the ``sampling_rate`` argument to this function.Failing to do so can result in silent errors that might be hard to debug.\n 49%|████▊     | 761/1564 [01:01<00:56, 14.12it/s]It is strongly recommended to pass the ``sampling_rate`` argument to this function.Failing to do so can result in silent errors that might be hard to debug.\nIt is strongly recommended to pass the ``sampling_rate`` argument to this function.Failing to do so can result in silent errors that might be hard to debug.\n 49%|████▉     | 763/1564 [01:01<00:55, 14.43it/s]It is strongly recommended to pass the ``sampling_rate`` argument to this function.Failing to do so can result in silent errors that might be hard to debug.\nIt is strongly recommended to pass the ``sampling_rate`` argument to this function.Failing to do so can result in silent errors that might be hard to debug.\n 49%|████▉     | 765/1564 [01:01<00:54, 14.63it/s]It is strongly recommended to pass the ``sampling_rate`` argument to this function.Failing to do so can result in silent errors that might be hard to debug.\nIt is strongly recommended to pass the ``sampling_rate`` argument to this function.Failing to do so can result in silent errors that might be hard to debug.\n 49%|████▉     | 767/1564 [01:02<00:53, 14.79it/s]It is strongly recommended to pass the ``sampling_rate`` argument to this function.Failing to do so can result in silent errors that might be hard to debug.\nIt is strongly recommended to pass the ``sampling_rate`` argument to this function.Failing to do so can result in silent errors that might be hard to debug.\n 49%|████▉     | 769/1564 [01:02<00:54, 14.61it/s]It is strongly recommended to pass the ``sampling_rate`` argument to this function.Failing to do so can result in silent errors that might be hard to debug.\nIt is strongly recommended to pass the ``sampling_rate`` argument to this function.Failing to do so can result in silent errors that might be hard to debug.\n 49%|████▉     | 771/1564 [01:02<00:54, 14.47it/s]It is strongly recommended to pass the ``sampling_rate`` argument to this function.Failing to do so can result in silent errors that might be hard to debug.\nIt is strongly recommended to pass the ``sampling_rate`` argument to this function.Failing to do so can result in silent errors that might be hard to debug.\n 49%|████▉     | 773/1564 [01:02<00:55, 14.36it/s]It is strongly recommended to pass the ``sampling_rate`` argument to this function.Failing to do so can result in silent errors that might be hard to debug.\nIt is strongly recommended to pass the ``sampling_rate`` argument to this function.Failing to do so can result in silent errors that might be hard to debug.\n 50%|████▉     | 775/1564 [01:02<00:55, 14.29it/s]It is strongly recommended to pass the ``sampling_rate`` argument to this function.Failing to do so can result in silent errors that might be hard to debug.\nIt is strongly recommended to pass the ``sampling_rate`` argument to this function.Failing to do so can result in silent errors that might be hard to debug.\n 50%|████▉     | 777/1564 [01:02<00:58, 13.36it/s]It is strongly recommended to pass the ``sampling_rate`` argument to this function.Failing to do so can result in silent errors that might be hard to debug.\nIt is strongly recommended to pass the ``sampling_rate`` argument to this function.Failing to do so can result in silent errors that might be hard to debug.\n 50%|████▉     | 779/1564 [01:02<01:01, 12.79it/s]It is strongly recommended to pass the ``sampling_rate`` argument to this function.Failing to do so can result in silent errors that might be hard to debug.\nIt is strongly recommended to pass the ``sampling_rate`` argument to this function.Failing to do so can result in silent errors that might be hard to debug.\n 50%|████▉     | 781/1564 [01:03<01:06, 11.69it/s]It is strongly recommended to pass the ``sampling_rate`` argument to this function.Failing to do so can result in silent errors that might be hard to debug.\nIt is strongly recommended to pass the ``sampling_rate`` argument to this function.Failing to do so can result in silent errors that might be hard to debug.\n 50%|█████     | 783/1564 [01:03<01:10, 11.10it/s]It is strongly recommended to pass the ``sampling_rate`` argument to this function.Failing to do so can result in silent errors that might be hard to debug.\nIt is strongly recommended to pass the ``sampling_rate`` argument to this function.Failing to do so can result in silent errors that might be hard to debug.\n 50%|█████     | 785/1564 [01:03<01:10, 10.99it/s]It is strongly recommended to pass the ``sampling_rate`` argument to this function.Failing to do so can result in silent errors that might be hard to debug.\nIt is strongly recommended to pass the ``sampling_rate`` argument to this function.Failing to do so can result in silent errors that might be hard to debug.\n 50%|█████     | 787/1564 [01:03<01:11, 10.82it/s]It is strongly recommended to pass the ``sampling_rate`` argument to this function.Failing to do so can result in silent errors that might be hard to debug.\nIt is strongly recommended to pass the ``sampling_rate`` argument to this function.Failing to do so can result in silent errors that might be hard to debug.\n 50%|█████     | 789/1564 [01:03<01:12, 10.76it/s]It is strongly recommended to pass the ``sampling_rate`` argument to this function.Failing to do so can result in silent errors that might be hard to debug.\nIt is strongly recommended to pass the ``sampling_rate`` argument to this function.Failing to do so can result in silent errors that might be hard to debug.\n 51%|█████     | 791/1564 [01:04<01:11, 10.83it/s]It is strongly recommended to pass the ``sampling_rate`` argument to this function.Failing to do so can result in silent errors that might be hard to debug.\nIt is strongly recommended to pass the ``sampling_rate`` argument to this function.Failing to do so can result in silent errors that might be hard to debug.\n 51%|█████     | 793/1564 [01:04<01:05, 11.71it/s]It is strongly recommended to pass the ``sampling_rate`` argument to this function.Failing to do so can result in silent errors that might be hard to debug.\nIt is strongly recommended to pass the ``sampling_rate`` argument to this function.Failing to do so can result in silent errors that might be hard to debug.\n 51%|█████     | 795/1564 [01:04<01:02, 12.38it/s]It is strongly recommended to pass the ``sampling_rate`` argument to this function.Failing to do so can result in silent errors that might be hard to debug.\nIt is strongly recommended to pass the ``sampling_rate`` argument to this function.Failing to do so can result in silent errors that might be hard to debug.\n 51%|█████     | 797/1564 [01:04<00:59, 12.84it/s]It is strongly recommended to pass the ``sampling_rate`` argument to this function.Failing to do so can result in silent errors that might be hard to debug.\nIt is strongly recommended to pass the ``sampling_rate`` argument to this function.Failing to do so can result in silent errors that might be hard to debug.\n 51%|█████     | 799/1564 [01:04<00:56, 13.50it/s]It is strongly recommended to pass the ``sampling_rate`` argument to this function.Failing to do so can result in silent errors that might be hard to debug.\nIt is strongly recommended to pass the ``sampling_rate`` argument to this function.Failing to do so can result in silent errors that might be hard to debug.\n 51%|█████     | 801/1564 [01:04<00:53, 14.28it/s]It is strongly recommended to pass the ``sampling_rate`` argument to this function.Failing to do so can result in silent errors that might be hard to debug.\nIt is strongly recommended to pass the ``sampling_rate`` argument to this function.Failing to do so can result in silent errors that might be hard to debug.\n 51%|█████▏    | 803/1564 [01:04<00:51, 14.89it/s]It is strongly recommended to pass the ``sampling_rate`` argument to this function.Failing to do so can result in silent errors that might be hard to debug.\nIt is strongly recommended to pass the ``sampling_rate`` argument to this function.Failing to do so can result in silent errors that might be hard to debug.\n 51%|█████▏    | 805/1564 [01:05<00:49, 15.28it/s]It is strongly recommended to pass the ``sampling_rate`` argument to this function.Failing to do so can result in silent errors that might be hard to debug.\nIt is strongly recommended to pass the ``sampling_rate`` argument to this function.Failing to do so can result in silent errors that might be hard to debug.\n 52%|█████▏    | 807/1564 [01:05<00:49, 15.14it/s]It is strongly recommended to pass the ``sampling_rate`` argument to this function.Failing to do so can result in silent errors that might be hard to debug.\nIt is strongly recommended to pass the ``sampling_rate`` argument to this function.Failing to do so can result in silent errors that might be hard to debug.\n 52%|█████▏    | 809/1564 [01:05<00:51, 14.63it/s]It is strongly recommended to pass the ``sampling_rate`` argument to this function.Failing to do so can result in silent errors that might be hard to debug.\nIt is strongly recommended to pass the ``sampling_rate`` argument to this function.Failing to do so can result in silent errors that might be hard to debug.\n 52%|█████▏    | 811/1564 [01:05<00:52, 14.21it/s]It is strongly recommended to pass the ``sampling_rate`` argument to this function.Failing to do so can result in silent errors that might be hard to debug.\nIt is strongly recommended to pass the ``sampling_rate`` argument to this function.Failing to do so can result in silent errors that might be hard to debug.\n 52%|█████▏    | 813/1564 [01:05<00:53, 13.95it/s]It is strongly recommended to pass the ``sampling_rate`` argument to this function.Failing to do so can result in silent errors that might be hard to debug.\nIt is strongly recommended to pass the ``sampling_rate`` argument to this function.Failing to do so can result in silent errors that might be hard to debug.\n 52%|█████▏    | 815/1564 [01:05<00:55, 13.46it/s]It is strongly recommended to pass the ``sampling_rate`` argument to this function.Failing to do so can result in silent errors that might be hard to debug.\nIt is strongly recommended to pass the ``sampling_rate`` argument to this function.Failing to do so can result in silent errors that might be hard to debug.\n 52%|█████▏    | 817/1564 [01:05<00:54, 13.62it/s]It is strongly recommended to pass the ``sampling_rate`` argument to this function.Failing to do so can result in silent errors that might be hard to debug.\nIt is strongly recommended to pass the ``sampling_rate`` argument to this function.Failing to do so can result in silent errors that might be hard to debug.\n 52%|█████▏    | 819/1564 [01:06<00:55, 13.40it/s]It is strongly recommended to pass the ``sampling_rate`` argument to this function.Failing to do so can result in silent errors that might be hard to debug.\nIt is strongly recommended to pass the ``sampling_rate`` argument to this function.Failing to do so can result in silent errors that might be hard to debug.\n 52%|█████▏    | 821/1564 [01:06<00:54, 13.59it/s]It is strongly recommended to pass the ``sampling_rate`` argument to this function.Failing to do so can result in silent errors that might be hard to debug.\nIt is strongly recommended to pass the ``sampling_rate`` argument to this function.Failing to do so can result in silent errors that might be hard to debug.\n 53%|█████▎    | 823/1564 [01:06<01:01, 12.07it/s]It is strongly recommended to pass the ``sampling_rate`` argument to this function.Failing to do so can result in silent errors that might be hard to debug.\nIt is strongly recommended to pass the ``sampling_rate`` argument to this function.Failing to do so can result in silent errors that might be hard to debug.\n 53%|█████▎    | 825/1564 [01:06<01:07, 11.00it/s]It is strongly recommended to pass the ``sampling_rate`` argument to this function.Failing to do so can result in silent errors that might be hard to debug.\nIt is strongly recommended to pass the ``sampling_rate`` argument to this function.Failing to do so can result in silent errors that might be hard to debug.\n 53%|█████▎    | 827/1564 [01:06<01:05, 11.33it/s]It is strongly recommended to pass the ``sampling_rate`` argument to this function.Failing to do so can result in silent errors that might be hard to debug.\nIt is strongly recommended to pass the ``sampling_rate`` argument to this function.Failing to do so can result in silent errors that might be hard to debug.\n 53%|█████▎    | 829/1564 [01:06<01:03, 11.64it/s]It is strongly recommended to pass the ``sampling_rate`` argument to this function.Failing to do so can result in silent errors that might be hard to debug.\nIt is strongly recommended to pass the ``sampling_rate`` argument to this function.Failing to do so can result in silent errors that might be hard to debug.\n 53%|█████▎    | 831/1564 [01:07<00:59, 12.30it/s]It is strongly recommended to pass the ``sampling_rate`` argument to this function.Failing to do so can result in silent errors that might be hard to debug.\nIt is strongly recommended to pass the ``sampling_rate`` argument to this function.Failing to do so can result in silent errors that might be hard to debug.\n 53%|█████▎    | 833/1564 [01:07<00:54, 13.39it/s]It is strongly recommended to pass the ``sampling_rate`` argument to this function.Failing to do so can result in silent errors that might be hard to debug.\nIt is strongly recommended to pass the ``sampling_rate`` argument to this function.Failing to do so can result in silent errors that might be hard to debug.\n 53%|█████▎    | 835/1564 [01:07<00:51, 14.25it/s]It is strongly recommended to pass the ``sampling_rate`` argument to this function.Failing to do so can result in silent errors that might be hard to debug.\nIt is strongly recommended to pass the ``sampling_rate`` argument to this function.Failing to do so can result in silent errors that might be hard to debug.\n 54%|█████▎    | 837/1564 [01:07<00:48, 14.88it/s]It is strongly recommended to pass the ``sampling_rate`` argument to this function.Failing to do so can result in silent errors that might be hard to debug.\nIt is strongly recommended to pass the ``sampling_rate`` argument to this function.Failing to do so can result in silent errors that might be hard to debug.\n 54%|█████▎    | 839/1564 [01:07<00:47, 15.16it/s]It is strongly recommended to pass the ``sampling_rate`` argument to this function.Failing to do so can result in silent errors that might be hard to debug.\nIt is strongly recommended to pass the ``sampling_rate`` argument to this function.Failing to do so can result in silent errors that might be hard to debug.\n 54%|█████▍    | 841/1564 [01:07<00:47, 15.12it/s]It is strongly recommended to pass the ``sampling_rate`` argument to this function.Failing to do so can result in silent errors that might be hard to debug.\nIt is strongly recommended to pass the ``sampling_rate`` argument to this function.Failing to do so can result in silent errors that might be hard to debug.\n 54%|█████▍    | 843/1564 [01:07<00:47, 15.13it/s]It is strongly recommended to pass the ``sampling_rate`` argument to this function.Failing to do so can result in silent errors that might be hard to debug.\nIt is strongly recommended to pass the ``sampling_rate`` argument to this function.Failing to do so can result in silent errors that might be hard to debug.\n 54%|█████▍    | 845/1564 [01:07<00:47, 15.17it/s]It is strongly recommended to pass the ``sampling_rate`` argument to this function.Failing to do so can result in silent errors that might be hard to debug.\nIt is strongly recommended to pass the ``sampling_rate`` argument to this function.Failing to do so can result in silent errors that might be hard to debug.\n 54%|█████▍    | 847/1564 [01:08<00:49, 14.58it/s]It is strongly recommended to pass the ``sampling_rate`` argument to this function.Failing to do so can result in silent errors that might be hard to debug.\nIt is strongly recommended to pass the ``sampling_rate`` argument to this function.Failing to do so can result in silent errors that might be hard to debug.\n 54%|█████▍    | 849/1564 [01:08<00:53, 13.30it/s]It is strongly recommended to pass the ``sampling_rate`` argument to this function.Failing to do so can result in silent errors that might be hard to debug.\nIt is strongly recommended to pass the ``sampling_rate`` argument to this function.Failing to do so can result in silent errors that might be hard to debug.\n 54%|█████▍    | 851/1564 [01:08<00:55, 12.84it/s]It is strongly recommended to pass the ``sampling_rate`` argument to this function.Failing to do so can result in silent errors that might be hard to debug.\nIt is strongly recommended to pass the ``sampling_rate`` argument to this function.Failing to do so can result in silent errors that might be hard to debug.\n 55%|█████▍    | 853/1564 [01:08<00:56, 12.58it/s]It is strongly recommended to pass the ``sampling_rate`` argument to this function.Failing to do so can result in silent errors that might be hard to debug.\nIt is strongly recommended to pass the ``sampling_rate`` argument to this function.Failing to do so can result in silent errors that might be hard to debug.\n 55%|█████▍    | 855/1564 [01:08<00:54, 13.00it/s]It is strongly recommended to pass the ``sampling_rate`` argument to this function.Failing to do so can result in silent errors that might be hard to debug.\nIt is strongly recommended to pass the ``sampling_rate`` argument to this function.Failing to do so can result in silent errors that might be hard to debug.\n 55%|█████▍    | 857/1564 [01:08<00:50, 13.94it/s]It is strongly recommended to pass the ``sampling_rate`` argument to this function.Failing to do so can result in silent errors that might be hard to debug.\nIt is strongly recommended to pass the ``sampling_rate`` argument to this function.Failing to do so can result in silent errors that might be hard to debug.\n 55%|█████▍    | 859/1564 [01:09<00:47, 14.76it/s]It is strongly recommended to pass the ``sampling_rate`` argument to this function.Failing to do so can result in silent errors that might be hard to debug.\nIt is strongly recommended to pass the ``sampling_rate`` argument to this function.Failing to do so can result in silent errors that might be hard to debug.\n 55%|█████▌    | 861/1564 [01:09<00:45, 15.39it/s]It is strongly recommended to pass the ``sampling_rate`` argument to this function.Failing to do so can result in silent errors that might be hard to debug.\nIt is strongly recommended to pass the ``sampling_rate`` argument to this function.Failing to do so can result in silent errors that might be hard to debug.\n 55%|█████▌    | 863/1564 [01:09<00:47, 14.69it/s]It is strongly recommended to pass the ``sampling_rate`` argument to this function.Failing to do so can result in silent errors that might be hard to debug.\nIt is strongly recommended to pass the ``sampling_rate`` argument to this function.Failing to do so can result in silent errors that might be hard to debug.\n 55%|█████▌    | 865/1564 [01:09<00:52, 13.26it/s]It is strongly recommended to pass the ``sampling_rate`` argument to this function.Failing to do so can result in silent errors that might be hard to debug.\nIt is strongly recommended to pass the ``sampling_rate`` argument to this function.Failing to do so can result in silent errors that might be hard to debug.\n 55%|█████▌    | 867/1564 [01:09<00:56, 12.38it/s]It is strongly recommended to pass the ``sampling_rate`` argument to this function.Failing to do so can result in silent errors that might be hard to debug.\nIt is strongly recommended to pass the ``sampling_rate`` argument to this function.Failing to do so can result in silent errors that might be hard to debug.\n 56%|█████▌    | 869/1564 [01:09<00:58, 11.89it/s]It is strongly recommended to pass the ``sampling_rate`` argument to this function.Failing to do so can result in silent errors that might be hard to debug.\nIt is strongly recommended to pass the ``sampling_rate`` argument to this function.Failing to do so can result in silent errors that might be hard to debug.\n 56%|█████▌    | 871/1564 [01:10<00:58, 11.75it/s]It is strongly recommended to pass the ``sampling_rate`` argument to this function.Failing to do so can result in silent errors that might be hard to debug.\nIt is strongly recommended to pass the ``sampling_rate`` argument to this function.Failing to do so can result in silent errors that might be hard to debug.\n 56%|█████▌    | 873/1564 [01:10<00:58, 11.89it/s]It is strongly recommended to pass the ``sampling_rate`` argument to this function.Failing to do so can result in silent errors that might be hard to debug.\nIt is strongly recommended to pass the ``sampling_rate`` argument to this function.Failing to do so can result in silent errors that might be hard to debug.\n 56%|█████▌    | 875/1564 [01:10<00:57, 11.98it/s]It is strongly recommended to pass the ``sampling_rate`` argument to this function.Failing to do so can result in silent errors that might be hard to debug.\nIt is strongly recommended to pass the ``sampling_rate`` argument to this function.Failing to do so can result in silent errors that might be hard to debug.\n 56%|█████▌    | 877/1564 [01:10<00:57, 12.03it/s]It is strongly recommended to pass the ``sampling_rate`` argument to this function.Failing to do so can result in silent errors that might be hard to debug.\nIt is strongly recommended to pass the ``sampling_rate`` argument to this function.Failing to do so can result in silent errors that might be hard to debug.\n 56%|█████▌    | 879/1564 [01:10<00:55, 12.39it/s]It is strongly recommended to pass the ``sampling_rate`` argument to this function.Failing to do so can result in silent errors that might be hard to debug.\nIt is strongly recommended to pass the ``sampling_rate`` argument to this function.Failing to do so can result in silent errors that might be hard to debug.\n 56%|█████▋    | 881/1564 [01:10<00:52, 13.06it/s]It is strongly recommended to pass the ``sampling_rate`` argument to this function.Failing to do so can result in silent errors that might be hard to debug.\nIt is strongly recommended to pass the ``sampling_rate`` argument to this function.Failing to do so can result in silent errors that might be hard to debug.\n 56%|█████▋    | 883/1564 [01:10<00:50, 13.60it/s]It is strongly recommended to pass the ``sampling_rate`` argument to this function.Failing to do so can result in silent errors that might be hard to debug.\nIt is strongly recommended to pass the ``sampling_rate`` argument to this function.Failing to do so can result in silent errors that might be hard to debug.\n 57%|█████▋    | 885/1564 [01:11<00:48, 13.98it/s]It is strongly recommended to pass the ``sampling_rate`` argument to this function.Failing to do so can result in silent errors that might be hard to debug.\nIt is strongly recommended to pass the ``sampling_rate`` argument to this function.Failing to do so can result in silent errors that might be hard to debug.\n 57%|█████▋    | 887/1564 [01:11<00:51, 13.19it/s]It is strongly recommended to pass the ``sampling_rate`` argument to this function.Failing to do so can result in silent errors that might be hard to debug.\nIt is strongly recommended to pass the ``sampling_rate`` argument to this function.Failing to do so can result in silent errors that might be hard to debug.\n 57%|█████▋    | 889/1564 [01:11<00:56, 11.86it/s]It is strongly recommended to pass the ``sampling_rate`` argument to this function.Failing to do so can result in silent errors that might be hard to debug.\nIt is strongly recommended to pass the ``sampling_rate`` argument to this function.Failing to do so can result in silent errors that might be hard to debug.\n 57%|█████▋    | 891/1564 [01:11<01:01, 11.03it/s]It is strongly recommended to pass the ``sampling_rate`` argument to this function.Failing to do so can result in silent errors that might be hard to debug.\nIt is strongly recommended to pass the ``sampling_rate`` argument to this function.Failing to do so can result in silent errors that might be hard to debug.\n 57%|█████▋    | 893/1564 [01:11<01:03, 10.56it/s]It is strongly recommended to pass the ``sampling_rate`` argument to this function.Failing to do so can result in silent errors that might be hard to debug.\nIt is strongly recommended to pass the ``sampling_rate`` argument to this function.Failing to do so can result in silent errors that might be hard to debug.\n 57%|█████▋    | 895/1564 [01:12<01:03, 10.57it/s]It is strongly recommended to pass the ``sampling_rate`` argument to this function.Failing to do so can result in silent errors that might be hard to debug.\nIt is strongly recommended to pass the ``sampling_rate`` argument to this function.Failing to do so can result in silent errors that might be hard to debug.\n 57%|█████▋    | 897/1564 [01:12<01:01, 10.91it/s]It is strongly recommended to pass the ``sampling_rate`` argument to this function.Failing to do so can result in silent errors that might be hard to debug.\nIt is strongly recommended to pass the ``sampling_rate`` argument to this function.Failing to do so can result in silent errors that might be hard to debug.\n 57%|█████▋    | 899/1564 [01:12<00:59, 11.16it/s]It is strongly recommended to pass the ``sampling_rate`` argument to this function.Failing to do so can result in silent errors that might be hard to debug.\nIt is strongly recommended to pass the ``sampling_rate`` argument to this function.Failing to do so can result in silent errors that might be hard to debug.\n 58%|█████▊    | 901/1564 [01:12<00:58, 11.33it/s]It is strongly recommended to pass the ``sampling_rate`` argument to this function.Failing to do so can result in silent errors that might be hard to debug.\nIt is strongly recommended to pass the ``sampling_rate`` argument to this function.Failing to do so can result in silent errors that might be hard to debug.\n 58%|█████▊    | 903/1564 [01:12<00:57, 11.48it/s]It is strongly recommended to pass the ``sampling_rate`` argument to this function.Failing to do so can result in silent errors that might be hard to debug.\nIt is strongly recommended to pass the ``sampling_rate`` argument to this function.Failing to do so can result in silent errors that might be hard to debug.\n 58%|█████▊    | 905/1564 [01:12<00:56, 11.57it/s]It is strongly recommended to pass the ``sampling_rate`` argument to this function.Failing to do so can result in silent errors that might be hard to debug.\nIt is strongly recommended to pass the ``sampling_rate`` argument to this function.Failing to do so can result in silent errors that might be hard to debug.\n 58%|█████▊    | 907/1564 [01:13<00:56, 11.63it/s]It is strongly recommended to pass the ``sampling_rate`` argument to this function.Failing to do so can result in silent errors that might be hard to debug.\nIt is strongly recommended to pass the ``sampling_rate`` argument to this function.Failing to do so can result in silent errors that might be hard to debug.\n 58%|█████▊    | 909/1564 [01:13<00:56, 11.65it/s]It is strongly recommended to pass the ``sampling_rate`` argument to this function.Failing to do so can result in silent errors that might be hard to debug.\nIt is strongly recommended to pass the ``sampling_rate`` argument to this function.Failing to do so can result in silent errors that might be hard to debug.\n 58%|█████▊    | 911/1564 [01:13<00:55, 11.73it/s]It is strongly recommended to pass the ``sampling_rate`` argument to this function.Failing to do so can result in silent errors that might be hard to debug.\nIt is strongly recommended to pass the ``sampling_rate`` argument to this function.Failing to do so can result in silent errors that might be hard to debug.\n 58%|█████▊    | 913/1564 [01:13<00:55, 11.79it/s]It is strongly recommended to pass the ``sampling_rate`` argument to this function.Failing to do so can result in silent errors that might be hard to debug.\nIt is strongly recommended to pass the ``sampling_rate`` argument to this function.Failing to do so can result in silent errors that might be hard to debug.\n 59%|█████▊    | 915/1564 [01:13<00:54, 11.86it/s]It is strongly recommended to pass the ``sampling_rate`` argument to this function.Failing to do so can result in silent errors that might be hard to debug.\nIt is strongly recommended to pass the ``sampling_rate`` argument to this function.Failing to do so can result in silent errors that might be hard to debug.\n 59%|█████▊    | 917/1564 [01:13<00:54, 11.94it/s]It is strongly recommended to pass the ``sampling_rate`` argument to this function.Failing to do so can result in silent errors that might be hard to debug.\nIt is strongly recommended to pass the ``sampling_rate`` argument to this function.Failing to do so can result in silent errors that might be hard to debug.\n 59%|█████▉    | 919/1564 [01:14<00:52, 12.33it/s]It is strongly recommended to pass the ``sampling_rate`` argument to this function.Failing to do so can result in silent errors that might be hard to debug.\nIt is strongly recommended to pass the ``sampling_rate`` argument to this function.Failing to do so can result in silent errors that might be hard to debug.\n 59%|█████▉    | 921/1564 [01:14<00:49, 13.00it/s]It is strongly recommended to pass the ``sampling_rate`` argument to this function.Failing to do so can result in silent errors that might be hard to debug.\nIt is strongly recommended to pass the ``sampling_rate`` argument to this function.Failing to do so can result in silent errors that might be hard to debug.\n 59%|█████▉    | 923/1564 [01:14<00:47, 13.50it/s]It is strongly recommended to pass the ``sampling_rate`` argument to this function.Failing to do so can result in silent errors that might be hard to debug.\nIt is strongly recommended to pass the ``sampling_rate`` argument to this function.Failing to do so can result in silent errors that might be hard to debug.\n 59%|█████▉    | 925/1564 [01:14<00:46, 13.89it/s]It is strongly recommended to pass the ``sampling_rate`` argument to this function.Failing to do so can result in silent errors that might be hard to debug.\nIt is strongly recommended to pass the ``sampling_rate`` argument to this function.Failing to do so can result in silent errors that might be hard to debug.\n 59%|█████▉    | 927/1564 [01:14<00:45, 13.97it/s]It is strongly recommended to pass the ``sampling_rate`` argument to this function.Failing to do so can result in silent errors that might be hard to debug.\nIt is strongly recommended to pass the ``sampling_rate`` argument to this function.Failing to do so can result in silent errors that might be hard to debug.\n 59%|█████▉    | 929/1564 [01:14<00:45, 13.90it/s]It is strongly recommended to pass the ``sampling_rate`` argument to this function.Failing to do so can result in silent errors that might be hard to debug.\nIt is strongly recommended to pass the ``sampling_rate`` argument to this function.Failing to do so can result in silent errors that might be hard to debug.\n 60%|█████▉    | 931/1564 [01:14<00:45, 13.83it/s]It is strongly recommended to pass the ``sampling_rate`` argument to this function.Failing to do so can result in silent errors that might be hard to debug.\nIt is strongly recommended to pass the ``sampling_rate`` argument to this function.Failing to do so can result in silent errors that might be hard to debug.\n 60%|█████▉    | 933/1564 [01:15<00:45, 13.79it/s]It is strongly recommended to pass the ``sampling_rate`` argument to this function.Failing to do so can result in silent errors that might be hard to debug.\nIt is strongly recommended to pass the ``sampling_rate`` argument to this function.Failing to do so can result in silent errors that might be hard to debug.\n 60%|█████▉    | 935/1564 [01:15<00:46, 13.47it/s]It is strongly recommended to pass the ``sampling_rate`` argument to this function.Failing to do so can result in silent errors that might be hard to debug.\nIt is strongly recommended to pass the ``sampling_rate`` argument to this function.Failing to do so can result in silent errors that might be hard to debug.\n 60%|█████▉    | 937/1564 [01:15<00:48, 13.00it/s]It is strongly recommended to pass the ``sampling_rate`` argument to this function.Failing to do so can result in silent errors that might be hard to debug.\nIt is strongly recommended to pass the ``sampling_rate`` argument to this function.Failing to do so can result in silent errors that might be hard to debug.\n 60%|██████    | 939/1564 [01:15<00:50, 12.34it/s]It is strongly recommended to pass the ``sampling_rate`` argument to this function.Failing to do so can result in silent errors that might be hard to debug.\nIt is strongly recommended to pass the ``sampling_rate`` argument to this function.Failing to do so can result in silent errors that might be hard to debug.\n 60%|██████    | 941/1564 [01:15<00:52, 11.87it/s]It is strongly recommended to pass the ``sampling_rate`` argument to this function.Failing to do so can result in silent errors that might be hard to debug.\nIt is strongly recommended to pass the ``sampling_rate`` argument to this function.Failing to do so can result in silent errors that might be hard to debug.\n 60%|██████    | 943/1564 [01:15<00:55, 11.13it/s]It is strongly recommended to pass the ``sampling_rate`` argument to this function.Failing to do so can result in silent errors that might be hard to debug.\nIt is strongly recommended to pass the ``sampling_rate`` argument to this function.Failing to do so can result in silent errors that might be hard to debug.\n 60%|██████    | 945/1564 [01:16<01:00, 10.28it/s]It is strongly recommended to pass the ``sampling_rate`` argument to this function.Failing to do so can result in silent errors that might be hard to debug.\nIt is strongly recommended to pass the ``sampling_rate`` argument to this function.Failing to do so can result in silent errors that might be hard to debug.\n 61%|██████    | 947/1564 [01:16<01:02,  9.80it/s]It is strongly recommended to pass the ``sampling_rate`` argument to this function.Failing to do so can result in silent errors that might be hard to debug.\nIt is strongly recommended to pass the ``sampling_rate`` argument to this function.Failing to do so can result in silent errors that might be hard to debug.\n 61%|██████    | 949/1564 [01:16<01:04,  9.51it/s]It is strongly recommended to pass the ``sampling_rate`` argument to this function.Failing to do so can result in silent errors that might be hard to debug.\n 61%|██████    | 950/1564 [01:16<01:07,  9.04it/s]It is strongly recommended to pass the ``sampling_rate`` argument to this function.Failing to do so can result in silent errors that might be hard to debug.\nIt is strongly recommended to pass the ``sampling_rate`` argument to this function.Failing to do so can result in silent errors that might be hard to debug.\n 61%|██████    | 952/1564 [01:16<01:00, 10.04it/s]It is strongly recommended to pass the ``sampling_rate`` argument to this function.Failing to do so can result in silent errors that might be hard to debug.\nIt is strongly recommended to pass the ``sampling_rate`` argument to this function.Failing to do so can result in silent errors that might be hard to debug.\n 61%|██████    | 954/1564 [01:17<00:57, 10.60it/s]It is strongly recommended to pass the ``sampling_rate`` argument to this function.Failing to do so can result in silent errors that might be hard to debug.\nIt is strongly recommended to pass the ``sampling_rate`` argument to this function.Failing to do so can result in silent errors that might be hard to debug.\n 61%|██████    | 956/1564 [01:17<00:53, 11.30it/s]It is strongly recommended to pass the ``sampling_rate`` argument to this function.Failing to do so can result in silent errors that might be hard to debug.\nIt is strongly recommended to pass the ``sampling_rate`` argument to this function.Failing to do so can result in silent errors that might be hard to debug.\n 61%|██████▏   | 958/1564 [01:17<00:59, 10.18it/s]It is strongly recommended to pass the ``sampling_rate`` argument to this function.Failing to do so can result in silent errors that might be hard to debug.\nIt is strongly recommended to pass the ``sampling_rate`` argument to this function.Failing to do so can result in silent errors that might be hard to debug.\n 61%|██████▏   | 960/1564 [01:17<01:00,  9.98it/s]It is strongly recommended to pass the ``sampling_rate`` argument to this function.Failing to do so can result in silent errors that might be hard to debug.\nIt is strongly recommended to pass the ``sampling_rate`` argument to this function.Failing to do so can result in silent errors that might be hard to debug.\n 62%|██████▏   | 962/1564 [01:17<00:57, 10.50it/s]It is strongly recommended to pass the ``sampling_rate`` argument to this function.Failing to do so can result in silent errors that might be hard to debug.\nIt is strongly recommended to pass the ``sampling_rate`` argument to this function.Failing to do so can result in silent errors that might be hard to debug.\n 62%|██████▏   | 964/1564 [01:18<00:54, 10.91it/s]It is strongly recommended to pass the ``sampling_rate`` argument to this function.Failing to do so can result in silent errors that might be hard to debug.\nIt is strongly recommended to pass the ``sampling_rate`` argument to this function.Failing to do so can result in silent errors that might be hard to debug.\n 62%|██████▏   | 966/1564 [01:18<00:53, 11.21it/s]It is strongly recommended to pass the ``sampling_rate`` argument to this function.Failing to do so can result in silent errors that might be hard to debug.\nIt is strongly recommended to pass the ``sampling_rate`` argument to this function.Failing to do so can result in silent errors that might be hard to debug.\n 62%|██████▏   | 968/1564 [01:18<00:52, 11.36it/s]It is strongly recommended to pass the ``sampling_rate`` argument to this function.Failing to do so can result in silent errors that might be hard to debug.\nIt is strongly recommended to pass the ``sampling_rate`` argument to this function.Failing to do so can result in silent errors that might be hard to debug.\n 62%|██████▏   | 970/1564 [01:18<00:51, 11.48it/s]It is strongly recommended to pass the ``sampling_rate`` argument to this function.Failing to do so can result in silent errors that might be hard to debug.\nIt is strongly recommended to pass the ``sampling_rate`` argument to this function.Failing to do so can result in silent errors that might be hard to debug.\n 62%|██████▏   | 972/1564 [01:18<00:51, 11.52it/s]It is strongly recommended to pass the ``sampling_rate`` argument to this function.Failing to do so can result in silent errors that might be hard to debug.\nIt is strongly recommended to pass the ``sampling_rate`` argument to this function.Failing to do so can result in silent errors that might be hard to debug.\n 62%|██████▏   | 974/1564 [01:18<00:51, 11.57it/s]It is strongly recommended to pass the ``sampling_rate`` argument to this function.Failing to do so can result in silent errors that might be hard to debug.\nIt is strongly recommended to pass the ``sampling_rate`` argument to this function.Failing to do so can result in silent errors that might be hard to debug.\n 62%|██████▏   | 976/1564 [01:19<00:53, 10.97it/s]It is strongly recommended to pass the ``sampling_rate`` argument to this function.Failing to do so can result in silent errors that might be hard to debug.\nIt is strongly recommended to pass the ``sampling_rate`` argument to this function.Failing to do so can result in silent errors that might be hard to debug.\n 63%|██████▎   | 978/1564 [01:19<00:55, 10.59it/s]It is strongly recommended to pass the ``sampling_rate`` argument to this function.Failing to do so can result in silent errors that might be hard to debug.\nIt is strongly recommended to pass the ``sampling_rate`` argument to this function.Failing to do so can result in silent errors that might be hard to debug.\n 63%|██████▎   | 980/1564 [01:19<00:56, 10.34it/s]It is strongly recommended to pass the ``sampling_rate`` argument to this function.Failing to do so can result in silent errors that might be hard to debug.\nIt is strongly recommended to pass the ``sampling_rate`` argument to this function.Failing to do so can result in silent errors that might be hard to debug.\n 63%|██████▎   | 982/1564 [01:19<00:57, 10.14it/s]It is strongly recommended to pass the ``sampling_rate`` argument to this function.Failing to do so can result in silent errors that might be hard to debug.\nIt is strongly recommended to pass the ``sampling_rate`` argument to this function.Failing to do so can result in silent errors that might be hard to debug.\n 63%|██████▎   | 984/1564 [01:19<00:55, 10.45it/s]It is strongly recommended to pass the ``sampling_rate`` argument to this function.Failing to do so can result in silent errors that might be hard to debug.\nIt is strongly recommended to pass the ``sampling_rate`` argument to this function.Failing to do so can result in silent errors that might be hard to debug.\n 63%|██████▎   | 986/1564 [01:20<00:54, 10.67it/s]It is strongly recommended to pass the ``sampling_rate`` argument to this function.Failing to do so can result in silent errors that might be hard to debug.\nIt is strongly recommended to pass the ``sampling_rate`` argument to this function.Failing to do so can result in silent errors that might be hard to debug.\n 63%|██████▎   | 988/1564 [01:20<00:53, 10.84it/s]It is strongly recommended to pass the ``sampling_rate`` argument to this function.Failing to do so can result in silent errors that might be hard to debug.\nIt is strongly recommended to pass the ``sampling_rate`` argument to this function.Failing to do so can result in silent errors that might be hard to debug.\n 63%|██████▎   | 990/1564 [01:20<00:52, 10.96it/s]It is strongly recommended to pass the ``sampling_rate`` argument to this function.Failing to do so can result in silent errors that might be hard to debug.\nIt is strongly recommended to pass the ``sampling_rate`` argument to this function.Failing to do so can result in silent errors that might be hard to debug.\n 63%|██████▎   | 992/1564 [01:20<00:48, 11.78it/s]It is strongly recommended to pass the ``sampling_rate`` argument to this function.Failing to do so can result in silent errors that might be hard to debug.\nIt is strongly recommended to pass the ``sampling_rate`` argument to this function.Failing to do so can result in silent errors that might be hard to debug.\n 64%|██████▎   | 994/1564 [01:20<00:45, 12.45it/s]It is strongly recommended to pass the ``sampling_rate`` argument to this function.Failing to do so can result in silent errors that might be hard to debug.\nIt is strongly recommended to pass the ``sampling_rate`` argument to this function.Failing to do so can result in silent errors that might be hard to debug.\n 64%|██████▎   | 996/1564 [01:20<00:43, 12.99it/s]It is strongly recommended to pass the ``sampling_rate`` argument to this function.Failing to do so can result in silent errors that might be hard to debug.\nIt is strongly recommended to pass the ``sampling_rate`` argument to this function.Failing to do so can result in silent errors that might be hard to debug.\n 64%|██████▍   | 998/1564 [01:20<00:42, 13.33it/s]It is strongly recommended to pass the ``sampling_rate`` argument to this function.Failing to do so can result in silent errors that might be hard to debug.\nIt is strongly recommended to pass the ``sampling_rate`` argument to this function.Failing to do so can result in silent errors that might be hard to debug.\n 64%|██████▍   | 1000/1564 [01:21<00:39, 14.11it/s]It is strongly recommended to pass the ``sampling_rate`` argument to this function.Failing to do so can result in silent errors that might be hard to debug.\nIt is strongly recommended to pass the ``sampling_rate`` argument to this function.Failing to do so can result in silent errors that might be hard to debug.\n 64%|██████▍   | 1002/1564 [01:21<00:38, 14.71it/s]It is strongly recommended to pass the ``sampling_rate`` argument to this function.Failing to do so can result in silent errors that might be hard to debug.\nIt is strongly recommended to pass the ``sampling_rate`` argument to this function.Failing to do so can result in silent errors that might be hard to debug.\n 64%|██████▍   | 1004/1564 [01:21<00:36, 15.19it/s]It is strongly recommended to pass the ``sampling_rate`` argument to this function.Failing to do so can result in silent errors that might be hard to debug.\nIt is strongly recommended to pass the ``sampling_rate`` argument to this function.Failing to do so can result in silent errors that might be hard to debug.\n 64%|██████▍   | 1006/1564 [01:21<00:35, 15.54it/s]It is strongly recommended to pass the ``sampling_rate`` argument to this function.Failing to do so can result in silent errors that might be hard to debug.\nIt is strongly recommended to pass the ``sampling_rate`` argument to this function.Failing to do so can result in silent errors that might be hard to debug.\n 64%|██████▍   | 1008/1564 [01:21<00:34, 15.98it/s]It is strongly recommended to pass the ``sampling_rate`` argument to this function.Failing to do so can result in silent errors that might be hard to debug.\nIt is strongly recommended to pass the ``sampling_rate`` argument to this function.Failing to do so can result in silent errors that might be hard to debug.\n 65%|██████▍   | 1010/1564 [01:21<00:33, 16.31it/s]It is strongly recommended to pass the ``sampling_rate`` argument to this function.Failing to do so can result in silent errors that might be hard to debug.\nIt is strongly recommended to pass the ``sampling_rate`` argument to this function.Failing to do so can result in silent errors that might be hard to debug.\n 65%|██████▍   | 1012/1564 [01:21<00:33, 16.59it/s]It is strongly recommended to pass the ``sampling_rate`` argument to this function.Failing to do so can result in silent errors that might be hard to debug.\nIt is strongly recommended to pass the ``sampling_rate`` argument to this function.Failing to do so can result in silent errors that might be hard to debug.\n 65%|██████▍   | 1014/1564 [01:21<00:32, 16.80it/s]It is strongly recommended to pass the ``sampling_rate`` argument to this function.Failing to do so can result in silent errors that might be hard to debug.\nIt is strongly recommended to pass the ``sampling_rate`` argument to this function.Failing to do so can result in silent errors that might be hard to debug.\n 65%|██████▍   | 1016/1564 [01:22<00:38, 14.10it/s]It is strongly recommended to pass the ``sampling_rate`` argument to this function.Failing to do so can result in silent errors that might be hard to debug.\nIt is strongly recommended to pass the ``sampling_rate`` argument to this function.Failing to do so can result in silent errors that might be hard to debug.\n 65%|██████▌   | 1018/1564 [01:22<00:43, 12.68it/s]It is strongly recommended to pass the ``sampling_rate`` argument to this function.Failing to do so can result in silent errors that might be hard to debug.\nIt is strongly recommended to pass the ``sampling_rate`` argument to this function.Failing to do so can result in silent errors that might be hard to debug.\n 65%|██████▌   | 1020/1564 [01:22<00:45, 11.84it/s]It is strongly recommended to pass the ``sampling_rate`` argument to this function.Failing to do so can result in silent errors that might be hard to debug.\nIt is strongly recommended to pass the ``sampling_rate`` argument to this function.Failing to do so can result in silent errors that might be hard to debug.\n 65%|██████▌   | 1022/1564 [01:22<00:47, 11.33it/s]It is strongly recommended to pass the ``sampling_rate`` argument to this function.Failing to do so can result in silent errors that might be hard to debug.\nIt is strongly recommended to pass the ``sampling_rate`` argument to this function.Failing to do so can result in silent errors that might be hard to debug.\n 65%|██████▌   | 1024/1564 [01:22<00:51, 10.57it/s]It is strongly recommended to pass the ``sampling_rate`` argument to this function.Failing to do so can result in silent errors that might be hard to debug.\nIt is strongly recommended to pass the ``sampling_rate`` argument to this function.Failing to do so can result in silent errors that might be hard to debug.\n 66%|██████▌   | 1026/1564 [01:23<00:53, 10.10it/s]It is strongly recommended to pass the ``sampling_rate`` argument to this function.Failing to do so can result in silent errors that might be hard to debug.\nIt is strongly recommended to pass the ``sampling_rate`` argument to this function.Failing to do so can result in silent errors that might be hard to debug.\n 66%|██████▌   | 1028/1564 [01:23<00:54,  9.79it/s]It is strongly recommended to pass the ``sampling_rate`` argument to this function.Failing to do so can result in silent errors that might be hard to debug.\nIt is strongly recommended to pass the ``sampling_rate`` argument to this function.Failing to do so can result in silent errors that might be hard to debug.\n 66%|██████▌   | 1030/1564 [01:23<00:55,  9.57it/s]It is strongly recommended to pass the ``sampling_rate`` argument to this function.Failing to do so can result in silent errors that might be hard to debug.\nIt is strongly recommended to pass the ``sampling_rate`` argument to this function.Failing to do so can result in silent errors that might be hard to debug.\n 66%|██████▌   | 1032/1564 [01:23<00:49, 10.67it/s]It is strongly recommended to pass the ``sampling_rate`` argument to this function.Failing to do so can result in silent errors that might be hard to debug.\nIt is strongly recommended to pass the ``sampling_rate`` argument to this function.Failing to do so can result in silent errors that might be hard to debug.\n 66%|██████▌   | 1034/1564 [01:23<00:45, 11.60it/s]It is strongly recommended to pass the ``sampling_rate`` argument to this function.Failing to do so can result in silent errors that might be hard to debug.\nIt is strongly recommended to pass the ``sampling_rate`` argument to this function.Failing to do so can result in silent errors that might be hard to debug.\n 66%|██████▌   | 1036/1564 [01:23<00:42, 12.36it/s]It is strongly recommended to pass the ``sampling_rate`` argument to this function.Failing to do so can result in silent errors that might be hard to debug.\nIt is strongly recommended to pass the ``sampling_rate`` argument to this function.Failing to do so can result in silent errors that might be hard to debug.\n 66%|██████▋   | 1038/1564 [01:24<00:40, 12.95it/s]It is strongly recommended to pass the ``sampling_rate`` argument to this function.Failing to do so can result in silent errors that might be hard to debug.\nIt is strongly recommended to pass the ``sampling_rate`` argument to this function.Failing to do so can result in silent errors that might be hard to debug.\n 66%|██████▋   | 1040/1564 [01:24<00:37, 13.84it/s]It is strongly recommended to pass the ``sampling_rate`` argument to this function.Failing to do so can result in silent errors that might be hard to debug.\nIt is strongly recommended to pass the ``sampling_rate`` argument to this function.Failing to do so can result in silent errors that might be hard to debug.\n 67%|██████▋   | 1042/1564 [01:24<00:35, 14.51it/s]It is strongly recommended to pass the ``sampling_rate`` argument to this function.Failing to do so can result in silent errors that might be hard to debug.\nIt is strongly recommended to pass the ``sampling_rate`` argument to this function.Failing to do so can result in silent errors that might be hard to debug.\n 67%|██████▋   | 1044/1564 [01:24<00:34, 15.03it/s]It is strongly recommended to pass the ``sampling_rate`` argument to this function.Failing to do so can result in silent errors that might be hard to debug.\nIt is strongly recommended to pass the ``sampling_rate`` argument to this function.Failing to do so can result in silent errors that might be hard to debug.\n 67%|██████▋   | 1046/1564 [01:24<00:33, 15.40it/s]It is strongly recommended to pass the ``sampling_rate`` argument to this function.Failing to do so can result in silent errors that might be hard to debug.\nIt is strongly recommended to pass the ``sampling_rate`` argument to this function.Failing to do so can result in silent errors that might be hard to debug.\n 67%|██████▋   | 1048/1564 [01:24<00:34, 15.01it/s]It is strongly recommended to pass the ``sampling_rate`` argument to this function.Failing to do so can result in silent errors that might be hard to debug.\nIt is strongly recommended to pass the ``sampling_rate`` argument to this function.Failing to do so can result in silent errors that might be hard to debug.\n 67%|██████▋   | 1050/1564 [01:24<00:34, 14.81it/s]It is strongly recommended to pass the ``sampling_rate`` argument to this function.Failing to do so can result in silent errors that might be hard to debug.\nIt is strongly recommended to pass the ``sampling_rate`` argument to this function.Failing to do so can result in silent errors that might be hard to debug.\n 67%|██████▋   | 1052/1564 [01:25<00:34, 14.65it/s]It is strongly recommended to pass the ``sampling_rate`` argument to this function.Failing to do so can result in silent errors that might be hard to debug.\nIt is strongly recommended to pass the ``sampling_rate`` argument to this function.Failing to do so can result in silent errors that might be hard to debug.\n 67%|██████▋   | 1054/1564 [01:25<00:35, 14.55it/s]It is strongly recommended to pass the ``sampling_rate`` argument to this function.Failing to do so can result in silent errors that might be hard to debug.\nIt is strongly recommended to pass the ``sampling_rate`` argument to this function.Failing to do so can result in silent errors that might be hard to debug.\n 68%|██████▊   | 1056/1564 [01:25<00:34, 14.62it/s]It is strongly recommended to pass the ``sampling_rate`` argument to this function.Failing to do so can result in silent errors that might be hard to debug.\nIt is strongly recommended to pass the ``sampling_rate`` argument to this function.Failing to do so can result in silent errors that might be hard to debug.\n 68%|██████▊   | 1058/1564 [01:25<00:34, 14.51it/s]It is strongly recommended to pass the ``sampling_rate`` argument to this function.Failing to do so can result in silent errors that might be hard to debug.\nIt is strongly recommended to pass the ``sampling_rate`` argument to this function.Failing to do so can result in silent errors that might be hard to debug.\n 68%|██████▊   | 1060/1564 [01:25<00:34, 14.65it/s]It is strongly recommended to pass the ``sampling_rate`` argument to this function.Failing to do so can result in silent errors that might be hard to debug.\nIt is strongly recommended to pass the ``sampling_rate`` argument to this function.Failing to do so can result in silent errors that might be hard to debug.\n 68%|██████▊   | 1062/1564 [01:25<00:34, 14.72it/s]It is strongly recommended to pass the ``sampling_rate`` argument to this function.Failing to do so can result in silent errors that might be hard to debug.\nIt is strongly recommended to pass the ``sampling_rate`` argument to this function.Failing to do so can result in silent errors that might be hard to debug.\n 68%|██████▊   | 1064/1564 [01:25<00:33, 14.82it/s]It is strongly recommended to pass the ``sampling_rate`` argument to this function.Failing to do so can result in silent errors that might be hard to debug.\nIt is strongly recommended to pass the ``sampling_rate`` argument to this function.Failing to do so can result in silent errors that might be hard to debug.\n 68%|██████▊   | 1066/1564 [01:25<00:33, 14.88it/s]It is strongly recommended to pass the ``sampling_rate`` argument to this function.Failing to do so can result in silent errors that might be hard to debug.\nIt is strongly recommended to pass the ``sampling_rate`` argument to this function.Failing to do so can result in silent errors that might be hard to debug.\n 68%|██████▊   | 1068/1564 [01:26<00:33, 14.91it/s]It is strongly recommended to pass the ``sampling_rate`` argument to this function.Failing to do so can result in silent errors that might be hard to debug.\nIt is strongly recommended to pass the ``sampling_rate`` argument to this function.Failing to do so can result in silent errors that might be hard to debug.\n 68%|██████▊   | 1070/1564 [01:26<00:33, 14.96it/s]It is strongly recommended to pass the ``sampling_rate`` argument to this function.Failing to do so can result in silent errors that might be hard to debug.\nIt is strongly recommended to pass the ``sampling_rate`` argument to this function.Failing to do so can result in silent errors that might be hard to debug.\n 69%|██████▊   | 1072/1564 [01:26<00:35, 13.77it/s]It is strongly recommended to pass the ``sampling_rate`` argument to this function.Failing to do so can result in silent errors that might be hard to debug.\nIt is strongly recommended to pass the ``sampling_rate`` argument to this function.Failing to do so can result in silent errors that might be hard to debug.\n 69%|██████▊   | 1074/1564 [01:26<00:37, 13.04it/s]It is strongly recommended to pass the ``sampling_rate`` argument to this function.Failing to do so can result in silent errors that might be hard to debug.\nIt is strongly recommended to pass the ``sampling_rate`` argument to this function.Failing to do so can result in silent errors that might be hard to debug.\n 69%|██████▉   | 1076/1564 [01:26<00:38, 12.59it/s]It is strongly recommended to pass the ``sampling_rate`` argument to this function.Failing to do so can result in silent errors that might be hard to debug.\nIt is strongly recommended to pass the ``sampling_rate`` argument to this function.Failing to do so can result in silent errors that might be hard to debug.\n 69%|██████▉   | 1078/1564 [01:26<00:39, 12.30it/s]It is strongly recommended to pass the ``sampling_rate`` argument to this function.Failing to do so can result in silent errors that might be hard to debug.\nIt is strongly recommended to pass the ``sampling_rate`` argument to this function.Failing to do so can result in silent errors that might be hard to debug.\n 69%|██████▉   | 1080/1564 [01:27<00:37, 12.86it/s]It is strongly recommended to pass the ``sampling_rate`` argument to this function.Failing to do so can result in silent errors that might be hard to debug.\nIt is strongly recommended to pass the ``sampling_rate`` argument to this function.Failing to do so can result in silent errors that might be hard to debug.\n 69%|██████▉   | 1082/1564 [01:27<00:36, 13.32it/s]It is strongly recommended to pass the ``sampling_rate`` argument to this function.Failing to do so can result in silent errors that might be hard to debug.\nIt is strongly recommended to pass the ``sampling_rate`` argument to this function.Failing to do so can result in silent errors that might be hard to debug.\n 69%|██████▉   | 1084/1564 [01:27<00:35, 13.66it/s]It is strongly recommended to pass the ``sampling_rate`` argument to this function.Failing to do so can result in silent errors that might be hard to debug.\nIt is strongly recommended to pass the ``sampling_rate`` argument to this function.Failing to do so can result in silent errors that might be hard to debug.\n 69%|██████▉   | 1086/1564 [01:27<00:34, 13.80it/s]It is strongly recommended to pass the ``sampling_rate`` argument to this function.Failing to do so can result in silent errors that might be hard to debug.\nIt is strongly recommended to pass the ``sampling_rate`` argument to this function.Failing to do so can result in silent errors that might be hard to debug.\n 70%|██████▉   | 1088/1564 [01:27<00:36, 13.15it/s]It is strongly recommended to pass the ``sampling_rate`` argument to this function.Failing to do so can result in silent errors that might be hard to debug.\nIt is strongly recommended to pass the ``sampling_rate`` argument to this function.Failing to do so can result in silent errors that might be hard to debug.\n 70%|██████▉   | 1090/1564 [01:27<00:37, 12.58it/s]It is strongly recommended to pass the ``sampling_rate`` argument to this function.Failing to do so can result in silent errors that might be hard to debug.\nIt is strongly recommended to pass the ``sampling_rate`` argument to this function.Failing to do so can result in silent errors that might be hard to debug.\n 70%|██████▉   | 1092/1564 [01:27<00:38, 12.14it/s]It is strongly recommended to pass the ``sampling_rate`` argument to this function.Failing to do so can result in silent errors that might be hard to debug.\nIt is strongly recommended to pass the ``sampling_rate`` argument to this function.Failing to do so can result in silent errors that might be hard to debug.\n 70%|██████▉   | 1094/1564 [01:28<00:39, 12.05it/s]It is strongly recommended to pass the ``sampling_rate`` argument to this function.Failing to do so can result in silent errors that might be hard to debug.\nIt is strongly recommended to pass the ``sampling_rate`` argument to this function.Failing to do so can result in silent errors that might be hard to debug.\n 70%|███████   | 1096/1564 [01:28<00:42, 11.04it/s]It is strongly recommended to pass the ``sampling_rate`` argument to this function.Failing to do so can result in silent errors that might be hard to debug.\nIt is strongly recommended to pass the ``sampling_rate`` argument to this function.Failing to do so can result in silent errors that might be hard to debug.\n 70%|███████   | 1098/1564 [01:28<00:45, 10.23it/s]It is strongly recommended to pass the ``sampling_rate`` argument to this function.Failing to do so can result in silent errors that might be hard to debug.\nIt is strongly recommended to pass the ``sampling_rate`` argument to this function.Failing to do so can result in silent errors that might be hard to debug.\n 70%|███████   | 1100/1564 [01:28<00:44, 10.51it/s]It is strongly recommended to pass the ``sampling_rate`` argument to this function.Failing to do so can result in silent errors that might be hard to debug.\nIt is strongly recommended to pass the ``sampling_rate`` argument to this function.Failing to do so can result in silent errors that might be hard to debug.\n 70%|███████   | 1102/1564 [01:28<00:42, 10.86it/s]It is strongly recommended to pass the ``sampling_rate`` argument to this function.Failing to do so can result in silent errors that might be hard to debug.\nIt is strongly recommended to pass the ``sampling_rate`` argument to this function.Failing to do so can result in silent errors that might be hard to debug.\n 71%|███████   | 1104/1564 [01:29<00:41, 11.09it/s]It is strongly recommended to pass the ``sampling_rate`` argument to this function.Failing to do so can result in silent errors that might be hard to debug.\nIt is strongly recommended to pass the ``sampling_rate`` argument to this function.Failing to do so can result in silent errors that might be hard to debug.\n 71%|███████   | 1106/1564 [01:29<00:40, 11.25it/s]It is strongly recommended to pass the ``sampling_rate`` argument to this function.Failing to do so can result in silent errors that might be hard to debug.\nIt is strongly recommended to pass the ``sampling_rate`` argument to this function.Failing to do so can result in silent errors that might be hard to debug.\n 71%|███████   | 1108/1564 [01:29<00:40, 11.37it/s]It is strongly recommended to pass the ``sampling_rate`` argument to this function.Failing to do so can result in silent errors that might be hard to debug.\nIt is strongly recommended to pass the ``sampling_rate`` argument to this function.Failing to do so can result in silent errors that might be hard to debug.\n 71%|███████   | 1110/1564 [01:29<00:39, 11.42it/s]It is strongly recommended to pass the ``sampling_rate`` argument to this function.Failing to do so can result in silent errors that might be hard to debug.\nIt is strongly recommended to pass the ``sampling_rate`` argument to this function.Failing to do so can result in silent errors that might be hard to debug.\n 71%|███████   | 1112/1564 [01:29<00:39, 11.40it/s]It is strongly recommended to pass the ``sampling_rate`` argument to this function.Failing to do so can result in silent errors that might be hard to debug.\nIt is strongly recommended to pass the ``sampling_rate`` argument to this function.Failing to do so can result in silent errors that might be hard to debug.\n 71%|███████   | 1114/1564 [01:29<00:39, 11.41it/s]It is strongly recommended to pass the ``sampling_rate`` argument to this function.Failing to do so can result in silent errors that might be hard to debug.\nIt is strongly recommended to pass the ``sampling_rate`` argument to this function.Failing to do so can result in silent errors that might be hard to debug.\n 71%|███████▏  | 1116/1564 [01:30<00:39, 11.40it/s]It is strongly recommended to pass the ``sampling_rate`` argument to this function.Failing to do so can result in silent errors that might be hard to debug.\nIt is strongly recommended to pass the ``sampling_rate`` argument to this function.Failing to do so can result in silent errors that might be hard to debug.\n 71%|███████▏  | 1118/1564 [01:30<00:39, 11.43it/s]It is strongly recommended to pass the ``sampling_rate`` argument to this function.Failing to do so can result in silent errors that might be hard to debug.\nIt is strongly recommended to pass the ``sampling_rate`` argument to this function.Failing to do so can result in silent errors that might be hard to debug.\n 72%|███████▏  | 1120/1564 [01:30<00:37, 11.70it/s]It is strongly recommended to pass the ``sampling_rate`` argument to this function.Failing to do so can result in silent errors that might be hard to debug.\nIt is strongly recommended to pass the ``sampling_rate`` argument to this function.Failing to do so can result in silent errors that might be hard to debug.\n 72%|███████▏  | 1122/1564 [01:30<00:37, 11.90it/s]It is strongly recommended to pass the ``sampling_rate`` argument to this function.Failing to do so can result in silent errors that might be hard to debug.\nIt is strongly recommended to pass the ``sampling_rate`` argument to this function.Failing to do so can result in silent errors that might be hard to debug.\n 72%|███████▏  | 1124/1564 [01:30<00:36, 12.02it/s]It is strongly recommended to pass the ``sampling_rate`` argument to this function.Failing to do so can result in silent errors that might be hard to debug.\nIt is strongly recommended to pass the ``sampling_rate`` argument to this function.Failing to do so can result in silent errors that might be hard to debug.\n 72%|███████▏  | 1126/1564 [01:30<00:36, 12.08it/s]It is strongly recommended to pass the ``sampling_rate`` argument to this function.Failing to do so can result in silent errors that might be hard to debug.\nIt is strongly recommended to pass the ``sampling_rate`` argument to this function.Failing to do so can result in silent errors that might be hard to debug.\n 72%|███████▏  | 1128/1564 [01:31<00:36, 12.01it/s]It is strongly recommended to pass the ``sampling_rate`` argument to this function.Failing to do so can result in silent errors that might be hard to debug.\nIt is strongly recommended to pass the ``sampling_rate`` argument to this function.Failing to do so can result in silent errors that might be hard to debug.\n 72%|███████▏  | 1130/1564 [01:31<00:36, 12.00it/s]It is strongly recommended to pass the ``sampling_rate`` argument to this function.Failing to do so can result in silent errors that might be hard to debug.\nIt is strongly recommended to pass the ``sampling_rate`` argument to this function.Failing to do so can result in silent errors that might be hard to debug.\n 72%|███████▏  | 1132/1564 [01:31<00:36, 12.00it/s]It is strongly recommended to pass the ``sampling_rate`` argument to this function.Failing to do so can result in silent errors that might be hard to debug.\nIt is strongly recommended to pass the ``sampling_rate`` argument to this function.Failing to do so can result in silent errors that might be hard to debug.\n 73%|███████▎  | 1134/1564 [01:31<00:35, 11.98it/s]It is strongly recommended to pass the ``sampling_rate`` argument to this function.Failing to do so can result in silent errors that might be hard to debug.\nIt is strongly recommended to pass the ``sampling_rate`` argument to this function.Failing to do so can result in silent errors that might be hard to debug.\n 73%|███████▎  | 1136/1564 [01:31<00:36, 11.81it/s]It is strongly recommended to pass the ``sampling_rate`` argument to this function.Failing to do so can result in silent errors that might be hard to debug.\nIt is strongly recommended to pass the ``sampling_rate`` argument to this function.Failing to do so can result in silent errors that might be hard to debug.\n 73%|███████▎  | 1138/1564 [01:32<00:36, 11.71it/s]It is strongly recommended to pass the ``sampling_rate`` argument to this function.Failing to do so can result in silent errors that might be hard to debug.\nIt is strongly recommended to pass the ``sampling_rate`` argument to this function.Failing to do so can result in silent errors that might be hard to debug.\n 73%|███████▎  | 1140/1564 [01:32<00:36, 11.67it/s]It is strongly recommended to pass the ``sampling_rate`` argument to this function.Failing to do so can result in silent errors that might be hard to debug.\nIt is strongly recommended to pass the ``sampling_rate`` argument to this function.Failing to do so can result in silent errors that might be hard to debug.\n 73%|███████▎  | 1142/1564 [01:32<00:36, 11.64it/s]It is strongly recommended to pass the ``sampling_rate`` argument to this function.Failing to do so can result in silent errors that might be hard to debug.\nIt is strongly recommended to pass the ``sampling_rate`` argument to this function.Failing to do so can result in silent errors that might be hard to debug.\n 73%|███████▎  | 1144/1564 [01:32<00:36, 11.57it/s]It is strongly recommended to pass the ``sampling_rate`` argument to this function.Failing to do so can result in silent errors that might be hard to debug.\nIt is strongly recommended to pass the ``sampling_rate`` argument to this function.Failing to do so can result in silent errors that might be hard to debug.\n 73%|███████▎  | 1146/1564 [01:32<00:36, 11.55it/s]It is strongly recommended to pass the ``sampling_rate`` argument to this function.Failing to do so can result in silent errors that might be hard to debug.\nIt is strongly recommended to pass the ``sampling_rate`` argument to this function.Failing to do so can result in silent errors that might be hard to debug.\n 73%|███████▎  | 1148/1564 [01:32<00:36, 11.50it/s]It is strongly recommended to pass the ``sampling_rate`` argument to this function.Failing to do so can result in silent errors that might be hard to debug.\nIt is strongly recommended to pass the ``sampling_rate`` argument to this function.Failing to do so can result in silent errors that might be hard to debug.\n 74%|███████▎  | 1150/1564 [01:33<00:36, 11.48it/s]It is strongly recommended to pass the ``sampling_rate`` argument to this function.Failing to do so can result in silent errors that might be hard to debug.\nIt is strongly recommended to pass the ``sampling_rate`` argument to this function.Failing to do so can result in silent errors that might be hard to debug.\n 74%|███████▎  | 1152/1564 [01:33<00:35, 11.55it/s]It is strongly recommended to pass the ``sampling_rate`` argument to this function.Failing to do so can result in silent errors that might be hard to debug.\nIt is strongly recommended to pass the ``sampling_rate`` argument to this function.Failing to do so can result in silent errors that might be hard to debug.\n 74%|███████▍  | 1154/1564 [01:33<00:35, 11.71it/s]It is strongly recommended to pass the ``sampling_rate`` argument to this function.Failing to do so can result in silent errors that might be hard to debug.\nIt is strongly recommended to pass the ``sampling_rate`` argument to this function.Failing to do so can result in silent errors that might be hard to debug.\n 74%|███████▍  | 1156/1564 [01:33<00:34, 11.83it/s]It is strongly recommended to pass the ``sampling_rate`` argument to this function.Failing to do so can result in silent errors that might be hard to debug.\nIt is strongly recommended to pass the ``sampling_rate`` argument to this function.Failing to do so can result in silent errors that might be hard to debug.\n 74%|███████▍  | 1158/1564 [01:33<00:34, 11.91it/s]It is strongly recommended to pass the ``sampling_rate`` argument to this function.Failing to do so can result in silent errors that might be hard to debug.\nIt is strongly recommended to pass the ``sampling_rate`` argument to this function.Failing to do so can result in silent errors that might be hard to debug.\n 74%|███████▍  | 1160/1564 [01:33<00:34, 11.84it/s]It is strongly recommended to pass the ``sampling_rate`` argument to this function.Failing to do so can result in silent errors that might be hard to debug.\nIt is strongly recommended to pass the ``sampling_rate`` argument to this function.Failing to do so can result in silent errors that might be hard to debug.\n 74%|███████▍  | 1162/1564 [01:34<00:34, 11.79it/s]It is strongly recommended to pass the ``sampling_rate`` argument to this function.Failing to do so can result in silent errors that might be hard to debug.\nIt is strongly recommended to pass the ``sampling_rate`` argument to this function.Failing to do so can result in silent errors that might be hard to debug.\n 74%|███████▍  | 1164/1564 [01:34<00:33, 11.77it/s]It is strongly recommended to pass the ``sampling_rate`` argument to this function.Failing to do so can result in silent errors that might be hard to debug.\nIt is strongly recommended to pass the ``sampling_rate`` argument to this function.Failing to do so can result in silent errors that might be hard to debug.\n 75%|███████▍  | 1166/1564 [01:34<00:33, 11.74it/s]It is strongly recommended to pass the ``sampling_rate`` argument to this function.Failing to do so can result in silent errors that might be hard to debug.\nIt is strongly recommended to pass the ``sampling_rate`` argument to this function.Failing to do so can result in silent errors that might be hard to debug.\n 75%|███████▍  | 1168/1564 [01:34<00:34, 11.49it/s]It is strongly recommended to pass the ``sampling_rate`` argument to this function.Failing to do so can result in silent errors that might be hard to debug.\nIt is strongly recommended to pass the ``sampling_rate`` argument to this function.Failing to do so can result in silent errors that might be hard to debug.\n 75%|███████▍  | 1170/1564 [01:34<00:34, 11.33it/s]It is strongly recommended to pass the ``sampling_rate`` argument to this function.Failing to do so can result in silent errors that might be hard to debug.\nIt is strongly recommended to pass the ``sampling_rate`` argument to this function.Failing to do so can result in silent errors that might be hard to debug.\n 75%|███████▍  | 1172/1564 [01:34<00:36, 10.74it/s]It is strongly recommended to pass the ``sampling_rate`` argument to this function.Failing to do so can result in silent errors that might be hard to debug.\nIt is strongly recommended to pass the ``sampling_rate`` argument to this function.Failing to do so can result in silent errors that might be hard to debug.\n 75%|███████▌  | 1174/1564 [01:35<00:40,  9.74it/s]It is strongly recommended to pass the ``sampling_rate`` argument to this function.Failing to do so can result in silent errors that might be hard to debug.\n 75%|███████▌  | 1175/1564 [01:35<00:42,  9.24it/s]It is strongly recommended to pass the ``sampling_rate`` argument to this function.Failing to do so can result in silent errors that might be hard to debug.\n 75%|███████▌  | 1176/1564 [01:35<00:44,  8.65it/s]It is strongly recommended to pass the ``sampling_rate`` argument to this function.Failing to do so can result in silent errors that might be hard to debug.\n 75%|███████▌  | 1177/1564 [01:35<00:47,  8.21it/s]It is strongly recommended to pass the ``sampling_rate`` argument to this function.Failing to do so can result in silent errors that might be hard to debug.\n 75%|███████▌  | 1178/1564 [01:35<00:48,  7.88it/s]It is strongly recommended to pass the ``sampling_rate`` argument to this function.Failing to do so can result in silent errors that might be hard to debug.\n 75%|███████▌  | 1179/1564 [01:35<00:50,  7.63it/s]It is strongly recommended to pass the ``sampling_rate`` argument to this function.Failing to do so can result in silent errors that might be hard to debug.\n 75%|███████▌  | 1180/1564 [01:36<00:47,  8.05it/s]It is strongly recommended to pass the ``sampling_rate`` argument to this function.Failing to do so can result in silent errors that might be hard to debug.\n 76%|███████▌  | 1181/1564 [01:36<00:45,  8.36it/s]It is strongly recommended to pass the ``sampling_rate`` argument to this function.Failing to do so can result in silent errors that might be hard to debug.\nIt is strongly recommended to pass the ``sampling_rate`` argument to this function.Failing to do so can result in silent errors that might be hard to debug.\n 76%|███████▌  | 1183/1564 [01:36<00:41,  9.20it/s]It is strongly recommended to pass the ``sampling_rate`` argument to this function.Failing to do so can result in silent errors that might be hard to debug.\nIt is strongly recommended to pass the ``sampling_rate`` argument to this function.Failing to do so can result in silent errors that might be hard to debug.\n 76%|███████▌  | 1185/1564 [01:36<00:39,  9.64it/s]It is strongly recommended to pass the ``sampling_rate`` argument to this function.Failing to do so can result in silent errors that might be hard to debug.\nIt is strongly recommended to pass the ``sampling_rate`` argument to this function.Failing to do so can result in silent errors that might be hard to debug.\n 76%|███████▌  | 1187/1564 [01:36<00:37,  9.93it/s]It is strongly recommended to pass the ``sampling_rate`` argument to this function.Failing to do so can result in silent errors that might be hard to debug.\nIt is strongly recommended to pass the ``sampling_rate`` argument to this function.Failing to do so can result in silent errors that might be hard to debug.\n 76%|███████▌  | 1189/1564 [01:36<00:37, 10.09it/s]It is strongly recommended to pass the ``sampling_rate`` argument to this function.Failing to do so can result in silent errors that might be hard to debug.\nIt is strongly recommended to pass the ``sampling_rate`` argument to this function.Failing to do so can result in silent errors that might be hard to debug.\n 76%|███████▌  | 1191/1564 [01:37<00:32, 11.59it/s]It is strongly recommended to pass the ``sampling_rate`` argument to this function.Failing to do so can result in silent errors that might be hard to debug.\nIt is strongly recommended to pass the ``sampling_rate`` argument to this function.Failing to do so can result in silent errors that might be hard to debug.\n 76%|███████▋  | 1193/1564 [01:37<00:28, 12.85it/s]It is strongly recommended to pass the ``sampling_rate`` argument to this function.Failing to do so can result in silent errors that might be hard to debug.\nIt is strongly recommended to pass the ``sampling_rate`` argument to this function.Failing to do so can result in silent errors that might be hard to debug.\n 76%|███████▋  | 1195/1564 [01:37<00:26, 13.84it/s]It is strongly recommended to pass the ``sampling_rate`` argument to this function.Failing to do so can result in silent errors that might be hard to debug.\nIt is strongly recommended to pass the ``sampling_rate`` argument to this function.Failing to do so can result in silent errors that might be hard to debug.\n 77%|███████▋  | 1197/1564 [01:37<00:25, 14.64it/s]It is strongly recommended to pass the ``sampling_rate`` argument to this function.Failing to do so can result in silent errors that might be hard to debug.\nIt is strongly recommended to pass the ``sampling_rate`` argument to this function.Failing to do so can result in silent errors that might be hard to debug.\n 77%|███████▋  | 1199/1564 [01:37<00:27, 13.48it/s]It is strongly recommended to pass the ``sampling_rate`` argument to this function.Failing to do so can result in silent errors that might be hard to debug.\nIt is strongly recommended to pass the ``sampling_rate`` argument to this function.Failing to do so can result in silent errors that might be hard to debug.\n 77%|███████▋  | 1201/1564 [01:37<00:28, 12.84it/s]It is strongly recommended to pass the ``sampling_rate`` argument to this function.Failing to do so can result in silent errors that might be hard to debug.\nIt is strongly recommended to pass the ``sampling_rate`` argument to this function.Failing to do so can result in silent errors that might be hard to debug.\n 77%|███████▋  | 1203/1564 [01:37<00:29, 12.43it/s]It is strongly recommended to pass the ``sampling_rate`` argument to this function.Failing to do so can result in silent errors that might be hard to debug.\nIt is strongly recommended to pass the ``sampling_rate`` argument to this function.Failing to do so can result in silent errors that might be hard to debug.\n 77%|███████▋  | 1205/1564 [01:38<00:29, 12.17it/s]It is strongly recommended to pass the ``sampling_rate`` argument to this function.Failing to do so can result in silent errors that might be hard to debug.\nIt is strongly recommended to pass the ``sampling_rate`` argument to this function.Failing to do so can result in silent errors that might be hard to debug.\n 77%|███████▋  | 1207/1564 [01:38<00:31, 11.48it/s]It is strongly recommended to pass the ``sampling_rate`` argument to this function.Failing to do so can result in silent errors that might be hard to debug.\nIt is strongly recommended to pass the ``sampling_rate`` argument to this function.Failing to do so can result in silent errors that might be hard to debug.\n 77%|███████▋  | 1209/1564 [01:38<00:32, 11.06it/s]It is strongly recommended to pass the ``sampling_rate`` argument to this function.Failing to do so can result in silent errors that might be hard to debug.\nIt is strongly recommended to pass the ``sampling_rate`` argument to this function.Failing to do so can result in silent errors that might be hard to debug.\n 77%|███████▋  | 1211/1564 [01:38<00:33, 10.61it/s]It is strongly recommended to pass the ``sampling_rate`` argument to this function.Failing to do so can result in silent errors that might be hard to debug.\nIt is strongly recommended to pass the ``sampling_rate`` argument to this function.Failing to do so can result in silent errors that might be hard to debug.\n 78%|███████▊  | 1213/1564 [01:38<00:33, 10.50it/s]It is strongly recommended to pass the ``sampling_rate`` argument to this function.Failing to do so can result in silent errors that might be hard to debug.\nIt is strongly recommended to pass the ``sampling_rate`` argument to this function.Failing to do so can result in silent errors that might be hard to debug.\n 78%|███████▊  | 1215/1564 [01:39<00:31, 11.12it/s]It is strongly recommended to pass the ``sampling_rate`` argument to this function.Failing to do so can result in silent errors that might be hard to debug.\nIt is strongly recommended to pass the ``sampling_rate`` argument to this function.Failing to do so can result in silent errors that might be hard to debug.\n 78%|███████▊  | 1217/1564 [01:39<00:28, 12.02it/s]It is strongly recommended to pass the ``sampling_rate`` argument to this function.Failing to do so can result in silent errors that might be hard to debug.\nIt is strongly recommended to pass the ``sampling_rate`` argument to this function.Failing to do so can result in silent errors that might be hard to debug.\n 78%|███████▊  | 1219/1564 [01:39<00:28, 11.99it/s]It is strongly recommended to pass the ``sampling_rate`` argument to this function.Failing to do so can result in silent errors that might be hard to debug.\nIt is strongly recommended to pass the ``sampling_rate`` argument to this function.Failing to do so can result in silent errors that might be hard to debug.\n 78%|███████▊  | 1221/1564 [01:39<00:30, 11.37it/s]It is strongly recommended to pass the ``sampling_rate`` argument to this function.Failing to do so can result in silent errors that might be hard to debug.\nIt is strongly recommended to pass the ``sampling_rate`` argument to this function.Failing to do so can result in silent errors that might be hard to debug.\n 78%|███████▊  | 1223/1564 [01:39<00:31, 10.89it/s]It is strongly recommended to pass the ``sampling_rate`` argument to this function.Failing to do so can result in silent errors that might be hard to debug.\nIt is strongly recommended to pass the ``sampling_rate`` argument to this function.Failing to do so can result in silent errors that might be hard to debug.\n 78%|███████▊  | 1225/1564 [01:39<00:30, 11.10it/s]It is strongly recommended to pass the ``sampling_rate`` argument to this function.Failing to do so can result in silent errors that might be hard to debug.\nIt is strongly recommended to pass the ``sampling_rate`` argument to this function.Failing to do so can result in silent errors that might be hard to debug.\n 78%|███████▊  | 1227/1564 [01:40<00:29, 11.28it/s]It is strongly recommended to pass the ``sampling_rate`` argument to this function.Failing to do so can result in silent errors that might be hard to debug.\nIt is strongly recommended to pass the ``sampling_rate`` argument to this function.Failing to do so can result in silent errors that might be hard to debug.\n 79%|███████▊  | 1229/1564 [01:40<00:29, 11.40it/s]It is strongly recommended to pass the ``sampling_rate`` argument to this function.Failing to do so can result in silent errors that might be hard to debug.\nIt is strongly recommended to pass the ``sampling_rate`` argument to this function.Failing to do so can result in silent errors that might be hard to debug.\n 79%|███████▊  | 1231/1564 [01:40<00:27, 11.96it/s]It is strongly recommended to pass the ``sampling_rate`` argument to this function.Failing to do so can result in silent errors that might be hard to debug.\nIt is strongly recommended to pass the ``sampling_rate`` argument to this function.Failing to do so can result in silent errors that might be hard to debug.\n 79%|███████▉  | 1233/1564 [01:40<00:26, 12.38it/s]It is strongly recommended to pass the ``sampling_rate`` argument to this function.Failing to do so can result in silent errors that might be hard to debug.\nIt is strongly recommended to pass the ``sampling_rate`` argument to this function.Failing to do so can result in silent errors that might be hard to debug.\n 79%|███████▉  | 1235/1564 [01:40<00:26, 12.63it/s]It is strongly recommended to pass the ``sampling_rate`` argument to this function.Failing to do so can result in silent errors that might be hard to debug.\nIt is strongly recommended to pass the ``sampling_rate`` argument to this function.Failing to do so can result in silent errors that might be hard to debug.\n 79%|███████▉  | 1237/1564 [01:40<00:25, 12.84it/s]It is strongly recommended to pass the ``sampling_rate`` argument to this function.Failing to do so can result in silent errors that might be hard to debug.\nIt is strongly recommended to pass the ``sampling_rate`` argument to this function.Failing to do so can result in silent errors that might be hard to debug.\n 79%|███████▉  | 1239/1564 [01:40<00:23, 13.86it/s]It is strongly recommended to pass the ``sampling_rate`` argument to this function.Failing to do so can result in silent errors that might be hard to debug.\nIt is strongly recommended to pass the ``sampling_rate`` argument to this function.Failing to do so can result in silent errors that might be hard to debug.\n 79%|███████▉  | 1241/1564 [01:41<00:21, 14.74it/s]It is strongly recommended to pass the ``sampling_rate`` argument to this function.Failing to do so can result in silent errors that might be hard to debug.\nIt is strongly recommended to pass the ``sampling_rate`` argument to this function.Failing to do so can result in silent errors that might be hard to debug.\n 79%|███████▉  | 1243/1564 [01:41<00:20, 15.42it/s]It is strongly recommended to pass the ``sampling_rate`` argument to this function.Failing to do so can result in silent errors that might be hard to debug.\nIt is strongly recommended to pass the ``sampling_rate`` argument to this function.Failing to do so can result in silent errors that might be hard to debug.\n 80%|███████▉  | 1245/1564 [01:41<00:20, 15.95it/s]It is strongly recommended to pass the ``sampling_rate`` argument to this function.Failing to do so can result in silent errors that might be hard to debug.\nIt is strongly recommended to pass the ``sampling_rate`` argument to this function.Failing to do so can result in silent errors that might be hard to debug.\n 80%|███████▉  | 1247/1564 [01:41<00:20, 15.30it/s]It is strongly recommended to pass the ``sampling_rate`` argument to this function.Failing to do so can result in silent errors that might be hard to debug.\nIt is strongly recommended to pass the ``sampling_rate`` argument to this function.Failing to do so can result in silent errors that might be hard to debug.\n 80%|███████▉  | 1249/1564 [01:41<00:21, 14.86it/s]It is strongly recommended to pass the ``sampling_rate`` argument to this function.Failing to do so can result in silent errors that might be hard to debug.\nIt is strongly recommended to pass the ``sampling_rate`` argument to this function.Failing to do so can result in silent errors that might be hard to debug.\n 80%|███████▉  | 1251/1564 [01:41<00:21, 14.59it/s]It is strongly recommended to pass the ``sampling_rate`` argument to this function.Failing to do so can result in silent errors that might be hard to debug.\nIt is strongly recommended to pass the ``sampling_rate`` argument to this function.Failing to do so can result in silent errors that might be hard to debug.\n 80%|████████  | 1253/1564 [01:41<00:21, 14.40it/s]It is strongly recommended to pass the ``sampling_rate`` argument to this function.Failing to do so can result in silent errors that might be hard to debug.\nIt is strongly recommended to pass the ``sampling_rate`` argument to this function.Failing to do so can result in silent errors that might be hard to debug.\n 80%|████████  | 1255/1564 [01:42<00:20, 14.94it/s]It is strongly recommended to pass the ``sampling_rate`` argument to this function.Failing to do so can result in silent errors that might be hard to debug.\nIt is strongly recommended to pass the ``sampling_rate`` argument to this function.Failing to do so can result in silent errors that might be hard to debug.\n 80%|████████  | 1257/1564 [01:42<00:19, 15.38it/s]It is strongly recommended to pass the ``sampling_rate`` argument to this function.Failing to do so can result in silent errors that might be hard to debug.\nIt is strongly recommended to pass the ``sampling_rate`` argument to this function.Failing to do so can result in silent errors that might be hard to debug.\n 80%|████████  | 1259/1564 [01:42<00:19, 15.72it/s]It is strongly recommended to pass the ``sampling_rate`` argument to this function.Failing to do so can result in silent errors that might be hard to debug.\nIt is strongly recommended to pass the ``sampling_rate`` argument to this function.Failing to do so can result in silent errors that might be hard to debug.\n 81%|████████  | 1261/1564 [01:42<00:18, 15.98it/s]It is strongly recommended to pass the ``sampling_rate`` argument to this function.Failing to do so can result in silent errors that might be hard to debug.\nIt is strongly recommended to pass the ``sampling_rate`` argument to this function.Failing to do so can result in silent errors that might be hard to debug.\n 81%|████████  | 1263/1564 [01:42<00:20, 14.37it/s]It is strongly recommended to pass the ``sampling_rate`` argument to this function.Failing to do so can result in silent errors that might be hard to debug.\nIt is strongly recommended to pass the ``sampling_rate`` argument to this function.Failing to do so can result in silent errors that might be hard to debug.\n 81%|████████  | 1265/1564 [01:42<00:22, 13.46it/s]It is strongly recommended to pass the ``sampling_rate`` argument to this function.Failing to do so can result in silent errors that might be hard to debug.\nIt is strongly recommended to pass the ``sampling_rate`` argument to this function.Failing to do so can result in silent errors that might be hard to debug.\n 81%|████████  | 1267/1564 [01:42<00:23, 12.87it/s]It is strongly recommended to pass the ``sampling_rate`` argument to this function.Failing to do so can result in silent errors that might be hard to debug.\nIt is strongly recommended to pass the ``sampling_rate`` argument to this function.Failing to do so can result in silent errors that might be hard to debug.\n 81%|████████  | 1269/1564 [01:43<00:23, 12.48it/s]It is strongly recommended to pass the ``sampling_rate`` argument to this function.Failing to do so can result in silent errors that might be hard to debug.\nIt is strongly recommended to pass the ``sampling_rate`` argument to this function.Failing to do so can result in silent errors that might be hard to debug.\n 81%|████████▏ | 1271/1564 [01:43<00:22, 12.98it/s]It is strongly recommended to pass the ``sampling_rate`` argument to this function.Failing to do so can result in silent errors that might be hard to debug.\nIt is strongly recommended to pass the ``sampling_rate`` argument to this function.Failing to do so can result in silent errors that might be hard to debug.\n 81%|████████▏ | 1273/1564 [01:43<00:21, 13.36it/s]It is strongly recommended to pass the ``sampling_rate`` argument to this function.Failing to do so can result in silent errors that might be hard to debug.\nIt is strongly recommended to pass the ``sampling_rate`` argument to this function.Failing to do so can result in silent errors that might be hard to debug.\n 82%|████████▏ | 1275/1564 [01:43<00:21, 13.66it/s]It is strongly recommended to pass the ``sampling_rate`` argument to this function.Failing to do so can result in silent errors that might be hard to debug.\nIt is strongly recommended to pass the ``sampling_rate`` argument to this function.Failing to do so can result in silent errors that might be hard to debug.\n 82%|████████▏ | 1277/1564 [01:43<00:20, 13.89it/s]It is strongly recommended to pass the ``sampling_rate`` argument to this function.Failing to do so can result in silent errors that might be hard to debug.\nIt is strongly recommended to pass the ``sampling_rate`` argument to this function.Failing to do so can result in silent errors that might be hard to debug.\n 82%|████████▏ | 1279/1564 [01:43<00:21, 13.14it/s]It is strongly recommended to pass the ``sampling_rate`` argument to this function.Failing to do so can result in silent errors that might be hard to debug.\nIt is strongly recommended to pass the ``sampling_rate`` argument to this function.Failing to do so can result in silent errors that might be hard to debug.\n 82%|████████▏ | 1281/1564 [01:43<00:22, 12.64it/s]It is strongly recommended to pass the ``sampling_rate`` argument to this function.Failing to do so can result in silent errors that might be hard to debug.\nIt is strongly recommended to pass the ``sampling_rate`` argument to this function.Failing to do so can result in silent errors that might be hard to debug.\n 82%|████████▏ | 1283/1564 [01:44<00:22, 12.33it/s]It is strongly recommended to pass the ``sampling_rate`` argument to this function.Failing to do so can result in silent errors that might be hard to debug.\nIt is strongly recommended to pass the ``sampling_rate`` argument to this function.Failing to do so can result in silent errors that might be hard to debug.\n 82%|████████▏ | 1285/1564 [01:44<00:22, 12.13it/s]It is strongly recommended to pass the ``sampling_rate`` argument to this function.Failing to do so can result in silent errors that might be hard to debug.\nIt is strongly recommended to pass the ``sampling_rate`` argument to this function.Failing to do so can result in silent errors that might be hard to debug.\n 82%|████████▏ | 1287/1564 [01:44<00:21, 12.59it/s]It is strongly recommended to pass the ``sampling_rate`` argument to this function.Failing to do so can result in silent errors that might be hard to debug.\nIt is strongly recommended to pass the ``sampling_rate`` argument to this function.Failing to do so can result in silent errors that might be hard to debug.\n 82%|████████▏ | 1289/1564 [01:44<00:21, 12.95it/s]It is strongly recommended to pass the ``sampling_rate`` argument to this function.Failing to do so can result in silent errors that might be hard to debug.\nIt is strongly recommended to pass the ``sampling_rate`` argument to this function.Failing to do so can result in silent errors that might be hard to debug.\n 83%|████████▎ | 1291/1564 [01:44<00:20, 13.23it/s]It is strongly recommended to pass the ``sampling_rate`` argument to this function.Failing to do so can result in silent errors that might be hard to debug.\nIt is strongly recommended to pass the ``sampling_rate`` argument to this function.Failing to do so can result in silent errors that might be hard to debug.\n 83%|████████▎ | 1293/1564 [01:44<00:20, 13.41it/s]It is strongly recommended to pass the ``sampling_rate`` argument to this function.Failing to do so can result in silent errors that might be hard to debug.\nIt is strongly recommended to pass the ``sampling_rate`` argument to this function.Failing to do so can result in silent errors that might be hard to debug.\n 83%|████████▎ | 1295/1564 [01:45<00:19, 13.68it/s]It is strongly recommended to pass the ``sampling_rate`` argument to this function.Failing to do so can result in silent errors that might be hard to debug.\nIt is strongly recommended to pass the ``sampling_rate`` argument to this function.Failing to do so can result in silent errors that might be hard to debug.\n 83%|████████▎ | 1297/1564 [01:45<00:19, 13.89it/s]It is strongly recommended to pass the ``sampling_rate`` argument to this function.Failing to do so can result in silent errors that might be hard to debug.\nIt is strongly recommended to pass the ``sampling_rate`` argument to this function.Failing to do so can result in silent errors that might be hard to debug.\n 83%|████████▎ | 1299/1564 [01:45<00:18, 14.04it/s]It is strongly recommended to pass the ``sampling_rate`` argument to this function.Failing to do so can result in silent errors that might be hard to debug.\nIt is strongly recommended to pass the ``sampling_rate`` argument to this function.Failing to do so can result in silent errors that might be hard to debug.\n 83%|████████▎ | 1301/1564 [01:45<00:18, 14.14it/s]It is strongly recommended to pass the ``sampling_rate`` argument to this function.Failing to do so can result in silent errors that might be hard to debug.\nIt is strongly recommended to pass the ``sampling_rate`` argument to this function.Failing to do so can result in silent errors that might be hard to debug.\n 83%|████████▎ | 1303/1564 [01:45<00:18, 14.43it/s]It is strongly recommended to pass the ``sampling_rate`` argument to this function.Failing to do so can result in silent errors that might be hard to debug.\nIt is strongly recommended to pass the ``sampling_rate`` argument to this function.Failing to do so can result in silent errors that might be hard to debug.\n 83%|████████▎ | 1305/1564 [01:45<00:17, 14.65it/s]It is strongly recommended to pass the ``sampling_rate`` argument to this function.Failing to do so can result in silent errors that might be hard to debug.\nIt is strongly recommended to pass the ``sampling_rate`` argument to this function.Failing to do so can result in silent errors that might be hard to debug.\n 84%|████████▎ | 1307/1564 [01:45<00:17, 14.81it/s]It is strongly recommended to pass the ``sampling_rate`` argument to this function.Failing to do so can result in silent errors that might be hard to debug.\nIt is strongly recommended to pass the ``sampling_rate`` argument to this function.Failing to do so can result in silent errors that might be hard to debug.\n 84%|████████▎ | 1309/1564 [01:45<00:17, 14.87it/s]It is strongly recommended to pass the ``sampling_rate`` argument to this function.Failing to do so can result in silent errors that might be hard to debug.\nIt is strongly recommended to pass the ``sampling_rate`` argument to this function.Failing to do so can result in silent errors that might be hard to debug.\n 84%|████████▍ | 1311/1564 [01:46<00:18, 13.44it/s]It is strongly recommended to pass the ``sampling_rate`` argument to this function.Failing to do so can result in silent errors that might be hard to debug.\nIt is strongly recommended to pass the ``sampling_rate`` argument to this function.Failing to do so can result in silent errors that might be hard to debug.\n 84%|████████▍ | 1313/1564 [01:46<00:19, 12.61it/s]It is strongly recommended to pass the ``sampling_rate`` argument to this function.Failing to do so can result in silent errors that might be hard to debug.\nIt is strongly recommended to pass the ``sampling_rate`` argument to this function.Failing to do so can result in silent errors that might be hard to debug.\n 84%|████████▍ | 1315/1564 [01:46<00:20, 12.09it/s]It is strongly recommended to pass the ``sampling_rate`` argument to this function.Failing to do so can result in silent errors that might be hard to debug.\nIt is strongly recommended to pass the ``sampling_rate`` argument to this function.Failing to do so can result in silent errors that might be hard to debug.\n 84%|████████▍ | 1317/1564 [01:46<00:21, 11.76it/s]It is strongly recommended to pass the ``sampling_rate`` argument to this function.Failing to do so can result in silent errors that might be hard to debug.\nIt is strongly recommended to pass the ``sampling_rate`` argument to this function.Failing to do so can result in silent errors that might be hard to debug.\n 84%|████████▍ | 1319/1564 [01:46<00:22, 10.83it/s]It is strongly recommended to pass the ``sampling_rate`` argument to this function.Failing to do so can result in silent errors that might be hard to debug.\nIt is strongly recommended to pass the ``sampling_rate`` argument to this function.Failing to do so can result in silent errors that might be hard to debug.\n 84%|████████▍ | 1321/1564 [01:47<00:23, 10.27it/s]It is strongly recommended to pass the ``sampling_rate`` argument to this function.Failing to do so can result in silent errors that might be hard to debug.\nIt is strongly recommended to pass the ``sampling_rate`` argument to this function.Failing to do so can result in silent errors that might be hard to debug.\n 85%|████████▍ | 1323/1564 [01:47<00:24,  9.91it/s]It is strongly recommended to pass the ``sampling_rate`` argument to this function.Failing to do so can result in silent errors that might be hard to debug.\nIt is strongly recommended to pass the ``sampling_rate`` argument to this function.Failing to do so can result in silent errors that might be hard to debug.\n 85%|████████▍ | 1325/1564 [01:47<00:24,  9.65it/s]It is strongly recommended to pass the ``sampling_rate`` argument to this function.Failing to do so can result in silent errors that might be hard to debug.\n 85%|████████▍ | 1326/1564 [01:47<00:25,  9.41it/s]It is strongly recommended to pass the ``sampling_rate`` argument to this function.Failing to do so can result in silent errors that might be hard to debug.\n 85%|████████▍ | 1327/1564 [01:47<00:25,  9.19it/s]It is strongly recommended to pass the ``sampling_rate`` argument to this function.Failing to do so can result in silent errors that might be hard to debug.\n 85%|████████▍ | 1328/1564 [01:47<00:26,  8.95it/s]It is strongly recommended to pass the ``sampling_rate`` argument to this function.Failing to do so can result in silent errors that might be hard to debug.\n 85%|████████▍ | 1329/1564 [01:48<00:27,  8.56it/s]It is strongly recommended to pass the ``sampling_rate`` argument to this function.Failing to do so can result in silent errors that might be hard to debug.\n 85%|████████▌ | 1330/1564 [01:48<00:28,  8.24it/s]It is strongly recommended to pass the ``sampling_rate`` argument to this function.Failing to do so can result in silent errors that might be hard to debug.\n 85%|████████▌ | 1331/1564 [01:48<00:28,  8.04it/s]It is strongly recommended to pass the ``sampling_rate`` argument to this function.Failing to do so can result in silent errors that might be hard to debug.\n 85%|████████▌ | 1332/1564 [01:48<00:29,  7.93it/s]It is strongly recommended to pass the ``sampling_rate`` argument to this function.Failing to do so can result in silent errors that might be hard to debug.\n 85%|████████▌ | 1333/1564 [01:48<00:29,  7.85it/s]It is strongly recommended to pass the ``sampling_rate`` argument to this function.Failing to do so can result in silent errors that might be hard to debug.\n 85%|████████▌ | 1334/1564 [01:48<00:28,  8.18it/s]It is strongly recommended to pass the ``sampling_rate`` argument to this function.Failing to do so can result in silent errors that might be hard to debug.\n 85%|████████▌ | 1335/1564 [01:48<00:27,  8.48it/s]It is strongly recommended to pass the ``sampling_rate`` argument to this function.Failing to do so can result in silent errors that might be hard to debug.\n 85%|████████▌ | 1336/1564 [01:48<00:26,  8.73it/s]It is strongly recommended to pass the ``sampling_rate`` argument to this function.Failing to do so can result in silent errors that might be hard to debug.\n 85%|████████▌ | 1337/1564 [01:49<00:25,  8.94it/s]It is strongly recommended to pass the ``sampling_rate`` argument to this function.Failing to do so can result in silent errors that might be hard to debug.\n 86%|████████▌ | 1338/1564 [01:49<00:24,  9.12it/s]It is strongly recommended to pass the ``sampling_rate`` argument to this function.Failing to do so can result in silent errors that might be hard to debug.\n 86%|████████▌ | 1339/1564 [01:49<00:24,  9.24it/s]It is strongly recommended to pass the ``sampling_rate`` argument to this function.Failing to do so can result in silent errors that might be hard to debug.\n 86%|████████▌ | 1340/1564 [01:49<00:23,  9.34it/s]It is strongly recommended to pass the ``sampling_rate`` argument to this function.Failing to do so can result in silent errors that might be hard to debug.\n 86%|████████▌ | 1341/1564 [01:49<00:23,  9.41it/s]It is strongly recommended to pass the ``sampling_rate`` argument to this function.Failing to do so can result in silent errors that might be hard to debug.\nIt is strongly recommended to pass the ``sampling_rate`` argument to this function.Failing to do so can result in silent errors that might be hard to debug.\n 86%|████████▌ | 1343/1564 [01:49<00:19, 11.13it/s]It is strongly recommended to pass the ``sampling_rate`` argument to this function.Failing to do so can result in silent errors that might be hard to debug.\nIt is strongly recommended to pass the ``sampling_rate`` argument to this function.Failing to do so can result in silent errors that might be hard to debug.\n 86%|████████▌ | 1345/1564 [01:49<00:18, 11.61it/s]It is strongly recommended to pass the ``sampling_rate`` argument to this function.Failing to do so can result in silent errors that might be hard to debug.\nIt is strongly recommended to pass the ``sampling_rate`` argument to this function.Failing to do so can result in silent errors that might be hard to debug.\n 86%|████████▌ | 1347/1564 [01:49<00:17, 12.40it/s]It is strongly recommended to pass the ``sampling_rate`` argument to this function.Failing to do so can result in silent errors that might be hard to debug.\nIt is strongly recommended to pass the ``sampling_rate`` argument to this function.Failing to do so can result in silent errors that might be hard to debug.\n 86%|████████▋ | 1349/1564 [01:50<00:17, 12.39it/s]It is strongly recommended to pass the ``sampling_rate`` argument to this function.Failing to do so can result in silent errors that might be hard to debug.\nIt is strongly recommended to pass the ``sampling_rate`` argument to this function.Failing to do so can result in silent errors that might be hard to debug.\n 86%|████████▋ | 1351/1564 [01:50<00:16, 12.76it/s]It is strongly recommended to pass the ``sampling_rate`` argument to this function.Failing to do so can result in silent errors that might be hard to debug.\nIt is strongly recommended to pass the ``sampling_rate`` argument to this function.Failing to do so can result in silent errors that might be hard to debug.\n 87%|████████▋ | 1353/1564 [01:50<00:17, 11.81it/s]It is strongly recommended to pass the ``sampling_rate`` argument to this function.Failing to do so can result in silent errors that might be hard to debug.\nIt is strongly recommended to pass the ``sampling_rate`` argument to this function.Failing to do so can result in silent errors that might be hard to debug.\n 87%|████████▋ | 1355/1564 [01:50<00:18, 11.14it/s]It is strongly recommended to pass the ``sampling_rate`` argument to this function.Failing to do so can result in silent errors that might be hard to debug.\nIt is strongly recommended to pass the ``sampling_rate`` argument to this function.Failing to do so can result in silent errors that might be hard to debug.\n 87%|████████▋ | 1357/1564 [01:50<00:18, 11.39it/s]It is strongly recommended to pass the ``sampling_rate`` argument to this function.Failing to do so can result in silent errors that might be hard to debug.\nIt is strongly recommended to pass the ``sampling_rate`` argument to this function.Failing to do so can result in silent errors that might be hard to debug.\n 87%|████████▋ | 1359/1564 [01:50<00:17, 11.96it/s]It is strongly recommended to pass the ``sampling_rate`` argument to this function.Failing to do so can result in silent errors that might be hard to debug.\nIt is strongly recommended to pass the ``sampling_rate`` argument to this function.Failing to do so can result in silent errors that might be hard to debug.\n 87%|████████▋ | 1361/1564 [01:51<00:16, 12.37it/s]It is strongly recommended to pass the ``sampling_rate`` argument to this function.Failing to do so can result in silent errors that might be hard to debug.\nIt is strongly recommended to pass the ``sampling_rate`` argument to this function.Failing to do so can result in silent errors that might be hard to debug.\n 87%|████████▋ | 1363/1564 [01:51<00:15, 12.67it/s]It is strongly recommended to pass the ``sampling_rate`` argument to this function.Failing to do so can result in silent errors that might be hard to debug.\nIt is strongly recommended to pass the ``sampling_rate`` argument to this function.Failing to do so can result in silent errors that might be hard to debug.\n 87%|████████▋ | 1365/1564 [01:51<00:15, 12.91it/s]It is strongly recommended to pass the ``sampling_rate`` argument to this function.Failing to do so can result in silent errors that might be hard to debug.\nIt is strongly recommended to pass the ``sampling_rate`` argument to this function.Failing to do so can result in silent errors that might be hard to debug.\n 87%|████████▋ | 1367/1564 [01:51<00:14, 13.31it/s]It is strongly recommended to pass the ``sampling_rate`` argument to this function.Failing to do so can result in silent errors that might be hard to debug.\nIt is strongly recommended to pass the ``sampling_rate`` argument to this function.Failing to do so can result in silent errors that might be hard to debug.\n 88%|████████▊ | 1369/1564 [01:51<00:14, 13.57it/s]It is strongly recommended to pass the ``sampling_rate`` argument to this function.Failing to do so can result in silent errors that might be hard to debug.\nIt is strongly recommended to pass the ``sampling_rate`` argument to this function.Failing to do so can result in silent errors that might be hard to debug.\n 88%|████████▊ | 1371/1564 [01:51<00:14, 13.76it/s]It is strongly recommended to pass the ``sampling_rate`` argument to this function.Failing to do so can result in silent errors that might be hard to debug.\nIt is strongly recommended to pass the ``sampling_rate`` argument to this function.Failing to do so can result in silent errors that might be hard to debug.\n 88%|████████▊ | 1373/1564 [01:51<00:13, 13.95it/s]It is strongly recommended to pass the ``sampling_rate`` argument to this function.Failing to do so can result in silent errors that might be hard to debug.\nIt is strongly recommended to pass the ``sampling_rate`` argument to this function.Failing to do so can result in silent errors that might be hard to debug.\n 88%|████████▊ | 1375/1564 [01:52<00:15, 12.21it/s]It is strongly recommended to pass the ``sampling_rate`` argument to this function.Failing to do so can result in silent errors that might be hard to debug.\nIt is strongly recommended to pass the ``sampling_rate`` argument to this function.Failing to do so can result in silent errors that might be hard to debug.\n 88%|████████▊ | 1377/1564 [01:52<00:16, 11.21it/s]It is strongly recommended to pass the ``sampling_rate`` argument to this function.Failing to do so can result in silent errors that might be hard to debug.\nIt is strongly recommended to pass the ``sampling_rate`` argument to this function.Failing to do so can result in silent errors that might be hard to debug.\n 88%|████████▊ | 1379/1564 [01:52<00:17, 10.60it/s]It is strongly recommended to pass the ``sampling_rate`` argument to this function.Failing to do so can result in silent errors that might be hard to debug.\nIt is strongly recommended to pass the ``sampling_rate`` argument to this function.Failing to do so can result in silent errors that might be hard to debug.\n 88%|████████▊ | 1381/1564 [01:52<00:17, 10.21it/s]It is strongly recommended to pass the ``sampling_rate`` argument to this function.Failing to do so can result in silent errors that might be hard to debug.\nIt is strongly recommended to pass the ``sampling_rate`` argument to this function.Failing to do so can result in silent errors that might be hard to debug.\n 88%|████████▊ | 1383/1564 [01:52<00:16, 10.69it/s]It is strongly recommended to pass the ``sampling_rate`` argument to this function.Failing to do so can result in silent errors that might be hard to debug.\nIt is strongly recommended to pass the ``sampling_rate`` argument to this function.Failing to do so can result in silent errors that might be hard to debug.\n 89%|████████▊ | 1385/1564 [01:53<00:16, 11.04it/s]It is strongly recommended to pass the ``sampling_rate`` argument to this function.Failing to do so can result in silent errors that might be hard to debug.\nIt is strongly recommended to pass the ``sampling_rate`` argument to this function.Failing to do so can result in silent errors that might be hard to debug.\n 89%|████████▊ | 1387/1564 [01:53<00:15, 11.33it/s]It is strongly recommended to pass the ``sampling_rate`` argument to this function.Failing to do so can result in silent errors that might be hard to debug.\nIt is strongly recommended to pass the ``sampling_rate`` argument to this function.Failing to do so can result in silent errors that might be hard to debug.\n 89%|████████▉ | 1389/1564 [01:53<00:15, 11.55it/s]It is strongly recommended to pass the ``sampling_rate`` argument to this function.Failing to do so can result in silent errors that might be hard to debug.\nIt is strongly recommended to pass the ``sampling_rate`` argument to this function.Failing to do so can result in silent errors that might be hard to debug.\n 89%|████████▉ | 1391/1564 [01:53<00:14, 12.34it/s]It is strongly recommended to pass the ``sampling_rate`` argument to this function.Failing to do so can result in silent errors that might be hard to debug.\nIt is strongly recommended to pass the ``sampling_rate`` argument to this function.Failing to do so can result in silent errors that might be hard to debug.\n 89%|████████▉ | 1393/1564 [01:53<00:13, 12.98it/s]It is strongly recommended to pass the ``sampling_rate`` argument to this function.Failing to do so can result in silent errors that might be hard to debug.\nIt is strongly recommended to pass the ``sampling_rate`` argument to this function.Failing to do so can result in silent errors that might be hard to debug.\n 89%|████████▉ | 1395/1564 [01:53<00:12, 13.47it/s]It is strongly recommended to pass the ``sampling_rate`` argument to this function.Failing to do so can result in silent errors that might be hard to debug.\nIt is strongly recommended to pass the ``sampling_rate`` argument to this function.Failing to do so can result in silent errors that might be hard to debug.\n 89%|████████▉ | 1397/1564 [01:53<00:12, 13.83it/s]It is strongly recommended to pass the ``sampling_rate`` argument to this function.Failing to do so can result in silent errors that might be hard to debug.\nIt is strongly recommended to pass the ``sampling_rate`` argument to this function.Failing to do so can result in silent errors that might be hard to debug.\n 89%|████████▉ | 1399/1564 [01:54<00:13, 12.62it/s]It is strongly recommended to pass the ``sampling_rate`` argument to this function.Failing to do so can result in silent errors that might be hard to debug.\nIt is strongly recommended to pass the ``sampling_rate`` argument to this function.Failing to do so can result in silent errors that might be hard to debug.\n 90%|████████▉ | 1401/1564 [01:54<00:13, 11.91it/s]It is strongly recommended to pass the ``sampling_rate`` argument to this function.Failing to do so can result in silent errors that might be hard to debug.\nIt is strongly recommended to pass the ``sampling_rate`` argument to this function.Failing to do so can result in silent errors that might be hard to debug.\n 90%|████████▉ | 1403/1564 [01:54<00:14, 11.45it/s]It is strongly recommended to pass the ``sampling_rate`` argument to this function.Failing to do so can result in silent errors that might be hard to debug.\nIt is strongly recommended to pass the ``sampling_rate`` argument to this function.Failing to do so can result in silent errors that might be hard to debug.\n 90%|████████▉ | 1405/1564 [01:54<00:14, 11.14it/s]It is strongly recommended to pass the ``sampling_rate`` argument to this function.Failing to do so can result in silent errors that might be hard to debug.\nIt is strongly recommended to pass the ``sampling_rate`` argument to this function.Failing to do so can result in silent errors that might be hard to debug.\n 90%|████████▉ | 1407/1564 [01:54<00:14, 10.92it/s]It is strongly recommended to pass the ``sampling_rate`` argument to this function.Failing to do so can result in silent errors that might be hard to debug.\nIt is strongly recommended to pass the ``sampling_rate`` argument to this function.Failing to do so can result in silent errors that might be hard to debug.\n 90%|█████████ | 1409/1564 [01:55<00:14, 10.76it/s]It is strongly recommended to pass the ``sampling_rate`` argument to this function.Failing to do so can result in silent errors that might be hard to debug.\nIt is strongly recommended to pass the ``sampling_rate`` argument to this function.Failing to do so can result in silent errors that might be hard to debug.\n 90%|█████████ | 1411/1564 [01:55<00:14, 10.66it/s]It is strongly recommended to pass the ``sampling_rate`` argument to this function.Failing to do so can result in silent errors that might be hard to debug.\nIt is strongly recommended to pass the ``sampling_rate`` argument to this function.Failing to do so can result in silent errors that might be hard to debug.\n 90%|█████████ | 1413/1564 [01:55<00:14, 10.59it/s]It is strongly recommended to pass the ``sampling_rate`` argument to this function.Failing to do so can result in silent errors that might be hard to debug.\nIt is strongly recommended to pass the ``sampling_rate`` argument to this function.Failing to do so can result in silent errors that might be hard to debug.\n 90%|█████████ | 1415/1564 [01:55<00:13, 11.38it/s]It is strongly recommended to pass the ``sampling_rate`` argument to this function.Failing to do so can result in silent errors that might be hard to debug.\nIt is strongly recommended to pass the ``sampling_rate`` argument to this function.Failing to do so can result in silent errors that might be hard to debug.\n 91%|█████████ | 1417/1564 [01:55<00:12, 12.00it/s]It is strongly recommended to pass the ``sampling_rate`` argument to this function.Failing to do so can result in silent errors that might be hard to debug.\nIt is strongly recommended to pass the ``sampling_rate`` argument to this function.Failing to do so can result in silent errors that might be hard to debug.\n 91%|█████████ | 1419/1564 [01:55<00:11, 12.48it/s]It is strongly recommended to pass the ``sampling_rate`` argument to this function.Failing to do so can result in silent errors that might be hard to debug.\nIt is strongly recommended to pass the ``sampling_rate`` argument to this function.Failing to do so can result in silent errors that might be hard to debug.\n 91%|█████████ | 1421/1564 [01:56<00:11, 12.81it/s]It is strongly recommended to pass the ``sampling_rate`` argument to this function.Failing to do so can result in silent errors that might be hard to debug.\nIt is strongly recommended to pass the ``sampling_rate`` argument to this function.Failing to do so can result in silent errors that might be hard to debug.\n 91%|█████████ | 1423/1564 [01:56<00:11, 12.71it/s]It is strongly recommended to pass the ``sampling_rate`` argument to this function.Failing to do so can result in silent errors that might be hard to debug.\nIt is strongly recommended to pass the ``sampling_rate`` argument to this function.Failing to do so can result in silent errors that might be hard to debug.\n 91%|█████████ | 1425/1564 [01:56<00:11, 12.58it/s]It is strongly recommended to pass the ``sampling_rate`` argument to this function.Failing to do so can result in silent errors that might be hard to debug.\nIt is strongly recommended to pass the ``sampling_rate`` argument to this function.Failing to do so can result in silent errors that might be hard to debug.\n 91%|█████████ | 1427/1564 [01:56<00:11, 12.44it/s]It is strongly recommended to pass the ``sampling_rate`` argument to this function.Failing to do so can result in silent errors that might be hard to debug.\nIt is strongly recommended to pass the ``sampling_rate`` argument to this function.Failing to do so can result in silent errors that might be hard to debug.\n 91%|█████████▏| 1429/1564 [01:56<00:11, 12.16it/s]It is strongly recommended to pass the ``sampling_rate`` argument to this function.Failing to do so can result in silent errors that might be hard to debug.\nIt is strongly recommended to pass the ``sampling_rate`` argument to this function.Failing to do so can result in silent errors that might be hard to debug.\n 91%|█████████▏| 1431/1564 [01:56<00:11, 11.36it/s]It is strongly recommended to pass the ``sampling_rate`` argument to this function.Failing to do so can result in silent errors that might be hard to debug.\nIt is strongly recommended to pass the ``sampling_rate`` argument to this function.Failing to do so can result in silent errors that might be hard to debug.\n 92%|█████████▏| 1433/1564 [01:57<00:12, 10.80it/s]It is strongly recommended to pass the ``sampling_rate`` argument to this function.Failing to do so can result in silent errors that might be hard to debug.\nIt is strongly recommended to pass the ``sampling_rate`` argument to this function.Failing to do so can result in silent errors that might be hard to debug.\n 92%|█████████▏| 1435/1564 [01:57<00:12, 10.47it/s]It is strongly recommended to pass the ``sampling_rate`` argument to this function.Failing to do so can result in silent errors that might be hard to debug.\nIt is strongly recommended to pass the ``sampling_rate`` argument to this function.Failing to do so can result in silent errors that might be hard to debug.\n 92%|█████████▏| 1437/1564 [01:57<00:12, 10.31it/s]It is strongly recommended to pass the ``sampling_rate`` argument to this function.Failing to do so can result in silent errors that might be hard to debug.\nIt is strongly recommended to pass the ``sampling_rate`` argument to this function.Failing to do so can result in silent errors that might be hard to debug.\n 92%|█████████▏| 1439/1564 [01:57<00:11, 10.76it/s]It is strongly recommended to pass the ``sampling_rate`` argument to this function.Failing to do so can result in silent errors that might be hard to debug.\nIt is strongly recommended to pass the ``sampling_rate`` argument to this function.Failing to do so can result in silent errors that might be hard to debug.\n 92%|█████████▏| 1441/1564 [01:57<00:11, 11.14it/s]It is strongly recommended to pass the ``sampling_rate`` argument to this function.Failing to do so can result in silent errors that might be hard to debug.\nIt is strongly recommended to pass the ``sampling_rate`` argument to this function.Failing to do so can result in silent errors that might be hard to debug.\n 92%|█████████▏| 1443/1564 [01:58<00:10, 11.41it/s]It is strongly recommended to pass the ``sampling_rate`` argument to this function.Failing to do so can result in silent errors that might be hard to debug.\nIt is strongly recommended to pass the ``sampling_rate`` argument to this function.Failing to do so can result in silent errors that might be hard to debug.\n 92%|█████████▏| 1445/1564 [01:58<00:10, 11.49it/s]It is strongly recommended to pass the ``sampling_rate`` argument to this function.Failing to do so can result in silent errors that might be hard to debug.\nIt is strongly recommended to pass the ``sampling_rate`` argument to this function.Failing to do so can result in silent errors that might be hard to debug.\n 93%|█████████▎| 1447/1564 [01:58<00:09, 12.28it/s]It is strongly recommended to pass the ``sampling_rate`` argument to this function.Failing to do so can result in silent errors that might be hard to debug.\nIt is strongly recommended to pass the ``sampling_rate`` argument to this function.Failing to do so can result in silent errors that might be hard to debug.\n 93%|█████████▎| 1449/1564 [01:58<00:08, 12.90it/s]It is strongly recommended to pass the ``sampling_rate`` argument to this function.Failing to do so can result in silent errors that might be hard to debug.\nIt is strongly recommended to pass the ``sampling_rate`` argument to this function.Failing to do so can result in silent errors that might be hard to debug.\n 93%|█████████▎| 1451/1564 [01:58<00:08, 13.38it/s]It is strongly recommended to pass the ``sampling_rate`` argument to this function.Failing to do so can result in silent errors that might be hard to debug.\nIt is strongly recommended to pass the ``sampling_rate`` argument to this function.Failing to do so can result in silent errors that might be hard to debug.\n 93%|█████████▎| 1453/1564 [01:58<00:08, 13.75it/s]It is strongly recommended to pass the ``sampling_rate`` argument to this function.Failing to do so can result in silent errors that might be hard to debug.\nIt is strongly recommended to pass the ``sampling_rate`` argument to this function.Failing to do so can result in silent errors that might be hard to debug.\n 93%|█████████▎| 1455/1564 [01:58<00:07, 13.77it/s]It is strongly recommended to pass the ``sampling_rate`` argument to this function.Failing to do so can result in silent errors that might be hard to debug.\nIt is strongly recommended to pass the ``sampling_rate`` argument to this function.Failing to do so can result in silent errors that might be hard to debug.\n 93%|█████████▎| 1457/1564 [01:59<00:07, 13.77it/s]It is strongly recommended to pass the ``sampling_rate`` argument to this function.Failing to do so can result in silent errors that might be hard to debug.\nIt is strongly recommended to pass the ``sampling_rate`` argument to this function.Failing to do so can result in silent errors that might be hard to debug.\n 93%|█████████▎| 1459/1564 [01:59<00:07, 13.77it/s]It is strongly recommended to pass the ``sampling_rate`` argument to this function.Failing to do so can result in silent errors that might be hard to debug.\nIt is strongly recommended to pass the ``sampling_rate`` argument to this function.Failing to do so can result in silent errors that might be hard to debug.\n 93%|█████████▎| 1461/1564 [01:59<00:07, 13.75it/s]It is strongly recommended to pass the ``sampling_rate`` argument to this function.Failing to do so can result in silent errors that might be hard to debug.\nIt is strongly recommended to pass the ``sampling_rate`` argument to this function.Failing to do so can result in silent errors that might be hard to debug.\n 94%|█████████▎| 1463/1564 [01:59<00:06, 14.46it/s]It is strongly recommended to pass the ``sampling_rate`` argument to this function.Failing to do so can result in silent errors that might be hard to debug.\nIt is strongly recommended to pass the ``sampling_rate`` argument to this function.Failing to do so can result in silent errors that might be hard to debug.\n 94%|█████████▎| 1465/1564 [01:59<00:06, 15.11it/s]It is strongly recommended to pass the ``sampling_rate`` argument to this function.Failing to do so can result in silent errors that might be hard to debug.\nIt is strongly recommended to pass the ``sampling_rate`` argument to this function.Failing to do so can result in silent errors that might be hard to debug.\n 94%|█████████▍| 1467/1564 [01:59<00:06, 15.63it/s]It is strongly recommended to pass the ``sampling_rate`` argument to this function.Failing to do so can result in silent errors that might be hard to debug.\nIt is strongly recommended to pass the ``sampling_rate`` argument to this function.Failing to do so can result in silent errors that might be hard to debug.\n 94%|█████████▍| 1469/1564 [01:59<00:05, 15.99it/s]It is strongly recommended to pass the ``sampling_rate`` argument to this function.Failing to do so can result in silent errors that might be hard to debug.\nIt is strongly recommended to pass the ``sampling_rate`` argument to this function.Failing to do so can result in silent errors that might be hard to debug.\n 94%|█████████▍| 1471/1564 [01:59<00:06, 14.38it/s]It is strongly recommended to pass the ``sampling_rate`` argument to this function.Failing to do so can result in silent errors that might be hard to debug.\nIt is strongly recommended to pass the ``sampling_rate`` argument to this function.Failing to do so can result in silent errors that might be hard to debug.\n 94%|█████████▍| 1473/1564 [02:00<00:06, 13.38it/s]It is strongly recommended to pass the ``sampling_rate`` argument to this function.Failing to do so can result in silent errors that might be hard to debug.\nIt is strongly recommended to pass the ``sampling_rate`` argument to this function.Failing to do so can result in silent errors that might be hard to debug.\n 94%|█████████▍| 1475/1564 [02:00<00:06, 12.81it/s]It is strongly recommended to pass the ``sampling_rate`` argument to this function.Failing to do so can result in silent errors that might be hard to debug.\nIt is strongly recommended to pass the ``sampling_rate`` argument to this function.Failing to do so can result in silent errors that might be hard to debug.\n 94%|█████████▍| 1477/1564 [02:00<00:07, 12.43it/s]It is strongly recommended to pass the ``sampling_rate`` argument to this function.Failing to do so can result in silent errors that might be hard to debug.\nIt is strongly recommended to pass the ``sampling_rate`` argument to this function.Failing to do so can result in silent errors that might be hard to debug.\n 95%|█████████▍| 1479/1564 [02:00<00:06, 13.05it/s]It is strongly recommended to pass the ``sampling_rate`` argument to this function.Failing to do so can result in silent errors that might be hard to debug.\nIt is strongly recommended to pass the ``sampling_rate`` argument to this function.Failing to do so can result in silent errors that might be hard to debug.\n 95%|█████████▍| 1481/1564 [02:00<00:06, 12.30it/s]It is strongly recommended to pass the ``sampling_rate`` argument to this function.Failing to do so can result in silent errors that might be hard to debug.\nIt is strongly recommended to pass the ``sampling_rate`` argument to this function.Failing to do so can result in silent errors that might be hard to debug.\n 95%|█████████▍| 1483/1564 [02:01<00:07, 11.28it/s]It is strongly recommended to pass the ``sampling_rate`` argument to this function.Failing to do so can result in silent errors that might be hard to debug.\nIt is strongly recommended to pass the ``sampling_rate`` argument to this function.Failing to do so can result in silent errors that might be hard to debug.\n 95%|█████████▍| 1485/1564 [02:01<00:07, 11.04it/s]It is strongly recommended to pass the ``sampling_rate`` argument to this function.Failing to do so can result in silent errors that might be hard to debug.\nIt is strongly recommended to pass the ``sampling_rate`` argument to this function.Failing to do so can result in silent errors that might be hard to debug.\n 95%|█████████▌| 1487/1564 [02:01<00:07,  9.93it/s]It is strongly recommended to pass the ``sampling_rate`` argument to this function.Failing to do so can result in silent errors that might be hard to debug.\nIt is strongly recommended to pass the ``sampling_rate`` argument to this function.Failing to do so can result in silent errors that might be hard to debug.\n 95%|█████████▌| 1489/1564 [02:01<00:09,  7.86it/s]It is strongly recommended to pass the ``sampling_rate`` argument to this function.Failing to do so can result in silent errors that might be hard to debug.\n 95%|█████████▌| 1490/1564 [02:01<00:09,  8.15it/s]It is strongly recommended to pass the ``sampling_rate`` argument to this function.Failing to do so can result in silent errors that might be hard to debug.\nIt is strongly recommended to pass the ``sampling_rate`` argument to this function.Failing to do so can result in silent errors that might be hard to debug.\n 95%|█████████▌| 1492/1564 [02:02<00:07,  9.20it/s]It is strongly recommended to pass the ``sampling_rate`` argument to this function.Failing to do so can result in silent errors that might be hard to debug.\nIt is strongly recommended to pass the ``sampling_rate`` argument to this function.Failing to do so can result in silent errors that might be hard to debug.\n 96%|█████████▌| 1494/1564 [02:02<00:06, 10.07it/s]It is strongly recommended to pass the ``sampling_rate`` argument to this function.Failing to do so can result in silent errors that might be hard to debug.\nIt is strongly recommended to pass the ``sampling_rate`` argument to this function.Failing to do so can result in silent errors that might be hard to debug.\n 96%|█████████▌| 1496/1564 [02:02<00:06, 10.41it/s]It is strongly recommended to pass the ``sampling_rate`` argument to this function.Failing to do so can result in silent errors that might be hard to debug.\nIt is strongly recommended to pass the ``sampling_rate`` argument to this function.Failing to do so can result in silent errors that might be hard to debug.\n 96%|█████████▌| 1498/1564 [02:02<00:06, 10.64it/s]It is strongly recommended to pass the ``sampling_rate`` argument to this function.Failing to do so can result in silent errors that might be hard to debug.\nIt is strongly recommended to pass the ``sampling_rate`` argument to this function.Failing to do so can result in silent errors that might be hard to debug.\n 96%|█████████▌| 1500/1564 [02:02<00:05, 10.81it/s]It is strongly recommended to pass the ``sampling_rate`` argument to this function.Failing to do so can result in silent errors that might be hard to debug.\nIt is strongly recommended to pass the ``sampling_rate`` argument to this function.Failing to do so can result in silent errors that might be hard to debug.\n 96%|█████████▌| 1502/1564 [02:02<00:05, 11.36it/s]It is strongly recommended to pass the ``sampling_rate`` argument to this function.Failing to do so can result in silent errors that might be hard to debug.\nIt is strongly recommended to pass the ``sampling_rate`` argument to this function.Failing to do so can result in silent errors that might be hard to debug.\n 96%|█████████▌| 1504/1564 [02:03<00:04, 12.25it/s]It is strongly recommended to pass the ``sampling_rate`` argument to this function.Failing to do so can result in silent errors that might be hard to debug.\nIt is strongly recommended to pass the ``sampling_rate`` argument to this function.Failing to do so can result in silent errors that might be hard to debug.\n 96%|█████████▋| 1506/1564 [02:03<00:04, 12.94it/s]It is strongly recommended to pass the ``sampling_rate`` argument to this function.Failing to do so can result in silent errors that might be hard to debug.\nIt is strongly recommended to pass the ``sampling_rate`` argument to this function.Failing to do so can result in silent errors that might be hard to debug.\n 96%|█████████▋| 1508/1564 [02:03<00:04, 13.45it/s]It is strongly recommended to pass the ``sampling_rate`` argument to this function.Failing to do so can result in silent errors that might be hard to debug.\nIt is strongly recommended to pass the ``sampling_rate`` argument to this function.Failing to do so can result in silent errors that might be hard to debug.\n 97%|█████████▋| 1510/1564 [02:03<00:03, 13.75it/s]It is strongly recommended to pass the ``sampling_rate`` argument to this function.Failing to do so can result in silent errors that might be hard to debug.\nIt is strongly recommended to pass the ``sampling_rate`` argument to this function.Failing to do so can result in silent errors that might be hard to debug.\n 97%|█████████▋| 1512/1564 [02:03<00:03, 13.87it/s]It is strongly recommended to pass the ``sampling_rate`` argument to this function.Failing to do so can result in silent errors that might be hard to debug.\nIt is strongly recommended to pass the ``sampling_rate`` argument to this function.Failing to do so can result in silent errors that might be hard to debug.\n 97%|█████████▋| 1514/1564 [02:03<00:03, 13.94it/s]It is strongly recommended to pass the ``sampling_rate`` argument to this function.Failing to do so can result in silent errors that might be hard to debug.\nIt is strongly recommended to pass the ``sampling_rate`` argument to this function.Failing to do so can result in silent errors that might be hard to debug.\n 97%|█████████▋| 1516/1564 [02:03<00:03, 13.98it/s]It is strongly recommended to pass the ``sampling_rate`` argument to this function.Failing to do so can result in silent errors that might be hard to debug.\nIt is strongly recommended to pass the ``sampling_rate`` argument to this function.Failing to do so can result in silent errors that might be hard to debug.\n 97%|█████████▋| 1518/1564 [02:04<00:03, 14.06it/s]It is strongly recommended to pass the ``sampling_rate`` argument to this function.Failing to do so can result in silent errors that might be hard to debug.\nIt is strongly recommended to pass the ``sampling_rate`` argument to this function.Failing to do so can result in silent errors that might be hard to debug.\n 97%|█████████▋| 1520/1564 [02:04<00:03, 14.18it/s]It is strongly recommended to pass the ``sampling_rate`` argument to this function.Failing to do so can result in silent errors that might be hard to debug.\nIt is strongly recommended to pass the ``sampling_rate`` argument to this function.Failing to do so can result in silent errors that might be hard to debug.\n 97%|█████████▋| 1522/1564 [02:04<00:02, 14.26it/s]It is strongly recommended to pass the ``sampling_rate`` argument to this function.Failing to do so can result in silent errors that might be hard to debug.\nIt is strongly recommended to pass the ``sampling_rate`` argument to this function.Failing to do so can result in silent errors that might be hard to debug.\n 97%|█████████▋| 1524/1564 [02:04<00:02, 14.29it/s]It is strongly recommended to pass the ``sampling_rate`` argument to this function.Failing to do so can result in silent errors that might be hard to debug.\nIt is strongly recommended to pass the ``sampling_rate`` argument to this function.Failing to do so can result in silent errors that might be hard to debug.\n 98%|█████████▊| 1526/1564 [02:04<00:02, 13.02it/s]It is strongly recommended to pass the ``sampling_rate`` argument to this function.Failing to do so can result in silent errors that might be hard to debug.\nIt is strongly recommended to pass the ``sampling_rate`` argument to this function.Failing to do so can result in silent errors that might be hard to debug.\n 98%|█████████▊| 1528/1564 [02:04<00:03, 11.32it/s]It is strongly recommended to pass the ``sampling_rate`` argument to this function.Failing to do so can result in silent errors that might be hard to debug.\nIt is strongly recommended to pass the ``sampling_rate`` argument to this function.Failing to do so can result in silent errors that might be hard to debug.\n 98%|█████████▊| 1530/1564 [02:05<00:03, 10.30it/s]It is strongly recommended to pass the ``sampling_rate`` argument to this function.Failing to do so can result in silent errors that might be hard to debug.\nIt is strongly recommended to pass the ``sampling_rate`` argument to this function.Failing to do so can result in silent errors that might be hard to debug.\n 98%|█████████▊| 1532/1564 [02:05<00:03,  9.72it/s]It is strongly recommended to pass the ``sampling_rate`` argument to this function.Failing to do so can result in silent errors that might be hard to debug.\nIt is strongly recommended to pass the ``sampling_rate`` argument to this function.Failing to do so can result in silent errors that might be hard to debug.\n 98%|█████████▊| 1534/1564 [02:05<00:03,  9.66it/s]It is strongly recommended to pass the ``sampling_rate`` argument to this function.Failing to do so can result in silent errors that might be hard to debug.\nIt is strongly recommended to pass the ``sampling_rate`` argument to this function.Failing to do so can result in silent errors that might be hard to debug.\n 98%|█████████▊| 1536/1564 [02:05<00:02,  9.94it/s]It is strongly recommended to pass the ``sampling_rate`` argument to this function.Failing to do so can result in silent errors that might be hard to debug.\nIt is strongly recommended to pass the ``sampling_rate`` argument to this function.Failing to do so can result in silent errors that might be hard to debug.\n 98%|█████████▊| 1538/1564 [02:05<00:02, 10.13it/s]It is strongly recommended to pass the ``sampling_rate`` argument to this function.Failing to do so can result in silent errors that might be hard to debug.\nIt is strongly recommended to pass the ``sampling_rate`` argument to this function.Failing to do so can result in silent errors that might be hard to debug.\n 98%|█████████▊| 1540/1564 [02:06<00:02, 10.28it/s]It is strongly recommended to pass the ``sampling_rate`` argument to this function.Failing to do so can result in silent errors that might be hard to debug.\nIt is strongly recommended to pass the ``sampling_rate`` argument to this function.Failing to do so can result in silent errors that might be hard to debug.\n 99%|█████████▊| 1542/1564 [02:06<00:02, 10.24it/s]It is strongly recommended to pass the ``sampling_rate`` argument to this function.Failing to do so can result in silent errors that might be hard to debug.\nIt is strongly recommended to pass the ``sampling_rate`` argument to this function.Failing to do so can result in silent errors that might be hard to debug.\n 99%|█████████▊| 1544/1564 [02:06<00:01, 10.07it/s]It is strongly recommended to pass the ``sampling_rate`` argument to this function.Failing to do so can result in silent errors that might be hard to debug.\nIt is strongly recommended to pass the ``sampling_rate`` argument to this function.Failing to do so can result in silent errors that might be hard to debug.\n 99%|█████████▉| 1546/1564 [02:06<00:01,  9.95it/s]It is strongly recommended to pass the ``sampling_rate`` argument to this function.Failing to do so can result in silent errors that might be hard to debug.\nIt is strongly recommended to pass the ``sampling_rate`` argument to this function.Failing to do so can result in silent errors that might be hard to debug.\n 99%|█████████▉| 1548/1564 [02:06<00:01,  9.88it/s]It is strongly recommended to pass the ``sampling_rate`` argument to this function.Failing to do so can result in silent errors that might be hard to debug.\n 99%|█████████▉| 1549/1564 [02:07<00:01,  9.84it/s]It is strongly recommended to pass the ``sampling_rate`` argument to this function.Failing to do so can result in silent errors that might be hard to debug.\nIt is strongly recommended to pass the ``sampling_rate`` argument to this function.Failing to do so can result in silent errors that might be hard to debug.\n 99%|█████████▉| 1551/1564 [02:07<00:01,  9.91it/s]It is strongly recommended to pass the ``sampling_rate`` argument to this function.Failing to do so can result in silent errors that might be hard to debug.\n 99%|█████████▉| 1552/1564 [02:07<00:01,  9.80it/s]It is strongly recommended to pass the ``sampling_rate`` argument to this function.Failing to do so can result in silent errors that might be hard to debug.\n 99%|█████████▉| 1553/1564 [02:07<00:01,  9.75it/s]It is strongly recommended to pass the ``sampling_rate`` argument to this function.Failing to do so can result in silent errors that might be hard to debug.\n 99%|█████████▉| 1554/1564 [02:07<00:01,  9.59it/s]It is strongly recommended to pass the ``sampling_rate`` argument to this function.Failing to do so can result in silent errors that might be hard to debug.\n 99%|█████████▉| 1555/1564 [02:07<00:00,  9.43it/s]It is strongly recommended to pass the ``sampling_rate`` argument to this function.Failing to do so can result in silent errors that might be hard to debug.\n 99%|█████████▉| 1556/1564 [02:07<00:00,  9.31it/s]It is strongly recommended to pass the ``sampling_rate`` argument to this function.Failing to do so can result in silent errors that might be hard to debug.\n100%|█████████▉| 1557/1564 [02:07<00:00,  9.26it/s]It is strongly recommended to pass the ``sampling_rate`` argument to this function.Failing to do so can result in silent errors that might be hard to debug.\n100%|█████████▉| 1558/1564 [02:08<00:00,  9.26it/s]It is strongly recommended to pass the ``sampling_rate`` argument to this function.Failing to do so can result in silent errors that might be hard to debug.\n100%|█████████▉| 1559/1564 [02:08<00:00,  9.23it/s]It is strongly recommended to pass the ``sampling_rate`` argument to this function.Failing to do so can result in silent errors that might be hard to debug.\n100%|█████████▉| 1560/1564 [02:08<00:00,  9.28it/s]It is strongly recommended to pass the ``sampling_rate`` argument to this function.Failing to do so can result in silent errors that might be hard to debug.\nIt is strongly recommended to pass the ``sampling_rate`` argument to this function.Failing to do so can result in silent errors that might be hard to debug.\n100%|█████████▉| 1562/1564 [02:08<00:00, 10.06it/s]It is strongly recommended to pass the ``sampling_rate`` argument to this function.Failing to do so can result in silent errors that might be hard to debug.\nIt is strongly recommended to pass the ``sampling_rate`` argument to this function.Failing to do so can result in silent errors that might be hard to debug.\n100%|██████████| 1564/1564 [02:08<00:00, 12.16it/s]\n"
    }
   ]
  },
  {
   "cell_type": "code",
   "metadata": {
    "execution": {
     "iopub.execute_input": "2021-05-18T23:05:21.577754Z",
     "iopub.status.busy": "2021-05-18T23:05:21.576900Z",
     "iopub.status.idle": "2021-05-18T23:05:21.580460Z",
     "shell.execute_reply": "2021-05-18T23:05:21.579936Z"
    },
    "id": "f8LpDpilO3YE",
    "papermill": {
     "duration": 0.707161,
     "end_time": "2021-05-18T23:05:21.580571",
     "exception": false,
     "start_time": "2021-05-18T23:05:20.873410",
     "status": "completed"
    },
    "tags": [],
    "cell_id": "00115-35a6d807-7965-449f-a077-5bc27e536e2b",
    "deepnote_cell_type": "code"
   },
   "source": "val.columns",
   "execution_count": null,
   "outputs": [
    {
     "data": {
      "text/plain": "Index(['ID', 'up_votes', 'down_votes', 'age', 'gender', 'path'], dtype='object')"
     },
     "execution_count": 83,
     "metadata": {},
     "output_type": "execute_result"
    }
   ]
  },
  {
   "cell_type": "code",
   "metadata": {
    "execution": {
     "iopub.execute_input": "2021-05-18T23:05:23.011276Z",
     "iopub.status.busy": "2021-05-18T23:05:23.010312Z",
     "iopub.status.idle": "2021-05-18T23:05:23.014346Z",
     "shell.execute_reply": "2021-05-18T23:05:23.013927Z"
    },
    "id": "oag2yzlYO3YF",
    "papermill": {
     "duration": 0.724718,
     "end_time": "2021-05-18T23:05:23.014469",
     "exception": false,
     "start_time": "2021-05-18T23:05:22.289751",
     "status": "completed"
    },
    "tags": [],
    "cell_id": "00116-baa6693b-49c8-4384-b5a9-c9bf7c57b819",
    "deepnote_cell_type": "code"
   },
   "source": "val",
   "execution_count": null,
   "outputs": [
    {
     "data": {
      "text/html": "<div>\n<style scoped>\n    .dataframe tbody tr th:only-of-type {\n        vertical-align: middle;\n    }\n\n    .dataframe tbody tr th {\n        vertical-align: top;\n    }\n\n    .dataframe thead th {\n        text-align: right;\n    }\n</style>\n<table border=\"1\" class=\"dataframe\">\n  <thead>\n    <tr style=\"text-align: right;\">\n      <th></th>\n      <th>ID</th>\n      <th>up_votes</th>\n      <th>down_votes</th>\n      <th>age</th>\n      <th>gender</th>\n      <th>path</th>\n    </tr>\n  </thead>\n  <tbody>\n    <tr>\n      <th>0</th>\n      <td>00416cff4f818d3dfd99c9178ff0e268e7575500c8baa5...</td>\n      <td>2</td>\n      <td>0</td>\n      <td>twenties</td>\n      <td>male</td>\n      <td>../input/wolof-asr/Noise Removed/tmp/WOLOF_ASR...</td>\n    </tr>\n    <tr>\n      <th>1</th>\n      <td>00891ba561e80e135f9d12b9fa1347f0a2560998f7ea16...</td>\n      <td>2</td>\n      <td>0</td>\n      <td>twenties</td>\n      <td>male</td>\n      <td>../input/wolof-asr/Noise Removed/tmp/WOLOF_ASR...</td>\n    </tr>\n    <tr>\n      <th>2</th>\n      <td>00a508027ed4edf0bd3db79f45f4ed6e1b89fba6482c10...</td>\n      <td>2</td>\n      <td>0</td>\n      <td>twenties</td>\n      <td>male</td>\n      <td>../input/wolof-asr/Noise Removed/tmp/WOLOF_ASR...</td>\n    </tr>\n    <tr>\n      <th>3</th>\n      <td>00ac13cd0d93e35c1ff672cc106ad94d1ea9b93fcf049a...</td>\n      <td>2</td>\n      <td>0</td>\n      <td>twenties</td>\n      <td>female</td>\n      <td>../input/wolof-asr/Noise Removed/tmp/WOLOF_ASR...</td>\n    </tr>\n    <tr>\n      <th>4</th>\n      <td>00c2d5baf4719bf01b990a8924e99bda043cd462147193...</td>\n      <td>2</td>\n      <td>0</td>\n      <td>twenties</td>\n      <td>male</td>\n      <td>../input/wolof-asr/Noise Removed/tmp/WOLOF_ASR...</td>\n    </tr>\n    <tr>\n      <th>...</th>\n      <td>...</td>\n      <td>...</td>\n      <td>...</td>\n      <td>...</td>\n      <td>...</td>\n      <td>...</td>\n    </tr>\n    <tr>\n      <th>1559</th>\n      <td>ff0da457e7a3986035995912803e42261c5f5f448c126b...</td>\n      <td>2</td>\n      <td>0</td>\n      <td>NaN</td>\n      <td>NaN</td>\n      <td>../input/wolof-asr/Noise Removed/tmp/WOLOF_ASR...</td>\n    </tr>\n    <tr>\n      <th>1560</th>\n      <td>ff1808218a15fa576c405314e4de4bda56c44f849ff1b5...</td>\n      <td>2</td>\n      <td>0</td>\n      <td>twenties</td>\n      <td>male</td>\n      <td>../input/wolof-asr/Noise Removed/tmp/WOLOF_ASR...</td>\n    </tr>\n    <tr>\n      <th>1561</th>\n      <td>ff5b9a45d60600e875e0a031b1d7076c9cbdeb1c48c09c...</td>\n      <td>2</td>\n      <td>0</td>\n      <td>NaN</td>\n      <td>NaN</td>\n      <td>../input/wolof-asr/Noise Removed/tmp/WOLOF_ASR...</td>\n    </tr>\n    <tr>\n      <th>1562</th>\n      <td>ff98e108ec61d3bd485734b83f21be77820549dab1cac1...</td>\n      <td>2</td>\n      <td>0</td>\n      <td>NaN</td>\n      <td>NaN</td>\n      <td>../input/wolof-asr/Noise Removed/tmp/WOLOF_ASR...</td>\n    </tr>\n    <tr>\n      <th>1563</th>\n      <td>ffb6873f183e8995e50d1079f60f8e9d1018092e421578...</td>\n      <td>2</td>\n      <td>0</td>\n      <td>NaN</td>\n      <td>NaN</td>\n      <td>../input/wolof-asr/Noise Removed/tmp/WOLOF_ASR...</td>\n    </tr>\n  </tbody>\n</table>\n<p>1564 rows × 6 columns</p>\n</div>",
      "text/plain": "                                                     ID  up_votes  down_votes  \\\n0     00416cff4f818d3dfd99c9178ff0e268e7575500c8baa5...         2           0   \n1     00891ba561e80e135f9d12b9fa1347f0a2560998f7ea16...         2           0   \n2     00a508027ed4edf0bd3db79f45f4ed6e1b89fba6482c10...         2           0   \n3     00ac13cd0d93e35c1ff672cc106ad94d1ea9b93fcf049a...         2           0   \n4     00c2d5baf4719bf01b990a8924e99bda043cd462147193...         2           0   \n...                                                 ...       ...         ...   \n1559  ff0da457e7a3986035995912803e42261c5f5f448c126b...         2           0   \n1560  ff1808218a15fa576c405314e4de4bda56c44f849ff1b5...         2           0   \n1561  ff5b9a45d60600e875e0a031b1d7076c9cbdeb1c48c09c...         2           0   \n1562  ff98e108ec61d3bd485734b83f21be77820549dab1cac1...         2           0   \n1563  ffb6873f183e8995e50d1079f60f8e9d1018092e421578...         2           0   \n\n           age  gender                                               path  \n0     twenties    male  ../input/wolof-asr/Noise Removed/tmp/WOLOF_ASR...  \n1     twenties    male  ../input/wolof-asr/Noise Removed/tmp/WOLOF_ASR...  \n2     twenties    male  ../input/wolof-asr/Noise Removed/tmp/WOLOF_ASR...  \n3     twenties  female  ../input/wolof-asr/Noise Removed/tmp/WOLOF_ASR...  \n4     twenties    male  ../input/wolof-asr/Noise Removed/tmp/WOLOF_ASR...  \n...        ...     ...                                                ...  \n1559       NaN     NaN  ../input/wolof-asr/Noise Removed/tmp/WOLOF_ASR...  \n1560  twenties    male  ../input/wolof-asr/Noise Removed/tmp/WOLOF_ASR...  \n1561       NaN     NaN  ../input/wolof-asr/Noise Removed/tmp/WOLOF_ASR...  \n1562       NaN     NaN  ../input/wolof-asr/Noise Removed/tmp/WOLOF_ASR...  \n1563       NaN     NaN  ../input/wolof-asr/Noise Removed/tmp/WOLOF_ASR...  \n\n[1564 rows x 6 columns]"
     },
     "execution_count": 84,
     "metadata": {},
     "output_type": "execute_result"
    }
   ]
  },
  {
   "cell_type": "markdown",
   "source": "one values is missing to we have added dummy transcription so that I can make submission directly. Using capitalize dose improve score but not that much.",
   "metadata": {
    "tags": [],
    "cell_id": "00117-48307c45-4a3e-4e0c-b9ef-c4cfe7f4ff1d",
    "deepnote_cell_type": "markdown"
   }
  },
  {
   "cell_type": "code",
   "metadata": {
    "execution": {
     "iopub.execute_input": "2021-05-18T23:05:24.637459Z",
     "iopub.status.busy": "2021-05-18T23:05:24.636649Z",
     "iopub.status.idle": "2021-05-18T23:05:24.640675Z",
     "shell.execute_reply": "2021-05-18T23:05:24.640153Z"
    },
    "id": "32JUJGJ-O3YF",
    "papermill": {
     "duration": 0.877164,
     "end_time": "2021-05-18T23:05:24.640782",
     "exception": false,
     "start_time": "2021-05-18T23:05:23.763618",
     "status": "completed"
    },
    "tags": [],
    "cell_id": "00118-aed8544a-5084-4184-ab1f-9f0556d71eb4",
    "deepnote_cell_type": "code"
   },
   "source": "val[\"transcription\"] = final_pred\nval[\"transcription\"] = val[\"transcription\"].str.capitalize()\nval.iloc[1390,6] = \"ah\"",
   "execution_count": null,
   "outputs": []
  },
  {
   "cell_type": "code",
   "metadata": {
    "execution": {
     "iopub.execute_input": "2021-05-18T23:05:26.054585Z",
     "iopub.status.busy": "2021-05-18T23:05:26.053859Z",
     "iopub.status.idle": "2021-05-18T23:05:26.088643Z",
     "shell.execute_reply": "2021-05-18T23:05:26.087947Z"
    },
    "id": "Q5IVx1hkO3YG",
    "papermill": {
     "duration": 0.746964,
     "end_time": "2021-05-18T23:05:26.088761",
     "exception": false,
     "start_time": "2021-05-18T23:05:25.341797",
     "status": "completed"
    },
    "tags": [],
    "cell_id": "00119-c284c93a-87a0-409c-af05-1da9c04e5b40",
    "deepnote_cell_type": "code"
   },
   "source": "val[[\"ID\",\"transcription\"]].to_csv(\"submission24.csv\",index=False)",
   "execution_count": null,
   "outputs": []
  },
  {
   "cell_type": "markdown",
   "source": "Alright! The transcription can definitely be recognized from our prediction, but it is far from being perfect. Training the model a bit longer, spending more time on the data preprocessing, and especially using a language model for decoding would certainly improve the model's overall performance. \n\nFor a demonstration model on a low-resource language, the results are acceptable, however 🤗.",
   "metadata": {
    "id": "4n_8vhzUv7aw",
    "papermill": {
     "duration": 0.78066,
     "end_time": "2021-05-18T23:05:28.969452",
     "exception": false,
     "start_time": "2021-05-18T23:05:28.188792",
     "status": "completed"
    },
    "tags": [],
    "cell_id": "00120-4550b8e4-9aef-4864-80c0-c38256b1b767",
    "deepnote_cell_type": "markdown"
   }
  },
  {
   "cell_type": "code",
   "metadata": {
    "execution": {
     "iopub.execute_input": "2021-05-18T23:05:30.383916Z",
     "iopub.status.busy": "2021-05-18T23:05:30.383334Z",
     "iopub.status.idle": "2021-05-18T23:05:30.386154Z",
     "shell.execute_reply": "2021-05-18T23:05:30.386645Z"
    },
    "id": "QTFdzuGBG_y0",
    "papermill": {
     "duration": 0.717091,
     "end_time": "2021-05-18T23:05:30.386779",
     "exception": false,
     "start_time": "2021-05-18T23:05:29.669688",
     "status": "completed"
    },
    "tags": [],
    "cell_id": "00121-81560c90-8219-44a2-9a74-713b3d7b5a2f",
    "deepnote_cell_type": "code"
   },
   "source": "val[\"transcription\"] ",
   "execution_count": null,
   "outputs": [
    {
     "data": {
      "text/plain": "0                              Africatel avs\n1       Nan laay def ngir dem tally bou bess\n2                          Africatel avinist\n3                       Mosquée de cambérène\n4                   Cité saco tivaoune peulh\n                        ...                 \n1559                   Bank of africa pikine\n1560                           Tigo almadies\n1561                     Gouy gui grand mbao\n1562                  Pharmacie okaya ouakam\n1563                                 Orabank\nName: transcription, Length: 1564, dtype: object"
     },
     "execution_count": 87,
     "metadata": {},
     "output_type": "execute_result"
    }
   ]
  },
  {
   "cell_type": "markdown",
   "source": "<a style='text-decoration:none;line-height:16px;display:flex;color:#5B5B62;padding:10px;justify-content:end;' href='https://deepnote.com?utm_source=created-in-deepnote-cell&projectId=74570277-c535-49fd-8c53-ed6cab466887' target=\"_blank\">\n<img alt='Created in deepnote.com' style='display:inline;max-height:16px;margin:0px;margin-right:7.5px;' src='data:image/svg+xml;base64,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' > </img>\nCreated in <span style='font-weight:600;margin-left:4px;'>Deepnote</span></a>",
   "metadata": {
    "tags": [],
    "created_in_deepnote_cell": true,
    "deepnote_cell_type": "markdown"
   }
  }
 ],
 "nbformat": 4,
 "nbformat_minor": 5,
 "metadata": {
  "kernelspec": {
   "display_name": "Python 3",
   "language": "python",
   "name": "python3"
  },
  "language_info": {
   "codemirror_mode": {
    "name": "ipython",
    "version": 3
   },
   "file_extension": ".py",
   "mimetype": "text/x-python",
   "name": "python",
   "nbconvert_exporter": "python",
   "pygments_lexer": "ipython3",
   "version": "3.7.9"
  },
  "papermill": {
   "default_parameters": {},
   "duration": 26394.266254,
   "end_time": "2021-05-18T23:05:35.493597",
   "environment_variables": {},
   "exception": null,
   "input_path": "__notebook__.ipynb",
   "output_path": "__notebook__.ipynb",
   "parameters": {},
   "start_time": "2021-05-18T15:45:41.227343",
   "version": "2.3.2"
  },
  "widgets": {
   "application/vnd.jupyter.widget-state+json": {
    "state": {
     "00dd70edb7664ceaa28b3b687e7b9197": {
      "model_module": "@jupyter-widgets/controls",
      "model_module_version": "1.5.0",
      "model_name": "HTMLModel",
      "state": {
       "_dom_classes": [],
       "_model_module": "@jupyter-widgets/controls",
       "_model_module_version": "1.5.0",
       "_model_name": "HTMLModel",
       "_view_count": null,
       "_view_module": "@jupyter-widgets/controls",
       "_view_module_version": "1.5.0",
       "_view_name": "HTMLView",
       "description": "",
       "description_tooltip": null,
       "layout": "IPY_MODEL_cf002492d54844c1a988abf08929b9ee",
       "placeholder": "​",
       "style": "IPY_MODEL_f466d41896504275aaa8580f09039aa6",
       "value": "&lt;tqdm.auto.tqdm object at 0x7f01cfec35d0&gt;"
      }
     },
     "0a10f9b105ea4e77a0c392aba2f69eab": {
      "model_module": "@jupyter-widgets/controls",
      "model_module_version": "1.5.0",
      "model_name": "HBoxModel",
      "state": {
       "_dom_classes": [],
       "_model_module": "@jupyter-widgets/controls",
       "_model_module_version": "1.5.0",
       "_model_name": "HBoxModel",
       "_view_count": null,
       "_view_module": "@jupyter-widgets/controls",
       "_view_module_version": "1.5.0",
       "_view_name": "HBoxView",
       "box_style": "",
       "children": [
        "IPY_MODEL_5fae8eb4a20640198b3e374e867f697a",
        "IPY_MODEL_1c6eb7f5bf944774abd007a14d536fe7"
       ],
       "layout": "IPY_MODEL_f1d935b1c1514e46b7523710eb554cc9"
      }
     },
     "0ec0e8419c33482592220ec80529611c": {
      "model_module": "@jupyter-widgets/controls",
      "model_module_version": "1.5.0",
      "model_name": "DescriptionStyleModel",
      "state": {
       "_model_module": "@jupyter-widgets/controls",
       "_model_module_version": "1.5.0",
       "_model_name": "DescriptionStyleModel",
       "_view_count": null,
       "_view_module": "@jupyter-widgets/base",
       "_view_module_version": "1.2.0",
       "_view_name": "StyleView",
       "description_width": ""
      }
     },
     "16c58b4a0c434b53a119cb4f4c75ce1b": {
      "model_module": "@jupyter-widgets/controls",
      "model_module_version": "1.5.0",
      "model_name": "HBoxModel",
      "state": {
       "_dom_classes": [],
       "_model_module": "@jupyter-widgets/controls",
       "_model_module_version": "1.5.0",
       "_model_name": "HBoxModel",
       "_view_count": null,
       "_view_module": "@jupyter-widgets/controls",
       "_view_module_version": "1.5.0",
       "_view_name": "HBoxView",
       "box_style": "",
       "children": [
        "IPY_MODEL_3689adbac2114331a715403b59db72e4",
        "IPY_MODEL_d3db29bcb0fd477d86de3190c6a6c355"
       ],
       "layout": "IPY_MODEL_cf5ed6bdbc424b13b67e154229089695"
      }
     },
     "1712268fe0064c1daef4aa0a5014808b": {
      "model_module": "@jupyter-widgets/controls",
      "model_module_version": "1.5.0",
      "model_name": "HBoxModel",
      "state": {
       "_dom_classes": [],
       "_model_module": "@jupyter-widgets/controls",
       "_model_module_version": "1.5.0",
       "_model_name": "HBoxModel",
       "_view_count": null,
       "_view_module": "@jupyter-widgets/controls",
       "_view_module_version": "1.5.0",
       "_view_name": "HBoxView",
       "box_style": "",
       "children": [
        "IPY_MODEL_80eb0a178e53455eb661a70809e2bb31",
        "IPY_MODEL_6df006833bb14daca87f8bfbde7a2e67"
       ],
       "layout": "IPY_MODEL_ed1e1c77b232473082cbde35c4de6489"
      }
     },
     "189cec041c314801892d8588e5aca04d": {
      "model_module": "@jupyter-widgets/base",
      "model_module_version": "1.2.0",
      "model_name": "LayoutModel",
      "state": {
       "_model_module": "@jupyter-widgets/base",
       "_model_module_version": "1.2.0",
       "_model_name": "LayoutModel",
       "_view_count": null,
       "_view_module": "@jupyter-widgets/base",
       "_view_module_version": "1.2.0",
       "_view_name": "LayoutView",
       "align_content": null,
       "align_items": null,
       "align_self": null,
       "border": null,
       "bottom": null,
       "display": null,
       "flex": null,
       "flex_flow": null,
       "grid_area": null,
       "grid_auto_columns": null,
       "grid_auto_flow": null,
       "grid_auto_rows": null,
       "grid_column": null,
       "grid_gap": null,
       "grid_row": null,
       "grid_template_areas": null,
       "grid_template_columns": null,
       "grid_template_rows": null,
       "height": null,
       "justify_content": null,
       "justify_items": null,
       "left": null,
       "margin": null,
       "max_height": null,
       "max_width": null,
       "min_height": null,
       "min_width": null,
       "object_fit": null,
       "object_position": null,
       "order": null,
       "overflow": null,
       "overflow_x": null,
       "overflow_y": null,
       "padding": null,
       "right": null,
       "top": null,
       "visibility": null,
       "width": null
      }
     },
     "190aeb979f9c47839417f5f072a1b1cd": {
      "model_module": "@jupyter-widgets/base",
      "model_module_version": "1.2.0",
      "model_name": "LayoutModel",
      "state": {
       "_model_module": "@jupyter-widgets/base",
       "_model_module_version": "1.2.0",
       "_model_name": "LayoutModel",
       "_view_count": null,
       "_view_module": "@jupyter-widgets/base",
       "_view_module_version": "1.2.0",
       "_view_name": "LayoutView",
       "align_content": null,
       "align_items": null,
       "align_self": null,
       "border": null,
       "bottom": null,
       "display": null,
       "flex": null,
       "flex_flow": null,
       "grid_area": null,
       "grid_auto_columns": null,
       "grid_auto_flow": null,
       "grid_auto_rows": null,
       "grid_column": null,
       "grid_gap": null,
       "grid_row": null,
       "grid_template_areas": null,
       "grid_template_columns": null,
       "grid_template_rows": null,
       "height": null,
       "justify_content": null,
       "justify_items": null,
       "left": null,
       "margin": null,
       "max_height": null,
       "max_width": null,
       "min_height": null,
       "min_width": null,
       "object_fit": null,
       "object_position": null,
       "order": null,
       "overflow": null,
       "overflow_x": null,
       "overflow_y": null,
       "padding": null,
       "right": null,
       "top": null,
       "visibility": null,
       "width": null
      }
     },
     "1c6eb7f5bf944774abd007a14d536fe7": {
      "model_module": "@jupyter-widgets/controls",
      "model_module_version": "1.5.0",
      "model_name": "HTMLModel",
      "state": {
       "_dom_classes": [],
       "_model_module": "@jupyter-widgets/controls",
       "_model_module_version": "1.5.0",
       "_model_name": "HTMLModel",
       "_view_count": null,
       "_view_module": "@jupyter-widgets/controls",
       "_view_module_version": "1.5.0",
       "_view_name": "HTMLView",
       "description": "",
       "description_tooltip": null,
       "layout": "IPY_MODEL_5db3701e44bd48e984d8f519ffd9480c",
       "placeholder": "​",
       "style": "IPY_MODEL_b1f51b0d40694bc88204788113b3494d",
       "value": "&lt;tqdm.auto.tqdm object at 0x7f0280f44610&gt;"
      }
     },
     "1dd551218c01451684566e5b4bfd603e": {
      "model_module": "@jupyter-widgets/controls",
      "model_module_version": "1.5.0",
      "model_name": "FloatProgressModel",
      "state": {
       "_dom_classes": [],
       "_model_module": "@jupyter-widgets/controls",
       "_model_module_version": "1.5.0",
       "_model_name": "FloatProgressModel",
       "_view_count": null,
       "_view_module": "@jupyter-widgets/controls",
       "_view_module_version": "1.5.0",
       "_view_name": "ProgressView",
       "bar_style": "success",
       "description": "",
       "description_tooltip": null,
       "layout": "IPY_MODEL_b699d6822aa14eb697d22bed8c88c10d",
       "max": 1,
       "min": 0,
       "orientation": "horizontal",
       "style": "IPY_MODEL_2d81d58924e8402db373bde46da59960",
       "value": 1
      }
     },
     "25cd2bee9a1f422389a920119123c209": {
      "model_module": "@jupyter-widgets/base",
      "model_module_version": "1.2.0",
      "model_name": "LayoutModel",
      "state": {
       "_model_module": "@jupyter-widgets/base",
       "_model_module_version": "1.2.0",
       "_model_name": "LayoutModel",
       "_view_count": null,
       "_view_module": "@jupyter-widgets/base",
       "_view_module_version": "1.2.0",
       "_view_name": "LayoutView",
       "align_content": null,
       "align_items": null,
       "align_self": null,
       "border": null,
       "bottom": null,
       "display": null,
       "flex": null,
       "flex_flow": null,
       "grid_area": null,
       "grid_auto_columns": null,
       "grid_auto_flow": null,
       "grid_auto_rows": null,
       "grid_column": null,
       "grid_gap": null,
       "grid_row": null,
       "grid_template_areas": null,
       "grid_template_columns": null,
       "grid_template_rows": null,
       "height": null,
       "justify_content": null,
       "justify_items": null,
       "left": null,
       "margin": null,
       "max_height": null,
       "max_width": null,
       "min_height": null,
       "min_width": null,
       "object_fit": null,
       "object_position": null,
       "order": null,
       "overflow": null,
       "overflow_x": null,
       "overflow_y": null,
       "padding": null,
       "right": null,
       "top": null,
       "visibility": null,
       "width": null
      }
     },
     "26174d34917643369959a12d0d579ce0": {
      "model_module": "@jupyter-widgets/controls",
      "model_module_version": "1.5.0",
      "model_name": "ProgressStyleModel",
      "state": {
       "_model_module": "@jupyter-widgets/controls",
       "_model_module_version": "1.5.0",
       "_model_name": "ProgressStyleModel",
       "_view_count": null,
       "_view_module": "@jupyter-widgets/base",
       "_view_module_version": "1.2.0",
       "_view_name": "StyleView",
       "bar_color": null,
       "description_width": "initial"
      }
     },
     "273d810a9b264779b7eae38107cf3f65": {
      "model_module": "@jupyter-widgets/controls",
      "model_module_version": "1.5.0",
      "model_name": "HTMLModel",
      "state": {
       "_dom_classes": [],
       "_model_module": "@jupyter-widgets/controls",
       "_model_module_version": "1.5.0",
       "_model_name": "HTMLModel",
       "_view_count": null,
       "_view_module": "@jupyter-widgets/controls",
       "_view_module_version": "1.5.0",
       "_view_name": "HTMLView",
       "description": "",
       "description_tooltip": null,
       "layout": "IPY_MODEL_62f9f710784a4e2ca5983cf2e15a1ec8",
       "placeholder": "​",
       "style": "IPY_MODEL_fc7a3b478b194c50aec4253b4332722e",
       "value": "&lt;tqdm.auto.tqdm object at 0x7f01bf5f4550&gt;"
      }
     },
     "277add1543104884a06faee601f39d3f": {
      "model_module": "@jupyter-widgets/controls",
      "model_module_version": "1.5.0",
      "model_name": "HBoxModel",
      "state": {
       "_dom_classes": [],
       "_model_module": "@jupyter-widgets/controls",
       "_model_module_version": "1.5.0",
       "_model_name": "HBoxModel",
       "_view_count": null,
       "_view_module": "@jupyter-widgets/controls",
       "_view_module_version": "1.5.0",
       "_view_name": "HBoxView",
       "box_style": "",
       "children": [
        "IPY_MODEL_1dd551218c01451684566e5b4bfd603e",
        "IPY_MODEL_80d0a87999e440379b450e589c339794"
       ],
       "layout": "IPY_MODEL_dc55f6d4049f49cf8df4f9dcba296fbe"
      }
     },
     "29ebfe4b7af34ae4b2e4171bc3bcaeab": {
      "model_module": "@jupyter-widgets/base",
      "model_module_version": "1.2.0",
      "model_name": "LayoutModel",
      "state": {
       "_model_module": "@jupyter-widgets/base",
       "_model_module_version": "1.2.0",
       "_model_name": "LayoutModel",
       "_view_count": null,
       "_view_module": "@jupyter-widgets/base",
       "_view_module_version": "1.2.0",
       "_view_name": "LayoutView",
       "align_content": null,
       "align_items": null,
       "align_self": null,
       "border": null,
       "bottom": null,
       "display": null,
       "flex": null,
       "flex_flow": null,
       "grid_area": null,
       "grid_auto_columns": null,
       "grid_auto_flow": null,
       "grid_auto_rows": null,
       "grid_column": null,
       "grid_gap": null,
       "grid_row": null,
       "grid_template_areas": null,
       "grid_template_columns": null,
       "grid_template_rows": null,
       "height": null,
       "justify_content": null,
       "justify_items": null,
       "left": null,
       "margin": null,
       "max_height": null,
       "max_width": null,
       "min_height": null,
       "min_width": null,
       "object_fit": null,
       "object_position": null,
       "order": null,
       "overflow": null,
       "overflow_x": null,
       "overflow_y": null,
       "padding": null,
       "right": null,
       "top": null,
       "visibility": null,
       "width": null
      }
     },
     "2d3e87db1a7b4aa9b0d90d019217827c": {
      "model_module": "@jupyter-widgets/base",
      "model_module_version": "1.2.0",
      "model_name": "LayoutModel",
      "state": {
       "_model_module": "@jupyter-widgets/base",
       "_model_module_version": "1.2.0",
       "_model_name": "LayoutModel",
       "_view_count": null,
       "_view_module": "@jupyter-widgets/base",
       "_view_module_version": "1.2.0",
       "_view_name": "LayoutView",
       "align_content": null,
       "align_items": null,
       "align_self": null,
       "border": null,
       "bottom": null,
       "display": null,
       "flex": null,
       "flex_flow": null,
       "grid_area": null,
       "grid_auto_columns": null,
       "grid_auto_flow": null,
       "grid_auto_rows": null,
       "grid_column": null,
       "grid_gap": null,
       "grid_row": null,
       "grid_template_areas": null,
       "grid_template_columns": null,
       "grid_template_rows": null,
       "height": null,
       "justify_content": null,
       "justify_items": null,
       "left": null,
       "margin": null,
       "max_height": null,
       "max_width": null,
       "min_height": null,
       "min_width": null,
       "object_fit": null,
       "object_position": null,
       "order": null,
       "overflow": null,
       "overflow_x": null,
       "overflow_y": null,
       "padding": null,
       "right": null,
       "top": null,
       "visibility": null,
       "width": null
      }
     },
     "2d81d58924e8402db373bde46da59960": {
      "model_module": "@jupyter-widgets/controls",
      "model_module_version": "1.5.0",
      "model_name": "ProgressStyleModel",
      "state": {
       "_model_module": "@jupyter-widgets/controls",
       "_model_module_version": "1.5.0",
       "_model_name": "ProgressStyleModel",
       "_view_count": null,
       "_view_module": "@jupyter-widgets/base",
       "_view_module_version": "1.2.0",
       "_view_name": "StyleView",
       "bar_color": null,
       "description_width": "initial"
      }
     },
     "3689adbac2114331a715403b59db72e4": {
      "model_module": "@jupyter-widgets/controls",
      "model_module_version": "1.5.0",
      "model_name": "FloatProgressModel",
      "state": {
       "_dom_classes": [],
       "_model_module": "@jupyter-widgets/controls",
       "_model_module_version": "1.5.0",
       "_model_name": "FloatProgressModel",
       "_view_count": null,
       "_view_module": "@jupyter-widgets/controls",
       "_view_module_version": "1.5.0",
       "_view_name": "ProgressView",
       "bar_style": "success",
       "description": "",
       "description_tooltip": null,
       "layout": "IPY_MODEL_96b4d41a3e18446caa08d2e39cad367b",
       "max": 1261920069,
       "min": 0,
       "orientation": "horizontal",
       "style": "IPY_MODEL_26174d34917643369959a12d0d579ce0",
       "value": 1261920069
      }
     },
     "3c716d9336e24b43a8c4a6848697cc58": {
      "model_module": "@jupyter-widgets/controls",
      "model_module_version": "1.5.0",
      "model_name": "HBoxModel",
      "state": {
       "_dom_classes": [],
       "_model_module": "@jupyter-widgets/controls",
       "_model_module_version": "1.5.0",
       "_model_name": "HBoxModel",
       "_view_count": null,
       "_view_module": "@jupyter-widgets/controls",
       "_view_module_version": "1.5.0",
       "_view_name": "HBoxView",
       "box_style": "",
       "children": [
        "IPY_MODEL_678a1a51d58d4ddba16ebf5f82c9e4a8",
        "IPY_MODEL_acbfc023920440739125834719929f93"
       ],
       "layout": "IPY_MODEL_81eab1267d16405b92d06df0c3c737a3"
      }
     },
     "4bb426a1008f448b9c6d84e1f7ca7156": {
      "model_module": "@jupyter-widgets/controls",
      "model_module_version": "1.5.0",
      "model_name": "HTMLModel",
      "state": {
       "_dom_classes": [],
       "_model_module": "@jupyter-widgets/controls",
       "_model_module_version": "1.5.0",
       "_model_name": "HTMLModel",
       "_view_count": null,
       "_view_module": "@jupyter-widgets/controls",
       "_view_module_version": "1.5.0",
       "_view_name": "HTMLView",
       "description": "",
       "description_tooltip": null,
       "layout": "IPY_MODEL_9def863858e9474b9eaeb6a990df0b9b",
       "placeholder": "​",
       "style": "IPY_MODEL_6fa5e688270149759b5746559e4af8f8",
       "value": "&lt;tqdm.auto.tqdm object at 0x7f0297289550&gt;"
      }
     },
     "5150a6aff6904cfb9ca96043a9b727ba": {
      "model_module": "@jupyter-widgets/controls",
      "model_module_version": "1.5.0",
      "model_name": "HBoxModel",
      "state": {
       "_dom_classes": [],
       "_model_module": "@jupyter-widgets/controls",
       "_model_module_version": "1.5.0",
       "_model_name": "HBoxModel",
       "_view_count": null,
       "_view_module": "@jupyter-widgets/controls",
       "_view_module_version": "1.5.0",
       "_view_name": "HBoxView",
       "box_style": "",
       "children": [
        "IPY_MODEL_c1d7588223314a4a816e668b9b9544f2",
        "IPY_MODEL_273d810a9b264779b7eae38107cf3f65"
       ],
       "layout": "IPY_MODEL_707ae487e71c418286da3df727ad34ee"
      }
     },
     "52dfb5b2f5b64269b232569cc323ce8b": {
      "model_module": "@jupyter-widgets/controls",
      "model_module_version": "1.5.0",
      "model_name": "HBoxModel",
      "state": {
       "_dom_classes": [],
       "_model_module": "@jupyter-widgets/controls",
       "_model_module_version": "1.5.0",
       "_model_name": "HBoxModel",
       "_view_count": null,
       "_view_module": "@jupyter-widgets/controls",
       "_view_module_version": "1.5.0",
       "_view_name": "HBoxView",
       "box_style": "",
       "children": [
        "IPY_MODEL_88673a7ced6a40ae9a22923f7fdbf134",
        "IPY_MODEL_00dd70edb7664ceaa28b3b687e7b9197"
       ],
       "layout": "IPY_MODEL_189cec041c314801892d8588e5aca04d"
      }
     },
     "55a3050630b74c64a91de7a2bf93000b": {
      "model_module": "@jupyter-widgets/controls",
      "model_module_version": "1.5.0",
      "model_name": "ProgressStyleModel",
      "state": {
       "_model_module": "@jupyter-widgets/controls",
       "_model_module_version": "1.5.0",
       "_model_name": "ProgressStyleModel",
       "_view_count": null,
       "_view_module": "@jupyter-widgets/base",
       "_view_module_version": "1.2.0",
       "_view_name": "StyleView",
       "bar_color": null,
       "description_width": "initial"
      }
     },
     "5db3701e44bd48e984d8f519ffd9480c": {
      "model_module": "@jupyter-widgets/base",
      "model_module_version": "1.2.0",
      "model_name": "LayoutModel",
      "state": {
       "_model_module": "@jupyter-widgets/base",
       "_model_module_version": "1.2.0",
       "_model_name": "LayoutModel",
       "_view_count": null,
       "_view_module": "@jupyter-widgets/base",
       "_view_module_version": "1.2.0",
       "_view_name": "LayoutView",
       "align_content": null,
       "align_items": null,
       "align_self": null,
       "border": null,
       "bottom": null,
       "display": null,
       "flex": null,
       "flex_flow": null,
       "grid_area": null,
       "grid_auto_columns": null,
       "grid_auto_flow": null,
       "grid_auto_rows": null,
       "grid_column": null,
       "grid_gap": null,
       "grid_row": null,
       "grid_template_areas": null,
       "grid_template_columns": null,
       "grid_template_rows": null,
       "height": null,
       "justify_content": null,
       "justify_items": null,
       "left": null,
       "margin": null,
       "max_height": null,
       "max_width": null,
       "min_height": null,
       "min_width": null,
       "object_fit": null,
       "object_position": null,
       "order": null,
       "overflow": null,
       "overflow_x": null,
       "overflow_y": null,
       "padding": null,
       "right": null,
       "top": null,
       "visibility": null,
       "width": null
      }
     },
     "5fae8eb4a20640198b3e374e867f697a": {
      "model_module": "@jupyter-widgets/controls",
      "model_module_version": "1.5.0",
      "model_name": "FloatProgressModel",
      "state": {
       "_dom_classes": [],
       "_model_module": "@jupyter-widgets/controls",
       "_model_module_version": "1.5.0",
       "_model_name": "FloatProgressModel",
       "_view_count": null,
       "_view_module": "@jupyter-widgets/controls",
       "_view_module_version": "1.5.0",
       "_view_name": "ProgressView",
       "bar_style": "success",
       "description": "",
       "description_tooltip": null,
       "layout": "IPY_MODEL_b55c01abff1a4d419fa4194112659d42",
       "max": 3649,
       "min": 0,
       "orientation": "horizontal",
       "style": "IPY_MODEL_ce1ca16869a14b7da27511f5f8c7a753",
       "value": 3649
      }
     },
     "61d1ac9cd7a9495cb61018a079a48db2": {
      "model_module": "@jupyter-widgets/controls",
      "model_module_version": "1.5.0",
      "model_name": "FloatProgressModel",
      "state": {
       "_dom_classes": [],
       "_model_module": "@jupyter-widgets/controls",
       "_model_module_version": "1.5.0",
       "_model_name": "FloatProgressModel",
       "_view_count": null,
       "_view_module": "@jupyter-widgets/controls",
       "_view_module_version": "1.5.0",
       "_view_name": "ProgressView",
       "bar_style": "success",
       "description": "",
       "description_tooltip": null,
       "layout": "IPY_MODEL_8c2c77d10c4146b4b8e7d0d8567c56b2",
       "max": 1,
       "min": 0,
       "orientation": "horizontal",
       "style": "IPY_MODEL_ea91c97ff21c476bb3734dc9716bf83d",
       "value": 1
      }
     },
     "62f9f710784a4e2ca5983cf2e15a1ec8": {
      "model_module": "@jupyter-widgets/base",
      "model_module_version": "1.2.0",
      "model_name": "LayoutModel",
      "state": {
       "_model_module": "@jupyter-widgets/base",
       "_model_module_version": "1.2.0",
       "_model_name": "LayoutModel",
       "_view_count": null,
       "_view_module": "@jupyter-widgets/base",
       "_view_module_version": "1.2.0",
       "_view_name": "LayoutView",
       "align_content": null,
       "align_items": null,
       "align_self": null,
       "border": null,
       "bottom": null,
       "display": null,
       "flex": null,
       "flex_flow": null,
       "grid_area": null,
       "grid_auto_columns": null,
       "grid_auto_flow": null,
       "grid_auto_rows": null,
       "grid_column": null,
       "grid_gap": null,
       "grid_row": null,
       "grid_template_areas": null,
       "grid_template_columns": null,
       "grid_template_rows": null,
       "height": null,
       "justify_content": null,
       "justify_items": null,
       "left": null,
       "margin": null,
       "max_height": null,
       "max_width": null,
       "min_height": null,
       "min_width": null,
       "object_fit": null,
       "object_position": null,
       "order": null,
       "overflow": null,
       "overflow_x": null,
       "overflow_y": null,
       "padding": null,
       "right": null,
       "top": null,
       "visibility": null,
       "width": null
      }
     },
     "6405aa1157d04919a466cd83146a6086": {
      "model_module": "@jupyter-widgets/controls",
      "model_module_version": "1.5.0",
      "model_name": "FloatProgressModel",
      "state": {
       "_dom_classes": [],
       "_model_module": "@jupyter-widgets/controls",
       "_model_module_version": "1.5.0",
       "_model_name": "FloatProgressModel",
       "_view_count": null,
       "_view_module": "@jupyter-widgets/controls",
       "_view_module_version": "1.5.0",
       "_view_name": "ProgressView",
       "bar_style": "success",
       "description": "",
       "description_tooltip": null,
       "layout": "IPY_MODEL_a8054970144e4b09b9a82a9322d68808",
       "max": 1451,
       "min": 0,
       "orientation": "horizontal",
       "style": "IPY_MODEL_ea496b0c6c194eefabfec9b1903b3078",
       "value": 1451
      }
     },
     "6675527238fa45dab32a504b21bab36d": {
      "model_module": "@jupyter-widgets/base",
      "model_module_version": "1.2.0",
      "model_name": "LayoutModel",
      "state": {
       "_model_module": "@jupyter-widgets/base",
       "_model_module_version": "1.2.0",
       "_model_name": "LayoutModel",
       "_view_count": null,
       "_view_module": "@jupyter-widgets/base",
       "_view_module_version": "1.2.0",
       "_view_name": "LayoutView",
       "align_content": null,
       "align_items": null,
       "align_self": null,
       "border": null,
       "bottom": null,
       "display": null,
       "flex": null,
       "flex_flow": null,
       "grid_area": null,
       "grid_auto_columns": null,
       "grid_auto_flow": null,
       "grid_auto_rows": null,
       "grid_column": null,
       "grid_gap": null,
       "grid_row": null,
       "grid_template_areas": null,
       "grid_template_columns": null,
       "grid_template_rows": null,
       "height": null,
       "justify_content": null,
       "justify_items": null,
       "left": null,
       "margin": null,
       "max_height": null,
       "max_width": null,
       "min_height": null,
       "min_width": null,
       "object_fit": null,
       "object_position": null,
       "order": null,
       "overflow": null,
       "overflow_x": null,
       "overflow_y": null,
       "padding": null,
       "right": null,
       "top": null,
       "visibility": null,
       "width": null
      }
     },
     "6685c415f3c24781a8dfb63c3bd059cd": {
      "model_module": "@jupyter-widgets/base",
      "model_module_version": "1.2.0",
      "model_name": "LayoutModel",
      "state": {
       "_model_module": "@jupyter-widgets/base",
       "_model_module_version": "1.2.0",
       "_model_name": "LayoutModel",
       "_view_count": null,
       "_view_module": "@jupyter-widgets/base",
       "_view_module_version": "1.2.0",
       "_view_name": "LayoutView",
       "align_content": null,
       "align_items": null,
       "align_self": null,
       "border": null,
       "bottom": null,
       "display": null,
       "flex": null,
       "flex_flow": null,
       "grid_area": null,
       "grid_auto_columns": null,
       "grid_auto_flow": null,
       "grid_auto_rows": null,
       "grid_column": null,
       "grid_gap": null,
       "grid_row": null,
       "grid_template_areas": null,
       "grid_template_columns": null,
       "grid_template_rows": null,
       "height": null,
       "justify_content": null,
       "justify_items": null,
       "left": null,
       "margin": null,
       "max_height": null,
       "max_width": null,
       "min_height": null,
       "min_width": null,
       "object_fit": null,
       "object_position": null,
       "order": null,
       "overflow": null,
       "overflow_x": null,
       "overflow_y": null,
       "padding": null,
       "right": null,
       "top": null,
       "visibility": null,
       "width": null
      }
     },
     "678a1a51d58d4ddba16ebf5f82c9e4a8": {
      "model_module": "@jupyter-widgets/controls",
      "model_module_version": "1.5.0",
      "model_name": "FloatProgressModel",
      "state": {
       "_dom_classes": [],
       "_model_module": "@jupyter-widgets/controls",
       "_model_module_version": "1.5.0",
       "_model_name": "FloatProgressModel",
       "_view_count": null,
       "_view_module": "@jupyter-widgets/controls",
       "_view_module_version": "1.5.0",
       "_view_name": "ProgressView",
       "bar_style": "success",
       "description": "",
       "description_tooltip": null,
       "layout": "IPY_MODEL_91c09e450f9b4e4a8522574f1e3d0188",
       "max": 3000,
       "min": 0,
       "orientation": "horizontal",
       "style": "IPY_MODEL_be3ef3bc72df4d9e87850cbb2df2fb61",
       "value": 3000
      }
     },
     "685c9e0e380449ff9f93e00808db6ccd": {
      "model_module": "@jupyter-widgets/base",
      "model_module_version": "1.2.0",
      "model_name": "LayoutModel",
      "state": {
       "_model_module": "@jupyter-widgets/base",
       "_model_module_version": "1.2.0",
       "_model_name": "LayoutModel",
       "_view_count": null,
       "_view_module": "@jupyter-widgets/base",
       "_view_module_version": "1.2.0",
       "_view_name": "LayoutView",
       "align_content": null,
       "align_items": null,
       "align_self": null,
       "border": null,
       "bottom": null,
       "display": null,
       "flex": null,
       "flex_flow": null,
       "grid_area": null,
       "grid_auto_columns": null,
       "grid_auto_flow": null,
       "grid_auto_rows": null,
       "grid_column": null,
       "grid_gap": null,
       "grid_row": null,
       "grid_template_areas": null,
       "grid_template_columns": null,
       "grid_template_rows": null,
       "height": null,
       "justify_content": null,
       "justify_items": null,
       "left": null,
       "margin": null,
       "max_height": null,
       "max_width": null,
       "min_height": null,
       "min_width": null,
       "object_fit": null,
       "object_position": null,
       "order": null,
       "overflow": null,
       "overflow_x": null,
       "overflow_y": null,
       "padding": null,
       "right": null,
       "top": null,
       "visibility": null,
       "width": null
      }
     },
     "6c835a6995714f949735ce958348d2dd": {
      "model_module": "@jupyter-widgets/controls",
      "model_module_version": "1.5.0",
      "model_name": "HBoxModel",
      "state": {
       "_dom_classes": [],
       "_model_module": "@jupyter-widgets/controls",
       "_model_module_version": "1.5.0",
       "_model_name": "HBoxModel",
       "_view_count": null,
       "_view_module": "@jupyter-widgets/controls",
       "_view_module_version": "1.5.0",
       "_view_name": "HBoxView",
       "box_style": "",
       "children": [
        "IPY_MODEL_fd637cb5f0b14ccdae3d39aeeda075fa",
        "IPY_MODEL_e7d8d0a726104529b5cd5c587d263a5b"
       ],
       "layout": "IPY_MODEL_caf0417390444616859a0a238f5b0c8f"
      }
     },
     "6cbb1adfda8345b8afa9700e3f097f27": {
      "model_module": "@jupyter-widgets/controls",
      "model_module_version": "1.5.0",
      "model_name": "ProgressStyleModel",
      "state": {
       "_model_module": "@jupyter-widgets/controls",
       "_model_module_version": "1.5.0",
       "_model_name": "ProgressStyleModel",
       "_view_count": null,
       "_view_module": "@jupyter-widgets/base",
       "_view_module_version": "1.2.0",
       "_view_name": "StyleView",
       "bar_color": null,
       "description_width": "initial"
      }
     },
     "6df006833bb14daca87f8bfbde7a2e67": {
      "model_module": "@jupyter-widgets/controls",
      "model_module_version": "1.5.0",
      "model_name": "HTMLModel",
      "state": {
       "_dom_classes": [],
       "_model_module": "@jupyter-widgets/controls",
       "_model_module_version": "1.5.0",
       "_model_name": "HTMLModel",
       "_view_count": null,
       "_view_module": "@jupyter-widgets/controls",
       "_view_module_version": "1.5.0",
       "_view_name": "HTMLView",
       "description": "",
       "description_tooltip": null,
       "layout": "IPY_MODEL_685c9e0e380449ff9f93e00808db6ccd",
       "placeholder": "​",
       "style": "IPY_MODEL_d8c6fb7c40504dd29ae061d6146bea8a",
       "value": "&lt;tqdm.auto.tqdm object at 0x7f02818fcd90&gt;"
      }
     },
     "6fa5e688270149759b5746559e4af8f8": {
      "model_module": "@jupyter-widgets/controls",
      "model_module_version": "1.5.0",
      "model_name": "DescriptionStyleModel",
      "state": {
       "_model_module": "@jupyter-widgets/controls",
       "_model_module_version": "1.5.0",
       "_model_name": "DescriptionStyleModel",
       "_view_count": null,
       "_view_module": "@jupyter-widgets/base",
       "_view_module_version": "1.2.0",
       "_view_name": "StyleView",
       "description_width": ""
      }
     },
     "707ae487e71c418286da3df727ad34ee": {
      "model_module": "@jupyter-widgets/base",
      "model_module_version": "1.2.0",
      "model_name": "LayoutModel",
      "state": {
       "_model_module": "@jupyter-widgets/base",
       "_model_module_version": "1.2.0",
       "_model_name": "LayoutModel",
       "_view_count": null,
       "_view_module": "@jupyter-widgets/base",
       "_view_module_version": "1.2.0",
       "_view_name": "LayoutView",
       "align_content": null,
       "align_items": null,
       "align_self": null,
       "border": null,
       "bottom": null,
       "display": null,
       "flex": null,
       "flex_flow": null,
       "grid_area": null,
       "grid_auto_columns": null,
       "grid_auto_flow": null,
       "grid_auto_rows": null,
       "grid_column": null,
       "grid_gap": null,
       "grid_row": null,
       "grid_template_areas": null,
       "grid_template_columns": null,
       "grid_template_rows": null,
       "height": null,
       "justify_content": null,
       "justify_items": null,
       "left": null,
       "margin": null,
       "max_height": null,
       "max_width": null,
       "min_height": null,
       "min_width": null,
       "object_fit": null,
       "object_position": null,
       "order": null,
       "overflow": null,
       "overflow_x": null,
       "overflow_y": null,
       "padding": null,
       "right": null,
       "top": null,
       "visibility": null,
       "width": null
      }
     },
     "763ba309d8ca419798db75bffe49fe29": {
      "model_module": "@jupyter-widgets/controls",
      "model_module_version": "1.5.0",
      "model_name": "ProgressStyleModel",
      "state": {
       "_model_module": "@jupyter-widgets/controls",
       "_model_module_version": "1.5.0",
       "_model_name": "ProgressStyleModel",
       "_view_count": null,
       "_view_module": "@jupyter-widgets/base",
       "_view_module_version": "1.2.0",
       "_view_name": "StyleView",
       "bar_color": null,
       "description_width": "initial"
      }
     },
     "7f445e8fe5d44a44a9928acca0deeb71": {
      "model_module": "@jupyter-widgets/controls",
      "model_module_version": "1.5.0",
      "model_name": "DescriptionStyleModel",
      "state": {
       "_model_module": "@jupyter-widgets/controls",
       "_model_module_version": "1.5.0",
       "_model_name": "DescriptionStyleModel",
       "_view_count": null,
       "_view_module": "@jupyter-widgets/base",
       "_view_module_version": "1.2.0",
       "_view_name": "StyleView",
       "description_width": ""
      }
     },
     "80d0a87999e440379b450e589c339794": {
      "model_module": "@jupyter-widgets/controls",
      "model_module_version": "1.5.0",
      "model_name": "HTMLModel",
      "state": {
       "_dom_classes": [],
       "_model_module": "@jupyter-widgets/controls",
       "_model_module_version": "1.5.0",
       "_model_name": "HTMLModel",
       "_view_count": null,
       "_view_module": "@jupyter-widgets/controls",
       "_view_module_version": "1.5.0",
       "_view_name": "HTMLView",
       "description": "",
       "description_tooltip": null,
       "layout": "IPY_MODEL_cdf9f90520dc415b8a42c5dce76284f4",
       "placeholder": "​",
       "style": "IPY_MODEL_0ec0e8419c33482592220ec80529611c",
       "value": "&lt;tqdm.auto.tqdm object at 0x7f01cfec3e10&gt;"
      }
     },
     "80eb0a178e53455eb661a70809e2bb31": {
      "model_module": "@jupyter-widgets/controls",
      "model_module_version": "1.5.0",
      "model_name": "FloatProgressModel",
      "state": {
       "_dom_classes": [],
       "_model_module": "@jupyter-widgets/controls",
       "_model_module_version": "1.5.0",
       "_model_name": "FloatProgressModel",
       "_view_count": null,
       "_view_module": "@jupyter-widgets/controls",
       "_view_module_version": "1.5.0",
       "_view_name": "ProgressView",
       "bar_style": "success",
       "description": "",
       "description_tooltip": null,
       "layout": "IPY_MODEL_97476675e29c4c4fb4b6e451ddc26a43",
       "max": 1,
       "min": 0,
       "orientation": "horizontal",
       "style": "IPY_MODEL_55a3050630b74c64a91de7a2bf93000b",
       "value": 1
      }
     },
     "81eab1267d16405b92d06df0c3c737a3": {
      "model_module": "@jupyter-widgets/base",
      "model_module_version": "1.2.0",
      "model_name": "LayoutModel",
      "state": {
       "_model_module": "@jupyter-widgets/base",
       "_model_module_version": "1.2.0",
       "_model_name": "LayoutModel",
       "_view_count": null,
       "_view_module": "@jupyter-widgets/base",
       "_view_module_version": "1.2.0",
       "_view_name": "LayoutView",
       "align_content": null,
       "align_items": null,
       "align_self": null,
       "border": null,
       "bottom": null,
       "display": null,
       "flex": null,
       "flex_flow": null,
       "grid_area": null,
       "grid_auto_columns": null,
       "grid_auto_flow": null,
       "grid_auto_rows": null,
       "grid_column": null,
       "grid_gap": null,
       "grid_row": null,
       "grid_template_areas": null,
       "grid_template_columns": null,
       "grid_template_rows": null,
       "height": null,
       "justify_content": null,
       "justify_items": null,
       "left": null,
       "margin": null,
       "max_height": null,
       "max_width": null,
       "min_height": null,
       "min_width": null,
       "object_fit": null,
       "object_position": null,
       "order": null,
       "overflow": null,
       "overflow_x": null,
       "overflow_y": null,
       "padding": null,
       "right": null,
       "top": null,
       "visibility": null,
       "width": null
      }
     },
     "88673a7ced6a40ae9a22923f7fdbf134": {
      "model_module": "@jupyter-widgets/controls",
      "model_module_version": "1.5.0",
      "model_name": "FloatProgressModel",
      "state": {
       "_dom_classes": [],
       "_model_module": "@jupyter-widgets/controls",
       "_model_module_version": "1.5.0",
       "_model_name": "FloatProgressModel",
       "_view_count": null,
       "_view_module": "@jupyter-widgets/controls",
       "_view_module_version": "1.5.0",
       "_view_name": "ProgressView",
       "bar_style": "success",
       "description": "",
       "description_tooltip": null,
       "layout": "IPY_MODEL_6685c415f3c24781a8dfb63c3bd059cd",
       "max": 34,
       "min": 0,
       "orientation": "horizontal",
       "style": "IPY_MODEL_6cbb1adfda8345b8afa9700e3f097f27",
       "value": 34
      }
     },
     "8c2c77d10c4146b4b8e7d0d8567c56b2": {
      "model_module": "@jupyter-widgets/base",
      "model_module_version": "1.2.0",
      "model_name": "LayoutModel",
      "state": {
       "_model_module": "@jupyter-widgets/base",
       "_model_module_version": "1.2.0",
       "_model_name": "LayoutModel",
       "_view_count": null,
       "_view_module": "@jupyter-widgets/base",
       "_view_module_version": "1.2.0",
       "_view_name": "LayoutView",
       "align_content": null,
       "align_items": null,
       "align_self": null,
       "border": null,
       "bottom": null,
       "display": null,
       "flex": null,
       "flex_flow": null,
       "grid_area": null,
       "grid_auto_columns": null,
       "grid_auto_flow": null,
       "grid_auto_rows": null,
       "grid_column": null,
       "grid_gap": null,
       "grid_row": null,
       "grid_template_areas": null,
       "grid_template_columns": null,
       "grid_template_rows": null,
       "height": null,
       "justify_content": null,
       "justify_items": null,
       "left": null,
       "margin": null,
       "max_height": null,
       "max_width": null,
       "min_height": null,
       "min_width": null,
       "object_fit": null,
       "object_position": null,
       "order": null,
       "overflow": null,
       "overflow_x": null,
       "overflow_y": null,
       "padding": null,
       "right": null,
       "top": null,
       "visibility": null,
       "width": null
      }
     },
     "91c09e450f9b4e4a8522574f1e3d0188": {
      "model_module": "@jupyter-widgets/base",
      "model_module_version": "1.2.0",
      "model_name": "LayoutModel",
      "state": {
       "_model_module": "@jupyter-widgets/base",
       "_model_module_version": "1.2.0",
       "_model_name": "LayoutModel",
       "_view_count": null,
       "_view_module": "@jupyter-widgets/base",
       "_view_module_version": "1.2.0",
       "_view_name": "LayoutView",
       "align_content": null,
       "align_items": null,
       "align_self": null,
       "border": null,
       "bottom": null,
       "display": null,
       "flex": null,
       "flex_flow": null,
       "grid_area": null,
       "grid_auto_columns": null,
       "grid_auto_flow": null,
       "grid_auto_rows": null,
       "grid_column": null,
       "grid_gap": null,
       "grid_row": null,
       "grid_template_areas": null,
       "grid_template_columns": null,
       "grid_template_rows": null,
       "height": null,
       "justify_content": null,
       "justify_items": null,
       "left": null,
       "margin": null,
       "max_height": null,
       "max_width": null,
       "min_height": null,
       "min_width": null,
       "object_fit": null,
       "object_position": null,
       "order": null,
       "overflow": null,
       "overflow_x": null,
       "overflow_y": null,
       "padding": null,
       "right": null,
       "top": null,
       "visibility": null,
       "width": null
      }
     },
     "96b4d41a3e18446caa08d2e39cad367b": {
      "model_module": "@jupyter-widgets/base",
      "model_module_version": "1.2.0",
      "model_name": "LayoutModel",
      "state": {
       "_model_module": "@jupyter-widgets/base",
       "_model_module_version": "1.2.0",
       "_model_name": "LayoutModel",
       "_view_count": null,
       "_view_module": "@jupyter-widgets/base",
       "_view_module_version": "1.2.0",
       "_view_name": "LayoutView",
       "align_content": null,
       "align_items": null,
       "align_self": null,
       "border": null,
       "bottom": null,
       "display": null,
       "flex": null,
       "flex_flow": null,
       "grid_area": null,
       "grid_auto_columns": null,
       "grid_auto_flow": null,
       "grid_auto_rows": null,
       "grid_column": null,
       "grid_gap": null,
       "grid_row": null,
       "grid_template_areas": null,
       "grid_template_columns": null,
       "grid_template_rows": null,
       "height": null,
       "justify_content": null,
       "justify_items": null,
       "left": null,
       "margin": null,
       "max_height": null,
       "max_width": null,
       "min_height": null,
       "min_width": null,
       "object_fit": null,
       "object_position": null,
       "order": null,
       "overflow": null,
       "overflow_x": null,
       "overflow_y": null,
       "padding": null,
       "right": null,
       "top": null,
       "visibility": null,
       "width": null
      }
     },
     "97476675e29c4c4fb4b6e451ddc26a43": {
      "model_module": "@jupyter-widgets/base",
      "model_module_version": "1.2.0",
      "model_name": "LayoutModel",
      "state": {
       "_model_module": "@jupyter-widgets/base",
       "_model_module_version": "1.2.0",
       "_model_name": "LayoutModel",
       "_view_count": null,
       "_view_module": "@jupyter-widgets/base",
       "_view_module_version": "1.2.0",
       "_view_name": "LayoutView",
       "align_content": null,
       "align_items": null,
       "align_self": null,
       "border": null,
       "bottom": null,
       "display": null,
       "flex": null,
       "flex_flow": null,
       "grid_area": null,
       "grid_auto_columns": null,
       "grid_auto_flow": null,
       "grid_auto_rows": null,
       "grid_column": null,
       "grid_gap": null,
       "grid_row": null,
       "grid_template_areas": null,
       "grid_template_columns": null,
       "grid_template_rows": null,
       "height": null,
       "justify_content": null,
       "justify_items": null,
       "left": null,
       "margin": null,
       "max_height": null,
       "max_width": null,
       "min_height": null,
       "min_width": null,
       "object_fit": null,
       "object_position": null,
       "order": null,
       "overflow": null,
       "overflow_x": null,
       "overflow_y": null,
       "padding": null,
       "right": null,
       "top": null,
       "visibility": null,
       "width": null
      }
     },
     "9def863858e9474b9eaeb6a990df0b9b": {
      "model_module": "@jupyter-widgets/base",
      "model_module_version": "1.2.0",
      "model_name": "LayoutModel",
      "state": {
       "_model_module": "@jupyter-widgets/base",
       "_model_module_version": "1.2.0",
       "_model_name": "LayoutModel",
       "_view_count": null,
       "_view_module": "@jupyter-widgets/base",
       "_view_module_version": "1.2.0",
       "_view_name": "LayoutView",
       "align_content": null,
       "align_items": null,
       "align_self": null,
       "border": null,
       "bottom": null,
       "display": null,
       "flex": null,
       "flex_flow": null,
       "grid_area": null,
       "grid_auto_columns": null,
       "grid_auto_flow": null,
       "grid_auto_rows": null,
       "grid_column": null,
       "grid_gap": null,
       "grid_row": null,
       "grid_template_areas": null,
       "grid_template_columns": null,
       "grid_template_rows": null,
       "height": null,
       "justify_content": null,
       "justify_items": null,
       "left": null,
       "margin": null,
       "max_height": null,
       "max_width": null,
       "min_height": null,
       "min_width": null,
       "object_fit": null,
       "object_position": null,
       "order": null,
       "overflow": null,
       "overflow_x": null,
       "overflow_y": null,
       "padding": null,
       "right": null,
       "top": null,
       "visibility": null,
       "width": null
      }
     },
     "a8054970144e4b09b9a82a9322d68808": {
      "model_module": "@jupyter-widgets/base",
      "model_module_version": "1.2.0",
      "model_name": "LayoutModel",
      "state": {
       "_model_module": "@jupyter-widgets/base",
       "_model_module_version": "1.2.0",
       "_model_name": "LayoutModel",
       "_view_count": null,
       "_view_module": "@jupyter-widgets/base",
       "_view_module_version": "1.2.0",
       "_view_name": "LayoutView",
       "align_content": null,
       "align_items": null,
       "align_self": null,
       "border": null,
       "bottom": null,
       "display": null,
       "flex": null,
       "flex_flow": null,
       "grid_area": null,
       "grid_auto_columns": null,
       "grid_auto_flow": null,
       "grid_auto_rows": null,
       "grid_column": null,
       "grid_gap": null,
       "grid_row": null,
       "grid_template_areas": null,
       "grid_template_columns": null,
       "grid_template_rows": null,
       "height": null,
       "justify_content": null,
       "justify_items": null,
       "left": null,
       "margin": null,
       "max_height": null,
       "max_width": null,
       "min_height": null,
       "min_width": null,
       "object_fit": null,
       "object_position": null,
       "order": null,
       "overflow": null,
       "overflow_x": null,
       "overflow_y": null,
       "padding": null,
       "right": null,
       "top": null,
       "visibility": null,
       "width": null
      }
     },
     "a8b22b4f43d94ca6a756c26514aa9452": {
      "model_module": "@jupyter-widgets/controls",
      "model_module_version": "1.5.0",
      "model_name": "ProgressStyleModel",
      "state": {
       "_model_module": "@jupyter-widgets/controls",
       "_model_module_version": "1.5.0",
       "_model_name": "ProgressStyleModel",
       "_view_count": null,
       "_view_module": "@jupyter-widgets/base",
       "_view_module_version": "1.2.0",
       "_view_name": "StyleView",
       "bar_color": null,
       "description_width": "initial"
      }
     },
     "acbfc023920440739125834719929f93": {
      "model_module": "@jupyter-widgets/controls",
      "model_module_version": "1.5.0",
      "model_name": "HTMLModel",
      "state": {
       "_dom_classes": [],
       "_model_module": "@jupyter-widgets/controls",
       "_model_module_version": "1.5.0",
       "_model_name": "HTMLModel",
       "_view_count": null,
       "_view_module": "@jupyter-widgets/controls",
       "_view_module_version": "1.5.0",
       "_view_name": "HTMLView",
       "description": "",
       "description_tooltip": null,
       "layout": "IPY_MODEL_2d3e87db1a7b4aa9b0d90d019217827c",
       "placeholder": "​",
       "style": "IPY_MODEL_b45b02c1add24ef0b09548c8734c251a",
       "value": "&lt;tqdm.auto.tqdm object at 0x7f01cfe95110&gt;"
      }
     },
     "ad5ce39950164364bd8c5e407341300c": {
      "model_module": "@jupyter-widgets/controls",
      "model_module_version": "1.5.0",
      "model_name": "HTMLModel",
      "state": {
       "_dom_classes": [],
       "_model_module": "@jupyter-widgets/controls",
       "_model_module_version": "1.5.0",
       "_model_name": "HTMLModel",
       "_view_count": null,
       "_view_module": "@jupyter-widgets/controls",
       "_view_module_version": "1.5.0",
       "_view_name": "HTMLView",
       "description": "",
       "description_tooltip": null,
       "layout": "IPY_MODEL_afa1a0c256404b419a0b471d153a0d58",
       "placeholder": "​",
       "style": "IPY_MODEL_dc8d37fcd85e412aa43b05bb7f6614b1",
       "value": "&lt;tqdm.auto.tqdm object at 0x7f01cdfdfc90&gt;"
      }
     },
     "afa1a0c256404b419a0b471d153a0d58": {
      "model_module": "@jupyter-widgets/base",
      "model_module_version": "1.2.0",
      "model_name": "LayoutModel",
      "state": {
       "_model_module": "@jupyter-widgets/base",
       "_model_module_version": "1.2.0",
       "_model_name": "LayoutModel",
       "_view_count": null,
       "_view_module": "@jupyter-widgets/base",
       "_view_module_version": "1.2.0",
       "_view_name": "LayoutView",
       "align_content": null,
       "align_items": null,
       "align_self": null,
       "border": null,
       "bottom": null,
       "display": null,
       "flex": null,
       "flex_flow": null,
       "grid_area": null,
       "grid_auto_columns": null,
       "grid_auto_flow": null,
       "grid_auto_rows": null,
       "grid_column": null,
       "grid_gap": null,
       "grid_row": null,
       "grid_template_areas": null,
       "grid_template_columns": null,
       "grid_template_rows": null,
       "height": null,
       "justify_content": null,
       "justify_items": null,
       "left": null,
       "margin": null,
       "max_height": null,
       "max_width": null,
       "min_height": null,
       "min_width": null,
       "object_fit": null,
       "object_position": null,
       "order": null,
       "overflow": null,
       "overflow_x": null,
       "overflow_y": null,
       "padding": null,
       "right": null,
       "top": null,
       "visibility": null,
       "width": null
      }
     },
     "b1f51b0d40694bc88204788113b3494d": {
      "model_module": "@jupyter-widgets/controls",
      "model_module_version": "1.5.0",
      "model_name": "DescriptionStyleModel",
      "state": {
       "_model_module": "@jupyter-widgets/controls",
       "_model_module_version": "1.5.0",
       "_model_name": "DescriptionStyleModel",
       "_view_count": null,
       "_view_module": "@jupyter-widgets/base",
       "_view_module_version": "1.2.0",
       "_view_name": "StyleView",
       "description_width": ""
      }
     },
     "b45b02c1add24ef0b09548c8734c251a": {
      "model_module": "@jupyter-widgets/controls",
      "model_module_version": "1.5.0",
      "model_name": "DescriptionStyleModel",
      "state": {
       "_model_module": "@jupyter-widgets/controls",
       "_model_module_version": "1.5.0",
       "_model_name": "DescriptionStyleModel",
       "_view_count": null,
       "_view_module": "@jupyter-widgets/base",
       "_view_module_version": "1.2.0",
       "_view_name": "StyleView",
       "description_width": ""
      }
     },
     "b55c01abff1a4d419fa4194112659d42": {
      "model_module": "@jupyter-widgets/base",
      "model_module_version": "1.2.0",
      "model_name": "LayoutModel",
      "state": {
       "_model_module": "@jupyter-widgets/base",
       "_model_module_version": "1.2.0",
       "_model_name": "LayoutModel",
       "_view_count": null,
       "_view_module": "@jupyter-widgets/base",
       "_view_module_version": "1.2.0",
       "_view_name": "LayoutView",
       "align_content": null,
       "align_items": null,
       "align_self": null,
       "border": null,
       "bottom": null,
       "display": null,
       "flex": null,
       "flex_flow": null,
       "grid_area": null,
       "grid_auto_columns": null,
       "grid_auto_flow": null,
       "grid_auto_rows": null,
       "grid_column": null,
       "grid_gap": null,
       "grid_row": null,
       "grid_template_areas": null,
       "grid_template_columns": null,
       "grid_template_rows": null,
       "height": null,
       "justify_content": null,
       "justify_items": null,
       "left": null,
       "margin": null,
       "max_height": null,
       "max_width": null,
       "min_height": null,
       "min_width": null,
       "object_fit": null,
       "object_position": null,
       "order": null,
       "overflow": null,
       "overflow_x": null,
       "overflow_y": null,
       "padding": null,
       "right": null,
       "top": null,
       "visibility": null,
       "width": null
      }
     },
     "b699d6822aa14eb697d22bed8c88c10d": {
      "model_module": "@jupyter-widgets/base",
      "model_module_version": "1.2.0",
      "model_name": "LayoutModel",
      "state": {
       "_model_module": "@jupyter-widgets/base",
       "_model_module_version": "1.2.0",
       "_model_name": "LayoutModel",
       "_view_count": null,
       "_view_module": "@jupyter-widgets/base",
       "_view_module_version": "1.2.0",
       "_view_name": "LayoutView",
       "align_content": null,
       "align_items": null,
       "align_self": null,
       "border": null,
       "bottom": null,
       "display": null,
       "flex": null,
       "flex_flow": null,
       "grid_area": null,
       "grid_auto_columns": null,
       "grid_auto_flow": null,
       "grid_auto_rows": null,
       "grid_column": null,
       "grid_gap": null,
       "grid_row": null,
       "grid_template_areas": null,
       "grid_template_columns": null,
       "grid_template_rows": null,
       "height": null,
       "justify_content": null,
       "justify_items": null,
       "left": null,
       "margin": null,
       "max_height": null,
       "max_width": null,
       "min_height": null,
       "min_width": null,
       "object_fit": null,
       "object_position": null,
       "order": null,
       "overflow": null,
       "overflow_x": null,
       "overflow_y": null,
       "padding": null,
       "right": null,
       "top": null,
       "visibility": null,
       "width": null
      }
     },
     "b906f7bc580f4cd78300811b57267a8c": {
      "model_module": "@jupyter-widgets/controls",
      "model_module_version": "1.5.0",
      "model_name": "HBoxModel",
      "state": {
       "_dom_classes": [],
       "_model_module": "@jupyter-widgets/controls",
       "_model_module_version": "1.5.0",
       "_model_name": "HBoxModel",
       "_view_count": null,
       "_view_module": "@jupyter-widgets/controls",
       "_view_module_version": "1.5.0",
       "_view_name": "HBoxView",
       "box_style": "",
       "children": [
        "IPY_MODEL_6405aa1157d04919a466cd83146a6086",
        "IPY_MODEL_ad5ce39950164364bd8c5e407341300c"
       ],
       "layout": "IPY_MODEL_25cd2bee9a1f422389a920119123c209"
      }
     },
     "be3ef3bc72df4d9e87850cbb2df2fb61": {
      "model_module": "@jupyter-widgets/controls",
      "model_module_version": "1.5.0",
      "model_name": "ProgressStyleModel",
      "state": {
       "_model_module": "@jupyter-widgets/controls",
       "_model_module_version": "1.5.0",
       "_model_name": "ProgressStyleModel",
       "_view_count": null,
       "_view_module": "@jupyter-widgets/base",
       "_view_module_version": "1.2.0",
       "_view_name": "StyleView",
       "bar_color": null,
       "description_width": "initial"
      }
     },
     "c1d7588223314a4a816e668b9b9544f2": {
      "model_module": "@jupyter-widgets/controls",
      "model_module_version": "1.5.0",
      "model_name": "FloatProgressModel",
      "state": {
       "_dom_classes": [],
       "_model_module": "@jupyter-widgets/controls",
       "_model_module_version": "1.5.0",
       "_model_name": "FloatProgressModel",
       "_view_count": null,
       "_view_module": "@jupyter-widgets/controls",
       "_view_module_version": "1.5.0",
       "_view_name": "ProgressView",
       "bar_style": "success",
       "description": "",
       "description_tooltip": null,
       "layout": "IPY_MODEL_6675527238fa45dab32a504b21bab36d",
       "max": 1564,
       "min": 0,
       "orientation": "horizontal",
       "style": "IPY_MODEL_763ba309d8ca419798db75bffe49fe29",
       "value": 1564
      }
     },
     "caf0417390444616859a0a238f5b0c8f": {
      "model_module": "@jupyter-widgets/base",
      "model_module_version": "1.2.0",
      "model_name": "LayoutModel",
      "state": {
       "_model_module": "@jupyter-widgets/base",
       "_model_module_version": "1.2.0",
       "_model_name": "LayoutModel",
       "_view_count": null,
       "_view_module": "@jupyter-widgets/base",
       "_view_module_version": "1.2.0",
       "_view_name": "LayoutView",
       "align_content": null,
       "align_items": null,
       "align_self": null,
       "border": null,
       "bottom": null,
       "display": null,
       "flex": null,
       "flex_flow": null,
       "grid_area": null,
       "grid_auto_columns": null,
       "grid_auto_flow": null,
       "grid_auto_rows": null,
       "grid_column": null,
       "grid_gap": null,
       "grid_row": null,
       "grid_template_areas": null,
       "grid_template_columns": null,
       "grid_template_rows": null,
       "height": null,
       "justify_content": null,
       "justify_items": null,
       "left": null,
       "margin": null,
       "max_height": null,
       "max_width": null,
       "min_height": null,
       "min_width": null,
       "object_fit": null,
       "object_position": null,
       "order": null,
       "overflow": null,
       "overflow_x": null,
       "overflow_y": null,
       "padding": null,
       "right": null,
       "top": null,
       "visibility": null,
       "width": null
      }
     },
     "cafdd789ccde452482cf171969ae461d": {
      "model_module": "@jupyter-widgets/base",
      "model_module_version": "1.2.0",
      "model_name": "LayoutModel",
      "state": {
       "_model_module": "@jupyter-widgets/base",
       "_model_module_version": "1.2.0",
       "_model_name": "LayoutModel",
       "_view_count": null,
       "_view_module": "@jupyter-widgets/base",
       "_view_module_version": "1.2.0",
       "_view_name": "LayoutView",
       "align_content": null,
       "align_items": null,
       "align_self": null,
       "border": null,
       "bottom": null,
       "display": null,
       "flex": null,
       "flex_flow": null,
       "grid_area": null,
       "grid_auto_columns": null,
       "grid_auto_flow": null,
       "grid_auto_rows": null,
       "grid_column": null,
       "grid_gap": null,
       "grid_row": null,
       "grid_template_areas": null,
       "grid_template_columns": null,
       "grid_template_rows": null,
       "height": null,
       "justify_content": null,
       "justify_items": null,
       "left": null,
       "margin": null,
       "max_height": null,
       "max_width": null,
       "min_height": null,
       "min_width": null,
       "object_fit": null,
       "object_position": null,
       "order": null,
       "overflow": null,
       "overflow_x": null,
       "overflow_y": null,
       "padding": null,
       "right": null,
       "top": null,
       "visibility": null,
       "width": null
      }
     },
     "cdf9f90520dc415b8a42c5dce76284f4": {
      "model_module": "@jupyter-widgets/base",
      "model_module_version": "1.2.0",
      "model_name": "LayoutModel",
      "state": {
       "_model_module": "@jupyter-widgets/base",
       "_model_module_version": "1.2.0",
       "_model_name": "LayoutModel",
       "_view_count": null,
       "_view_module": "@jupyter-widgets/base",
       "_view_module_version": "1.2.0",
       "_view_name": "LayoutView",
       "align_content": null,
       "align_items": null,
       "align_self": null,
       "border": null,
       "bottom": null,
       "display": null,
       "flex": null,
       "flex_flow": null,
       "grid_area": null,
       "grid_auto_columns": null,
       "grid_auto_flow": null,
       "grid_auto_rows": null,
       "grid_column": null,
       "grid_gap": null,
       "grid_row": null,
       "grid_template_areas": null,
       "grid_template_columns": null,
       "grid_template_rows": null,
       "height": null,
       "justify_content": null,
       "justify_items": null,
       "left": null,
       "margin": null,
       "max_height": null,
       "max_width": null,
       "min_height": null,
       "min_width": null,
       "object_fit": null,
       "object_position": null,
       "order": null,
       "overflow": null,
       "overflow_x": null,
       "overflow_y": null,
       "padding": null,
       "right": null,
       "top": null,
       "visibility": null,
       "width": null
      }
     },
     "ce1ca16869a14b7da27511f5f8c7a753": {
      "model_module": "@jupyter-widgets/controls",
      "model_module_version": "1.5.0",
      "model_name": "ProgressStyleModel",
      "state": {
       "_model_module": "@jupyter-widgets/controls",
       "_model_module_version": "1.5.0",
       "_model_name": "ProgressStyleModel",
       "_view_count": null,
       "_view_module": "@jupyter-widgets/base",
       "_view_module_version": "1.2.0",
       "_view_name": "StyleView",
       "bar_color": null,
       "description_width": "initial"
      }
     },
     "cf002492d54844c1a988abf08929b9ee": {
      "model_module": "@jupyter-widgets/base",
      "model_module_version": "1.2.0",
      "model_name": "LayoutModel",
      "state": {
       "_model_module": "@jupyter-widgets/base",
       "_model_module_version": "1.2.0",
       "_model_name": "LayoutModel",
       "_view_count": null,
       "_view_module": "@jupyter-widgets/base",
       "_view_module_version": "1.2.0",
       "_view_name": "LayoutView",
       "align_content": null,
       "align_items": null,
       "align_self": null,
       "border": null,
       "bottom": null,
       "display": null,
       "flex": null,
       "flex_flow": null,
       "grid_area": null,
       "grid_auto_columns": null,
       "grid_auto_flow": null,
       "grid_auto_rows": null,
       "grid_column": null,
       "grid_gap": null,
       "grid_row": null,
       "grid_template_areas": null,
       "grid_template_columns": null,
       "grid_template_rows": null,
       "height": null,
       "justify_content": null,
       "justify_items": null,
       "left": null,
       "margin": null,
       "max_height": null,
       "max_width": null,
       "min_height": null,
       "min_width": null,
       "object_fit": null,
       "object_position": null,
       "order": null,
       "overflow": null,
       "overflow_x": null,
       "overflow_y": null,
       "padding": null,
       "right": null,
       "top": null,
       "visibility": null,
       "width": null
      }
     },
     "cf5ed6bdbc424b13b67e154229089695": {
      "model_module": "@jupyter-widgets/base",
      "model_module_version": "1.2.0",
      "model_name": "LayoutModel",
      "state": {
       "_model_module": "@jupyter-widgets/base",
       "_model_module_version": "1.2.0",
       "_model_name": "LayoutModel",
       "_view_count": null,
       "_view_module": "@jupyter-widgets/base",
       "_view_module_version": "1.2.0",
       "_view_name": "LayoutView",
       "align_content": null,
       "align_items": null,
       "align_self": null,
       "border": null,
       "bottom": null,
       "display": null,
       "flex": null,
       "flex_flow": null,
       "grid_area": null,
       "grid_auto_columns": null,
       "grid_auto_flow": null,
       "grid_auto_rows": null,
       "grid_column": null,
       "grid_gap": null,
       "grid_row": null,
       "grid_template_areas": null,
       "grid_template_columns": null,
       "grid_template_rows": null,
       "height": null,
       "justify_content": null,
       "justify_items": null,
       "left": null,
       "margin": null,
       "max_height": null,
       "max_width": null,
       "min_height": null,
       "min_width": null,
       "object_fit": null,
       "object_position": null,
       "order": null,
       "overflow": null,
       "overflow_x": null,
       "overflow_y": null,
       "padding": null,
       "right": null,
       "top": null,
       "visibility": null,
       "width": null
      }
     },
     "d1a8c5c19e0d4565afeeac111c75060d": {
      "model_module": "@jupyter-widgets/base",
      "model_module_version": "1.2.0",
      "model_name": "LayoutModel",
      "state": {
       "_model_module": "@jupyter-widgets/base",
       "_model_module_version": "1.2.0",
       "_model_name": "LayoutModel",
       "_view_count": null,
       "_view_module": "@jupyter-widgets/base",
       "_view_module_version": "1.2.0",
       "_view_name": "LayoutView",
       "align_content": null,
       "align_items": null,
       "align_self": null,
       "border": null,
       "bottom": null,
       "display": null,
       "flex": null,
       "flex_flow": null,
       "grid_area": null,
       "grid_auto_columns": null,
       "grid_auto_flow": null,
       "grid_auto_rows": null,
       "grid_column": null,
       "grid_gap": null,
       "grid_row": null,
       "grid_template_areas": null,
       "grid_template_columns": null,
       "grid_template_rows": null,
       "height": null,
       "justify_content": null,
       "justify_items": null,
       "left": null,
       "margin": null,
       "max_height": null,
       "max_width": null,
       "min_height": null,
       "min_width": null,
       "object_fit": null,
       "object_position": null,
       "order": null,
       "overflow": null,
       "overflow_x": null,
       "overflow_y": null,
       "padding": null,
       "right": null,
       "top": null,
       "visibility": null,
       "width": null
      }
     },
     "d3db29bcb0fd477d86de3190c6a6c355": {
      "model_module": "@jupyter-widgets/controls",
      "model_module_version": "1.5.0",
      "model_name": "HTMLModel",
      "state": {
       "_dom_classes": [],
       "_model_module": "@jupyter-widgets/controls",
       "_model_module_version": "1.5.0",
       "_model_name": "HTMLModel",
       "_view_count": null,
       "_view_module": "@jupyter-widgets/controls",
       "_view_module_version": "1.5.0",
       "_view_name": "HTMLView",
       "description": "",
       "description_tooltip": null,
       "layout": "IPY_MODEL_190aeb979f9c47839417f5f072a1b1cd",
       "placeholder": "​",
       "style": "IPY_MODEL_7f445e8fe5d44a44a9928acca0deeb71",
       "value": "&lt;tqdm.auto.tqdm object at 0x7f01cdf56690&gt;"
      }
     },
     "d8c6fb7c40504dd29ae061d6146bea8a": {
      "model_module": "@jupyter-widgets/controls",
      "model_module_version": "1.5.0",
      "model_name": "DescriptionStyleModel",
      "state": {
       "_model_module": "@jupyter-widgets/controls",
       "_model_module_version": "1.5.0",
       "_model_name": "DescriptionStyleModel",
       "_view_count": null,
       "_view_module": "@jupyter-widgets/base",
       "_view_module_version": "1.2.0",
       "_view_name": "StyleView",
       "description_width": ""
      }
     },
     "dc55f6d4049f49cf8df4f9dcba296fbe": {
      "model_module": "@jupyter-widgets/base",
      "model_module_version": "1.2.0",
      "model_name": "LayoutModel",
      "state": {
       "_model_module": "@jupyter-widgets/base",
       "_model_module_version": "1.2.0",
       "_model_name": "LayoutModel",
       "_view_count": null,
       "_view_module": "@jupyter-widgets/base",
       "_view_module_version": "1.2.0",
       "_view_name": "LayoutView",
       "align_content": null,
       "align_items": null,
       "align_self": null,
       "border": null,
       "bottom": null,
       "display": null,
       "flex": null,
       "flex_flow": null,
       "grid_area": null,
       "grid_auto_columns": null,
       "grid_auto_flow": null,
       "grid_auto_rows": null,
       "grid_column": null,
       "grid_gap": null,
       "grid_row": null,
       "grid_template_areas": null,
       "grid_template_columns": null,
       "grid_template_rows": null,
       "height": null,
       "justify_content": null,
       "justify_items": null,
       "left": null,
       "margin": null,
       "max_height": null,
       "max_width": null,
       "min_height": null,
       "min_width": null,
       "object_fit": null,
       "object_position": null,
       "order": null,
       "overflow": null,
       "overflow_x": null,
       "overflow_y": null,
       "padding": null,
       "right": null,
       "top": null,
       "visibility": null,
       "width": null
      }
     },
     "dc8d37fcd85e412aa43b05bb7f6614b1": {
      "model_module": "@jupyter-widgets/controls",
      "model_module_version": "1.5.0",
      "model_name": "DescriptionStyleModel",
      "state": {
       "_model_module": "@jupyter-widgets/controls",
       "_model_module_version": "1.5.0",
       "_model_name": "DescriptionStyleModel",
       "_view_count": null,
       "_view_module": "@jupyter-widgets/base",
       "_view_module_version": "1.2.0",
       "_view_name": "StyleView",
       "description_width": ""
      }
     },
     "dfa66d89fc494440bf23e22780de4a4b": {
      "model_module": "@jupyter-widgets/controls",
      "model_module_version": "1.5.0",
      "model_name": "HBoxModel",
      "state": {
       "_dom_classes": [],
       "_model_module": "@jupyter-widgets/controls",
       "_model_module_version": "1.5.0",
       "_model_name": "HBoxModel",
       "_view_count": null,
       "_view_module": "@jupyter-widgets/controls",
       "_view_module_version": "1.5.0",
       "_view_name": "HBoxView",
       "box_style": "",
       "children": [
        "IPY_MODEL_61d1ac9cd7a9495cb61018a079a48db2",
        "IPY_MODEL_4bb426a1008f448b9c6d84e1f7ca7156"
       ],
       "layout": "IPY_MODEL_29ebfe4b7af34ae4b2e4171bc3bcaeab"
      }
     },
     "e79a0170a36141458af3311fef093a9d": {
      "model_module": "@jupyter-widgets/controls",
      "model_module_version": "1.5.0",
      "model_name": "DescriptionStyleModel",
      "state": {
       "_model_module": "@jupyter-widgets/controls",
       "_model_module_version": "1.5.0",
       "_model_name": "DescriptionStyleModel",
       "_view_count": null,
       "_view_module": "@jupyter-widgets/base",
       "_view_module_version": "1.2.0",
       "_view_name": "StyleView",
       "description_width": ""
      }
     },
     "e7d8d0a726104529b5cd5c587d263a5b": {
      "model_module": "@jupyter-widgets/controls",
      "model_module_version": "1.5.0",
      "model_name": "HTMLModel",
      "state": {
       "_dom_classes": [],
       "_model_module": "@jupyter-widgets/controls",
       "_model_module_version": "1.5.0",
       "_model_name": "HTMLModel",
       "_view_count": null,
       "_view_module": "@jupyter-widgets/controls",
       "_view_module_version": "1.5.0",
       "_view_name": "HTMLView",
       "description": "",
       "description_tooltip": null,
       "layout": "IPY_MODEL_d1a8c5c19e0d4565afeeac111c75060d",
       "placeholder": "​",
       "style": "IPY_MODEL_e79a0170a36141458af3311fef093a9d",
       "value": "&lt;tqdm.auto.tqdm object at 0x7f01ce012a10&gt;"
      }
     },
     "ea496b0c6c194eefabfec9b1903b3078": {
      "model_module": "@jupyter-widgets/controls",
      "model_module_version": "1.5.0",
      "model_name": "ProgressStyleModel",
      "state": {
       "_model_module": "@jupyter-widgets/controls",
       "_model_module_version": "1.5.0",
       "_model_name": "ProgressStyleModel",
       "_view_count": null,
       "_view_module": "@jupyter-widgets/base",
       "_view_module_version": "1.2.0",
       "_view_name": "StyleView",
       "bar_color": null,
       "description_width": "initial"
      }
     },
     "ea91c97ff21c476bb3734dc9716bf83d": {
      "model_module": "@jupyter-widgets/controls",
      "model_module_version": "1.5.0",
      "model_name": "ProgressStyleModel",
      "state": {
       "_model_module": "@jupyter-widgets/controls",
       "_model_module_version": "1.5.0",
       "_model_name": "ProgressStyleModel",
       "_view_count": null,
       "_view_module": "@jupyter-widgets/base",
       "_view_module_version": "1.2.0",
       "_view_name": "StyleView",
       "bar_color": null,
       "description_width": "initial"
      }
     },
     "ed1e1c77b232473082cbde35c4de6489": {
      "model_module": "@jupyter-widgets/base",
      "model_module_version": "1.2.0",
      "model_name": "LayoutModel",
      "state": {
       "_model_module": "@jupyter-widgets/base",
       "_model_module_version": "1.2.0",
       "_model_name": "LayoutModel",
       "_view_count": null,
       "_view_module": "@jupyter-widgets/base",
       "_view_module_version": "1.2.0",
       "_view_name": "LayoutView",
       "align_content": null,
       "align_items": null,
       "align_self": null,
       "border": null,
       "bottom": null,
       "display": null,
       "flex": null,
       "flex_flow": null,
       "grid_area": null,
       "grid_auto_columns": null,
       "grid_auto_flow": null,
       "grid_auto_rows": null,
       "grid_column": null,
       "grid_gap": null,
       "grid_row": null,
       "grid_template_areas": null,
       "grid_template_columns": null,
       "grid_template_rows": null,
       "height": null,
       "justify_content": null,
       "justify_items": null,
       "left": null,
       "margin": null,
       "max_height": null,
       "max_width": null,
       "min_height": null,
       "min_width": null,
       "object_fit": null,
       "object_position": null,
       "order": null,
       "overflow": null,
       "overflow_x": null,
       "overflow_y": null,
       "padding": null,
       "right": null,
       "top": null,
       "visibility": null,
       "width": null
      }
     },
     "f1d935b1c1514e46b7523710eb554cc9": {
      "model_module": "@jupyter-widgets/base",
      "model_module_version": "1.2.0",
      "model_name": "LayoutModel",
      "state": {
       "_model_module": "@jupyter-widgets/base",
       "_model_module_version": "1.2.0",
       "_model_name": "LayoutModel",
       "_view_count": null,
       "_view_module": "@jupyter-widgets/base",
       "_view_module_version": "1.2.0",
       "_view_name": "LayoutView",
       "align_content": null,
       "align_items": null,
       "align_self": null,
       "border": null,
       "bottom": null,
       "display": null,
       "flex": null,
       "flex_flow": null,
       "grid_area": null,
       "grid_auto_columns": null,
       "grid_auto_flow": null,
       "grid_auto_rows": null,
       "grid_column": null,
       "grid_gap": null,
       "grid_row": null,
       "grid_template_areas": null,
       "grid_template_columns": null,
       "grid_template_rows": null,
       "height": null,
       "justify_content": null,
       "justify_items": null,
       "left": null,
       "margin": null,
       "max_height": null,
       "max_width": null,
       "min_height": null,
       "min_width": null,
       "object_fit": null,
       "object_position": null,
       "order": null,
       "overflow": null,
       "overflow_x": null,
       "overflow_y": null,
       "padding": null,
       "right": null,
       "top": null,
       "visibility": null,
       "width": null
      }
     },
     "f466d41896504275aaa8580f09039aa6": {
      "model_module": "@jupyter-widgets/controls",
      "model_module_version": "1.5.0",
      "model_name": "DescriptionStyleModel",
      "state": {
       "_model_module": "@jupyter-widgets/controls",
       "_model_module_version": "1.5.0",
       "_model_name": "DescriptionStyleModel",
       "_view_count": null,
       "_view_module": "@jupyter-widgets/base",
       "_view_module_version": "1.2.0",
       "_view_name": "StyleView",
       "description_width": ""
      }
     },
     "fc7a3b478b194c50aec4253b4332722e": {
      "model_module": "@jupyter-widgets/controls",
      "model_module_version": "1.5.0",
      "model_name": "DescriptionStyleModel",
      "state": {
       "_model_module": "@jupyter-widgets/controls",
       "_model_module_version": "1.5.0",
       "_model_name": "DescriptionStyleModel",
       "_view_count": null,
       "_view_module": "@jupyter-widgets/base",
       "_view_module_version": "1.2.0",
       "_view_name": "StyleView",
       "description_width": ""
      }
     },
     "fd637cb5f0b14ccdae3d39aeeda075fa": {
      "model_module": "@jupyter-widgets/controls",
      "model_module_version": "1.5.0",
      "model_name": "FloatProgressModel",
      "state": {
       "_dom_classes": [],
       "_model_module": "@jupyter-widgets/controls",
       "_model_module_version": "1.5.0",
       "_model_name": "FloatProgressModel",
       "_view_count": null,
       "_view_module": "@jupyter-widgets/controls",
       "_view_module_version": "1.5.0",
       "_view_name": "ProgressView",
       "bar_style": "success",
       "description": "",
       "description_tooltip": null,
       "layout": "IPY_MODEL_cafdd789ccde452482cf171969ae461d",
       "max": 1947,
       "min": 0,
       "orientation": "horizontal",
       "style": "IPY_MODEL_a8b22b4f43d94ca6a756c26514aa9452",
       "value": 1947
      }
     }
    },
    "version_major": 2,
    "version_minor": 0
   }
  },
  "deepnote_notebook_id": "79b712e6-de1a-452a-95aa-cc1909366b91",
  "deepnote": {},
  "deepnote_execution_queue": []
 }
}